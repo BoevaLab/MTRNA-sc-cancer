{
 "cells": [
  {
   "cell_type": "code",
   "execution_count": null,
   "id": "4333e51a-bae0-4795-98ab-be04eb195351",
   "metadata": {},
   "outputs": [],
   "source": [
    "import pandas as pd\n",
    "import numpy as np\n",
    "import scanpy as sc\n",
    "\n",
    "import matplotlib.pyplot as plt\n",
    "import seaborn as sns\n",
    "\n",
    "from statannotations.Annotator import Annotator\n",
    "\n",
    "from tqdm.notebook import tqdm\n",
    "\n",
    "from scipy.stats import fisher_exact"
   ]
  },
  {
   "cell_type": "code",
   "execution_count": null,
   "id": "a4a08dad",
   "metadata": {},
   "outputs": [],
   "source": [
    "import pathlib as pl\n",
    "import os"
   ]
  },
  {
   "cell_type": "code",
   "execution_count": null,
   "id": "d310e7e8-7247-49fc-9598-78bc846c8c2c",
   "metadata": {},
   "outputs": [],
   "source": [
    "def pretty_ax(ax):\n",
    "    ax.spines['right'].set_visible(False)\n",
    "    ax.spines['top'].set_visible(False)\n",
    "    ax.tick_params(\n",
    "        axis='both',  \n",
    "        which='both',      \n",
    "        bottom=True,     \n",
    "        top=False,\n",
    "        left=False,\n",
    "        labelbottom=True,\n",
    "        labelleft = True)\n",
    "    ax.spines[\"bottom\"].set_linewidth(1.5)\n",
    "    ax.spines[\"left\"].set_linewidth(1.5)"
   ]
  },
  {
   "cell_type": "code",
   "execution_count": null,
   "id": "793c1237",
   "metadata": {},
   "outputs": [],
   "source": [
    "from typing import List, Tuple\n",
    "def get_markers_high_mt(full_results: pd.DataFrame, adata: sc.AnnData, \n",
    "                        sample_col: str, malignant_cells: List[str], \n",
    "                        tme_cells: List[str], qval_lim: float=0.05) -> Tuple[pd.DataFrame, pd.DataFrame]:\n",
    "\n",
    "    case_samples = full_results[full_results[\"Category\"]==\"Case\"].index\n",
    "\n",
    "    casadata = adata[adata.obs[sample_col].isin(case_samples)].copy()\n",
    "    casadata.obs.HighMT = casadata.obs.HighMT.astype(\"category\")\n",
    "    casadata.obs.Malignant = casadata.obs.Malignant.astype(\"category\")\n",
    "\n",
    "    maladata = casadata[casadata.obs.cleaned_celltype.isin(malignant_cells)].copy()\n",
    "    tmeadata = casadata[casadata.obs.cleaned_celltype.isin(tme_cells)].copy()\n",
    "    highmtadata = casadata[casadata.obs.HighMT==1].copy()\n",
    "\n",
    "    highmt_markers = {}\n",
    "    sc.tl.rank_genes_groups(maladata, groupby=\"HighMT\")\n",
    "    highmt_markers[\"Malignant\"] = sc.get.rank_genes_groups_df(maladata, group=\"1\")\n",
    "    sc.tl.rank_genes_groups(tmeadata, groupby=\"HighMT\")\n",
    "    highmt_markers[\"TME\"] = sc.get.rank_genes_groups_df(tmeadata, group=\"1\")\n",
    "    sc.tl.rank_genes_groups(highmtadata, groupby=\"Malignant\")\n",
    "    highmt_markers[\"HighMal\"] = sc.get.rank_genes_groups_df(highmtadata, group=\"1\")\n",
    "\n",
    "    df1 = highmt_markers[\"HighMal\"].set_index(\"names\")\n",
    "    df1.columns+=\"_HighMal\"\n",
    "    df2 = highmt_markers[\"Malignant\"].set_index(\"names\")\n",
    "    df2.columns+=\"_TMEMal\"\n",
    "\n",
    "    malhighmarker = pd.concat([df1,df2],axis=1)\n",
    "    malhighmarker = malhighmarker[(malhighmarker[\"scores_HighMal\"]>0) & (malhighmarker[\"scores_TMEMal\"]>0)]\n",
    "    malhighmarker[\"pvals_BergerUnionTest\"] = malhighmarker[[\"pvals_adj_HighMal\",\"pvals_adj_TMEMal\"]].max(axis=1)\n",
    "\n",
    "    malhighmarker = malhighmarker[malhighmarker[\"pvals_BergerUnionTest\"]<qval_lim].sort_values(\"pvals_BergerUnionTest\")\n",
    "\n",
    "    df1 = highmt_markers[\"HighMal\"].set_index(\"names\")\n",
    "    df1.columns+=\"_HighMal\"\n",
    "    df2 = highmt_markers[\"TME\"].set_index(\"names\")\n",
    "    df2.columns+=\"_TMEMal\"\n",
    "\n",
    "    tmehighmarker = pd.concat([df1,df2],axis=1)\n",
    "    tmehighmarker = tmehighmarker[(tmehighmarker[\"scores_HighMal\"]<0) & (tmehighmarker[\"scores_TMEMal\"]>0)]\n",
    "    tmehighmarker[\"pvals_BergerUnionTest\"] = tmehighmarker[[\"pvals_adj_HighMal\",\"pvals_adj_TMEMal\"]].max(axis=1)\n",
    "\n",
    "    tmehighmarker = tmehighmarker[tmehighmarker[\"pvals_BergerUnionTest\"]<qval_lim].sort_values(\"pvals_BergerUnionTest\")\n",
    "    \n",
    "    return malhighmarker, tmehighmarker, highmt_markers"
   ]
  },
  {
   "cell_type": "code",
   "execution_count": null,
   "id": "38e6c49d",
   "metadata": {},
   "outputs": [],
   "source": [
    "full_resdir = pl.Path(\"/add/path/here/markers_highmt\")"
   ]
  },
  {
   "cell_type": "code",
   "execution_count": null,
   "id": "6387d629",
   "metadata": {},
   "outputs": [],
   "source": [
    "color_mapping = {\"Case\": \"r\", \"Positive Control\": \"b\", \"Negative Control\": \"y\"}"
   ]
  },
  {
   "cell_type": "code",
   "execution_count": null,
   "id": "2f797f5c",
   "metadata": {},
   "outputs": [],
   "source": [
    "def plot_boxplot(adata, y, ax=None, name=None):\n",
    "    pairs = [((0,0),(0,1)),((1,0),(1,1)),((0,0),(1,1)),((0,1),(1,0))]\n",
    "\n",
    "    if ax is None:\n",
    "        fig, ax = plt.subplots(1,1,figsize=(3,2))\n",
    "    sns.boxplot(data=adata.obs, x=\"Malignant\", y=y, \n",
    "                        hue=\"HighMT\", ax=ax)\n",
    "    pretty_ax(ax)\n",
    "    ax.legend(frameon=False, title=\"HighMT\",bbox_to_anchor=(1,1,0,0))\n",
    "    if name is not None:\n",
    "        ax.set_ylabel(\"\")\n",
    "        ax.set_title(name)\n",
    "\n",
    "    annot = Annotator(\n",
    "        ax,\n",
    "        pairs=pairs,\n",
    "        data=adata.obs, x=\"Malignant\", y=y, hue=\"HighMT\"\n",
    "    )\n",
    "    annot.configure(\n",
    "        test=\"Mann-Whitney\",\n",
    "        loc=\"inside\",\n",
    "        text_format=\"star\",\n",
    "        show_test_name=False,\n",
    "        verbose=2,\n",
    "        comparisons_correction=None,\n",
    "        fontsize=10,\n",
    "    )\n",
    "    annot.apply_test()\n",
    "    _, test_results = annot.annotate()"
   ]
  },
  {
   "cell_type": "markdown",
   "id": "3c7140c0",
   "metadata": {},
   "source": [
    "# Download stress/dissociation signatures"
   ]
  },
  {
   "cell_type": "code",
   "execution_count": null,
   "id": "ad00f032",
   "metadata": {},
   "outputs": [],
   "source": [
    "core_genes_stress = pd.read_csv(\"/add/path/here/auxiliary_data/coregene_df-FALSE-v3.csv\")\n",
    "\n",
    "list_core_genes = core_genes_stress[core_genes_stress[\"logFC\"]>0].gene_symbol.ravel()\n",
    "\n",
    "red_core_genes = core_genes_stress.head(40).gene_symbol.ravel()\n",
    "\n",
    "dissociation_genes = pd.read_csv(\"/add/path/here/auxiliary_data/dissociation_genes-vanDenBrink2017.csv\",header=None).astype(str)\n",
    "dissociation_genes = dissociation_genes[0].str.upper().ravel()\n",
    "\n",
    "dissociation_genes_machado = pd.read_csv(\"/add/path/here/auxiliary_data/dissociation_Machado2021.csv\",header=None).astype(str)\n",
    "dissociation_genes_machado = dissociation_genes_machado[0].str.upper().ravel()\n",
    "\n",
    "dissociation_prostate_specific = [\"JUN\",\"FOS\",\"EGR1\",\"ATF3\",\"JUNB\",\"GADD45B\",\"IER2\",\"ZFP36\",\n",
    "\"DNAJB1\",\"RHOB\",\"NR4A1\",\"UBC\",\"HES1\"]"
   ]
  },
  {
   "cell_type": "code",
   "execution_count": null,
   "id": "6e8df08c",
   "metadata": {},
   "outputs": [],
   "source": [
    "common_disso_genes = np.intersect1d(list_core_genes.astype(str),dissociation_genes.astype(str))\n",
    "common_disso_genes = np.intersect1d(common_disso_genes,dissociation_genes_machado.astype(str))"
   ]
  },
  {
   "cell_type": "markdown",
   "id": "acf40c2a",
   "metadata": {},
   "source": [
    "# Uveal melanoma Durante"
   ]
  },
  {
   "cell_type": "code",
   "execution_count": null,
   "id": "a5a90732",
   "metadata": {},
   "outputs": [],
   "source": [
    "resdir = full_resdir / \"UvealMelanoma_Durante\"\n",
    "os.makedirs(resdir, exist_ok=True)"
   ]
  },
  {
   "cell_type": "code",
   "execution_count": null,
   "id": "7d21d545-e1cb-49f7-8d2f-4bb3bc34ecc1",
   "metadata": {},
   "outputs": [],
   "source": [
    "adata = sc.read_h5ad(\"/add/path/here/filtered_data/UvealMelanoma_Durante_10X/filtered_adata.h5ad\")"
   ]
  },
  {
   "cell_type": "code",
   "execution_count": null,
   "id": "6f09de31-8d27-48bd-93da-033b19b97b18",
   "metadata": {},
   "outputs": [],
   "source": [
    "all_samples = adata.obs[\"sample\"].unique()"
   ]
  },
  {
   "cell_type": "code",
   "execution_count": null,
   "id": "2c267841",
   "metadata": {},
   "outputs": [],
   "source": [
    "sc.pp.filter_genes(adata, min_cells=int(0.01*adata.shape[0]))"
   ]
  },
  {
   "cell_type": "code",
   "execution_count": null,
   "id": "c6332574",
   "metadata": {},
   "outputs": [],
   "source": [
    "adata.obs[\"HighMT\"] = (adata.obs.pct_counts_mt>15).astype(int)\n",
    "adata.obs[\"Malignant\"] = (adata.obs.cleaned_celltype==\"Malignant\").astype(int)"
   ]
  },
  {
   "cell_type": "markdown",
   "id": "a416330d",
   "metadata": {},
   "source": [
    "# Normalize without the MT genes"
   ]
  },
  {
   "cell_type": "code",
   "execution_count": null,
   "id": "8abad8df",
   "metadata": {},
   "outputs": [],
   "source": [
    "adata.X = adata.layers[\"counts\"].copy()\n",
    "\n",
    "adata = adata[:,adata.var_names[~adata.var_names.str.startswith(\"MT-\")]].copy()"
   ]
  },
  {
   "cell_type": "code",
   "execution_count": null,
   "id": "25fb1984",
   "metadata": {},
   "outputs": [],
   "source": [
    "sc.pp.normalize_total(adata, target_sum=10000)\n",
    "sc.pp.log1p(adata)"
   ]
  },
  {
   "cell_type": "markdown",
   "id": "93593cbf",
   "metadata": {},
   "source": [
    "## Check dissociation stress"
   ]
  },
  {
   "cell_type": "code",
   "execution_count": null,
   "id": "17a9f1d8",
   "metadata": {
    "scrolled": true
   },
   "outputs": [],
   "source": [
    "sc.tl.score_genes(adata, gene_list=common_disso_genes, score_name=\"Dissociation stress\")"
   ]
  },
  {
   "cell_type": "markdown",
   "id": "21a1df6c-0285-4126-9ef9-c580fab9ed58",
   "metadata": {},
   "source": [
    "# Remove patients with high pct MT in healthy cells"
   ]
  },
  {
   "cell_type": "code",
   "execution_count": null,
   "id": "d3d3d4a7-75f0-457d-8f3c-da9ba6e8ce5f",
   "metadata": {},
   "outputs": [],
   "source": [
    "pct_counts_values = adata.obs.groupby([\"sample\",\"Malignant\"])[\"pct_counts_mt\"].median().unstack()\n",
    "\n",
    "pct_counts_values.columns = [\"TME\",\"Malignant\"]"
   ]
  },
  {
   "cell_type": "code",
   "execution_count": null,
   "id": "bb29c985-2c81-406c-b936-fb7af03c4a1e",
   "metadata": {},
   "outputs": [],
   "source": [
    "pct_counts_values.sort_values(\"TME\",ascending=False)"
   ]
  },
  {
   "cell_type": "code",
   "execution_count": null,
   "id": "9d5ebf2d",
   "metadata": {},
   "outputs": [],
   "source": [
    "maladata = adata[adata.obs.Malignant==1].copy()\n",
    "\n",
    "pct_high_mt = maladata.obs[[\"sample\",\"HighMT\"]].value_counts().unstack()\n",
    "\n",
    "pct_high_mt.columns = [\"LowMT\",\"HighMT\"]\n",
    "\n",
    "pct_high_mt = pct_high_mt[\"HighMT\"]/pct_high_mt.sum(axis=1)\n",
    "pct_high_mt.name = \"Pct_HighMT\""
   ]
  },
  {
   "cell_type": "code",
   "execution_count": null,
   "id": "e6d997d4-4699-46e5-994f-69298626e700",
   "metadata": {},
   "outputs": [],
   "source": [
    "all_vc = adata.obs[[\"sample\",\"HighMT\",\"Malignant\"]].value_counts().unstack()"
   ]
  },
  {
   "cell_type": "code",
   "execution_count": null,
   "id": "b940e598-7054-4419-b0da-476e1ee052e5",
   "metadata": {},
   "outputs": [],
   "source": [
    "all_fisher_OR, all_fisher_p = {},{}\n",
    "for sample in all_vc.index.get_level_values(0).unique():\n",
    "    \n",
    "    if (all_vc.loc[sample].sum(axis=0)<30).sum()>0:\n",
    "        print(sample, \"does not have enough malignant/TME cells\")\n",
    "        continue\n",
    "    if (all_vc.loc[sample].sum(axis=1).loc[1]<20):\n",
    "        print(sample, \"does not have enough HighMT cells\")\n",
    "        OR, p = 0, 1\n",
    "    else:\n",
    "        OR, p = fisher_exact(all_vc.loc[sample].loc[[0,1],[0,1]].fillna(0))\n",
    "    all_fisher_OR[sample] = [OR]\n",
    "    all_fisher_p[sample] = [p]"
   ]
  },
  {
   "cell_type": "code",
   "execution_count": null,
   "id": "231d87e9-c61b-4be2-9630-3cbeac922cd7",
   "metadata": {},
   "outputs": [],
   "source": [
    "fisher_results = pd.concat([pd.DataFrame(all_fisher_p), pd.DataFrame(all_fisher_OR)]).T\n",
    "\n",
    "fisher_results.columns = [\"p\",\"OR\"]\n",
    "\n",
    "fisher_results = fisher_results.sort_values(\"OR\")\n",
    "\n",
    "#fisher_results = fisher_results[fisher_results[\"p\"]<0.05].sort_values(\"OR\")"
   ]
  },
  {
   "cell_type": "code",
   "execution_count": null,
   "id": "afed7d0c-f5c0-4a55-9a8b-5aa1dc68d997",
   "metadata": {},
   "outputs": [],
   "source": [
    "full_results = pd.concat([fisher_results,pct_counts_values,pct_high_mt],axis=1).dropna()\n",
    "\n",
    "full_results[\"Category\"] = \"Case\"\n",
    "full_results.loc[(full_results.TME>15),\"Category\"] = \"Negative Control\"\n",
    "full_results.loc[(full_results.TME<15) & (full_results.OR<2),\"Category\"] = \"Positive Control\"\n",
    "full_results.loc[(full_results.TME<15) & (full_results.OR>2) & (full_results.Pct_HighMT<0.15),\"Category\"] = \"Positive Control\"\n",
    "\n",
    "#plot_order = (full_results.Malignant - full_results.TME).sort_values().index\n",
    "plot_order = full_results.sort_values(\"TME\").index\n",
    "full_results = full_results.loc[plot_order]\n",
    "\n",
    "colors = full_results[\"Category\"].replace(color_mapping).ravel()\n",
    "\n",
    "fig, ax = plt.subplots(1,1,figsize=(3.5,5))\n",
    "sns.boxplot(data=adata.obs, y=\"sample\", x=\"pct_counts_mt\", hue=\"Malignant\", \n",
    "               palette = {0: \"tab:blue\", 1: \"tab:red\"}, \n",
    "               order=plot_order,\n",
    "               ax=ax)\n",
    "ax.legend(frameon=False, title=\"Malignant\")\n",
    "ax.vlines(x=15, ymin=ax.get_ylim()[0], ymax=ax.get_ylim()[1], color=\"grey\", linestyle=\"--\")\n",
    "ax.set_yticks(ax.get_yticks(), ax.get_yticklabels(), rotation=45, ha=\"right\")\n",
    "\n",
    "for xtick, color in zip(ax.get_yticklabels(), colors):\n",
    "    xtick.set_color(color)\n",
    "\n",
    "ax.set_ylabel(\"Sample\")\n",
    "ax.set_xlabel(\"% MT counts\")\n",
    "pretty_ax(ax)\n",
    "fig.savefig(\"/add/path/here/figures/case_control/UvealMelanoma_Durante.png\", \n",
    "            dpi=200, bbox_inches=\"tight\")"
   ]
  },
  {
   "cell_type": "code",
   "execution_count": null,
   "id": "2d082a73",
   "metadata": {},
   "outputs": [],
   "source": [
    "fig, ax = plt.subplots(1,1,figsize=(3.5,5))\n",
    "sns.boxplot(data=adata.obs, y=\"sample\", x=\"Dissociation stress\", hue=\"Malignant\", \n",
    "               palette = {0: \"tab:blue\", 1: \"tab:red\"}, \n",
    "               order=plot_order,\n",
    "               ax=ax)\n",
    "ax.legend(frameon=False, title=\"Malignant\")\n",
    "ax.set_yticks(ax.get_yticks(), ax.get_yticklabels(), rotation=45, ha=\"right\")\n",
    "\n",
    "for xtick, color in zip(ax.get_yticklabels(), colors):\n",
    "    xtick.set_color(color)\n",
    "\n",
    "ax.set_ylabel(\"Sample\")\n",
    "ax.set_xlabel(\"Dissociation stress\")\n",
    "pretty_ax(ax)\n",
    "fig.savefig(\"/add/path/here/figures/case_control/UvealMelanoma_Durante_dissociation.png\", \n",
    "            dpi=200, bbox_inches=\"tight\")"
   ]
  },
  {
   "cell_type": "code",
   "execution_count": null,
   "id": "384c0036",
   "metadata": {},
   "outputs": [],
   "source": [
    "adata.obs[[\"sample\",\"pct_counts_mt\",\"cleaned_celltype\",\"HighMT\",\"Malignant\",\"Dissociation stress\"]].to_csv(\"/add/path/here/info-pct-counts-full/uvealmelanoma_adata.csv\")"
   ]
  },
  {
   "cell_type": "markdown",
   "id": "26a0e00a-dbc1-4203-9e96-85d9b9cf0824",
   "metadata": {},
   "source": [
    "# Find markers of pct counts MT in cases"
   ]
  },
  {
   "cell_type": "code",
   "execution_count": null,
   "id": "9fd53183-c05f-4fda-a620-0086f66ab72d",
   "metadata": {},
   "outputs": [],
   "source": [
    "case_samples = full_results[full_results[\"Category\"]==\"Case\"].index"
   ]
  },
  {
   "cell_type": "code",
   "execution_count": null,
   "id": "7932f325",
   "metadata": {},
   "outputs": [],
   "source": [
    "malhighmarker, tmehighmarker, fullmarkers = get_markers_high_mt(full_results=full_results, adata=adata, \n",
    "                        sample_col=\"sample\", malignant_cells=[\"Malignant\"], \n",
    "                        tme_cells=['T_cell', 'Monocyte', 'Plasma_cell', 'Endothelial', 'B_cell'], qval_lim = 0.1) "
   ]
  },
  {
   "cell_type": "code",
   "execution_count": null,
   "id": "bc32677e",
   "metadata": {},
   "outputs": [],
   "source": [
    "fullmarkers[\"Malignant\"].to_csv(resdir / \"full_highmt_vs_lowmt_mal_dgex.csv\")"
   ]
  },
  {
   "cell_type": "markdown",
   "id": "e924fe24",
   "metadata": {},
   "source": [
    "# SCLC Chan"
   ]
  },
  {
   "cell_type": "code",
   "execution_count": null,
   "id": "0a77b824",
   "metadata": {},
   "outputs": [],
   "source": [
    "resdir = full_resdir / \"SCLC_Chan_10X\"\n",
    "os.makedirs(resdir, exist_ok=True)"
   ]
  },
  {
   "cell_type": "code",
   "execution_count": null,
   "id": "33274631",
   "metadata": {},
   "outputs": [],
   "source": [
    "adata = sc.read_h5ad(\"/add/path/here/filtered_data/SCLC_Chan_10X/filtered_adata.h5ad\")"
   ]
  },
  {
   "cell_type": "code",
   "execution_count": null,
   "id": "76e1433a",
   "metadata": {},
   "outputs": [],
   "source": [
    "adata = adata[adata.obs.source!=\"pleural_effusion\"].copy()"
   ]
  },
  {
   "cell_type": "code",
   "execution_count": null,
   "id": "581ee015",
   "metadata": {},
   "outputs": [],
   "source": [
    "all_samples = adata.obs[\"sample\"].unique()"
   ]
  },
  {
   "cell_type": "code",
   "execution_count": null,
   "id": "03da700b",
   "metadata": {},
   "outputs": [],
   "source": [
    "sc.pp.filter_genes(adata, min_cells=int(0.01*adata.shape[0]))"
   ]
  },
  {
   "cell_type": "code",
   "execution_count": null,
   "id": "dc3c5b62",
   "metadata": {},
   "outputs": [],
   "source": [
    "adata.obs[\"HighMT\"] = (adata.obs.pct_counts_mt>15).astype(int)\n",
    "adata.obs[\"Malignant\"] = (adata.obs.cleaned_celltype==\"Malignant\").astype(int)"
   ]
  },
  {
   "cell_type": "markdown",
   "id": "5863d5b6",
   "metadata": {},
   "source": [
    "# Normalize without the MT genes"
   ]
  },
  {
   "cell_type": "code",
   "execution_count": null,
   "id": "0bdb6e34",
   "metadata": {},
   "outputs": [],
   "source": [
    "adata.X = adata.layers[\"counts\"].copy()\n",
    "\n",
    "adata = adata[:,adata.var_names[~adata.var_names.str.startswith(\"MT-\")]].copy()"
   ]
  },
  {
   "cell_type": "code",
   "execution_count": null,
   "id": "c5124209",
   "metadata": {},
   "outputs": [],
   "source": [
    "sc.pp.normalize_total(adata, target_sum=10000)\n",
    "sc.pp.log1p(adata)"
   ]
  },
  {
   "cell_type": "markdown",
   "id": "6fdb03ec",
   "metadata": {},
   "source": [
    "## Score dissociation stress"
   ]
  },
  {
   "cell_type": "code",
   "execution_count": null,
   "id": "8c48d612",
   "metadata": {
    "scrolled": true
   },
   "outputs": [],
   "source": [
    "sc.tl.score_genes(adata, gene_list=common_disso_genes, score_name=\"Dissociation stress\")"
   ]
  },
  {
   "cell_type": "markdown",
   "id": "eee80193",
   "metadata": {},
   "source": [
    "# Remove patients with high pct MT in healthy cells"
   ]
  },
  {
   "cell_type": "code",
   "execution_count": null,
   "id": "cf3d9c0e",
   "metadata": {
    "scrolled": true
   },
   "outputs": [],
   "source": [
    "pct_counts_values = adata.obs.groupby([\"sample\",\"Malignant\"]).median()[\"pct_counts_mt\"].unstack()\n",
    "\n",
    "pct_counts_values.columns = [\"TME\",\"Malignant\"]"
   ]
  },
  {
   "cell_type": "code",
   "execution_count": null,
   "id": "af96ca0a",
   "metadata": {},
   "outputs": [],
   "source": [
    "maladata = adata[adata.obs.Malignant==1].copy()\n",
    "\n",
    "pct_high_mt = maladata.obs[[\"sample\",\"HighMT\"]].value_counts().unstack()\n",
    "\n",
    "pct_high_mt.columns = [\"LowMT\",\"HighMT\"]\n",
    "\n",
    "pct_high_mt = pct_high_mt[\"HighMT\"]/pct_high_mt.sum(axis=1)\n",
    "pct_high_mt.name = \"Pct_HighMT\""
   ]
  },
  {
   "cell_type": "code",
   "execution_count": null,
   "id": "c34f20e5",
   "metadata": {},
   "outputs": [],
   "source": [
    "adata.obs[\"highlevel_celltype\"] = adata.obs.cleaned_celltype.apply(lambda x: \"TME\" if x not in [\"Malignant\",\"Epithelial\"] else x)"
   ]
  },
  {
   "cell_type": "code",
   "execution_count": null,
   "id": "d3be5cc4",
   "metadata": {},
   "outputs": [],
   "source": [
    "pct_counts_values.sort_values(\"TME\",ascending=False)"
   ]
  },
  {
   "cell_type": "code",
   "execution_count": null,
   "id": "00cab843",
   "metadata": {},
   "outputs": [],
   "source": [
    "all_vc = adata.obs[[\"sample\",\"HighMT\",\"Malignant\"]].value_counts().unstack()"
   ]
  },
  {
   "cell_type": "code",
   "execution_count": null,
   "id": "f09e8d03",
   "metadata": {},
   "outputs": [],
   "source": [
    "all_fisher_OR, all_fisher_p = {},{}\n",
    "for sample in all_vc.index.get_level_values(0).unique():\n",
    "    \n",
    "    if (all_vc.loc[sample].sum(axis=0)<30).sum()>0:\n",
    "        print(sample, \"does not have enough malignant/TME cells\")\n",
    "        continue\n",
    "    if (all_vc.loc[sample].sum(axis=1).loc[1]<20):\n",
    "        print(sample, \"does not have enough HighMT cells\")\n",
    "        OR, p = 0, 1\n",
    "    else:\n",
    "        OR, p = fisher_exact(all_vc.loc[sample].loc[[0,1],[0,1]].fillna(0))\n",
    "    all_fisher_OR[sample] = [OR]\n",
    "    all_fisher_p[sample] = [p]"
   ]
  },
  {
   "cell_type": "code",
   "execution_count": null,
   "id": "c69fd992",
   "metadata": {},
   "outputs": [],
   "source": [
    "fisher_results = pd.concat([pd.DataFrame(all_fisher_p), pd.DataFrame(all_fisher_OR)]).T\n",
    "\n",
    "fisher_results.columns = [\"p\",\"OR\"]\n",
    "\n",
    "fisher_results = fisher_results.sort_values(\"OR\")"
   ]
  },
  {
   "cell_type": "code",
   "execution_count": null,
   "id": "562afe1a",
   "metadata": {},
   "outputs": [],
   "source": []
  },
  {
   "cell_type": "code",
   "execution_count": null,
   "id": "9840b461",
   "metadata": {},
   "outputs": [],
   "source": [
    "full_results = pd.concat([fisher_results,pct_counts_values,pct_high_mt],axis=1).dropna()\n",
    "\n",
    "full_results[\"Category\"] = \"Case\"\n",
    "full_results.loc[(full_results.TME>15),\"Category\"] = \"Negative Control\"\n",
    "full_results.loc[(full_results.TME<15) & (full_results.OR<2),\"Category\"] = \"Positive Control\"\n",
    "full_results.loc[(full_results.TME<15) & (full_results.OR>2) & (full_results.Pct_HighMT<0.15),\"Category\"] = \"Positive Control\"\n",
    "\n",
    "plot_order = full_results.sort_values(\"TME\").index\n",
    "full_results = full_results.loc[plot_order]\n",
    "\n",
    "colors = full_results[\"Category\"].replace(color_mapping).ravel()\n",
    "\n",
    "fig, ax = plt.subplots(1,1,figsize=(3.5,7))\n",
    "sns.boxplot(data=adata.obs, y=\"sample\", x=\"pct_counts_mt\", hue=\"Malignant\", \n",
    "               palette = {0: \"tab:blue\", 1: \"tab:red\"}, \n",
    "               order=plot_order,\n",
    "               ax=ax)\n",
    "ax.legend(frameon=False, title=\"Malignant\", bbox_to_anchor=(1,1,0,0))\n",
    "ax.vlines(x=15, ymin=ax.get_ylim()[0], ymax=ax.get_ylim()[1], color=\"grey\", linestyle=\"--\")\n",
    "ax.set_yticks(ax.get_yticks(), ax.get_yticklabels(), rotation=45, ha=\"right\")\n",
    "\n",
    "for xtick, color in zip(ax.get_yticklabels(), colors):\n",
    "    xtick.set_color(color)\n",
    "\n",
    "ax.set_ylabel(\"Sample\")\n",
    "ax.set_xlabel(\"% MT counts\")\n",
    "pretty_ax(ax)\n",
    "fig.savefig(\"/add/path/here/figures/case_control/SCLC_Chan.png\", \n",
    "            dpi=200, bbox_inches=\"tight\")"
   ]
  },
  {
   "cell_type": "code",
   "execution_count": null,
   "id": "4edd479e",
   "metadata": {},
   "outputs": [],
   "source": [
    "fig, ax = plt.subplots(1,1,figsize=(3.5,7))\n",
    "sns.boxplot(data=adata.obs, y=\"sample\", x=\"pct_counts_mt\", order=plot_order,\n",
    "            hue=\"highlevel_celltype\", \n",
    "            hue_order=[\"TME\",\"Epithelial\",\"Malignant\"], \n",
    "            palette={\"TME\": \"tab:blue\", \"Epithelial\": \"tab:orange\", \"Malignant\": \"tab:red\"})\n",
    "pretty_ax(ax)\n",
    "\n",
    "ax.legend(frameon=False, title=\"High-level cell type\", bbox_to_anchor=(1,1,0,0))\n",
    "ax.set_yticks(ax.get_yticks(), ax.get_yticklabels(), rotation=45, ha=\"right\")\n",
    "for xtick, color in zip(ax.get_yticklabels(), colors):\n",
    "    xtick.set_color(color)\n",
    "\n",
    "ax.set_ylabel(\"Sample\")\n",
    "ax.set_xlabel(\"% MT counts\")\n",
    "pretty_ax(ax)\n",
    "fig.savefig(\"/add/path/here/figures/case_control/SCLC_Chan_wNormal-Epithelial.png\", \n",
    "            dpi=200, bbox_inches=\"tight\")"
   ]
  },
  {
   "cell_type": "code",
   "execution_count": null,
   "id": "279cdde1",
   "metadata": {},
   "outputs": [],
   "source": [
    "fig, ax = plt.subplots(1,1,figsize=(3.5,7))\n",
    "sns.boxplot(data=adata.obs, y=\"sample\", x=\"Dissociation stress\", hue=\"Malignant\", \n",
    "               palette = {0: \"tab:blue\", 1: \"tab:red\"}, \n",
    "               order=plot_order,\n",
    "               ax=ax)\n",
    "ax.legend(frameon=False, title=\"Malignant\")\n",
    "ax.set_yticks(ax.get_yticks(), ax.get_yticklabels(), rotation=45, ha=\"right\")\n",
    "\n",
    "for xtick, color in zip(ax.get_yticklabels(), colors):\n",
    "    xtick.set_color(color)\n",
    "\n",
    "ax.set_ylabel(\"Sample\")\n",
    "ax.set_xlabel(\"Dissociation stress\")\n",
    "pretty_ax(ax)\n",
    "fig.savefig(\"/add/path/here/figures/case_control/SLCL_Chan_dissociation.png\", \n",
    "            dpi=200, bbox_inches=\"tight\")"
   ]
  },
  {
   "cell_type": "code",
   "execution_count": null,
   "id": "f406351b",
   "metadata": {},
   "outputs": [],
   "source": [
    "adata.obs[[\"sample\",\"pct_counts_mt\",\"cell_type\",\"HighMT\",\"Malignant\",\"Dissociation stress\"]].to_csv(\"/add/path/here/info-pct-counts-full/sclc_adata.csv\")"
   ]
  },
  {
   "cell_type": "markdown",
   "id": "71f512af",
   "metadata": {},
   "source": [
    "## Find high MT markers"
   ]
  },
  {
   "cell_type": "code",
   "execution_count": null,
   "id": "4865f2df",
   "metadata": {
    "scrolled": true
   },
   "outputs": [],
   "source": [
    "malhighmarker, tmehighmarker, fullmarkers = get_markers_high_mt(full_results=full_results, adata=adata, \n",
    "                        sample_col=\"sample\", malignant_cells=[\"Malignant\"], \n",
    "                        tme_cells=[\"B_cell\", \"T_cell\", \"Dendritic\", \"Macrophage\", \"Plasma\",\n",
    "                                   \"Fibroblast\", \"Endothelial\", \"Epithelial\", \"Mast\"]) "
   ]
  },
  {
   "cell_type": "code",
   "execution_count": null,
   "id": "af968770",
   "metadata": {},
   "outputs": [],
   "source": [
    "fullmarkers[\"Malignant\"].to_csv(resdir / \"full_highmt_vs_lowmt_mal_dgex.csv\")"
   ]
  },
  {
   "cell_type": "code",
   "execution_count": null,
   "id": "4c0c6152",
   "metadata": {
    "scrolled": true
   },
   "outputs": [],
   "source": [
    "malhighmarker.to_csv(resdir / \"mal_high_markers.csv\")\n",
    "tmehighmarker.to_csv(resdir / \"tme_high_markers.csv\")"
   ]
  },
  {
   "cell_type": "markdown",
   "id": "20a5d569",
   "metadata": {},
   "source": [
    "# Pancreas Steele 10X"
   ]
  },
  {
   "cell_type": "code",
   "execution_count": null,
   "id": "6bca5fcf",
   "metadata": {},
   "outputs": [],
   "source": [
    "resdir = full_resdir / \"Steele_Pancreas_10X\"\n",
    "os.makedirs(resdir, exist_ok=True)"
   ]
  },
  {
   "cell_type": "code",
   "execution_count": null,
   "id": "06c04547",
   "metadata": {},
   "outputs": [],
   "source": [
    "adata = sc.read_h5ad(\"/add/path/here/filtered_data/Steele_Pancreas_10X/filtered_adata.h5ad\")"
   ]
  },
  {
   "cell_type": "code",
   "execution_count": null,
   "id": "00d88d6c",
   "metadata": {},
   "outputs": [],
   "source": [
    "all_samples = adata.obs[\"sample\"].unique()"
   ]
  },
  {
   "cell_type": "code",
   "execution_count": null,
   "id": "54777a66",
   "metadata": {},
   "outputs": [],
   "source": [
    "sc.pp.filter_genes(adata, min_cells=int(0.01*adata.shape[0]))"
   ]
  },
  {
   "cell_type": "code",
   "execution_count": null,
   "id": "15d3735f",
   "metadata": {},
   "outputs": [],
   "source": [
    "adata.obs[\"HighMT\"] = (adata.obs.pct_counts_mt>15).astype(int)\n",
    "adata.obs[\"Malignant\"] = (adata.obs.cleaned_celltype==\"Malignant\").astype(int)"
   ]
  },
  {
   "cell_type": "markdown",
   "id": "0bd349bd",
   "metadata": {},
   "source": [
    "# Normalize without the MT genes"
   ]
  },
  {
   "cell_type": "code",
   "execution_count": null,
   "id": "b0c75943",
   "metadata": {},
   "outputs": [],
   "source": [
    "adata.X = adata.layers[\"counts\"].copy()\n",
    "\n",
    "adata = adata[:,adata.var_names[~adata.var_names.str.startswith(\"MT-\")]].copy()\n",
    "\n",
    "sc.pp.normalize_total(adata, target_sum=10000)\n",
    "sc.pp.log1p(adata)"
   ]
  },
  {
   "cell_type": "markdown",
   "id": "91acf0c9",
   "metadata": {},
   "source": [
    "## Score dissociation stress"
   ]
  },
  {
   "cell_type": "code",
   "execution_count": null,
   "id": "1f9b73be",
   "metadata": {
    "scrolled": true
   },
   "outputs": [],
   "source": [
    "sc.tl.score_genes(adata, gene_list=common_disso_genes, score_name=\"Dissociation stress\")"
   ]
  },
  {
   "cell_type": "markdown",
   "id": "1325440a",
   "metadata": {},
   "source": [
    "# Remove patients with high pct MT in healthy cells"
   ]
  },
  {
   "cell_type": "code",
   "execution_count": null,
   "id": "91fb8d7f",
   "metadata": {
    "scrolled": true
   },
   "outputs": [],
   "source": [
    "pct_counts_values = adata.obs.groupby([\"sample\",\"Malignant\"]).median()[\"pct_counts_mt\"].unstack()\n",
    "\n",
    "pct_counts_values.columns = [\"TME\",\"Malignant\"]"
   ]
  },
  {
   "cell_type": "code",
   "execution_count": null,
   "id": "94e2c64e",
   "metadata": {},
   "outputs": [],
   "source": [
    "maladata = adata[adata.obs.Malignant==1].copy()\n",
    "\n",
    "pct_high_mt = maladata.obs[[\"sample\",\"HighMT\"]].value_counts().unstack()\n",
    "\n",
    "pct_high_mt.columns = [\"LowMT\",\"HighMT\"]\n",
    "\n",
    "pct_high_mt = pct_high_mt[\"HighMT\"]/pct_high_mt.sum(axis=1)\n",
    "pct_high_mt.name = \"Pct_HighMT\""
   ]
  },
  {
   "cell_type": "code",
   "execution_count": null,
   "id": "1febb77c",
   "metadata": {},
   "outputs": [],
   "source": [
    "adata.obs[\"highlevel_celltype\"] = adata.obs.cleaned_celltype.apply(lambda x: \"TME\" if x not in [\"Malignant\",\"Epithelial\"] else x)"
   ]
  },
  {
   "cell_type": "code",
   "execution_count": null,
   "id": "ba6e928f",
   "metadata": {},
   "outputs": [],
   "source": [
    "pct_counts_values.sort_values(\"TME\",ascending=False)"
   ]
  },
  {
   "cell_type": "code",
   "execution_count": null,
   "id": "3349f8d4",
   "metadata": {},
   "outputs": [],
   "source": [
    "all_vc = adata.obs[[\"sample\",\"HighMT\",\"Malignant\"]].value_counts().unstack()"
   ]
  },
  {
   "cell_type": "code",
   "execution_count": null,
   "id": "76beeedd",
   "metadata": {},
   "outputs": [],
   "source": [
    "all_fisher_OR, all_fisher_p = {},{}\n",
    "for sample in all_vc.index.get_level_values(0).unique():\n",
    "    \n",
    "    if (all_vc.loc[sample].sum(axis=0)<30).sum()>0:\n",
    "        print(sample, \"does not have enough malignant/TME cells\")\n",
    "        continue\n",
    "    if (all_vc.loc[sample].sum(axis=1).loc[1]<20):\n",
    "        print(sample, \"does not have enough HighMT cells\")\n",
    "        OR, p = 0, 1\n",
    "    else:\n",
    "        OR, p = fisher_exact(all_vc.loc[sample].loc[[0,1],[0,1]].fillna(0))\n",
    "    all_fisher_OR[sample] = [OR]\n",
    "    all_fisher_p[sample] = [p]"
   ]
  },
  {
   "cell_type": "code",
   "execution_count": null,
   "id": "1d032a42",
   "metadata": {},
   "outputs": [],
   "source": [
    "fisher_results = pd.concat([pd.DataFrame(all_fisher_p), pd.DataFrame(all_fisher_OR)]).T\n",
    "\n",
    "fisher_results.columns = [\"p\",\"OR\"]\n",
    "\n",
    "fisher_results = fisher_results.sort_values(\"OR\")"
   ]
  },
  {
   "cell_type": "code",
   "execution_count": null,
   "id": "485e91c8",
   "metadata": {},
   "outputs": [],
   "source": [
    "full_results = pd.concat([fisher_results,pct_counts_values,pct_high_mt],axis=1).dropna()\n",
    "\n",
    "full_results[\"Category\"] = \"Case\"\n",
    "full_results.loc[(full_results.TME>15),\"Category\"] = \"Negative Control\"\n",
    "full_results.loc[(full_results.TME<15) & (full_results.OR<2),\"Category\"] = \"Positive Control\"\n",
    "full_results.loc[(full_results.TME<15) & (full_results.OR>2) & (full_results.Pct_HighMT<0.15),\"Category\"] = \"Positive Control\"\n",
    "\n",
    "plot_order = full_results.sort_values(\"TME\").index\n",
    "full_results = full_results.loc[plot_order]\n",
    "\n",
    "colors = full_results[\"Category\"].replace(color_mapping).ravel()\n",
    "\n",
    "fig, ax = plt.subplots(1,1,figsize=(3.5,7))\n",
    "sns.boxplot(data=adata.obs, y=\"sample\", x=\"pct_counts_mt\", hue=\"Malignant\", \n",
    "               palette = {0: \"tab:blue\", 1: \"tab:red\"}, \n",
    "               order=plot_order,\n",
    "               ax=ax)\n",
    "ax.legend(frameon=False, title=\"Malignant\", bbox_to_anchor=(1,1,0,0))\n",
    "ax.vlines(x=15, ymin=ax.get_ylim()[0], ymax=ax.get_ylim()[1], color=\"grey\", linestyle=\"--\")\n",
    "ax.set_yticks(ax.get_yticks(), ax.get_yticklabels(), rotation=45, ha=\"right\")\n",
    "\n",
    "for xtick, color in zip(ax.get_yticklabels(), colors):\n",
    "    xtick.set_color(color)\n",
    "\n",
    "ax.set_ylabel(\"Sample\")\n",
    "ax.set_xlabel(\"% MT counts\")\n",
    "pretty_ax(ax)\n",
    "fig.savefig(\"/add/path/here/figures/case_control/Pancreas_Steele.png\", \n",
    "            dpi=200, bbox_inches=\"tight\")"
   ]
  },
  {
   "cell_type": "code",
   "execution_count": null,
   "id": "dfaaeae9",
   "metadata": {},
   "outputs": [],
   "source": [
    "fig, ax = plt.subplots(1,1,figsize=(3.5,7))\n",
    "sns.boxplot(data=adata.obs, y=\"sample\", x=\"pct_counts_mt\", order=plot_order,\n",
    "            hue=\"highlevel_celltype\", \n",
    "            hue_order=[\"TME\",\"Epithelial\",\"Malignant\"], \n",
    "            palette={\"TME\": \"tab:blue\", \"Epithelial\": \"tab:orange\", \"Malignant\": \"tab:red\"})\n",
    "pretty_ax(ax)\n",
    "\n",
    "ax.legend(frameon=False, title=\"High-level cell type\", bbox_to_anchor=(1,1,0,0))\n",
    "ax.set_yticks(ax.get_yticks(), ax.get_yticklabels(), rotation=45, ha=\"right\")\n",
    "for xtick, color in zip(ax.get_yticklabels(), colors):\n",
    "    xtick.set_color(color)\n",
    "\n",
    "ax.set_ylabel(\"Sample\")\n",
    "ax.set_xlabel(\"% MT counts\")\n",
    "pretty_ax(ax)\n",
    "fig.savefig(\"/add/path/here/figures/case_control/Pancreas_Steele_wNormal-Epithelial.png\", \n",
    "            dpi=200, bbox_inches=\"tight\")"
   ]
  },
  {
   "cell_type": "code",
   "execution_count": null,
   "id": "04f88b69",
   "metadata": {},
   "outputs": [],
   "source": [
    "fig, ax = plt.subplots(1,1,figsize=(3.5,7))\n",
    "sns.boxplot(data=adata.obs, y=\"sample\", x=\"Dissociation stress\", hue=\"Malignant\", \n",
    "               palette = {0: \"tab:blue\", 1: \"tab:red\"}, \n",
    "               order=plot_order,\n",
    "               ax=ax)\n",
    "ax.legend(frameon=False, title=\"Malignant\")\n",
    "ax.set_yticks(ax.get_yticks(), ax.get_yticklabels(), rotation=45, ha=\"right\")\n",
    "\n",
    "for xtick, color in zip(ax.get_yticklabels(), colors):\n",
    "    xtick.set_color(color)\n",
    "\n",
    "ax.set_ylabel(\"Sample\")\n",
    "ax.set_xlabel(\"Dissociation stress\")\n",
    "pretty_ax(ax)\n",
    "fig.savefig(\"/add/path/here/figures/case_control/Pancreas_Steele_dissociation.png\", \n",
    "            dpi=200, bbox_inches=\"tight\")"
   ]
  },
  {
   "cell_type": "code",
   "execution_count": null,
   "id": "ed7c514d",
   "metadata": {},
   "outputs": [],
   "source": [
    "adata.obs[[\"sample\",\"pct_counts_mt\",\"cell_type\",\"HighMT\",\"Malignant\",\"Dissociation stress\"]].to_csv(\"/add/path/here/info-pct-counts-full/pancreas_adata.csv\")"
   ]
  },
  {
   "cell_type": "markdown",
   "id": "7cc4d710",
   "metadata": {},
   "source": [
    "# Find markers of pct counts MT in cases"
   ]
  },
  {
   "cell_type": "code",
   "execution_count": null,
   "id": "05b112ae",
   "metadata": {
    "scrolled": true
   },
   "outputs": [],
   "source": [
    "malhighmarker, tmehighmarker, fullmarkers = get_markers_high_mt(full_results=full_results, adata=adata, \n",
    "                        sample_col=\"sample\", malignant_cells=[\"Malignant\"], \n",
    "                        tme_cells=[\"B_cell\", \"T_cell\", \"Dendritic\", \"Macrophage\", \"Plasma\",\n",
    "                                   \"Fibroblast\", \"Endothelial\", \"Epithelial\", \"Granulocyte\", \"Mast\"]) "
   ]
  },
  {
   "cell_type": "code",
   "execution_count": null,
   "id": "33afc17d",
   "metadata": {},
   "outputs": [],
   "source": [
    "fullmarkers[\"Malignant\"].to_csv(resdir / \"full_highmt_vs_lowmt_mal_dgex.csv\")"
   ]
  },
  {
   "cell_type": "code",
   "execution_count": null,
   "id": "0dc28999",
   "metadata": {
    "scrolled": true
   },
   "outputs": [],
   "source": [
    "malhighmarker.to_csv(resdir / \"mal_high_markers.csv\")\n",
    "tmehighmarker.to_csv(resdir / \"tme_high_markers.csv\")"
   ]
  },
  {
   "cell_type": "markdown",
   "id": "72112a72",
   "metadata": {},
   "source": [
    "# Metastatic pancreas Raghavan 10X"
   ]
  },
  {
   "cell_type": "code",
   "execution_count": null,
   "id": "7dfc36fe",
   "metadata": {},
   "outputs": [],
   "source": [
    "resdir = full_resdir / \"Raghavan_Pancreas_10X\"\n",
    "os.makedirs(resdir, exist_ok=True)"
   ]
  },
  {
   "cell_type": "code",
   "execution_count": null,
   "id": "abc156ae",
   "metadata": {},
   "outputs": [],
   "source": [
    "adata = sc.read_h5ad(\"/add/path/here/filtered_data/Raghavan_Pancreas_10X/filtered_adata.h5ad\")"
   ]
  },
  {
   "cell_type": "code",
   "execution_count": null,
   "id": "a7359ce9",
   "metadata": {},
   "outputs": [],
   "source": [
    "all_samples = adata.obs[\"sample\"].unique()"
   ]
  },
  {
   "cell_type": "code",
   "execution_count": null,
   "id": "4d0913ba",
   "metadata": {},
   "outputs": [],
   "source": [
    "sc.pp.filter_genes(adata, min_cells=int(0.01*adata.shape[0]))"
   ]
  },
  {
   "cell_type": "code",
   "execution_count": null,
   "id": "2aadba42",
   "metadata": {},
   "outputs": [],
   "source": [
    "adata.obs[\"HighMT\"] = (adata.obs.pct_counts_mt>15).astype(int)\n",
    "adata.obs[\"Malignant\"] = (adata.obs.cleaned_celltype==\"Malignant\").astype(int)"
   ]
  },
  {
   "cell_type": "markdown",
   "id": "ac2198ea",
   "metadata": {},
   "source": [
    "# Normalize without the MT genes"
   ]
  },
  {
   "cell_type": "code",
   "execution_count": null,
   "id": "109b0311",
   "metadata": {},
   "outputs": [],
   "source": [
    "adata.X = adata.layers[\"counts\"].copy()\n",
    "\n",
    "adata = adata[:,adata.var_names[~adata.var_names.str.startswith(\"MT-\")]].copy()\n",
    "\n",
    "sc.pp.normalize_total(adata, target_sum=10000)\n",
    "sc.pp.log1p(adata)"
   ]
  },
  {
   "cell_type": "markdown",
   "id": "ef10b303",
   "metadata": {},
   "source": [
    "## Score dissociation stress"
   ]
  },
  {
   "cell_type": "code",
   "execution_count": null,
   "id": "dd669287",
   "metadata": {
    "scrolled": true
   },
   "outputs": [],
   "source": [
    "sc.tl.score_genes(adata, gene_list=common_disso_genes, score_name=\"Dissociation stress\")"
   ]
  },
  {
   "cell_type": "markdown",
   "id": "13a2a81b",
   "metadata": {},
   "source": [
    "# Remove patients with high pct MT in healthy cells"
   ]
  },
  {
   "cell_type": "code",
   "execution_count": null,
   "id": "346814a1",
   "metadata": {
    "scrolled": true
   },
   "outputs": [],
   "source": [
    "pct_counts_values = adata.obs.groupby([\"sample\",\"Malignant\"]).median()[\"pct_counts_mt\"].unstack()\n",
    "\n",
    "pct_counts_values.columns = [\"TME\",\"Malignant\"]"
   ]
  },
  {
   "cell_type": "code",
   "execution_count": null,
   "id": "11b98562",
   "metadata": {},
   "outputs": [],
   "source": [
    "maladata = adata[adata.obs.Malignant==1].copy()\n",
    "\n",
    "pct_high_mt = maladata.obs[[\"sample\",\"HighMT\"]].value_counts().unstack()\n",
    "\n",
    "pct_high_mt.columns = [\"LowMT\",\"HighMT\"]\n",
    "\n",
    "pct_high_mt = pct_high_mt[\"HighMT\"]/pct_high_mt.sum(axis=1)\n",
    "pct_high_mt.name = \"Pct_HighMT\""
   ]
  },
  {
   "cell_type": "code",
   "execution_count": null,
   "id": "4a4026c0",
   "metadata": {},
   "outputs": [],
   "source": [
    "adata.obs[\"highlevel_celltype\"] = adata.obs.cleaned_celltype.apply(lambda x: \"TME\" if x not in [\"Malignant\",\"Epithelial\"] else x)"
   ]
  },
  {
   "cell_type": "code",
   "execution_count": null,
   "id": "4c9943c4",
   "metadata": {},
   "outputs": [],
   "source": [
    "pct_counts_values.sort_values(\"TME\",ascending=False)"
   ]
  },
  {
   "cell_type": "code",
   "execution_count": null,
   "id": "505b5205",
   "metadata": {},
   "outputs": [],
   "source": [
    "all_vc = adata.obs[[\"sample\",\"HighMT\",\"Malignant\"]].value_counts().unstack()"
   ]
  },
  {
   "cell_type": "code",
   "execution_count": null,
   "id": "b19ea4ae",
   "metadata": {},
   "outputs": [],
   "source": [
    "all_fisher_OR, all_fisher_p = {},{}\n",
    "for sample in all_vc.index.get_level_values(0).unique():\n",
    "    \n",
    "    if (all_vc.loc[sample].sum(axis=0)<30).sum()>0:\n",
    "        print(sample, \"does not have enough malignant/TME cells\")\n",
    "        continue\n",
    "    if (all_vc.loc[sample].sum(axis=1).loc[1]<20):\n",
    "        print(sample, \"does not have enough HighMT cells\")\n",
    "        OR, p = 0, 1\n",
    "    else:\n",
    "        OR, p = fisher_exact(all_vc.loc[sample].loc[[0,1],[0,1]].fillna(0))\n",
    "    all_fisher_OR[sample] = [OR]\n",
    "    all_fisher_p[sample] = [p]"
   ]
  },
  {
   "cell_type": "code",
   "execution_count": null,
   "id": "6adf0617",
   "metadata": {},
   "outputs": [],
   "source": [
    "fisher_results = pd.concat([pd.DataFrame(all_fisher_p), pd.DataFrame(all_fisher_OR)]).T\n",
    "\n",
    "fisher_results.columns = [\"p\",\"OR\"]\n",
    "\n",
    "fisher_results = fisher_results.sort_values(\"OR\")"
   ]
  },
  {
   "cell_type": "code",
   "execution_count": null,
   "id": "6ae61f4d",
   "metadata": {},
   "outputs": [],
   "source": [
    "full_results = pd.concat([fisher_results,pct_counts_values,pct_high_mt],axis=1).dropna()\n",
    "\n",
    "full_results[\"Category\"] = \"Case\"\n",
    "full_results.loc[(full_results.TME>15),\"Category\"] = \"Negative Control\"\n",
    "full_results.loc[(full_results.TME<15) & (full_results.OR<2),\"Category\"] = \"Positive Control\"\n",
    "full_results.loc[(full_results.TME<15) & (full_results.OR>2) & (full_results.Pct_HighMT<0.15),\"Category\"] = \"Positive Control\"\n",
    "\n",
    "plot_order = full_results.sort_values(\"TME\").index\n",
    "full_results = full_results.loc[plot_order]\n",
    "\n",
    "colors = full_results[\"Category\"].replace(color_mapping).ravel()\n",
    "\n",
    "fig, ax = plt.subplots(1,1,figsize=(3.5,9))\n",
    "sns.boxplot(data=adata.obs, y=\"sample\", x=\"pct_counts_mt\", hue=\"Malignant\", \n",
    "               palette = {0: \"tab:blue\", 1: \"tab:red\"}, \n",
    "               order=plot_order,\n",
    "               ax=ax)\n",
    "ax.legend(frameon=False, title=\"Malignant\", bbox_to_anchor=(1,1,0,0))\n",
    "ax.vlines(x=15, ymin=ax.get_ylim()[0], ymax=ax.get_ylim()[1], color=\"grey\", linestyle=\"--\")\n",
    "ax.set_yticks(ax.get_yticks(), ax.get_yticklabels(), rotation=45, ha=\"right\")\n",
    "\n",
    "for xtick, color in zip(ax.get_yticklabels(), colors):\n",
    "    xtick.set_color(color)\n",
    "\n",
    "ax.set_ylabel(\"Sample\")\n",
    "ax.set_xlabel(\"% MT counts\")\n",
    "pretty_ax(ax)\n",
    "fig.savefig(\"/add/path/here/figures/case_control/MetPancreas_Raghavan.png\", \n",
    "            dpi=200, bbox_inches=\"tight\")"
   ]
  },
  {
   "cell_type": "code",
   "execution_count": null,
   "id": "bd650c3d",
   "metadata": {},
   "outputs": [],
   "source": [
    "fig, ax = plt.subplots(1,1,figsize=(3.5,9))\n",
    "sns.boxplot(data=adata.obs, y=\"sample\", x=\"pct_counts_mt\", order=plot_order,\n",
    "            hue=\"highlevel_celltype\", \n",
    "            hue_order=[\"TME\",\"Epithelial\",\"Malignant\"], \n",
    "            palette={\"TME\": \"tab:blue\", \"Epithelial\": \"tab:orange\", \"Malignant\": \"tab:red\"})\n",
    "pretty_ax(ax)\n",
    "\n",
    "ax.legend(frameon=False, title=\"High-level cell type\", bbox_to_anchor=(1,1,0,0))\n",
    "ax.set_yticks(ax.get_yticks(), ax.get_yticklabels(), rotation=45, ha=\"right\")\n",
    "for xtick, color in zip(ax.get_yticklabels(), colors):\n",
    "    xtick.set_color(color)\n",
    "\n",
    "ax.set_ylabel(\"Sample\")\n",
    "ax.set_xlabel(\"% MT counts\")\n",
    "pretty_ax(ax)\n",
    "fig.savefig(\"/add/path/here/figures/case_control/MetPancreas_Raghavan_wNormal-Epithelial.png\", \n",
    "            dpi=200, bbox_inches=\"tight\")"
   ]
  },
  {
   "cell_type": "code",
   "execution_count": null,
   "id": "c5b1f37d",
   "metadata": {},
   "outputs": [],
   "source": [
    "fig, ax = plt.subplots(1,1,figsize=(3.5,9))\n",
    "sns.boxplot(data=adata.obs, y=\"sample\", x=\"Dissociation stress\", hue=\"Malignant\", \n",
    "               palette = {0: \"tab:blue\", 1: \"tab:red\"}, \n",
    "               order=plot_order,\n",
    "               ax=ax)\n",
    "ax.legend(frameon=False, title=\"Malignant\")\n",
    "ax.set_yticks(ax.get_yticks(), ax.get_yticklabels(), rotation=45, ha=\"right\")\n",
    "\n",
    "for xtick, color in zip(ax.get_yticklabels(), colors):\n",
    "    xtick.set_color(color)\n",
    "\n",
    "ax.set_ylabel(\"Sample\")\n",
    "ax.set_xlabel(\"Dissociation stress\")\n",
    "pretty_ax(ax)\n",
    "fig.savefig(\"/add/path/here/figures/case_control/MetPancreas_Raghavan_dissociation.png\", \n",
    "            dpi=200, bbox_inches=\"tight\")"
   ]
  },
  {
   "cell_type": "code",
   "execution_count": null,
   "id": "1846fc69",
   "metadata": {},
   "outputs": [],
   "source": [
    "adata.obs[[\"sample\",\"pct_counts_mt\",\"cell_type\",\"HighMT\",\"Malignant\",\"Dissociation stress\"]].to_csv(\"/add/path/here/info-pct-counts-full/met_pancreas_adata.csv\")"
   ]
  },
  {
   "cell_type": "markdown",
   "id": "af19a542",
   "metadata": {},
   "source": [
    "# Find markers of pct counts MT in cases"
   ]
  },
  {
   "cell_type": "code",
   "execution_count": null,
   "id": "6f7fd04c",
   "metadata": {
    "scrolled": true
   },
   "outputs": [],
   "source": [
    "malhighmarker, tmehighmarker, fullmarkers = get_markers_high_mt(full_results=full_results, adata=adata, \n",
    "                        sample_col=\"sample\", malignant_cells=[\"Malignant\"], \n",
    "                        tme_cells=[\"B_cell\", \"T_cell\", \"Dendritic\", \"Macrophage\", \"Plasma\",\n",
    "                                   \"Fibroblast\", \"Endothelial\", \"Epithelial\"]) "
   ]
  },
  {
   "cell_type": "code",
   "execution_count": null,
   "id": "5b7b3a35",
   "metadata": {},
   "outputs": [],
   "source": [
    "fullmarkers[\"Malignant\"].to_csv(resdir / \"full_highmt_vs_lowmt_mal_dgex.csv\")"
   ]
  },
  {
   "cell_type": "code",
   "execution_count": null,
   "id": "25f17c07",
   "metadata": {
    "scrolled": true
   },
   "outputs": [],
   "source": [
    "malhighmarker.to_csv(resdir / \"mal_high_markers.csv\")\n",
    "tmehighmarker.to_csv(resdir / \"tme_high_markers.csv\")"
   ]
  },
  {
   "cell_type": "markdown",
   "id": "213755c2",
   "metadata": {},
   "source": [
    "# Prostate Song SeqWell"
   ]
  },
  {
   "cell_type": "code",
   "execution_count": null,
   "id": "dd59511f",
   "metadata": {},
   "outputs": [],
   "source": [
    "resdir = full_resdir / \"Song_Prostate_SeqWell\"\n",
    "os.makedirs(resdir, exist_ok=True)"
   ]
  },
  {
   "cell_type": "code",
   "execution_count": null,
   "id": "66541303",
   "metadata": {},
   "outputs": [],
   "source": [
    "adata = sc.read_h5ad(\"/add/path/here/filtered_data/Song_Prostate_SeqWell/filtered_adata.h5ad\")"
   ]
  },
  {
   "cell_type": "code",
   "execution_count": null,
   "id": "9e5228a1",
   "metadata": {},
   "outputs": [],
   "source": [
    "all_samples = adata.obs[\"sample\"].unique()"
   ]
  },
  {
   "cell_type": "code",
   "execution_count": null,
   "id": "b5a314e5",
   "metadata": {},
   "outputs": [],
   "source": [
    "sc.pp.filter_genes(adata, min_cells=int(0.01*adata.shape[0]))"
   ]
  },
  {
   "cell_type": "code",
   "execution_count": null,
   "id": "121aa63e",
   "metadata": {},
   "outputs": [],
   "source": [
    "adata.obs[\"HighMT\"] = (adata.obs.pct_counts_mt>15).astype(int)\n",
    "adata.obs[\"Malignant\"] = (adata.obs.cleaned_celltype==\"Malignant\").astype(int)"
   ]
  },
  {
   "cell_type": "markdown",
   "id": "650ba46f",
   "metadata": {},
   "source": [
    "# Normalize without the MT genes"
   ]
  },
  {
   "cell_type": "code",
   "execution_count": null,
   "id": "0c827185",
   "metadata": {},
   "outputs": [],
   "source": [
    "adata.X = adata.layers[\"counts\"].copy()\n",
    "\n",
    "adata = adata[:,adata.var_names[~adata.var_names.str.startswith(\"MT-\")]].copy()\n",
    "\n",
    "sc.pp.normalize_total(adata, target_sum=10000)\n",
    "sc.pp.log1p(adata)"
   ]
  },
  {
   "cell_type": "markdown",
   "id": "1dded6a8",
   "metadata": {},
   "source": [
    "## Score dissociation stress"
   ]
  },
  {
   "cell_type": "code",
   "execution_count": null,
   "id": "a2cd5d5b",
   "metadata": {
    "scrolled": true
   },
   "outputs": [],
   "source": [
    "sc.tl.score_genes(adata, gene_list=common_disso_genes, score_name=\"Dissociation stress\")"
   ]
  },
  {
   "cell_type": "markdown",
   "id": "756b4bc9",
   "metadata": {},
   "source": [
    "# Remove patients with high pct MT in healthy cells"
   ]
  },
  {
   "cell_type": "code",
   "execution_count": null,
   "id": "43bc8730",
   "metadata": {},
   "outputs": [],
   "source": [
    "adata = adata[adata.obs.source==\"Tumor\"].copy()"
   ]
  },
  {
   "cell_type": "code",
   "execution_count": null,
   "id": "e72ba05d",
   "metadata": {
    "scrolled": true
   },
   "outputs": [],
   "source": [
    "pct_counts_values = adata.obs.groupby([\"sample\",\"Malignant\"]).median()[\"pct_counts_mt\"].unstack()\n",
    "\n",
    "pct_counts_values.columns = [\"TME\",\"Malignant\"]"
   ]
  },
  {
   "cell_type": "code",
   "execution_count": null,
   "id": "65f259ed",
   "metadata": {},
   "outputs": [],
   "source": [
    "maladata = adata[adata.obs.Malignant==1].copy()\n",
    "\n",
    "pct_high_mt = maladata.obs[[\"sample\",\"HighMT\"]].value_counts().unstack()\n",
    "\n",
    "pct_high_mt.columns = [\"LowMT\",\"HighMT\"]\n",
    "\n",
    "pct_high_mt = pct_high_mt[\"HighMT\"]/pct_high_mt.sum(axis=1)\n",
    "pct_high_mt.name = \"Pct_HighMT\""
   ]
  },
  {
   "cell_type": "code",
   "execution_count": null,
   "id": "d9847b4d",
   "metadata": {},
   "outputs": [],
   "source": [
    "adata.obs[\"highlevel_celltype\"] = adata.obs.cleaned_celltype.apply(lambda x: \"TME\" if x not in [\"Malignant\",\"Epithelial\"] else x)"
   ]
  },
  {
   "cell_type": "code",
   "execution_count": null,
   "id": "f7e1f92e",
   "metadata": {},
   "outputs": [],
   "source": [
    "pct_counts_values.sort_values(\"TME\",ascending=False)"
   ]
  },
  {
   "cell_type": "code",
   "execution_count": null,
   "id": "df70ecca",
   "metadata": {},
   "outputs": [],
   "source": [
    "all_vc = adata.obs[[\"sample\",\"HighMT\",\"Malignant\"]].value_counts().unstack()"
   ]
  },
  {
   "cell_type": "code",
   "execution_count": null,
   "id": "a87b5ebb",
   "metadata": {},
   "outputs": [],
   "source": [
    "all_fisher_OR, all_fisher_p = {},{}\n",
    "for sample in all_vc.index.get_level_values(0).unique():\n",
    "    \n",
    "    if (all_vc.loc[sample].sum(axis=0)<30).sum()>0:\n",
    "        print(sample, \"does not have enough malignant/TME cells\")\n",
    "        continue\n",
    "    if (all_vc.loc[sample].sum(axis=1).loc[1]<20):\n",
    "        print(sample, \"does not have enough HighMT cells\")\n",
    "        OR, p = 0, 1\n",
    "    else:\n",
    "        OR, p = fisher_exact(all_vc.loc[sample].loc[[0,1],[0,1]].fillna(0))\n",
    "    all_fisher_OR[sample] = [OR]\n",
    "    all_fisher_p[sample] = [p]"
   ]
  },
  {
   "cell_type": "code",
   "execution_count": null,
   "id": "c3d6a6d1",
   "metadata": {},
   "outputs": [],
   "source": [
    "fisher_results = pd.concat([pd.DataFrame(all_fisher_p), pd.DataFrame(all_fisher_OR)]).T\n",
    "\n",
    "fisher_results.columns = [\"p\",\"OR\"]\n",
    "\n",
    "fisher_results = fisher_results.sort_values(\"OR\")"
   ]
  },
  {
   "cell_type": "code",
   "execution_count": null,
   "id": "524fc804",
   "metadata": {},
   "outputs": [],
   "source": [
    "full_results = pd.concat([fisher_results,pct_counts_values,pct_high_mt],axis=1).dropna()\n",
    "\n",
    "full_results[\"Category\"] = \"Case\"\n",
    "full_results.loc[(full_results.TME>15),\"Category\"] = \"Negative Control\"\n",
    "full_results.loc[(full_results.TME<15) & (full_results.OR<2),\"Category\"] = \"Positive Control\"\n",
    "full_results.loc[(full_results.TME<15) & (full_results.OR>2) & (full_results.Pct_HighMT<0.15),\"Category\"] = \"Positive Control\"\n",
    "\n",
    "plot_order = full_results.sort_values(\"TME\").index\n",
    "full_results = full_results.loc[plot_order]\n",
    "\n",
    "colors = full_results[\"Category\"].replace(color_mapping).ravel()\n",
    "\n",
    "fig, ax = plt.subplots(1,1,figsize=(3.5,5))\n",
    "sns.boxplot(data=adata.obs, y=\"sample\", x=\"pct_counts_mt\", hue=\"Malignant\", \n",
    "               palette = {0: \"tab:blue\", 1: \"tab:red\"}, \n",
    "               order=plot_order,\n",
    "               ax=ax)\n",
    "ax.legend(frameon=False, title=\"Malignant\", bbox_to_anchor=(1,1,0,0))\n",
    "ax.vlines(x=15, ymin=ax.get_ylim()[0], ymax=ax.get_ylim()[1], color=\"grey\", linestyle=\"--\")\n",
    "ax.set_yticks(ax.get_yticks(), ax.get_yticklabels(), rotation=45, ha=\"right\")\n",
    "\n",
    "for xtick, color in zip(ax.get_yticklabels(), colors):\n",
    "    xtick.set_color(color)\n",
    "\n",
    "ax.set_ylabel(\"Sample\")\n",
    "ax.set_xlabel(\"% MT counts\")\n",
    "pretty_ax(ax)\n",
    "fig.savefig(\"/add/path/here/figures/case_control/Prostate_Song.png\", \n",
    "            dpi=200, bbox_inches=\"tight\")"
   ]
  },
  {
   "cell_type": "code",
   "execution_count": null,
   "id": "47c8c322",
   "metadata": {},
   "outputs": [],
   "source": [
    "fig, ax = plt.subplots(1,1,figsize=(3.5,6))\n",
    "sns.boxplot(data=adata.obs, y=\"sample\", x=\"pct_counts_mt\", order=plot_order,\n",
    "            hue=\"highlevel_celltype\", \n",
    "            hue_order=[\"TME\",\"Epithelial\",\"Malignant\"], \n",
    "            palette={\"TME\": \"tab:blue\", \"Epithelial\": \"tab:orange\", \"Malignant\": \"tab:red\"})\n",
    "pretty_ax(ax)\n",
    "\n",
    "ax.legend(frameon=False, title=\"High-level cell type\", bbox_to_anchor=(1,1,0,0))\n",
    "ax.set_yticks(ax.get_yticks(), ax.get_yticklabels(), rotation=45, ha=\"right\")\n",
    "for xtick, color in zip(ax.get_yticklabels(), colors):\n",
    "    xtick.set_color(color)\n",
    "\n",
    "ax.set_ylabel(\"Sample\")\n",
    "ax.set_xlabel(\"% MT counts\")\n",
    "pretty_ax(ax)\n",
    "fig.savefig(\"/add/path/here/figures/case_control/Prostate_Song_wNormal-Epithelial.png\", \n",
    "            dpi=200, bbox_inches=\"tight\")"
   ]
  },
  {
   "cell_type": "code",
   "execution_count": null,
   "id": "eb0c3791",
   "metadata": {},
   "outputs": [],
   "source": [
    "fig, ax = plt.subplots(1,1,figsize=(3.5,6))\n",
    "sns.boxplot(data=adata.obs, y=\"sample\", x=\"Dissociation stress\", hue=\"Malignant\", \n",
    "               palette = {0: \"tab:blue\", 1: \"tab:red\"}, \n",
    "               order=plot_order,\n",
    "               ax=ax)\n",
    "ax.legend(frameon=False, title=\"Malignant\")\n",
    "ax.set_yticks(ax.get_yticks(), ax.get_yticklabels(), rotation=45, ha=\"right\")\n",
    "\n",
    "for xtick, color in zip(ax.get_yticklabels(), colors):\n",
    "    xtick.set_color(color)\n",
    "\n",
    "ax.set_ylabel(\"Sample\")\n",
    "ax.set_xlabel(\"Dissociation stress\")\n",
    "pretty_ax(ax)\n",
    "fig.savefig(\"/add/path/here/figures/case_control/Prostate_Song_dissociation.png\", \n",
    "            dpi=200, bbox_inches=\"tight\")"
   ]
  },
  {
   "cell_type": "code",
   "execution_count": null,
   "id": "a92323c9",
   "metadata": {},
   "outputs": [],
   "source": [
    "adata.obs[[\"sample\",\"pct_counts_mt\",\"cell_type\",\"HighMT\",\"Malignant\",\"Dissociation stress\"]].to_csv(\"/add/path/here/info-pct-counts-full/prostate_song_adata.csv\")"
   ]
  },
  {
   "cell_type": "markdown",
   "id": "22fb6baa",
   "metadata": {},
   "source": [
    "# RCC Bi 10X"
   ]
  },
  {
   "cell_type": "code",
   "execution_count": null,
   "id": "f40d1161",
   "metadata": {},
   "outputs": [],
   "source": [
    "resdir = full_resdir / \"Bi_RCC_10X\"\n",
    "os.makedirs(resdir, exist_ok=True)"
   ]
  },
  {
   "cell_type": "code",
   "execution_count": null,
   "id": "7f238735",
   "metadata": {},
   "outputs": [],
   "source": [
    "adata = sc.read_h5ad(\"/add/path/here/filtered_data/Bi_RCC_10X/filtered_adata.h5ad\")\n",
    "\n",
    "all_samples = adata.obs[\"biosample_id\"].unique()\n",
    "\n",
    "adata.obs[\"HighMT\"] = (adata.obs.pct_counts_mt>15).astype(int)\n",
    "adata.obs[\"Malignant\"] = (adata.obs.cleaned_celltype.isin([\"Tumor\",\"TP1\",\"TP2\"])).astype(int)"
   ]
  },
  {
   "cell_type": "code",
   "execution_count": null,
   "id": "936a5de7",
   "metadata": {},
   "outputs": [],
   "source": [
    "sc.pp.filter_genes(adata, min_cells=int(0.01*adata.shape[0]))"
   ]
  },
  {
   "cell_type": "markdown",
   "id": "eb259b4e",
   "metadata": {},
   "source": [
    "# Normalize without the MT genes"
   ]
  },
  {
   "cell_type": "code",
   "execution_count": null,
   "id": "d2f52132",
   "metadata": {},
   "outputs": [],
   "source": [
    "adata.X = adata.layers[\"counts\"].copy()\n",
    "\n",
    "adata = adata[:,adata.var_names[~adata.var_names.str.startswith(\"MT-\")]].copy()\n",
    "\n",
    "sc.pp.normalize_total(adata, target_sum=10000)\n",
    "sc.pp.log1p(adata)"
   ]
  },
  {
   "cell_type": "markdown",
   "id": "24db1607",
   "metadata": {},
   "source": [
    "## Score dissociation stress"
   ]
  },
  {
   "cell_type": "code",
   "execution_count": null,
   "id": "fc180289",
   "metadata": {
    "scrolled": true
   },
   "outputs": [],
   "source": [
    "sc.tl.score_genes(adata, gene_list=common_disso_genes, score_name=\"Dissociation stress\")"
   ]
  },
  {
   "cell_type": "markdown",
   "id": "a9c4f589",
   "metadata": {},
   "source": [
    "# Remove patients with high pct MT in healthy cells"
   ]
  },
  {
   "cell_type": "code",
   "execution_count": null,
   "id": "254f4c0a",
   "metadata": {
    "scrolled": true
   },
   "outputs": [],
   "source": [
    "pct_counts_values = adata.obs.groupby([\"sample\",\"Malignant\"]).median()[\"pct_counts_mt\"].unstack()\n",
    "\n",
    "pct_counts_values.columns = [\"TME\",\"Malignant\"]"
   ]
  },
  {
   "cell_type": "code",
   "execution_count": null,
   "id": "72b00a5c",
   "metadata": {},
   "outputs": [],
   "source": [
    "maladata = adata[adata.obs.Malignant==1].copy()\n",
    "\n",
    "pct_high_mt = maladata.obs[[\"sample\",\"HighMT\"]].value_counts().unstack()\n",
    "\n",
    "pct_high_mt.columns = [\"LowMT\",\"HighMT\"]\n",
    "\n",
    "pct_high_mt = pct_high_mt[\"HighMT\"]/pct_high_mt.sum(axis=1)\n",
    "pct_high_mt.name = \"Pct_HighMT\""
   ]
  },
  {
   "cell_type": "code",
   "execution_count": null,
   "id": "7f076e1f",
   "metadata": {},
   "outputs": [],
   "source": [
    "adata.obs[\"highlevel_celltype\"] = adata.obs.cleaned_celltype.apply(lambda x: \"TME\" if x not in [\"TP1\",\"TP2\",\"Tumor\"] else \"Malignant\")"
   ]
  },
  {
   "cell_type": "code",
   "execution_count": null,
   "id": "3da87154",
   "metadata": {},
   "outputs": [],
   "source": [
    "pct_counts_values.sort_values(\"TME\",ascending=False)"
   ]
  },
  {
   "cell_type": "code",
   "execution_count": null,
   "id": "41e7099a",
   "metadata": {},
   "outputs": [],
   "source": [
    "all_vc = adata.obs[[\"sample\",\"HighMT\",\"Malignant\"]].value_counts().unstack()"
   ]
  },
  {
   "cell_type": "code",
   "execution_count": null,
   "id": "0bb3adfb",
   "metadata": {},
   "outputs": [],
   "source": [
    "all_fisher_OR, all_fisher_p = {},{}\n",
    "for sample in all_vc.index.get_level_values(0).unique():\n",
    "    \n",
    "    if (all_vc.loc[sample].sum(axis=0)<30).sum()>0:\n",
    "        print(sample, \"does not have enough malignant/TME cells\")\n",
    "        continue\n",
    "    if (all_vc.loc[sample].sum(axis=1).loc[1]<20):\n",
    "        print(sample, \"does not have enough HighMT cells\")\n",
    "        OR, p = 0, 1\n",
    "    else:\n",
    "        OR, p = fisher_exact(all_vc.loc[sample].loc[[0,1],[0,1]].fillna(0))\n",
    "    all_fisher_OR[sample] = [OR]\n",
    "    all_fisher_p[sample] = [p]"
   ]
  },
  {
   "cell_type": "code",
   "execution_count": null,
   "id": "56322119",
   "metadata": {},
   "outputs": [],
   "source": [
    "fisher_results = pd.concat([pd.DataFrame(all_fisher_p), pd.DataFrame(all_fisher_OR)]).T\n",
    "\n",
    "fisher_results.columns = [\"p\",\"OR\"]\n",
    "\n",
    "fisher_results = fisher_results.sort_values(\"OR\")"
   ]
  },
  {
   "cell_type": "code",
   "execution_count": null,
   "id": "95e55b6e",
   "metadata": {},
   "outputs": [],
   "source": [
    "full_results = pd.concat([fisher_results,pct_counts_values,pct_high_mt],axis=1).dropna()\n",
    "\n",
    "full_results[\"Category\"] = \"Case\"\n",
    "full_results.loc[(full_results.TME>15),\"Category\"] = \"Negative Control\"\n",
    "full_results.loc[(full_results.TME<15) & (full_results.OR<2),\"Category\"] = \"Positive Control\"\n",
    "full_results.loc[(full_results.TME<15) & (full_results.OR>2) & (full_results.Pct_HighMT<0.15),\"Category\"] = \"Positive Control\"\n",
    "\n",
    "plot_order = full_results.sort_values(\"TME\").index\n",
    "full_results = full_results.loc[plot_order]\n",
    "\n",
    "colors = full_results[\"Category\"].replace(color_mapping).ravel()\n",
    "\n",
    "fig, ax = plt.subplots(1,1,figsize=(3.5,3.5))\n",
    "sns.boxplot(data=adata.obs, y=\"sample\", x=\"pct_counts_mt\", hue=\"Malignant\", \n",
    "               palette = {0: \"tab:blue\", 1: \"tab:red\"}, \n",
    "               order=plot_order,\n",
    "               ax=ax)\n",
    "ax.legend(frameon=False, title=\"Malignant\", bbox_to_anchor=(1,1,0,0))\n",
    "ax.vlines(x=15, ymin=ax.get_ylim()[0], ymax=ax.get_ylim()[1], color=\"grey\", linestyle=\"--\")\n",
    "ax.set_yticks(ax.get_yticks(), ax.get_yticklabels(), rotation=45, ha=\"right\")\n",
    "\n",
    "for xtick, color in zip(ax.get_yticklabels(), colors):\n",
    "    xtick.set_color(color)\n",
    "\n",
    "ax.set_ylabel(\"Sample\")\n",
    "ax.set_xlabel(\"% MT counts\")\n",
    "pretty_ax(ax)\n",
    "fig.savefig(\"/add/path/here/figures/case_control/RCC_Bi.png\", \n",
    "            dpi=200, bbox_inches=\"tight\")"
   ]
  },
  {
   "cell_type": "code",
   "execution_count": null,
   "id": "f5e96508",
   "metadata": {},
   "outputs": [],
   "source": [
    "fig, ax = plt.subplots(1,1,figsize=(3.5,3.5))\n",
    "sns.boxplot(data=adata.obs, y=\"sample\", x=\"Dissociation stress\", hue=\"Malignant\", \n",
    "               palette = {0: \"tab:blue\", 1: \"tab:red\"}, \n",
    "               order=plot_order,\n",
    "               ax=ax)\n",
    "ax.legend(frameon=False, title=\"Malignant\")\n",
    "ax.set_yticks(ax.get_yticks(), ax.get_yticklabels(), rotation=45, ha=\"right\")\n",
    "\n",
    "for xtick, color in zip(ax.get_yticklabels(), colors):\n",
    "    xtick.set_color(color)\n",
    "\n",
    "ax.set_ylabel(\"Sample\")\n",
    "ax.set_xlabel(\"Dissociation stress\")\n",
    "pretty_ax(ax)\n",
    "fig.savefig(\"/add/path/here/figures/case_control/RCC_Bi_dissociation.png\", \n",
    "            dpi=200, bbox_inches=\"tight\")"
   ]
  },
  {
   "cell_type": "code",
   "execution_count": null,
   "id": "b3d5e927",
   "metadata": {},
   "outputs": [],
   "source": [
    "adata.obs[[\"sample\",\"pct_counts_mt\",\"cell_type_higher\",\"HighMT\",\"Malignant\",\"Dissociation stress\"]].to_csv(\"/add/path/here/info-pct-counts-full/RCC_adata.csv\")"
   ]
  },
  {
   "cell_type": "markdown",
   "id": "4512715b",
   "metadata": {},
   "source": [
    "# Find markers of pct counts MT in cases"
   ]
  },
  {
   "cell_type": "code",
   "execution_count": null,
   "id": "367c7b2f",
   "metadata": {
    "scrolled": true
   },
   "outputs": [],
   "source": [
    "malhighmarker, tmehighmarker, fullmarkers = get_markers_high_mt(full_results=full_results, adata=adata, \n",
    "                        sample_col=\"sample\", malignant_cells=[\"TP1\",\"TP2\",\"Tumor\"], \n",
    "                        tme_cells=[\"T cell\",\"TAM\",\"T-Helper\",\"NK\",\"CD8+ T cell\",\"Myeloid\",\"Monocyte\",\n",
    "             \"B cell\",\"NKT\",\"T-Reg\",\"Plasma cell\",\"Macrophage\",\"DC\",\"Endothelial\",\"Fibroblast\",\"Mast cell\"]) "
   ]
  },
  {
   "cell_type": "code",
   "execution_count": null,
   "id": "a97abbd8",
   "metadata": {},
   "outputs": [],
   "source": [
    "fullmarkers[\"Malignant\"].to_csv(resdir / \"full_highmt_vs_lowmt_mal_dgex.csv\")"
   ]
  },
  {
   "cell_type": "code",
   "execution_count": null,
   "id": "1f4eb815",
   "metadata": {
    "scrolled": true
   },
   "outputs": [],
   "source": [
    "malhighmarker.to_csv(resdir / \"mal_high_markers.csv\")\n",
    "tmehighmarker.to_csv(resdir / \"tme_high_markers.csv\")"
   ]
  },
  {
   "cell_type": "markdown",
   "id": "769cd2c3",
   "metadata": {},
   "source": [
    "# NasoCarcinoma Chen 10X"
   ]
  },
  {
   "cell_type": "code",
   "execution_count": null,
   "id": "89e6aafa",
   "metadata": {},
   "outputs": [],
   "source": [
    "resdir = full_resdir / \"Chen_NasoCarcinoma_10X\"\n",
    "os.makedirs(resdir, exist_ok=True)"
   ]
  },
  {
   "cell_type": "code",
   "execution_count": null,
   "id": "6f5cbe71",
   "metadata": {},
   "outputs": [],
   "source": [
    "adata = sc.read_h5ad(\"/add/path/here/filtered_data/Chen_NasoCarcinoma_10X/filtered_adata.h5ad\")\n",
    "\n",
    "all_samples = adata.obs[\"sample\"].unique()\n",
    "\n",
    "adata.obs[\"HighMT\"] = (adata.obs.pct_counts_mt>15).astype(int)\n",
    "adata.obs[\"Malignant\"] = (adata.obs.cleaned_celltype.isin([\"Malignant\"])).astype(int)"
   ]
  },
  {
   "cell_type": "code",
   "execution_count": null,
   "id": "0026cc24",
   "metadata": {},
   "outputs": [],
   "source": [
    "sc.pp.filter_genes(adata, min_cells=int(0.01*adata.shape[0]))"
   ]
  },
  {
   "cell_type": "markdown",
   "id": "56a656e7",
   "metadata": {},
   "source": [
    "# Normalize without the MT genes"
   ]
  },
  {
   "cell_type": "code",
   "execution_count": null,
   "id": "bd2fba83",
   "metadata": {},
   "outputs": [],
   "source": [
    "adata.X = adata.layers[\"counts\"].copy()\n",
    "\n",
    "adata = adata[:,adata.var_names[~adata.var_names.str.startswith(\"MT-\")]].copy()\n",
    "\n",
    "sc.pp.normalize_total(adata, target_sum=10000)\n",
    "sc.pp.log1p(adata)"
   ]
  },
  {
   "cell_type": "markdown",
   "id": "d2efcbd1",
   "metadata": {},
   "source": [
    "## Score dissociation stress"
   ]
  },
  {
   "cell_type": "code",
   "execution_count": null,
   "id": "75273dde",
   "metadata": {
    "scrolled": true
   },
   "outputs": [],
   "source": [
    "sc.tl.score_genes(adata, gene_list=common_disso_genes, score_name=\"Dissociation stress\")"
   ]
  },
  {
   "cell_type": "markdown",
   "id": "10d64c0b",
   "metadata": {},
   "source": [
    "# Remove patients with high pct MT in healthy cells"
   ]
  },
  {
   "cell_type": "code",
   "execution_count": null,
   "id": "e3a92026",
   "metadata": {
    "scrolled": true
   },
   "outputs": [],
   "source": [
    "pct_counts_values = adata.obs.groupby([\"sample\",\"Malignant\"]).median()[\"pct_counts_mt\"].unstack()\n",
    "\n",
    "pct_counts_values.columns = [\"TME\",\"Malignant\"]"
   ]
  },
  {
   "cell_type": "code",
   "execution_count": null,
   "id": "a2876b50",
   "metadata": {},
   "outputs": [],
   "source": [
    "maladata = adata[adata.obs.Malignant==1].copy()\n",
    "\n",
    "pct_high_mt = maladata.obs[[\"sample\",\"HighMT\"]].value_counts().unstack()\n",
    "\n",
    "pct_high_mt.columns = [\"LowMT\",\"HighMT\"]\n",
    "\n",
    "pct_high_mt = pct_high_mt[\"HighMT\"]/pct_high_mt.sum(axis=1)\n",
    "pct_high_mt.name = \"Pct_HighMT\""
   ]
  },
  {
   "cell_type": "code",
   "execution_count": null,
   "id": "d6d5e4fc",
   "metadata": {},
   "outputs": [],
   "source": [
    "adata.obs[\"highlevel_celltype\"] = adata.obs.cleaned_celltype.apply(lambda x: \"TME\" if x not in [\"Malignant\",\"Epithelial\"] else x)"
   ]
  },
  {
   "cell_type": "code",
   "execution_count": null,
   "id": "d72d15e6",
   "metadata": {},
   "outputs": [],
   "source": [
    "pct_counts_values.sort_values(\"TME\",ascending=False)"
   ]
  },
  {
   "cell_type": "code",
   "execution_count": null,
   "id": "efc97971",
   "metadata": {},
   "outputs": [],
   "source": [
    "all_vc = adata.obs[[\"sample\",\"HighMT\",\"Malignant\"]].value_counts().unstack()"
   ]
  },
  {
   "cell_type": "code",
   "execution_count": null,
   "id": "16f944c4",
   "metadata": {},
   "outputs": [],
   "source": [
    "all_fisher_OR, all_fisher_p = {},{}\n",
    "for sample in all_vc.index.get_level_values(0).unique():\n",
    "    \n",
    "    if (all_vc.loc[sample].sum(axis=0)<30).sum()>0:\n",
    "        print(sample, \"does not have enough malignant/TME cells\")\n",
    "        continue\n",
    "    if (all_vc.loc[sample].sum(axis=1).loc[1]<20):\n",
    "        print(sample, \"does not have enough HighMT cells\")\n",
    "        OR, p = 0, 1\n",
    "    else:\n",
    "        OR, p = fisher_exact(all_vc.loc[sample].loc[[0,1],[0,1]].fillna(0))\n",
    "    all_fisher_OR[sample] = [OR]\n",
    "    all_fisher_p[sample] = [p]"
   ]
  },
  {
   "cell_type": "code",
   "execution_count": null,
   "id": "644bad8e",
   "metadata": {},
   "outputs": [],
   "source": [
    "fisher_results = pd.concat([pd.DataFrame(all_fisher_p), pd.DataFrame(all_fisher_OR)]).T\n",
    "\n",
    "fisher_results.columns = [\"p\",\"OR\"]\n",
    "\n",
    "fisher_results = fisher_results.sort_values(\"OR\")"
   ]
  },
  {
   "cell_type": "code",
   "execution_count": null,
   "id": "4c5fa1d5",
   "metadata": {},
   "outputs": [],
   "source": [
    "full_results = pd.concat([fisher_results,pct_counts_values,pct_high_mt],axis=1).dropna()\n",
    "\n",
    "full_results[\"Category\"] = \"Case\"\n",
    "full_results.loc[(full_results.TME>15),\"Category\"] = \"Negative Control\"\n",
    "full_results.loc[(full_results.TME<15) & (full_results.OR<2),\"Category\"] = \"Positive Control\"\n",
    "full_results.loc[(full_results.TME<15) & (full_results.OR>2) & (full_results.Pct_HighMT<0.15),\"Category\"] = \"Positive Control\"\n",
    "\n",
    "plot_order = full_results.sort_values(\"TME\").index\n",
    "full_results = full_results.loc[plot_order]\n",
    "\n",
    "colors = full_results[\"Category\"].replace(color_mapping).ravel()\n",
    "\n",
    "fig, ax = plt.subplots(1,1,figsize=(3.5,3))\n",
    "sns.boxplot(data=adata.obs, y=\"sample\", x=\"pct_counts_mt\", hue=\"Malignant\", \n",
    "               palette = {0: \"tab:blue\", 1: \"tab:red\"}, \n",
    "               order=plot_order,\n",
    "               ax=ax)\n",
    "ax.legend(frameon=False, title=\"Malignant\", bbox_to_anchor=(1,1,0,0))\n",
    "ax.vlines(x=15, ymin=ax.get_ylim()[0], ymax=ax.get_ylim()[1], color=\"grey\", linestyle=\"--\")\n",
    "ax.set_yticks(ax.get_yticks(), ax.get_yticklabels(), rotation=45, ha=\"right\")\n",
    "\n",
    "for xtick, color in zip(ax.get_yticklabels(), colors):\n",
    "    xtick.set_color(color)\n",
    "\n",
    "ax.set_ylabel(\"Sample\")\n",
    "ax.set_xlabel(\"% MT counts\")\n",
    "pretty_ax(ax)\n",
    "fig.savefig(\"/add/path/here/figures/case_control/NasoCarcinoma_Chen.png\", \n",
    "            dpi=200, bbox_inches=\"tight\")"
   ]
  },
  {
   "cell_type": "code",
   "execution_count": null,
   "id": "5b34f05b",
   "metadata": {},
   "outputs": [],
   "source": [
    "fig, ax = plt.subplots(1,1,figsize=(3.5,3))\n",
    "sns.boxplot(data=adata.obs, y=\"sample\", x=\"pct_counts_mt\", order=plot_order,\n",
    "            hue=\"highlevel_celltype\", \n",
    "            hue_order=[\"TME\",\"Epithelial\",\"Malignant\"], \n",
    "            palette={\"TME\": \"tab:blue\", \"Epithelial\": \"tab:orange\", \"Malignant\": \"tab:red\"})\n",
    "pretty_ax(ax)\n",
    "\n",
    "ax.legend(frameon=False, title=\"High-level cell type\", bbox_to_anchor=(1,1,0,0))\n",
    "ax.set_yticks(ax.get_yticks(), ax.get_yticklabels(), rotation=45, ha=\"right\")\n",
    "for xtick, color in zip(ax.get_yticklabels(), colors):\n",
    "    xtick.set_color(color)\n",
    "\n",
    "ax.set_ylabel(\"Sample\")\n",
    "ax.set_xlabel(\"% MT counts\")\n",
    "pretty_ax(ax)\n",
    "fig.savefig(\"/add/path/here/figures/case_control/NasoCarcinoma_Chen_wNormal-Epithelial.png\", \n",
    "            dpi=200, bbox_inches=\"tight\")"
   ]
  },
  {
   "cell_type": "code",
   "execution_count": null,
   "id": "fe4cebe8",
   "metadata": {},
   "outputs": [],
   "source": [
    "fig, ax = plt.subplots(1,1,figsize=(3.5,3))\n",
    "sns.boxplot(data=adata.obs, y=\"sample\", x=\"Dissociation stress\", hue=\"Malignant\", \n",
    "               palette = {0: \"tab:blue\", 1: \"tab:red\"}, \n",
    "               order=plot_order,\n",
    "               ax=ax)\n",
    "ax.legend(frameon=False, title=\"Malignant\")\n",
    "ax.set_yticks(ax.get_yticks(), ax.get_yticklabels(), rotation=45, ha=\"right\")\n",
    "\n",
    "for xtick, color in zip(ax.get_yticklabels(), colors):\n",
    "    xtick.set_color(color)\n",
    "\n",
    "ax.set_ylabel(\"Sample\")\n",
    "ax.set_xlabel(\"Dissociation stress\")\n",
    "pretty_ax(ax)\n",
    "fig.savefig(\"/add/path/here/figures/case_control/NasoCarcinoma_Chen_dissociation.png\", \n",
    "            dpi=200, bbox_inches=\"tight\")"
   ]
  },
  {
   "cell_type": "code",
   "execution_count": null,
   "id": "9fb05f4c",
   "metadata": {},
   "outputs": [],
   "source": [
    "adata.obs[[\"sample\",\"pct_counts_mt\",\"cell_type\",\"HighMT\",\"Malignant\",\"Dissociation stress\"]].to_csv(\"/add/path/here/info-pct-counts-full/NasoCarcinoma_adata.csv\")"
   ]
  },
  {
   "cell_type": "markdown",
   "id": "75a337d1",
   "metadata": {},
   "source": [
    "# Find markers of pct counts MT in cases"
   ]
  },
  {
   "cell_type": "code",
   "execution_count": null,
   "id": "0a45ea3d",
   "metadata": {
    "scrolled": true
   },
   "outputs": [],
   "source": [
    "malhighmarker, tmehighmarker, fullmarkers = get_markers_high_mt(full_results=full_results, adata=adata, \n",
    "                        sample_col=\"sample\", malignant_cells=[\"Malignant\"], \n",
    "                        tme_cells=[\"B_cell\",\"T_cell\",\"NK_cell\",\"Macrophage\",\n",
    "                                   \"Plasma\",\"Epithelial\",\"Endothelial\",\"Dendritic\",\n",
    "                                   \"Lymphovascular\",\"Fibroblast\",\"Myofibroblast\",\"Mast\"]) "
   ]
  },
  {
   "cell_type": "code",
   "execution_count": null,
   "id": "10e981c8",
   "metadata": {
    "scrolled": true
   },
   "outputs": [],
   "source": [
    "fullmarkers[\"Malignant\"].to_csv(resdir / \"full_highmt_vs_lowmt_mal_dgex.csv\")"
   ]
  },
  {
   "cell_type": "markdown",
   "id": "60dec475",
   "metadata": {},
   "source": [
    "# Breast Wu 10X"
   ]
  },
  {
   "cell_type": "code",
   "execution_count": null,
   "id": "32a6f585",
   "metadata": {},
   "outputs": [],
   "source": [
    "resdir = full_resdir / \"Wu_Breast_10X\"\n",
    "os.makedirs(resdir, exist_ok=True)"
   ]
  },
  {
   "cell_type": "code",
   "execution_count": null,
   "id": "bab11759",
   "metadata": {},
   "outputs": [],
   "source": [
    "adata = sc.read_h5ad(\"/add/path/here/filtered_data/Breast_Wu_10X/filtered_adata.h5ad\")\n",
    "\n",
    "all_samples = adata.obs[\"Patient\"].unique()\n",
    "\n",
    "adata.obs[\"HighMT\"] = (adata.obs.pct_counts_mt>15).astype(int)\n",
    "adata.obs[\"Malignant\"] = (adata.obs.cleaned_celltype.isin([\"Cancer Epithelial\"])).astype(int)"
   ]
  },
  {
   "cell_type": "code",
   "execution_count": null,
   "id": "b9754f2d",
   "metadata": {},
   "outputs": [],
   "source": [
    "sc.pp.filter_genes(adata, min_cells=int(0.01*adata.shape[0]))"
   ]
  },
  {
   "cell_type": "markdown",
   "id": "260fccdd",
   "metadata": {},
   "source": [
    "# Normalize without the MT genes"
   ]
  },
  {
   "cell_type": "code",
   "execution_count": null,
   "id": "1f81779e",
   "metadata": {},
   "outputs": [],
   "source": [
    "adata.X = adata.layers[\"counts\"].copy()\n",
    "\n",
    "adata = adata[:,adata.var_names[~adata.var_names.str.startswith(\"MT-\")]].copy()\n",
    "\n",
    "sc.pp.normalize_total(adata, target_sum=10000)\n",
    "sc.pp.log1p(adata)"
   ]
  },
  {
   "cell_type": "markdown",
   "id": "6810bf8e",
   "metadata": {},
   "source": [
    "## Score dissociation stress"
   ]
  },
  {
   "cell_type": "code",
   "execution_count": null,
   "id": "72174437",
   "metadata": {
    "scrolled": true
   },
   "outputs": [],
   "source": [
    "sc.tl.score_genes(adata, gene_list=common_disso_genes, score_name=\"Dissociation stress\")"
   ]
  },
  {
   "cell_type": "markdown",
   "id": "cb16be80",
   "metadata": {},
   "source": [
    "# Remove patients with high pct MT in healthy cells"
   ]
  },
  {
   "cell_type": "code",
   "execution_count": null,
   "id": "d434d656",
   "metadata": {
    "scrolled": true
   },
   "outputs": [],
   "source": [
    "pct_counts_values = adata.obs.groupby([\"Patient\",\"Malignant\"]).median()[\"pct_counts_mt\"].unstack()\n",
    "\n",
    "pct_counts_values.columns = [\"TME\",\"Malignant\"]"
   ]
  },
  {
   "cell_type": "code",
   "execution_count": null,
   "id": "8fdc77d8",
   "metadata": {},
   "outputs": [],
   "source": [
    "maladata = adata[adata.obs.Malignant==1].copy()\n",
    "\n",
    "pct_high_mt = maladata.obs[[\"Patient\",\"HighMT\"]].value_counts().unstack()\n",
    "\n",
    "pct_high_mt.columns = [\"LowMT\",\"HighMT\"]\n",
    "\n",
    "pct_high_mt = pct_high_mt[\"HighMT\"]/pct_high_mt.sum(axis=1)\n",
    "pct_high_mt.name = \"Pct_HighMT\""
   ]
  },
  {
   "cell_type": "code",
   "execution_count": null,
   "id": "c666d909",
   "metadata": {},
   "outputs": [],
   "source": [
    "adata.obs[\"highlevel_celltype\"] = adata.obs.cleaned_celltype.apply(lambda x: \"TME\" if x not in [\"Cancer Epithelial\",\"Normal Epithelial\"] else (\"Malignant\" if x==\"Cancer Epithelial\" else \"Epithelial\"))"
   ]
  },
  {
   "cell_type": "code",
   "execution_count": null,
   "id": "2194b308",
   "metadata": {},
   "outputs": [],
   "source": [
    "pct_counts_values.sort_values(\"TME\",ascending=False)"
   ]
  },
  {
   "cell_type": "code",
   "execution_count": null,
   "id": "031f8008",
   "metadata": {},
   "outputs": [],
   "source": [
    "all_vc = adata.obs[[\"Patient\",\"HighMT\",\"Malignant\"]].value_counts().unstack()"
   ]
  },
  {
   "cell_type": "code",
   "execution_count": null,
   "id": "eb264c1d",
   "metadata": {},
   "outputs": [],
   "source": [
    "all_fisher_OR, all_fisher_p = {},{}\n",
    "for sample in all_vc.index.get_level_values(0).unique():\n",
    "    \n",
    "    if (all_vc.loc[sample].sum(axis=0)<30).sum()>0:\n",
    "        print(sample, \"does not have enough malignant/TME cells\")\n",
    "        continue\n",
    "    if (all_vc.loc[sample].sum(axis=1).loc[1]<20):\n",
    "        print(sample, \"does not have enough HighMT cells\")\n",
    "        OR, p = 0, 1\n",
    "    else:\n",
    "        OR, p = fisher_exact(all_vc.loc[sample].loc[[0,1],[0,1]].fillna(0))\n",
    "    all_fisher_OR[sample] = [OR]\n",
    "    all_fisher_p[sample] = [p]"
   ]
  },
  {
   "cell_type": "code",
   "execution_count": null,
   "id": "568fa931",
   "metadata": {},
   "outputs": [],
   "source": [
    "fisher_results = pd.concat([pd.DataFrame(all_fisher_p), pd.DataFrame(all_fisher_OR)]).T\n",
    "\n",
    "fisher_results.columns = [\"p\",\"OR\"]\n",
    "\n",
    "fisher_results = fisher_results.sort_values(\"OR\")"
   ]
  },
  {
   "cell_type": "code",
   "execution_count": null,
   "id": "03aea092",
   "metadata": {},
   "outputs": [],
   "source": [
    "full_results = pd.concat([fisher_results,pct_counts_values,pct_high_mt],axis=1).dropna()\n",
    "\n",
    "full_results[\"Category\"] = \"Case\"\n",
    "full_results.loc[(full_results.TME>15),\"Category\"] = \"Negative Control\"\n",
    "full_results.loc[(full_results.TME<15) & (full_results.OR<2),\"Category\"] = \"Positive Control\"\n",
    "full_results.loc[(full_results.TME<15) & (full_results.OR>2) & (full_results.Pct_HighMT<0.15),\"Category\"] = \"Positive Control\"\n",
    "\n",
    "plot_order = full_results.sort_values(\"TME\").index\n",
    "full_results = full_results.loc[plot_order]\n",
    "\n",
    "colors = full_results[\"Category\"].replace(color_mapping).ravel()\n",
    "\n",
    "fig, ax = plt.subplots(1,1,figsize=(3.5,9))\n",
    "sns.boxplot(data=adata.obs, y=\"Patient\", x=\"pct_counts_mt\", hue=\"Malignant\", \n",
    "               palette = {0: \"tab:blue\", 1: \"tab:red\"}, \n",
    "               order=plot_order,\n",
    "               ax=ax)\n",
    "ax.legend(frameon=False, title=\"Malignant\", bbox_to_anchor=(1,1,0,0))\n",
    "ax.vlines(x=15, ymin=ax.get_ylim()[0], ymax=ax.get_ylim()[1], color=\"grey\", linestyle=\"--\")\n",
    "ax.set_yticks(ax.get_yticks(), ax.get_yticklabels(), rotation=45, ha=\"right\")\n",
    "\n",
    "for xtick, color in zip(ax.get_yticklabels(), colors):\n",
    "    xtick.set_color(color)\n",
    "\n",
    "ax.set_ylabel(\"Sample\")\n",
    "ax.set_xlabel(\"% MT counts\")\n",
    "pretty_ax(ax)\n",
    "fig.savefig(\"/add/path/here/figures/case_control/Breast_Wu.png\", \n",
    "            dpi=200, bbox_inches=\"tight\")"
   ]
  },
  {
   "cell_type": "code",
   "execution_count": null,
   "id": "78b8f4c8",
   "metadata": {},
   "outputs": [],
   "source": [
    "fig, ax = plt.subplots(1,1,figsize=(3.5,9))\n",
    "sns.boxplot(data=adata.obs, y=\"Patient\", x=\"pct_counts_mt\", order=plot_order,\n",
    "            hue=\"highlevel_celltype\", \n",
    "            hue_order=[\"TME\",\"Epithelial\",\"Malignant\"], \n",
    "            palette={\"TME\": \"tab:blue\", \"Epithelial\": \"tab:orange\", \"Malignant\": \"tab:red\"})\n",
    "pretty_ax(ax)\n",
    "\n",
    "ax.legend(frameon=False, title=\"High-level cell type\", bbox_to_anchor=(1,1,0,0))\n",
    "ax.set_yticks(ax.get_yticks(), ax.get_yticklabels(), rotation=45, ha=\"right\")\n",
    "for xtick, color in zip(ax.get_yticklabels(), colors):\n",
    "    xtick.set_color(color)\n",
    "\n",
    "ax.set_ylabel(\"Sample\")\n",
    "ax.set_xlabel(\"% MT counts\")\n",
    "pretty_ax(ax)\n",
    "fig.savefig(\"/add/path/here/figures/case_control/Breast_Wu_wNormal-Epithelial.png\", \n",
    "            dpi=200, bbox_inches=\"tight\")"
   ]
  },
  {
   "cell_type": "code",
   "execution_count": null,
   "id": "3ad66d2b",
   "metadata": {},
   "outputs": [],
   "source": [
    "fig, ax = plt.subplots(1,1,figsize=(3.5,9))\n",
    "sns.boxplot(data=adata.obs, y=\"Patient\", x=\"Dissociation stress\", hue=\"Malignant\", \n",
    "               palette = {0: \"tab:blue\", 1: \"tab:red\"}, \n",
    "               order=plot_order,\n",
    "               ax=ax)\n",
    "ax.legend(frameon=False, title=\"Malignant\")\n",
    "ax.set_yticks(ax.get_yticks(), ax.get_yticklabels(), rotation=45, ha=\"right\")\n",
    "\n",
    "for xtick, color in zip(ax.get_yticklabels(), colors):\n",
    "    xtick.set_color(color)\n",
    "\n",
    "ax.set_ylabel(\"Sample\")\n",
    "ax.set_xlabel(\"Dissociation stress\")\n",
    "pretty_ax(ax)\n",
    "fig.savefig(\"/add/path/here/figures/case_control/Breast_Wu_dissociation.png\", \n",
    "            dpi=200, bbox_inches=\"tight\")"
   ]
  },
  {
   "cell_type": "code",
   "execution_count": null,
   "id": "75acc5aa",
   "metadata": {},
   "outputs": [],
   "source": [
    "adata.obs[[\"Patient\",\"pct_counts_mt\",\"cell_type\",\"HighMT\",\"Malignant\",\"Dissociation stress\"]].to_csv(\"/add/path/here/info-pct-counts-full/breast_adata.csv\")"
   ]
  },
  {
   "cell_type": "markdown",
   "id": "8b59b113",
   "metadata": {},
   "source": [
    "# Find markers of pct counts MT in cases"
   ]
  },
  {
   "cell_type": "code",
   "execution_count": null,
   "id": "fdfbb246",
   "metadata": {
    "scrolled": true
   },
   "outputs": [],
   "source": [
    "malhighmarker, tmehighmarker, fullmarkers = get_markers_high_mt(full_results=full_results, adata=adata, \n",
    "                        sample_col=\"Patient\", malignant_cells=[\"Cancer Epithelial\"], \n",
    "                        tme_cells=['Endothelial', 'CAFs', 'PVL', 'B-cells', 'T-cells', 'Myeloid', 'Normal Epithelial', 'Plasmablasts',]) "
   ]
  },
  {
   "cell_type": "code",
   "execution_count": null,
   "id": "be6cee58",
   "metadata": {
    "scrolled": true
   },
   "outputs": [],
   "source": [
    "fullmarkers[\"Malignant\"].to_csv(resdir / \"full_highmt_vs_lowmt_mal_dgex.csv\")"
   ]
  },
  {
   "cell_type": "code",
   "execution_count": null,
   "id": "0ae21e54",
   "metadata": {},
   "outputs": [],
   "source": [
    "malhighmarker.to_csv(resdir / \"mal_high_markers.csv\")\n",
    "tmehighmarker.to_csv(resdir / \"tme_high_markers.csv\")"
   ]
  },
  {
   "cell_type": "markdown",
   "id": "0b2a90f7",
   "metadata": {},
   "source": [
    "# LUAD Bischoff 10X"
   ]
  },
  {
   "cell_type": "code",
   "execution_count": null,
   "id": "0f2bcbd5",
   "metadata": {},
   "outputs": [],
   "source": [
    "resdir = full_resdir / \"LUAD_Bischoff_10X\"\n",
    "os.makedirs(resdir, exist_ok=True)"
   ]
  },
  {
   "cell_type": "code",
   "execution_count": null,
   "id": "67701161",
   "metadata": {},
   "outputs": [],
   "source": [
    "adata = sc.read_h5ad(\"/add/path/here/filtered_data/LUAD_Bischoff_10X/filtered_adata.h5ad\")\n",
    "\n",
    "all_samples = adata.obs[\"sample\"].unique()\n",
    "\n",
    "adata.obs[\"HighMT\"] = (adata.obs.pct_counts_mt>15).astype(int)\n",
    "adata.obs[\"Malignant\"] = (adata.obs.cleaned_celltype.isin([\"Malignant\"])).astype(int)"
   ]
  },
  {
   "cell_type": "code",
   "execution_count": null,
   "id": "f22aea6f",
   "metadata": {},
   "outputs": [],
   "source": [
    "sc.pp.filter_genes(adata, min_cells=int(0.01*adata.shape[0]))"
   ]
  },
  {
   "cell_type": "markdown",
   "id": "224121cd",
   "metadata": {},
   "source": [
    "# Normalize without the MT genes"
   ]
  },
  {
   "cell_type": "code",
   "execution_count": null,
   "id": "a6cebd78",
   "metadata": {},
   "outputs": [],
   "source": [
    "adata.X = adata.layers[\"counts\"].copy()\n",
    "\n",
    "adata = adata[:,adata.var_names[~adata.var_names.str.startswith(\"MT-\")]].copy()\n",
    "\n",
    "sc.pp.normalize_total(adata, target_sum=10000)\n",
    "sc.pp.log1p(adata)"
   ]
  },
  {
   "cell_type": "markdown",
   "id": "e1fba7c1",
   "metadata": {},
   "source": [
    "## Score dissociation stress"
   ]
  },
  {
   "cell_type": "code",
   "execution_count": null,
   "id": "2baf206d",
   "metadata": {
    "scrolled": true
   },
   "outputs": [],
   "source": [
    "sc.tl.score_genes(adata, gene_list=common_disso_genes, score_name=\"Dissociation stress\")"
   ]
  },
  {
   "cell_type": "markdown",
   "id": "d22e2780",
   "metadata": {},
   "source": [
    "# Remove patients with high pct MT in healthy cells"
   ]
  },
  {
   "cell_type": "code",
   "execution_count": null,
   "id": "8dccae9c",
   "metadata": {
    "scrolled": true
   },
   "outputs": [],
   "source": [
    "pct_counts_values = adata.obs.groupby([\"sample\",\"Malignant\"])[\"pct_counts_mt\"].median().unstack()\n",
    "\n",
    "pct_counts_values.columns = [\"TME\",\"Malignant\"]"
   ]
  },
  {
   "cell_type": "code",
   "execution_count": null,
   "id": "802efa90",
   "metadata": {},
   "outputs": [],
   "source": [
    "maladata = adata[adata.obs.Malignant==1].copy()\n",
    "\n",
    "pct_high_mt = maladata.obs[[\"sample\",\"HighMT\"]].value_counts().unstack()\n",
    "\n",
    "pct_high_mt.columns = [\"LowMT\",\"HighMT\"]\n",
    "\n",
    "pct_high_mt = pct_high_mt[\"HighMT\"]/pct_high_mt.sum(axis=1)\n",
    "pct_high_mt.name = \"Pct_HighMT\""
   ]
  },
  {
   "cell_type": "code",
   "execution_count": null,
   "id": "47d0678e",
   "metadata": {},
   "outputs": [],
   "source": [
    "adata.obs[\"highlevel_celltype\"] = adata.obs.cleaned_celltype.apply(lambda x: \"TME\" if x not in [\"Malignant\",\"Epithelial\"] else x)"
   ]
  },
  {
   "cell_type": "code",
   "execution_count": null,
   "id": "405ab9e2",
   "metadata": {},
   "outputs": [],
   "source": [
    "pct_counts_values.sort_values(\"TME\",ascending=False)"
   ]
  },
  {
   "cell_type": "code",
   "execution_count": null,
   "id": "ea03dde9",
   "metadata": {},
   "outputs": [],
   "source": [
    "all_vc = adata.obs[[\"sample\",\"HighMT\",\"Malignant\"]].value_counts().unstack()"
   ]
  },
  {
   "cell_type": "code",
   "execution_count": null,
   "id": "daf659ac",
   "metadata": {},
   "outputs": [],
   "source": [
    "all_vc"
   ]
  },
  {
   "cell_type": "code",
   "execution_count": null,
   "id": "3f0e8b7b",
   "metadata": {},
   "outputs": [],
   "source": [
    "all_fisher_OR, all_fisher_p = {},{}\n",
    "for sample in all_vc.index.get_level_values(0).unique():\n",
    "    \n",
    "    if (all_vc.loc[sample].sum(axis=0)<30).sum()>0:\n",
    "        print(sample, \"does not have enough malignant/TME cells\")\n",
    "        continue\n",
    "    if (all_vc.loc[sample].sum(axis=1).loc[1]<20):\n",
    "        print(sample, \"does not have enough HighMT cells\")\n",
    "        OR, p = 0, 1\n",
    "    else:\n",
    "        OR, p = fisher_exact(all_vc.loc[sample].loc[[0,1],[0,1]].fillna(0))\n",
    "    all_fisher_OR[sample] = [OR]\n",
    "    all_fisher_p[sample] = [p]"
   ]
  },
  {
   "cell_type": "code",
   "execution_count": null,
   "id": "1d57d759",
   "metadata": {},
   "outputs": [],
   "source": [
    "fisher_results = pd.concat([pd.DataFrame(all_fisher_p), pd.DataFrame(all_fisher_OR)]).T\n",
    "\n",
    "fisher_results.columns = [\"p\",\"OR\"]\n",
    "\n",
    "fisher_results = fisher_results.sort_values(\"OR\")"
   ]
  },
  {
   "cell_type": "code",
   "execution_count": null,
   "id": "bea32e46",
   "metadata": {},
   "outputs": [],
   "source": [
    "full_results"
   ]
  },
  {
   "cell_type": "code",
   "execution_count": null,
   "id": "e23c0aa3",
   "metadata": {},
   "outputs": [],
   "source": [
    "full_results = pd.concat([fisher_results,pct_counts_values,pct_high_mt],axis=1).dropna()\n",
    "\n",
    "full_results[\"Category\"] = \"Case\"\n",
    "full_results.loc[(full_results.TME>15),\"Category\"] = \"Negative Control\"\n",
    "full_results.loc[(full_results.TME<15) & (full_results.OR<2),\"Category\"] = \"Positive Control\"\n",
    "full_results.loc[(full_results.TME<15) & (full_results.OR>2) & (full_results.Pct_HighMT<0.15),\"Category\"] = \"Positive Control\"\n",
    "\n",
    "plot_order = full_results.sort_values(\"TME\").index\n",
    "full_results = full_results.loc[plot_order]\n",
    "\n",
    "colors = full_results[\"Category\"].replace(color_mapping).ravel()\n",
    "\n",
    "fig, ax = plt.subplots(1,1,figsize=(3.5,5))\n",
    "sns.boxplot(data=adata.obs, y=\"sample\", x=\"pct_counts_mt\", hue=\"Malignant\", \n",
    "               palette = {0: \"tab:blue\", 1: \"tab:red\"}, \n",
    "               order=plot_order,\n",
    "               ax=ax)\n",
    "ax.legend(frameon=False, title=\"Malignant\", bbox_to_anchor=(1,1,0,0))\n",
    "ax.vlines(x=15, ymin=ax.get_ylim()[0], ymax=ax.get_ylim()[1], color=\"grey\", linestyle=\"--\")\n",
    "ax.set_yticks(ax.get_yticks(), ax.get_yticklabels(), rotation=45, ha=\"right\")\n",
    "\n",
    "for xtick, color in zip(ax.get_yticklabels(), colors):\n",
    "    xtick.set_color(color)\n",
    "\n",
    "ax.set_ylabel(\"Sample\")\n",
    "ax.set_xlabel(\"% MT counts\")\n",
    "pretty_ax(ax)\n",
    "fig.savefig(\"/add/path/here/figures/case_control/LUAD_Bischoff.png\", \n",
    "            dpi=200, bbox_inches=\"tight\")"
   ]
  },
  {
   "cell_type": "code",
   "execution_count": null,
   "id": "0b607dbe-fe02-42ab-9063-0b514fa2f1bf",
   "metadata": {},
   "outputs": [],
   "source": [
    "fig, ax = plt.subplots(1,1,figsize=(3.5,5))\n",
    "sns.boxplot(data=adata.obs, y=\"sample\", x=\"pct_counts_mt\", order=plot_order,\n",
    "            hue=\"highlevel_celltype\", \n",
    "            hue_order=[\"TME\",\"Epithelial\",\"Malignant\"], \n",
    "            palette={\"TME\": \"tab:blue\", \"Epithelial\": \"tab:orange\", \"Malignant\": \"tab:red\"})\n",
    "pretty_ax(ax)\n",
    "\n",
    "ax.legend(frameon=False, title=\"High-level cell type\", bbox_to_anchor=(1,1,0,0))\n",
    "ax.set_yticks(ax.get_yticks(), ax.get_yticklabels(), rotation=45, ha=\"right\")\n",
    "for xtick, color in zip(ax.get_yticklabels(), colors):\n",
    "    xtick.set_color(color)\n",
    "\n",
    "ax.set_ylabel(\"Sample\")\n",
    "ax.set_xlabel(\"% MT counts\")\n",
    "pretty_ax(ax)\n",
    "fig.savefig(\"/add/path/here/figures/case_control/LUAD_Bischoff_wNormal-Epithelial.png\", \n",
    "            dpi=200, bbox_inches=\"tight\")"
   ]
  },
  {
   "cell_type": "code",
   "execution_count": null,
   "id": "1cb5ce53",
   "metadata": {},
   "outputs": [],
   "source": [
    "fig, ax = plt.subplots(1,1,figsize=(3.5,5))\n",
    "sns.boxplot(data=adata.obs, y=\"sample\", x=\"Dissociation stress\", hue=\"Malignant\", \n",
    "               palette = {0: \"tab:blue\", 1: \"tab:red\"}, \n",
    "               order=plot_order,\n",
    "               ax=ax)\n",
    "ax.legend(frameon=False, title=\"Malignant\")\n",
    "ax.set_yticks(ax.get_yticks(), ax.get_yticklabels(), rotation=45, ha=\"right\")\n",
    "\n",
    "for xtick, color in zip(ax.get_yticklabels(), colors):\n",
    "    xtick.set_color(color)\n",
    "\n",
    "ax.set_ylabel(\"Sample\")\n",
    "ax.set_xlabel(\"Dissociation stress\")\n",
    "pretty_ax(ax)\n",
    "fig.savefig(\"/add/path/here/figures/case_control/LUAD_Bischoff_dissociation.png\", \n",
    "            dpi=200, bbox_inches=\"tight\")"
   ]
  },
  {
   "cell_type": "code",
   "execution_count": null,
   "id": "80878d11",
   "metadata": {},
   "outputs": [],
   "source": [
    "adata.obs[[\"sample\",\"pct_counts_mt\",\"cell_type\",\"HighMT\",\"Malignant\",\"Dissociation stress\"]].to_csv(\"/add/path/here/info-pct-counts-full/LUADBischoff_adata.csv\")"
   ]
  },
  {
   "cell_type": "markdown",
   "id": "1c2fa1a2",
   "metadata": {},
   "source": [
    "# Find markers of pct counts MT in cases"
   ]
  },
  {
   "cell_type": "code",
   "execution_count": null,
   "id": "ab42fc9d",
   "metadata": {
    "scrolled": true
   },
   "outputs": [],
   "source": [
    "malhighmarker, tmehighmarker, fullmarkers = get_markers_high_mt(full_results=full_results, adata=adata, \n",
    "                        sample_col=\"sample\", malignant_cells=[\"Malignant\"], \n",
    "                        tme_cells=['T_cell','B_cell','NK_cell','Macrophage',\n",
    "                                   'Fibroblast','Endothelial','Mast','Dendritic']) "
   ]
  },
  {
   "cell_type": "code",
   "execution_count": null,
   "id": "a908cf9d",
   "metadata": {
    "scrolled": true
   },
   "outputs": [],
   "source": [
    "fullmarkers[\"Malignant\"].to_csv(resdir / \"full_highmt_vs_lowmt_mal_dgex.csv\")"
   ]
  },
  {
   "cell_type": "markdown",
   "id": "88314b83",
   "metadata": {},
   "source": [
    "# Find markers of pct counts MT in cases"
   ]
  },
  {
   "cell_type": "code",
   "execution_count": null,
   "id": "acdab5d1",
   "metadata": {
    "scrolled": true
   },
   "outputs": [],
   "source": [
    "malhighmarker, tmehighmarker, fullmarkers = get_markers_high_mt(full_results=full_results, adata=adata, \n",
    "                        sample_col=\"sample\", malignant_cells=[\"Malignant\"], \n",
    "                        tme_cells=['Fibroblast','Macrophage','Endothelial','T_cell',\n",
    "                                   'Myocyte','B_cell','Mast',]) "
   ]
  },
  {
   "cell_type": "code",
   "execution_count": null,
   "id": "87373059",
   "metadata": {
    "scrolled": true
   },
   "outputs": [],
   "source": [
    "fullmarkers[\"Malignant\"].to_csv(resdir / \"full_highmt_vs_lowmt_mal_dgex.csv\")"
   ]
  },
  {
   "cell_type": "code",
   "execution_count": null,
   "id": "294c5615",
   "metadata": {},
   "outputs": [],
   "source": []
  }
 ],
 "metadata": {
  "kernelspec": {
   "display_name": "Python 3 (ipykernel)",
   "language": "python",
   "name": "python3"
  },
  "language_info": {
   "codemirror_mode": {
    "name": "ipython",
    "version": 3
   },
   "file_extension": ".py",
   "mimetype": "text/x-python",
   "name": "python",
   "nbconvert_exporter": "python",
   "pygments_lexer": "ipython3",
   "version": "3.10.0"
  }
 },
 "nbformat": 4,
 "nbformat_minor": 5
}
