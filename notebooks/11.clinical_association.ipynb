{
 "cells": [
  {
   "cell_type": "code",
   "execution_count": null,
   "id": "9a91a17f-5fbe-4545-82c1-f3701423dd7d",
   "metadata": {},
   "outputs": [],
   "source": [
    "import pandas as pd\n",
    "import scipy.stats as stats\n",
    "import pandas as pd\n",
    "import numpy as np\n",
    "import scanpy as sc\n",
    "\n",
    "import matplotlib.pyplot as plt\n",
    "import seaborn as sns\n",
    "\n",
    "from statannotations.Annotator import Annotator\n",
    "\n",
    "from tqdm.notebook import tqdm\n",
    "\n",
    "from scipy.stats import fisher_exact\n",
    "import pathlib as pl\n",
    "import os\n",
    "from typing import List, Tuple\n",
    "from scipy.stats import mannwhitneyu\n",
    "import re\n",
    "from matplotlib.legend_handler import HandlerTuple"
   ]
  },
  {
   "cell_type": "markdown",
   "id": "7d5175e7-5bf4-434c-822c-9754ee296286",
   "metadata": {},
   "source": [
    "# Metastatic pancreas Raghavan 10X"
   ]
  },
  {
   "cell_type": "code",
   "execution_count": null,
   "id": "7aa33e86-2f16-4a85-bac4-5bfa6396c7b4",
   "metadata": {},
   "outputs": [],
   "source": [
    "adata = sc.read_h5ad(\"/add/path/here/filtered_data/Raghavan_Pancreas_10X/filtered_adata.h5ad\")"
   ]
  },
  {
   "cell_type": "code",
   "execution_count": null,
   "id": "6168d628-44df-4faf-beac-79d82d6698f1",
   "metadata": {},
   "outputs": [],
   "source": [
    "all_samples = adata.obs[\"sample\"].unique()\n",
    "sc.pp.filter_genes(adata, min_cells=int(0.01*adata.shape[0]))\n",
    "adata.obs[\"HighMT\"] = (adata.obs.pct_counts_mt>15).astype(int)\n",
    "adata.obs[\"Malignant\"] = (adata.obs.cleaned_celltype==\"Malignant\").astype(int)\n",
    "adata.obs[\"sample\"] = adata.obs[\"sample\"].astype(str)"
   ]
  },
  {
   "cell_type": "code",
   "execution_count": null,
   "id": "57b17c49-640b-4c7d-add7-382e09af1078",
   "metadata": {},
   "outputs": [],
   "source": [
    "pct_counts_values = adata.obs.groupby([\"sample\",\"Malignant\"]).median()[\"pct_counts_mt\"].unstack()\n",
    "\n",
    "pct_counts_values.columns = [\"TME\",\"Malignant\"]\n",
    "maladata = adata[adata.obs.Malignant==1].copy()\n",
    "pct_high_mt = maladata.obs[[\"sample\",\"HighMT\"]].value_counts().unstack()\n",
    "pct_high_mt.columns = [\"LowMT\",\"HighMT\"]\n",
    "pct_high_mt = pct_high_mt[\"HighMT\"]/pct_high_mt.sum(axis=1)\n",
    "pct_high_mt.name = \"Pct_HighMT\"\n"
   ]
  },
  {
   "cell_type": "markdown",
   "id": "52824e16-fe79-4013-82bf-22c3fd586c72",
   "metadata": {},
   "source": [
    "Associate pct of high MT cells with clinical features"
   ]
  },
  {
   "cell_type": "code",
   "execution_count": null,
   "id": "adb0a35a-4af4-46c0-89d4-19fbac414d47",
   "metadata": {},
   "outputs": [],
   "source": [
    "metpan_clin = pd.read_csv(\"/add/path/here/auxiliary_data/MetPan_clinical.txt\", sep='\\t')"
   ]
  },
  {
   "cell_type": "code",
   "execution_count": null,
   "id": "7c514ca6-56ed-422f-acde-2bd280a1c2c6",
   "metadata": {},
   "outputs": [],
   "source": [
    "metpan_clin.columns = [\"Patient\", \"Age\", \"Stage\", \"Treatment\", \"MetTreatment\", \n",
    "\"Status\", \"SurvTime\"]\n",
    "\n",
    "features = [\"Stage\", \"Status\", \"Age\", \"SurvTime\"]\n",
    "metpan_clin.index = metpan_clin.Patient\n",
    "metpan_clin = metpan_clin.rename({metpan_clin.index[1]:\"PANFR0473\"})\n",
    "metpan_clin.loc[metpan_clin.Stage == \"Locally advanced \",\"Stage\"] = \"Locally advanced\"\n",
    "\n",
    "pct_high_mt.index = [re.sub(\"_Biopsy_None\", \"\", x) for x in pct_high_mt.index]"
   ]
  },
  {
   "cell_type": "code",
   "execution_count": null,
   "id": "5fa539d2-1681-492c-ad50-79c43f1813e6",
   "metadata": {},
   "outputs": [],
   "source": [
    "combined = pd.concat([pct_high_mt, metpan_clin[features]], axis=1) \n",
    "combined= combined[~np.isnan(combined.Pct_HighMT)]\n",
    "\n",
    "combined.loc[[\"PANFR0489R\", \"PANFR0489\"],\"Stage\"] = metpan_clin.loc[\"PANFR0489 and PANFR0489R2\"].Stage"
   ]
  },
  {
   "cell_type": "code",
   "execution_count": null,
   "id": "f0449001-e4d4-4f32-8f89-d1ec9b228d14",
   "metadata": {},
   "outputs": [],
   "source": [
    "fig, ax = plt.subplots(1,1,figsize=(5,2.5))\n",
    "pairs = [((\"Metastatic\", \"Metastatic\"),(\"Localized\", \"Localized\")),\n",
    "((\"Localized\", \"Localized\"), (\"Locally advanced\", \"Locally advanced\")),\n",
    "((\"Metastatic\", \"Metastatic\"), (\"Locally advanced\", \"Locally advanced\"))]\n",
    "order = [\"Localized\", \"Locally advanced\", \"Metastatic\"]\n",
    "\n",
    "ax = sns.boxplot(data=combined, x=\"Stage\", y=\"Pct_HighMT\", boxprops={'alpha': 0.4}, dodge=False, hue = \"Stage\",\n",
    "hue_order = order, order  = order, width=0.4)\n",
    "                            \n",
    "sns.swarmplot(x=\"Stage\", y=\"Pct_HighMT\",data=combined, ax=ax, linewidth=1, dodge=False, hue = \"Stage\",\n",
    "hue_order = order, order = order)              \n",
    "              \n",
    "handles, labels = ax.get_legend_handles_labels()\n",
    "\n",
    "annotator = Annotator(ax, pairs, data=combined, x=\"Stage\", y=\"Pct_HighMT\", hue=\"Stage\",\n",
    "order = order, hue_order = order)\n",
    "\n",
    "annotator.configure(test='Mann-Whitney', text_format='simple', loc='inside', text_offset=1, show_test_name = False)\n",
    "annotator.apply_and_annotate()\n",
    "ax.set(ylim=(0, 1))\n",
    "fig.show()\n",
    "fig.savefig(\"/add/path/here/metpan_stage.pdf\", format=\"pdf\")"
   ]
  },
  {
   "cell_type": "markdown",
   "id": "97de8f6f-47e5-4287-ac04-c952cc192566",
   "metadata": {},
   "source": [
    "# Breast Wu 10X"
   ]
  },
  {
   "cell_type": "code",
   "execution_count": null,
   "id": "aa40db1a-9f5f-47bc-b657-b96aa903201b",
   "metadata": {},
   "outputs": [],
   "source": [
    "adata = sc.read_h5ad(\"/add/path/here/filtered_data/Breast_Wu_10X/filtered_adata.h5ad\")"
   ]
  },
  {
   "cell_type": "code",
   "execution_count": null,
   "id": "ffa00fb8-9912-4b19-9474-a1e3b419cba6",
   "metadata": {},
   "outputs": [],
   "source": [
    "all_samples = adata.obs[\"Patient\"].unique()\n",
    "\n",
    "adata.obs[\"HighMT\"] = (adata.obs.pct_counts_mt>15).astype(int)\n",
    "adata.obs[\"Malignant\"] = (adata.obs.cleaned_celltype==\"Cancer Epithelial\").astype(int)\n",
    "\n",
    "pct_counts_values = adata.obs.groupby([\"Patient\",\"Malignant\"]).median()[\"pct_counts_mt\"].unstack()\n",
    "\n",
    "pct_counts_values.columns = [\"TME\",\"Malignant\"]\n",
    "maladata = adata[adata.obs.Malignant==1].copy()\n",
    "\n",
    "pct_high_mt = maladata.obs[[\"Patient\",\"HighMT\"]].value_counts().unstack()\n",
    "\n",
    "pct_high_mt.columns = [\"LowMT\",\"HighMT\"]\n",
    "\n",
    "pct_high_mt = pct_high_mt[\"HighMT\"]/pct_high_mt.sum(axis=1)\n",
    "pct_high_mt.name = \"Pct_HighMT\""
   ]
  },
  {
   "cell_type": "markdown",
   "id": "23c457ef-38a5-4cf9-8dad-96df430b5c43",
   "metadata": {},
   "source": [
    "Associate pct of high MT cells with clinical features"
   ]
  },
  {
   "cell_type": "code",
   "execution_count": null,
   "id": "b88714ec-99b4-405d-bcde-9f981f831103",
   "metadata": {},
   "outputs": [],
   "source": [
    "brca_clin = pd.read_csv(\"/add/path/here/auxiliary_data/brca_clinical.txt\", sep='\\t')\n",
    "brca_clin[\"Sample\"] = [\"CID\"+x for x in brca_clin[\"Case ID\"]]\n",
    "brca_clin.index = brca_clin.Sample\n",
    "\n",
    "combined = pd.concat([pct_high_mt, brca_clin], axis=1)\n",
    "combined = combined[~np.isnan(combined[\"Pct_HighMT\"])]\n",
    "\n",
    "combined2 = combined.dropna(axis=0)"
   ]
  },
  {
   "cell_type": "code",
   "execution_count": null,
   "id": "7b35a700-b663-48c3-a14f-8128cc0519b0",
   "metadata": {},
   "outputs": [],
   "source": [
    "\n",
    "fig, ax = plt.subplots(1,1,figsize=(5,2.5))\n",
    "pairs = [((\"ER+\", \"ER+\"), (\"TNBC\", \"TNBC\")),\n",
    "((\"ER+\", \"ER+\"), (\"HER2+\", \"HER2+\")),\n",
    "((\"ER+\", \"ER+\"), (\"HER2+/ER+\", \"HER2+/ER+\")),\n",
    "((\"HER2+/ER+\", \"HER2+/ER+\"), (\"TNBC\", \"TNBC\")),\n",
    "((\"HER2+/ER+\", \"HER2+/ER+\"), (\"HER2+\", \"HER2+\")),\n",
    "((\"HER2+\", \"HER2+\"), (\"TNBC\", \"TNBC\"))\n",
    "]\n",
    "order = [\"TNBC\", \"HER2+/ER+\", \"ER+\", \"HER2+\"]\n",
    "ax = sns.boxplot(data=combined2, x=\"Subtype by IHC\", y=\"Pct_HighMT\", boxprops={'alpha': 0.4}, dodge=False, \n",
    "hue = \"Subtype by IHC\", hue_order=order, order=order, width = 0.4)\n",
    "                            \n",
    "sns.swarmplot(x=\"Subtype by IHC\", y=\"Pct_HighMT\",data=combined2, ax=ax, linewidth=1, dodge=False, hue = \"Subtype by IHC\",\n",
    "order = order, hue_order = order)              \n",
    "              \n",
    "handles, labels = ax.get_legend_handles_labels()\n",
    "annotator = Annotator(ax, pairs, data=combined2, x=\"Subtype by IHC\", y=\"Pct_HighMT\", hue=\"Subtype by IHC\",\n",
    "order = order, hue_order=order)\n",
    "\n",
    "annotator.configure(test='Mann-Whitney', text_format='simple', loc='inside', text_offset=1, show_test_name = False)\n",
    "annotator.apply_and_annotate()\n",
    "ax.set(ylim=(0, 1))\n",
    "fig.show()\n",
    "fig.savefig(\"/add/path/here/brca_subtype.pdf\", format=\"pdf\")\n"
   ]
  },
  {
   "cell_type": "markdown",
   "id": "b326561f-1826-4006-9fdd-96c16134a42f",
   "metadata": {},
   "source": [
    "# SCLC Chan"
   ]
  },
  {
   "cell_type": "code",
   "execution_count": null,
   "id": "bfe8b6aa-2ff8-4157-a6ef-5aa9859b87bc",
   "metadata": {},
   "outputs": [],
   "source": [
    "adata = sc.read_h5ad(\"/add/path/here/filtered_data/SCLC_Chan_10X/filtered_adata.h5ad\")\n",
    "adata = adata[adata.obs.source!=\"pleural_effusion\"].copy()\n",
    "all_samples = adata.obs[\"sample\"].unique()"
   ]
  },
  {
   "cell_type": "code",
   "execution_count": null,
   "id": "93cfd954-e571-48c6-9f00-b137c1e0c371",
   "metadata": {},
   "outputs": [],
   "source": [
    "adata.obs[\"HighMT\"] = (adata.obs.pct_counts_mt>15).astype(int)\n",
    "adata.obs[\"Malignant\"] = (adata.obs.cleaned_celltype==\"Malignant\").astype(int)\n",
    "\n",
    "pct_counts_values = adata.obs.groupby([\"sample\",\"Malignant\"]).median()[\"pct_counts_mt\"].unstack()\n",
    "\n",
    "pct_counts_values.columns = [\"TME\",\"Malignant\"]\n",
    "maladata = adata[adata.obs.Malignant==1].copy()\n",
    "\n",
    "pct_high_mt = maladata.obs[[\"sample\",\"HighMT\"]].value_counts().unstack()\n",
    "\n",
    "pct_high_mt.columns = [\"LowMT\",\"HighMT\"]\n",
    "\n",
    "pct_high_mt = pct_high_mt[\"HighMT\"]/pct_high_mt.sum(axis=1)\n",
    "pct_high_mt.name = \"Pct_HighMT\""
   ]
  },
  {
   "cell_type": "markdown",
   "id": "6e6d1eb9-ad52-426f-a50b-87da0a4e947a",
   "metadata": {},
   "source": [
    "Associate pct of high MT cells with clinical features"
   ]
  },
  {
   "cell_type": "code",
   "execution_count": null,
   "id": "7e8f3847-8f60-4b45-b008-d1b0eee15f23",
   "metadata": {},
   "outputs": [],
   "source": [
    "sclc_clin = pd.read_csv(\"/add/path/here/auxiliary_data/sclc_clinical.txt\", sep='\\t')\n",
    "\n",
    "features = [\"Gender\", \"Vital Status\", \"Stage at Dx\", \"Overall Survival (months)\"]\n",
    "\n",
    "sclc_clin.index = sclc_clin[\"Lab ID\"]\n",
    "sclc_clin = sclc_clin[features]\n",
    "\n",
    "pct_high_mt = pct_high_mt.rename({\"RU426B\":\"RU426\",\n",
    "\"RU1080C\": \"RU1080\",\n",
    "\"RU1124A_LN\":\"RU1124\",\n",
    "\"RU1181C\":\"RU1181_T\",\n",
    "\"RU1229A_Frozen\":\"RU1229A\",\n",
    "\"RU1322A_LN\":\"Ru1322A\"})\n",
    "\n",
    "combined = pd.concat([pct_high_mt, sclc_clin], axis=1)\n",
    "combined = combined[~np.isnan(combined[\"Pct_HighMT\"])]\n",
    "\n",
    "combined2 = combined.dropna(axis=0)\n",
    "\n",
    "#prepare stage:\n",
    "combined2[\"Stage\"] = [re.sub(\"A|B\", \"\", x) for x in combined2[\"Stage at Dx\"]]"
   ]
  },
  {
   "cell_type": "code",
   "execution_count": null,
   "id": "658ef673-3c9a-44d8-b74e-8342e4429808",
   "metadata": {},
   "outputs": [],
   "source": [
    "pairs = [\n",
    "((\"I\", \"I\"), (\"II\", \"II\")),\n",
    "((\"I\", \"I\"), (\"III\", \"III\")),\n",
    "((\"I\", \"I\"), (\"IV\", \"IV\")),\n",
    "((\"II\", \"II\"), (\"III\", \"III\")),\n",
    "((\"II\", \"II\"), (\"IV\", \"IV\")),\n",
    "((\"III\", \"III\"), (\"IV\", \"IV\"))\n",
    "]"
   ]
  },
  {
   "cell_type": "code",
   "execution_count": null,
   "id": "7e88d0d6-d42b-4c18-b11f-46c05b8e41d0",
   "metadata": {},
   "outputs": [],
   "source": [
    "fig, ax = plt.subplots(1,1,figsize=(5,2.5))\n",
    "order = [\"I\", \"II\", \"III\", \"IV\"]\n",
    "ax = sns.boxplot(data=combined2, x=\"Stage\", y=\"Pct_HighMT\", boxprops={'alpha': 0.4}, dodge=False, hue = \"Stage\",\n",
    "order = order, hue_order = order, width = 0.4)\n",
    "                            \n",
    "sns.swarmplot(x=\"Stage\", y=\"Pct_HighMT\",data=combined2, ax=ax, linewidth=1, dodge=False, hue = \"Stage\",\n",
    "order = order, hue_order = order)              \n",
    "              \n",
    "handles, labels = ax.get_legend_handles_labels()\n",
    "\n",
    "annotator = Annotator(ax, pairs, data=combined2, x=\"Stage\", y=\"Pct_HighMT\", hue=\"Stage\", \n",
    "order = order, hue_order = order)\n",
    "\n",
    "annotator.configure(test='Mann-Whitney', text_format='simple', loc='inside', text_offset=1, show_test_name = False)\n",
    "annotator.apply_and_annotate()\n",
    "ax.set(ylim=(0, 1))\n",
    "\n",
    "fig.show()\n",
    "fig.savefig(\"/add/path/here/sclc_stage.pdf\", format=\"pdf\")"
   ]
  }
 ],
 "metadata": {
  "kernelspec": {
   "display_name": "Python 3 (ipykernel)",
   "language": "python",
   "name": "python3"
  },
  "language_info": {
   "codemirror_mode": {
    "name": "ipython",
    "version": 3
   },
   "file_extension": ".py",
   "mimetype": "text/x-python",
   "name": "python",
   "nbconvert_exporter": "python",
   "pygments_lexer": "ipython3",
   "version": "3.10.12"
  }
 },
 "nbformat": 4,
 "nbformat_minor": 5
}
