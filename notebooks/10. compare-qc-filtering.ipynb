{
 "cells": [
  {
   "cell_type": "code",
   "execution_count": null,
   "id": "33dcd786-7255-4861-92a7-c7de0f646bf5",
   "metadata": {},
   "outputs": [],
   "source": [
    "import pandas as pd\n",
    "import numpy as np\n",
    "import scanpy as sc\n",
    "\n",
    "import matplotlib.pyplot as plt\n",
    "import seaborn as sns"
   ]
  },
  {
   "cell_type": "code",
   "execution_count": null,
   "id": "cbd598ec-4a6a-44f1-8179-08a2dcae107d",
   "metadata": {},
   "outputs": [],
   "source": [
    "import pegasus as pg\n",
    "import ddqc"
   ]
  },
  {
   "cell_type": "code",
   "execution_count": null,
   "id": "14662eb5-8011-4ada-9c94-31144edf045a",
   "metadata": {},
   "outputs": [],
   "source": [
    "from statannotations.Annotator import Annotator"
   ]
  },
  {
   "cell_type": "code",
   "execution_count": null,
   "id": "6b1c8179-6865-40f9-b02b-4a8fb69fbc0b",
   "metadata": {},
   "outputs": [],
   "source": [
    "def pretty_ax(ax):\n",
    "    ax.spines['right'].set_visible(False)\n",
    "    ax.spines['top'].set_visible(False)\n",
    "    ax.tick_params(\n",
    "        axis='both',  \n",
    "        which='both',      \n",
    "        bottom=True,     \n",
    "        top=False,\n",
    "        left=False,\n",
    "        labelbottom=True,\n",
    "        labelleft = True)\n",
    "    ax.spines[\"bottom\"].set_linewidth(1.5)\n",
    "    ax.spines[\"left\"].set_linewidth(1.5)"
   ]
  },
  {
   "cell_type": "markdown",
   "id": "b80a26c2-e4e4-471b-b219-f96e42df3668",
   "metadata": {},
   "source": [
    "# Run DDQC"
   ]
  },
  {
   "cell_type": "markdown",
   "id": "e4660376-06a7-4c8b-b960-789ab52e5d7d",
   "metadata": {},
   "source": [
    "Method described here: https://genomebiology.biomedcentral.com/articles/10.1186/s13059-022-02820-w"
   ]
  },
  {
   "cell_type": "code",
   "execution_count": null,
   "id": "b2d0bd8c-a6ed-4537-87a2-16de336d1dca",
   "metadata": {},
   "outputs": [],
   "source": [
    "data1 = pg.read_input(\"/add/path/here/Pancreas_Steele_10X.h5ad\", genome = 'hg38')"
   ]
  },
  {
   "cell_type": "code",
   "execution_count": null,
   "id": "3de655a6-eb8f-41fd-bbbb-dbb9d8a43e94",
   "metadata": {
    "scrolled": true
   },
   "outputs": [],
   "source": [
    "df_qc = ddqc.ddqc_metrics(data1, return_df_qc=True)"
   ]
  },
  {
   "cell_type": "code",
   "execution_count": null,
   "id": "adf369e9-4480-4858-bca4-76adc356d113",
   "metadata": {},
   "outputs": [],
   "source": [
    "pg.filter_data(data1)"
   ]
  },
  {
   "cell_type": "code",
   "execution_count": null,
   "id": "51ca7517-921c-4720-8fd4-46d76e29e6b3",
   "metadata": {},
   "outputs": [],
   "source": [
    "pg.write_output(data1, \"/add/path/here/DDQC_data.h5ad\")"
   ]
  },
  {
   "cell_type": "markdown",
   "id": "78d60b1e-8ed3-4f57-819b-9eccaeaff11b",
   "metadata": {},
   "source": [
    "# Run regular Scanpy filtering"
   ]
  },
  {
   "cell_type": "code",
   "execution_count": null,
   "id": "476c82da-3dd3-477a-a2ff-9152ad19497a",
   "metadata": {},
   "outputs": [],
   "source": [
    "adata = sc.read_h5ad(\"/add/path/here/Pancreas_Steele_10X.h5ad\")"
   ]
  },
  {
   "cell_type": "code",
   "execution_count": null,
   "id": "de890313-ce47-47b1-86f6-1adaa592dda9",
   "metadata": {},
   "outputs": [],
   "source": [
    "adata.var_names_make_unique()"
   ]
  },
  {
   "cell_type": "code",
   "execution_count": null,
   "id": "a28341ad-4aca-4d80-b838-bdde1f0c0d50",
   "metadata": {},
   "outputs": [],
   "source": [
    "# mitochondrial genes, \"MT-\" for human, \"Mt-\" for mouse\n",
    "adata.var[\"mt\"] = adata.var_names.str.startswith(\"MT-\")\n",
    "# ribosomal genes\n",
    "adata.var[\"ribo\"] = adata.var_names.str.startswith((\"RPS\", \"RPL\"))\n",
    "# hemoglobin genes\n",
    "adata.var[\"hb\"] = adata.var_names.str.contains(\"^HB[^(P)]\")"
   ]
  },
  {
   "cell_type": "code",
   "execution_count": null,
   "id": "4233cba0-9a14-4671-b50a-e76bd0d266b4",
   "metadata": {},
   "outputs": [],
   "source": [
    "sc.pp.calculate_qc_metrics(\n",
    "    adata, qc_vars=[\"mt\", \"ribo\", \"hb\"], inplace=True, log1p=True\n",
    ")"
   ]
  },
  {
   "cell_type": "code",
   "execution_count": null,
   "id": "dbe7ba17-34e1-4d95-bf84-04b7eef659c8",
   "metadata": {},
   "outputs": [],
   "source": [
    "sc.pl.violin(\n",
    "    adata,\n",
    "    [\"n_genes_by_counts\", \"total_counts\", \"pct_counts_mt\"],\n",
    "    jitter=0.4,\n",
    "    multi_panel=True,\n",
    ")"
   ]
  },
  {
   "cell_type": "code",
   "execution_count": null,
   "id": "b20b9eea-c33c-438f-9858-f0855d96f72f",
   "metadata": {},
   "outputs": [],
   "source": [
    "sc.pl.scatter(adata, \"total_counts\", \"n_genes_by_counts\", color=\"pct_counts_mt\")"
   ]
  },
  {
   "cell_type": "code",
   "execution_count": null,
   "id": "a70b08ab-c656-4a89-8c4d-6981ae05a16b",
   "metadata": {},
   "outputs": [],
   "source": [
    "sc.pp.filter_cells(adata, min_genes=100)\n",
    "sc.pp.filter_genes(adata, min_cells=3)"
   ]
  },
  {
   "cell_type": "code",
   "execution_count": null,
   "id": "b24529d6-d1f7-4308-8fcc-89eab42ca9d5",
   "metadata": {},
   "outputs": [],
   "source": [
    "adata = adata[adata.obs.pct_counts_mt < 15, :].copy()"
   ]
  },
  {
   "cell_type": "code",
   "execution_count": null,
   "id": "9a1c660d-7f0f-4449-a346-2a6b00d7513f",
   "metadata": {},
   "outputs": [],
   "source": [
    "sc.pp.scrublet(adata, batch_key=\"sample\")"
   ]
  },
  {
   "cell_type": "code",
   "execution_count": null,
   "id": "3bdbdab3-5f3e-408c-9f60-d8a73e47e0ea",
   "metadata": {},
   "outputs": [],
   "source": [
    "adata = adata[~adata.obs.predicted_doublet].copy()"
   ]
  },
  {
   "cell_type": "code",
   "execution_count": null,
   "id": "5e576e27-8282-4226-b87c-69a8848e5815",
   "metadata": {},
   "outputs": [],
   "source": [
    "adata.write_h5ad(\"/add/path/here/Scanpy_data.h5ad\")"
   ]
  },
  {
   "cell_type": "markdown",
   "id": "6598df69-c270-4983-a5da-3b9ca2b8ad44",
   "metadata": {},
   "source": [
    "# Compare filtering"
   ]
  },
  {
   "cell_type": "markdown",
   "id": "dd4f1ec5-4b0a-49d6-8c34-5f940ca59aa9",
   "metadata": {},
   "source": [
    "## Download signatures"
   ]
  },
  {
   "cell_type": "code",
   "execution_count": null,
   "id": "ba8d4fa0-ef77-430d-942d-fdfca8a2b498",
   "metadata": {},
   "outputs": [],
   "source": [
    "kegg = {}\n",
    "with open(\"/add/path/here/KEGG_2021_Human.txt\", \"r\") as f:\n",
    "    lines = f.readlines()\n",
    "    for line in lines:\n",
    "        vals = line.split(\"\\t\")\n",
    "        kegg[vals[0]] = vals[2:-1]"
   ]
  },
  {
   "cell_type": "code",
   "execution_count": null,
   "id": "37d53d73-9c62-4751-8585-7e15b3bc4b81",
   "metadata": {},
   "outputs": [],
   "source": [
    "state_sig_df = pd.read_csv(\"/add/path/here/auxiliary_data/PDAC_states_markers.txt\",sep=\"\\t\")\n",
    "\n",
    "state_sigs = {}\n",
    "for state in state_sig_df[\"cluster\"].unique():\n",
    "    state_sigs[state] = state_sig_df[state_sig_df[\"cluster\"]==state].gene.to_numpy()"
   ]
  },
  {
   "cell_type": "markdown",
   "id": "1f76647c-8209-43f4-84de-ae5002ca1400",
   "metadata": {},
   "source": [
    "## Compute "
   ]
  },
  {
   "cell_type": "code",
   "execution_count": null,
   "id": "cace8270-0b41-410b-835b-c8f31cb106eb",
   "metadata": {},
   "outputs": [],
   "source": [
    "def normalize_adatas(adata):\n",
    "    adata.layers[\"counts\"] = adata.X.copy()\n",
    "    sc.pp.normalize_total(adata, target_sum=10000)\n",
    "    sc.pp.log1p(adata)"
   ]
  },
  {
   "cell_type": "code",
   "execution_count": null,
   "id": "24472958-3a1f-48e9-9b1b-971526c5bb86",
   "metadata": {},
   "outputs": [],
   "source": [
    "def score_xenobiotic_metabolism(adata):\n",
    "    sc.tl.score_genes(adata, gene_list=adata.var_names[adata.var_names.str.startswith(\"CYP\")], \n",
    "                      score_name=\"CYP genes\")\n",
    "    sc.tl.score_genes(adata, gene_list=adata.var_names[adata.var_names.str.startswith((\"UGT\",\"B3GAT\"))],\n",
    "                      score_name=\"UGT genes\")\n",
    "    sc.tl.score_genes(adata, gene_list=adata.var_names[adata.var_names.str.startswith(\"GST\")], \n",
    "                      score_name=\"GST genes\")\n",
    "    sc.tl.score_genes(adata, gene_list=kegg['ABC transporters'], \n",
    "                      score_name=\"ABC transporters\")"
   ]
  },
  {
   "cell_type": "code",
   "execution_count": null,
   "id": "bf4d0b99-9995-42a4-b30c-49ce7bfb26cb",
   "metadata": {},
   "outputs": [],
   "source": [
    "def score_states(adata, state_sigs):\n",
    "    for state in state_sigs:\n",
    "        sc.tl.score_genes(adata, gene_list=state_sigs[state], \n",
    "                          score_name=state)\n"
   ]
  },
  {
   "cell_type": "code",
   "execution_count": null,
   "id": "1c782650-736d-48bc-97cd-b202d261fc0b",
   "metadata": {},
   "outputs": [],
   "source": [
    "adata_ours = sc.read_h5ad(\"/add/path/here/Ours_adata.h5ad\")\n",
    "adata_scanpy = sc.read_h5ad(\"/add/path/here/Scanpy_data.h5ad\")\n",
    "adata_DDQC = sc.read_h5ad(\"/add/path/here/DDQC_data.h5ad\")"
   ]
  },
  {
   "cell_type": "code",
   "execution_count": null,
   "id": "0b60d489-3523-4b42-8652-bf2d8ad9ea3e",
   "metadata": {},
   "outputs": [],
   "source": [
    "adata_ours.var_names_make_unique()\n",
    "adata_scanpy.var_names_make_unique()\n",
    "adata_DDQC.var_names_make_unique()"
   ]
  },
  {
   "cell_type": "code",
   "execution_count": null,
   "id": "793b7256-8b44-4900-8179-dec24b9d53e3",
   "metadata": {},
   "outputs": [],
   "source": [
    "adata_ours.X = adata_ours.layers[\"counts\"].copy()"
   ]
  },
  {
   "cell_type": "code",
   "execution_count": null,
   "id": "afbc9234-940e-42e1-b39a-74e89de8e8b5",
   "metadata": {},
   "outputs": [],
   "source": [
    "list_idx = np.array(adata_ours.obs_names.str.split(\"-\").str[:2])\n",
    "list_idx = [\"-\".join(list_idx[i]) for i in range(len(list_idx))]\n",
    "\n",
    "adata_ours.obs_names = list_idx"
   ]
  },
  {
   "cell_type": "code",
   "execution_count": null,
   "id": "951d451a-ec9f-48ff-bd31-6ce6f3642ccb",
   "metadata": {},
   "outputs": [],
   "source": [
    "normalize_adatas(adata_ours)\n",
    "normalize_adatas(adata_scanpy)\n",
    "normalize_adatas(adata_DDQC)"
   ]
  },
  {
   "cell_type": "code",
   "execution_count": null,
   "id": "04660d72-a310-4fc7-996a-2e621a3a2859",
   "metadata": {},
   "outputs": [],
   "source": []
  },
  {
   "cell_type": "code",
   "execution_count": null,
   "id": "0d2c64a3-8bc5-43a5-9dd9-9c963526c730",
   "metadata": {},
   "outputs": [],
   "source": []
  },
  {
   "cell_type": "code",
   "execution_count": null,
   "id": "7018dd67-4a6c-4fc0-9bda-fe8851c3cb05",
   "metadata": {},
   "outputs": [],
   "source": [
    "score_xenobiotic_metabolism(adata_ours)\n",
    "score_xenobiotic_metabolism(adata_scanpy)\n",
    "score_xenobiotic_metabolism(adata_DDQC)"
   ]
  },
  {
   "cell_type": "code",
   "execution_count": null,
   "id": "264407c5-2cdc-462f-9cd0-bbc530954169",
   "metadata": {},
   "outputs": [],
   "source": [
    "df1 = adata_ours.obs.loc[adata_ours.obs.cell_type==\"Malignant\",[\"CYP genes\",\"UGT genes\",\"GST genes\",\"ABC transporters\"]]\n",
    "df1[\"Filtering\"] = \"Ours\"\n",
    "\n",
    "df2 = adata_scanpy.obs.loc[adata_scanpy.obs.cell_type==\"Malignant\",[\"CYP genes\",\"UGT genes\",\"GST genes\",\"ABC transporters\"]]\n",
    "df2[\"Filtering\"] = \"Thresholds\"\n",
    "\n",
    "df3 = adata_DDQC.obs.loc[adata_DDQC.obs.cell_type==\"Malignant\",[\"CYP genes\",\"UGT genes\",\"GST genes\",\"ABC transporters\"]]\n",
    "df3[\"Filtering\"] = \"DDQC\"\n",
    "\n",
    "CYP_comparison = pd.concat([df1,df2,df3])\n",
    "CYP_comparison = CYP_comparison.dropna()"
   ]
  },
  {
   "cell_type": "code",
   "execution_count": null,
   "id": "3ba961dd-45da-4150-9421-cedda4a11181",
   "metadata": {},
   "outputs": [],
   "source": [
    "pairs = [(\"Ours\",\"Thresholds\"),(\"Ours\",\"DDQC\"),(\"Thresholds\",\"DDQC\")]\n",
    "list_show = [\"UGT genes\", \"ABC transporters\"]\n",
    "\n",
    "fig, ax = plt.subplots(1,2,figsize=(4,3))\n",
    "flatax = ax.flatten()\n",
    "\n",
    "for i,ax in enumerate(flatax):\n",
    "    sns.boxplot(data=CYP_comparison, x=\"Filtering\", y=list_show[i], ax= ax)\n",
    "    pretty_ax(ax)\n",
    "    ax.set_xticks(ax.get_xticks(), ax.get_xticklabels(), rotation=45, ha=\"right\")\n",
    "    ax.set_xlabel(\"\")\n",
    "    annot = Annotator(\n",
    "        ax,\n",
    "        pairs=pairs,\n",
    "        data=CYP_comparison, x=\"Filtering\", y=list_show[i],\n",
    "    )\n",
    "    annot.configure(\n",
    "        test=\"Mann-Whitney\",\n",
    "        loc=\"inside\",\n",
    "        text_format=\"star\",\n",
    "        show_test_name=False,\n",
    "        verbose=2,\n",
    "        comparisons_correction=None,\n",
    "        fontsize=10,\n",
    "    )\n",
    "    annot.apply_test()\n",
    "    _, test_results = annot.annotate()\n",
    "fig.tight_layout()"
   ]
  },
  {
   "cell_type": "code",
   "execution_count": null,
   "id": "597ef82f-fd37-4c70-bb14-40f21ffcfb73",
   "metadata": {},
   "outputs": [],
   "source": []
  },
  {
   "cell_type": "code",
   "execution_count": null,
   "id": "a9845d7b-fb5b-4990-bca4-ed8b430b4895",
   "metadata": {
    "scrolled": true
   },
   "outputs": [],
   "source": [
    "score_states(adata_ours, state_sigs)\n",
    "score_states(adata_scanpy, state_sigs)\n",
    "score_states(adata_DDQC, state_sigs)"
   ]
  },
  {
   "cell_type": "code",
   "execution_count": null,
   "id": "753cf8d5-bd82-4d2b-bbcc-9c7676d72a39",
   "metadata": {},
   "outputs": [],
   "source": [
    "list_states = list(state_sigs.keys())"
   ]
  },
  {
   "cell_type": "code",
   "execution_count": null,
   "id": "a5c2c750-4405-459f-b85a-2f26c027f595",
   "metadata": {},
   "outputs": [],
   "source": [
    "df1 = adata_ours.obs.loc[adata_ours.obs.cell_type==\"Malignant\",list_states]\n",
    "df1[\"Filtering\"] = \"Ours\"\n",
    "\n",
    "df2 = adata_scanpy.obs.loc[adata_scanpy.obs.cell_type==\"Malignant\",list_states]\n",
    "df2[\"Filtering\"] = \"Thresholds\"\n",
    "\n",
    "df3 = adata_DDQC.obs.loc[adata_DDQC.obs.cell_type==\"Malignant\",list_states]\n",
    "df3[\"Filtering\"] = \"DDQC\"\n",
    "\n",
    "state_comparison = pd.concat([df1,df2,df3])\n",
    "state_comparison = state_comparison.dropna()"
   ]
  },
  {
   "cell_type": "code",
   "execution_count": null,
   "id": "bfef5e84-1ddd-42af-b482-11e826488e0f",
   "metadata": {},
   "outputs": [],
   "source": [
    "pairs = [(\"Ours\",\"Thresholds\"),(\"Ours\",\"DDQC\"),(\"Thresholds\",\"DDQC\")]\n",
    "sublist = [\"Ductal cell TFF1\", \"Ductal cell MALAT1\"]\n",
    "\n",
    "fig, ax = plt.subplots(1,2,figsize=(4,3))\n",
    "flatax = ax.flatten()\n",
    "\n",
    "for i,ax in enumerate(flatax):\n",
    "    sns.boxplot(data=state_comparison, x=\"Filtering\", y=sublist[i], ax= ax)\n",
    "    pretty_ax(ax)\n",
    "    ax.set_xticks(ax.get_xticks(), ax.get_xticklabels(), rotation=45, ha=\"right\")\n",
    "    ax.set_xlabel(\"\")\n",
    "    annot = Annotator(\n",
    "        ax,\n",
    "        pairs=pairs,\n",
    "        data=state_comparison, x=\"Filtering\", y=sublist[i],\n",
    "    )\n",
    "    annot.configure(\n",
    "        test=\"Mann-Whitney\",\n",
    "        loc=\"inside\",\n",
    "        text_format=\"star\",\n",
    "        show_test_name=False,\n",
    "        verbose=2,\n",
    "        comparisons_correction=None,\n",
    "        fontsize=10,\n",
    "    )\n",
    "    annot.apply_test()\n",
    "    _, test_results = annot.annotate()\n",
    "fig.tight_layout()"
   ]
  },
  {
   "cell_type": "code",
   "execution_count": null,
   "id": "e542cbc0-2510-4333-a191-7a06d2fb4371",
   "metadata": {},
   "outputs": [],
   "source": []
  }
 ],
 "metadata": {
  "kernelspec": {
   "display_name": "Python 3 (ipykernel)",
   "language": "python",
   "name": "python3"
  },
  "language_info": {
   "codemirror_mode": {
    "name": "ipython",
    "version": 3
   },
   "file_extension": ".py",
   "mimetype": "text/x-python",
   "name": "python",
   "nbconvert_exporter": "python",
   "pygments_lexer": "ipython3",
   "version": "3.10.0"
  }
 },
 "nbformat": 4,
 "nbformat_minor": 5
}
