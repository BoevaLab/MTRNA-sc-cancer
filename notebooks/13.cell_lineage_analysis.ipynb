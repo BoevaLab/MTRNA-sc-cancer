{
 "cells": [
  {
   "cell_type": "raw",
   "id": "df1989b0-ae9b-4c32-9343-f3a49af50863",
   "metadata": {},
   "source": [
    "import scanpy as sc\n",
    "import pandas as pd\n",
    "import re\n",
    "import numpy as np\n",
    "import anndata as ad\n",
    "from scipy.sparse import csr_matrix\n",
    "from statannotations.Annotator import Annotator\n",
    "import seaborn as sns\n",
    "import matplotlib.pyplot as plt"
   ]
  },
  {
   "cell_type": "markdown",
   "id": "c503ef17-d972-484a-b2fa-7987f2a1e375",
   "metadata": {},
   "source": [
    "# Kuramochi GSE223003"
   ]
  },
  {
   "cell_type": "code",
   "execution_count": 1,
   "id": "6aa4f230-93c7-43dc-8bfc-fcba5d30eb4e",
   "metadata": {},
   "outputs": [],
   "source": [
    "path = \"/add/path/here/GSE223003_lineage/\"\n",
    "\n",
    "carbo1_pre_info =pd.read_csv(path+ \"GSM6938163_ReSisTrace_Carboplatin_1_pre_treatment_cell_info.tsv.gz\", sep='\\t', index_col = 0)\n",
    "carbo1_pre_umi = pd.read_csv(path+ \"GSM6938163_ReSisTrace_Carboplatin_1_pre_treatment_UMIcounts.tsv.gz\", sep='\\t', index_col = 0)\n",
    "carbo1_post_info = pd.read_csv(path+ \"GSM6938164_ReSisTrace_Carboplatin_1_post_treatment_cell_info.tsv.gz\", sep='\\t', index_col = 0)\n",
    "carbo1_post_umi = pd.read_csv(path+ \"GSM6938164_ReSisTrace_Carboplatin_1_post_treatment_UMIcounts.tsv.gz\", sep='\\t', index_col=0)\n",
    "\n",
    "carbo2_pre_info =pd.read_csv(path+ \"GSM6938165_ReSisTrace_Carboplatin_2_pre_treatment_cell_info.tsv.gz\", sep='\\t', index_col = 0)\n",
    "carbo2_pre_umi = pd.read_csv(path+ \"GSM6938165_ReSisTrace_Carboplatin_2_pre_treatment_UMIcounts.tsv.gz\", sep='\\t', index_col=0)\n",
    "carbo2_post_info = pd.read_csv(path+ \"GSM6938166_ReSisTrace_Carboplatin_2_post_treatment_cell_info.tsv.gz\", sep='\\t', index_col = 0)\n",
    "carbo2_post_umi = pd.read_csv(path+ \"GSM6938166_ReSisTrace_Carboplatin_2_post_treatment_UMIcounts.tsv.gz\", sep='\\t', index_col=0)\n",
    "\n",
    "ola1_pre_info = pd.read_csv(path+\"GSM6938167_ReSisTrace_Olaparib_1_pre_treatment_cell_info.tsv.gz\", sep='\\t', index_col = 0)\n",
    "ola1_pre_umi = pd.read_csv(path+\"GSM6938167_ReSisTrace_Olaparib_1_pre_treatment_UMIcounts.tsv.gz\", sep='\\t', index_col=0)\n",
    "ola1_post_info = pd.read_csv(path+\"GSM6938168_ReSisTrace_Olaparib_1_post_treatment_cell_info.tsv.gz\", sep='\\t', index_col = 0)\n",
    "ola1_post_umi = pd.read_csv(path+\"GSM6938168_ReSisTrace_Olaparib_1_post_treatment_UMIcounts.tsv.gz\", sep='\\t', index_col=0)\n",
    "ola2_pre_info = pd.read_csv(path+\"GSM6938169_ReSisTrace_Olaparib_2_pre_treatment_cell_info.tsv.gz\", sep='\\t', index_col = 0)\n",
    "ola2_pre_umi = pd.read_csv(path+\"GSM6938169_ReSisTrace_Olaparib_2_pre_treatment_UMIcounts.tsv.gz\", sep='\\t', index_col=0)\n",
    "ola2_post_info = pd.read_csv(path+\"GSM6938170_ReSisTrace_Olaparib_2_post_treatment_cell_info.tsv.gz\", sep='\\t', index_col = 0)\n",
    "ola2_post_umi = pd.read_csv(path+\"GSM6938170_ReSisTrace_Olaparib_2_post_treatment_UMIcounts.tsv.gz\", sep='\\t', index_col=0)"
   ]
  },
  {
   "cell_type": "markdown",
   "id": "7605a42f-a891-4258-8bd6-6dbb6c21d29c",
   "metadata": {},
   "source": [
    "Find MTRNA genes"
   ]
  },
  {
   "cell_type": "code",
   "execution_count": null,
   "id": "0dfb5ba9-2a97-416e-a504-42de5d20747a",
   "metadata": {},
   "outputs": [],
   "source": [
    "mtgenes = [\"ENSG00000210049.1\",\"ENSG00000211459.2\",\"ENSG00000210077.1\",\"ENSG00000210082.2\",\"ENSG00000209082.1\",\"ENSG00000198888.2\",\"ENSG00000210100.1\",\"ENSG00000210107.1\",\"ENSG00000210112.1\",\"ENSG00000198763.3\",\"ENSG00000210117.1\",\"ENSG00000210127.1\",\"ENSG00000210135.1\",\"ENSG00000210140.1\",\"ENSG00000210144.1\",\"ENSG00000198804.2\",\"ENSG00000210151.2\",\"ENSG00000210154.1\",\"ENSG00000198712.1\",\"ENSG00000210156.1\",\"ENSG00000228253.1\",\"ENSG00000198899.2\",\"ENSG00000198938.2\",\"ENSG00000210164.1\",\"ENSG00000198840.2\",\"ENSG00000210174.1\",\"ENSG00000212907.2\",\"ENSG00000198886.2\",\"ENSG00000210176.1\",\"ENSG00000210184.1\",\"ENSG00000210191.1\",\"ENSG00000198786.2\",\"ENSG00000198695.2\",\"ENSG00000210194.1\",\"ENSG00000198727.2\",\"ENSG00000210195.2\",\"ENSG00000210196.2\"]"
   ]
  },
  {
   "cell_type": "markdown",
   "id": "0580d113-08e3-42ab-85af-c533f2cea9e1",
   "metadata": {},
   "source": [
    "Carboplatin pre-treatment"
   ]
  },
  {
   "cell_type": "code",
   "execution_count": null,
   "id": "388afc7e-5731-4b05-8777-bcb95c3dffe8",
   "metadata": {},
   "outputs": [],
   "source": [
    "carbo1_pre_pctMT = carbo1_pre_umi.loc[mtgenes,:].sum(axis=0) / carbo1_pre_umi.sum(axis=0)*100\n",
    "carbo1_pre_pctMT.name = \"pctMT\"\n",
    "carbo1_pre = pd.concat([carbo1_pre_pctMT, carbo1_pre_info.loc[carbo1_pre_umi.columns,\"drugSens\"]], axis=1)\n",
    "\n",
    "carbo2_pre_pctMT = carbo2_pre_umi.loc[mtgenes,:].sum(axis=0) / carbo2_pre_umi.sum(axis=0)*100\n",
    "carbo2_pre_pctMT.name = \"pctMT\"\n",
    "carbo2_pre = pd.concat([carbo2_pre_pctMT, carbo2_pre_info.loc[carbo2_pre_umi.columns,\"drugSens\"]], axis=1)"
   ]
  },
  {
   "cell_type": "markdown",
   "id": "1c931f58-2b40-4b4d-a403-fcd9193a812f",
   "metadata": {},
   "source": [
    "Carboplatin post-treatment"
   ]
  },
  {
   "cell_type": "code",
   "execution_count": null,
   "id": "8994456e-34a5-491c-ad29-2aeca90944b9",
   "metadata": {
    "scrolled": true
   },
   "outputs": [],
   "source": [
    "carbo1_post_pctMT = carbo1_post_umi.loc[mtgenes,:].sum(axis=0) / carbo1_post_umi.sum(axis=0)*100\n",
    "carbo1_post_pctMT.name = \"pctMT\"\n",
    "carbo1_post = pd.concat([carbo1_post_pctMT, carbo1_post_info.loc[carbo1_post_umi.columns,\"drugSens\"]], axis=1)\n",
    "\n",
    "carbo2_post_pctMT = carbo2_post_umi.loc[mtgenes,:].sum(axis=0) / carbo2_post_umi.sum(axis=0)*100\n",
    "carbo2_post_pctMT.name = \"pctMT\"\n",
    "carbo2_post = pd.concat([carbo2_post_pctMT, carbo2_post_info.loc[carbo2_post_umi.columns,\"drugSens\"]], axis=1)"
   ]
  },
  {
   "cell_type": "markdown",
   "id": "d273c87b-4abe-4dc4-a318-a19770e16102",
   "metadata": {},
   "source": [
    "Merge replicates"
   ]
  },
  {
   "cell_type": "code",
   "execution_count": null,
   "id": "a887be5c-7fef-48ac-bde9-89622cf8c26e",
   "metadata": {},
   "outputs": [],
   "source": [
    "carbo1_pre[\"status\"] = \"pre-treatment\"\n",
    "carbo1_post[\"status\"] = \"post-treatment\"\n",
    "\n",
    "carbo1 = pd.concat([carbo1_pre, carbo1_post], axis=0)\n",
    "carbo1 = carbo1[carbo1.drugSens!=\"non\"]\n",
    "carbo1 = carbo1.dropna()\n",
    "\n",
    "carbo2_pre[\"status\"] = \"pre-treatment\"\n",
    "carbo2_post[\"status\"] = \"post-treatment\"\n",
    "\n",
    "carbo2 = pd.concat([carbo2_pre, carbo2_post], axis=0)\n",
    "carbo2 = carbo2[carbo2.drugSens!=\"non\"]\n",
    "carbo2 = carbo2.dropna()\n",
    "\n",
    "carbo = pd.concat([carbo1, carbo2], axis=0)"
   ]
  },
  {
   "cell_type": "code",
   "execution_count": null,
   "id": "577e2aa7-a126-41ae-90d0-676ca40b418b",
   "metadata": {},
   "outputs": [],
   "source": [
    "pairs = [(\"pre-sensitive\", \"pre-resistant\"), (\"pre-resistant\", \"resistant\")]\n",
    "\n",
    "fig, ax = plt.subplots(1,1,figsize=(5,5))\n",
    "\n",
    "ax = sns.violinplot(data=carbo, x=\"drugSens\", y=\"pctMT\", dodge=True,\n",
    "order = [\"pre-sensitive\", \"pre-resistant\", \"resistant\"])\n",
    "plt.axhline(y=carbo[carbo.drugSens == \"pre-sensitive\"].pctMT.median(), color='k', linestyle='--', linewidth=1.5)\n",
    "                                        \n",
    "annotator = Annotator(ax, pairs, data=carbo, x=\"drugSens\", y=\"pctMT\", \n",
    "                    order=[\"pre-sensitive\", \"pre-resistant\", \"resistant\"])\n",
    "\n",
    "annotator.configure(test='Mann-Whitney', text_format='star', text_offset=1, show_test_name=False)\n",
    "annotator.apply_and_annotate()\n",
    "\n",
    "fig.show()\n",
    "fig.savefig(path  + \"carboplatin.pdf\", format=\"pdf\")\n"
   ]
  },
  {
   "cell_type": "markdown",
   "id": "cee00c78-0ea4-49f7-8e37-166cfeaf84c6",
   "metadata": {},
   "source": [
    "Olaparib pre-treatment"
   ]
  },
  {
   "cell_type": "code",
   "execution_count": null,
   "id": "7a6d7ff6-4915-4c8d-9b66-d829fc0f835d",
   "metadata": {},
   "outputs": [],
   "source": [
    "ola1_pre_pctMT = ola1_pre_umi.loc[mtgenes,:].sum(axis=0) / ola1_pre_umi.sum(axis=0)*100\n",
    "ola1_pre_pctMT.name = \"pctMT\"\n",
    "ola1_pre = pd.concat([ola1_pre_pctMT, ola1_pre_info.loc[ola1_pre_umi.columns,\"drugSens\"]], axis=1)\n",
    "\n",
    "ola2_pre_pctMT = ola2_pre_umi.loc[mtgenes,:].sum(axis=0) / ola2_pre_umi.sum(axis=0)*100\n",
    "ola2_pre_pctMT.name = \"pctMT\"\n",
    "ola2_pre = pd.concat([ola2_pre_pctMT, ola2_pre_info.loc[ola2_pre_umi.columns,\"drugSens\"]], axis=1)"
   ]
  },
  {
   "cell_type": "markdown",
   "id": "44d6a57c-ac8e-4d13-b404-595bd07f82a1",
   "metadata": {},
   "source": [
    "Olaparib post-treatment"
   ]
  },
  {
   "cell_type": "code",
   "execution_count": null,
   "id": "717d43dc-21b4-4238-8fe6-80b317f717e8",
   "metadata": {},
   "outputs": [],
   "source": [
    "ola1_post_pctMT = ola1_post_umi.loc[mtgenes,:].sum(axis=0) / ola1_post_umi.sum(axis=0)*100\n",
    "ola1_post_pctMT.name = \"pctMT\"\n",
    "ola1_post = pd.concat([ola1_post_pctMT, ola1_post_info.loc[ola1_post_umi.columns,\"drugSens\"]], axis=1)\n",
    "\n",
    "ola2_post_pctMT = ola2_post_umi.loc[mtgenes,:].sum(axis=0) / ola2_post_umi.sum(axis=0)*100\n",
    "ola2_post_pctMT.name = \"pctMT\"\n",
    "ola2_post = pd.concat([ola2_post_pctMT, ola2_post_info.loc[ola2_post_umi.columns,\"drugSens\"]], axis=1)"
   ]
  },
  {
   "cell_type": "markdown",
   "id": "2a35e33b-175d-451a-81aa-20329547f307",
   "metadata": {},
   "source": [
    "Merge replicates"
   ]
  },
  {
   "cell_type": "code",
   "execution_count": null,
   "id": "f4174b51-49c6-4379-86d9-17622fd20a87",
   "metadata": {},
   "outputs": [],
   "source": [
    "ola1_pre[\"status\"] = \"pre-treatment\"\n",
    "ola1_post[\"status\"] = \"post-treatment\"\n",
    "\n",
    "ola2_pre[\"status\"] = \"pre-treatment\"\n",
    "ola2_post[\"status\"] = \"post-treatment\"\n",
    "\n",
    "\n",
    "ola1 = pd.concat([ola1_pre, ola1_post], axis=0)\n",
    "ola1 = ola1[ola1.drugSens!=\"non\"]\n",
    "ola1 = ola1.dropna()\n",
    "\n",
    "ola2 = pd.concat([ola2_pre, ola2_post], axis=0)\n",
    "ola2 = ola2[ola2.drugSens!=\"non\"]\n",
    "ola2 = ola2.dropna()\n",
    "\n",
    "olaparib = pd.concat([ola1, ola2], axis=0)"
   ]
  },
  {
   "cell_type": "code",
   "execution_count": null,
   "id": "4f022b5f-3f8f-43a2-98bc-01d77ed05bf2",
   "metadata": {},
   "outputs": [],
   "source": [
    "fig, ax = plt.subplots(1,1,figsize=(5,5))\n",
    "plt.axhline(y=olaparib[olaparib.drugSens == \"pre-sensitive\"].pctMT.median(), color='k', linestyle='--', linewidth=1.5)\n",
    "\n",
    "ax = sns.violinplot(data=olaparib, x=\"drugSens\", y=\"pctMT\", dodge=True,\n",
    "order = [\"pre-sensitive\", \"pre-resistant\", \"resistant\"])\n",
    "                                          \n",
    "annotator = Annotator(ax, pairs, data=olaparib, x=\"drugSens\", y=\"pctMT\", \n",
    "order=[\"pre-sensitive\", \"pre-resistant\", \"resistant\"])\n",
    "\n",
    "annotator.configure(test='Mann-Whitney', text_format='star', text_offset=1, show_test_name=False)\n",
    "annotator.apply_and_annotate()\n",
    "\n",
    "fig.show()\n",
    "fig.savefig(path  + \"olaparib.pdf\", format=\"pdf\")\n"
   ]
  },
  {
   "cell_type": "markdown",
   "id": "1d6987e5-ac2a-4270-b064-4496895a6b81",
   "metadata": {},
   "source": [
    "# MDAMB468 GSE228382"
   ]
  },
  {
   "cell_type": "code",
   "execution_count": null,
   "id": "17f0a958-f50e-41bd-8f66-a94649be6553",
   "metadata": {},
   "outputs": [],
   "source": [
    "path = \"/add/path/here/GSE228382_lineage/\"\n",
    "\n",
    "metadata = pd.read_csv(path + \"Afa.TS.Seurat_metadata.txt\", sep='\\t', index_col = 0)\n",
    "\n",
    "mtx = sc.read_mtx(path + \"GSE228154_TS_matrix.mtx\")\n",
    "mtx = mtx.T\n",
    "\n",
    "obs = pd.read_csv(path + \"GSE228154_TS_barcodes.tsv\", header=None)\n",
    "obs.columns = [\"cell_name\"]\n",
    "mtx.obs = obs\n",
    "\n",
    "var = pd.read_csv(path + \"GSE228154_TS_features.tsv\", header=None, sep=' ')\n",
    "var.columns = [\"GeneID\", \"GeneName\", \"Type\"]\n",
    "\n",
    "mtx.var.index = var.GeneID\n",
    "mtx.obs_names"
   ]
  },
  {
   "cell_type": "markdown",
   "id": "ac377bf1-8958-433f-96c6-241e80882851",
   "metadata": {},
   "source": [
    "Calculate pctMT"
   ]
  },
  {
   "cell_type": "code",
   "execution_count": null,
   "id": "0e575a70-71f1-4ca9-b8de-55dd7b93817f",
   "metadata": {},
   "outputs": [],
   "source": [
    "allG =  var.dropna()\n",
    "mtgenes = [s for s in allG.GeneName.tolist() if s.startswith(\"MT-\")]\n",
    "mtgenes_id = allG[allG.GeneName.isin(mtgenes)].GeneID.tolist()\n",
    "\n",
    "pctMT = mtx[:,mtx.var_names.isin(mtgenes_id)].X.sum(axis=1) / mtx.X.sum(axis=1)*100\n",
    "mtx.obs[\"pctMT\"] = pctMT.A1"
   ]
  },
  {
   "cell_type": "markdown",
   "id": "19da8bee-fd08-4f64-9575-17e4af7646c2",
   "metadata": {},
   "source": [
    "Select sensitive and tolerant clones"
   ]
  },
  {
   "cell_type": "code",
   "execution_count": null,
   "id": "6a5044cc-d544-4e90-b9d8-2e276d0011d2",
   "metadata": {},
   "outputs": [],
   "source": [
    "mtx.obs.index = mtx.obs.cell_name\n",
    "\n",
    "table3 = pd.read_csv(path + \"Table_S3.txt\", sep='\\t', index_col=0)\n",
    "\n",
    "tolerant = table3[table3[\"Afatinib  response  group\"]==\"Tolerant\"].index.tolist()\n",
    "sensitive = table3[table3[\"Afatinib  response  group\"]==\"Sensitive\"].index.tolist()\n",
    "\n",
    "status = [\"tolerant\" if x in tolerant else \"sensitive\" for x in metadata.linageBC]\n",
    "metadata[\"status\"] = status\n",
    "\n",
    "mtx.obs = pd.concat([mtx.obs, metadata], axis=1)"
   ]
  },
  {
   "cell_type": "markdown",
   "id": "60b7c721-b261-4fa9-9c05-406cd76b6b97",
   "metadata": {},
   "source": [
    "Use treatment-naive cells (ctrl)"
   ]
  },
  {
   "cell_type": "code",
   "execution_count": null,
   "id": "be02ccd1-8444-491d-a245-ed1dea753f07",
   "metadata": {},
   "outputs": [],
   "source": [
    "ctrl = mtx[mtx.obs.condition == \"CTRL\"]"
   ]
  },
  {
   "cell_type": "markdown",
   "id": "f7870f06-e586-43f9-94a9-a960aa74550d",
   "metadata": {},
   "source": [
    "Compare pctMT between sensitive, tolerant and the two top tolerant clones, described in the original paper"
   ]
  },
  {
   "cell_type": "code",
   "execution_count": null,
   "id": "5147b0f9-a874-4b01-ba02-97f793c45113",
   "metadata": {},
   "outputs": [],
   "source": [
    "tol_clones = [\"bc14-013:bc30-092942\", \"bc14-065:bc30-046216\"]\n",
    "ctrl.obs.loc[ctrl.obs.linageBC.isin(tol_clones),\"status\"] = \"top_tolerant\""
   ]
  },
  {
   "cell_type": "code",
   "execution_count": null,
   "id": "329e709f-b53d-4bed-903f-c52b1b953512",
   "metadata": {},
   "outputs": [],
   "source": [
    "fig, ax = plt.subplots(1,1,figsize=(5,5))\n",
    "ax = sns.violinplot(data=ctrl.obs, x=\"status\", y=\"pctMT\", dodge=True)\n",
    "pairs = [(\"sensitive\", \"tolerant\"), (\"sensitive\", \"top_tolerant\")]\n",
    "annotator = Annotator(ax, pairs, data=ctrl.obs, x=\"status\", y=\"pctMT\", \n",
    "order = [\"sensitive\", \"tolerant\", \"top_tolerant\"])\n",
    "\n",
    "annotator.configure(test='Mann-Whitney', text_format='star', text_offset=1, show_test_name=False)\n",
    "annotator.apply_and_annotate()\n",
    "plt.axhline(y=ctrl.obs[ctrl.obs.status == \"sensitive\"].pctMT.median(), color='k', linestyle='--', linewidth=1.5)\n",
    "\n",
    "fig.show()\n",
    "fig.savefig(path  + \"afatinib.pdf\", format=\"pdf\")"
   ]
  }
 ],
 "metadata": {
  "kernelspec": {
   "display_name": "Python 3 (ipykernel)",
   "language": "python",
   "name": "python3"
  },
  "language_info": {
   "codemirror_mode": {
    "name": "ipython",
    "version": 3
   },
   "file_extension": ".py",
   "mimetype": "text/x-python",
   "name": "python",
   "nbconvert_exporter": "python",
   "pygments_lexer": "ipython3",
   "version": "3.10.12"
  }
 },
 "nbformat": 4,
 "nbformat_minor": 5
}
