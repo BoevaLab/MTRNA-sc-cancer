{
 "cells": [
  {
   "cell_type": "code",
   "execution_count": null,
   "id": "1774237c-3aa5-4feb-845c-3120787b0d8c",
   "metadata": {},
   "outputs": [],
   "source": [
    "import pandas as pd\n",
    "import numpy as np\n",
    "import scanpy as sc\n",
    "\n",
    "import matplotlib.pyplot as plt\n",
    "import seaborn as sns\n",
    "\n",
    "from statannotations.Annotator import Annotator"
   ]
  },
  {
   "cell_type": "code",
   "execution_count": null,
   "id": "b2cb8dc1",
   "metadata": {},
   "outputs": [],
   "source": [
    "def pretty_ax(ax):\n",
    "    ax.spines['right'].set_visible(False)\n",
    "    ax.spines['top'].set_visible(False)\n",
    "    ax.tick_params(\n",
    "        axis='both',  \n",
    "        which='both',      \n",
    "        bottom=True,     \n",
    "        top=False,\n",
    "        left=False,\n",
    "        labelbottom=True,\n",
    "        labelleft = True)\n",
    "    ax.spines[\"bottom\"].set_linewidth(1.5)\n",
    "    ax.spines[\"left\"].set_linewidth(1.5)"
   ]
  },
  {
   "cell_type": "code",
   "execution_count": null,
   "id": "db9d2468",
   "metadata": {},
   "outputs": [],
   "source": [
    "core_genes_stress = pd.read_csv(\"/add/path/here/auxiliary_data/coregene_df-FALSE-v3.csv\")\n",
    "\n",
    "list_core_genes = core_genes_stress[core_genes_stress[\"logFC\"]>0].gene_symbol.ravel()\n",
    "\n",
    "red_core_genes = core_genes_stress.head(40).gene_symbol.ravel()\n",
    "\n",
    "dissociation_genes = pd.read_csv(\"/add/path/here/auxiliary_data/dissociation_genes-vanDenBrink2017.csv\",header=None).astype(str)\n",
    "dissociation_genes = dissociation_genes[0].str.upper().ravel()\n",
    "\n",
    "dissociation_genes_machado = pd.read_csv(\"/add/path/here/auxiliary_data/dissociation_Machado2021.csv\",header=None).astype(str)\n",
    "dissociation_genes_machado = dissociation_genes_machado[0].str.upper().ravel()\n",
    "\n",
    "common_disso_genes = np.intersect1d(list_core_genes.astype(str),dissociation_genes.astype(str))\n",
    "common_disso_genes = np.intersect1d(common_disso_genes,dissociation_genes_machado.astype(str))"
   ]
  },
  {
   "cell_type": "code",
   "execution_count": null,
   "id": "5cccd388",
   "metadata": {},
   "outputs": [],
   "source": [
    "gocc = {}\n",
    "with open(\"/add/path/here/auxiliary_data/GO_Cellular_Component_2013.txt\", \"r\") as f:\n",
    "    lines = f.readlines()\n",
    "    for line in lines:\n",
    "        vals = line.split(\"\\t\")\n",
    "        gocc[vals[0]] = vals[2:-1]\n",
    "\n",
    "pathways_gocc = [\"mitochondrion (GO:0005739)\",\n",
    "                \"cytoplasm (GO:0005737)\"]\n",
    "\n",
    "go_sigs = {}\n",
    "for path in pathways_gocc:\n",
    "    go_sigs[path] = gocc[path]"
   ]
  },
  {
   "cell_type": "markdown",
   "id": "92fa533f",
   "metadata": {},
   "source": [
    "# LUAD Bischoff "
   ]
  },
  {
   "cell_type": "code",
   "execution_count": null,
   "id": "3f52a37c",
   "metadata": {},
   "outputs": [],
   "source": [
    "adata = sc.read_h5ad(\"/add/path/here/LUAD_PrimaryTumor_Bischoff.h5ad\")"
   ]
  },
  {
   "cell_type": "code",
   "execution_count": null,
   "id": "94b4421a",
   "metadata": {},
   "outputs": [],
   "source": [
    "filtered_adata = sc.read_h5ad(\"/add/path/here/filtered_data/LUAD_Bischoff_10X/filtered_adata.h5ad\")"
   ]
  },
  {
   "cell_type": "code",
   "execution_count": null,
   "id": "f2dea2aa",
   "metadata": {},
   "outputs": [],
   "source": [
    "adata.var[\"mt\"] = adata.var_names.str.startswith(\"MT-\")\n",
    "sc.pp.calculate_qc_metrics(\n",
    "    adata, qc_vars=[\"mt\"], percent_top=None, log1p=True, inplace=True\n",
    ")"
   ]
  },
  {
   "cell_type": "markdown",
   "id": "5ca9a826",
   "metadata": {},
   "source": [
    "### Normalize w/o MT genes"
   ]
  },
  {
   "cell_type": "code",
   "execution_count": null,
   "id": "1035e07a",
   "metadata": {
    "scrolled": true
   },
   "outputs": [],
   "source": [
    "adata = adata[:,adata.var_names[~adata.var_names.str.startswith(\"MT-\")]].copy()\n",
    "filtered_adata = filtered_adata[:,filtered_adata.var_names[~filtered_adata.var_names.str.startswith(\"MT-\")]].copy()\n",
    "\n",
    "sc.pp.normalize_total(adata, target_sum=10000)\n",
    "sc.pp.log1p(adata)\n",
    "\n",
    "sc.pp.normalize_total(filtered_adata, target_sum=10000)\n",
    "sc.pp.log1p(filtered_adata)\n",
    "\n",
    "adata.obs[\"Transcriptome variance\"] = adata.to_df().var(axis=1)\n",
    "filtered_adata.obs[\"Transcriptome variance\"] = filtered_adata.to_df().var(axis=1)\n",
    "\n",
    "for sig in go_sigs:\n",
    "    sc.tl.score_genes(adata, gene_list=go_sigs[sig], score_name=sig.capitalize())\n",
    "\n",
    "for sig in go_sigs:\n",
    "    sc.tl.score_genes(filtered_adata, gene_list=go_sigs[sig], score_name=sig.capitalize())\n",
    "\n",
    "for sig in go_sigs:\n",
    "    sc.tl.score_genes(adata, gene_list=common_disso_genes, score_name=\"Dissociation stress\")\n",
    "\n",
    "for sig in go_sigs:\n",
    "    sc.tl.score_genes(filtered_adata, gene_list=common_disso_genes, score_name=\"Dissociation stress\")"
   ]
  },
  {
   "cell_type": "code",
   "execution_count": null,
   "id": "8040d0a4",
   "metadata": {},
   "outputs": [],
   "source": [
    "adata.obs_names_make_unique()"
   ]
  },
  {
   "cell_type": "code",
   "execution_count": null,
   "id": "68685b0f",
   "metadata": {},
   "outputs": [],
   "source": [
    "filtered_cells = np.setdiff1d(adata.obs_names.to_numpy(), [\"-\".join(nm) for nm in filtered_adata.obs_names.str.split(\"-\").str[:2]])"
   ]
  },
  {
   "cell_type": "code",
   "execution_count": null,
   "id": "bb8cf65e",
   "metadata": {},
   "outputs": [],
   "source": [
    "filtered_cells = np.unique(filtered_cells)"
   ]
  },
  {
   "cell_type": "code",
   "execution_count": null,
   "id": "3074a340",
   "metadata": {},
   "outputs": [],
   "source": [
    "filtered_df = adata.obs.loc[filtered_cells, ['log1p_n_genes_by_counts', 'Dissociation stress',\n",
    "                    'log1p_total_counts',\"pct_counts_mt\",\n",
    "                    \"Transcriptome variance\", \n",
    "                    'Mitochondrion (go:0005739)', 'Cytoplasm (go:0005737)']]\n",
    "filtered_df = pd.concat([filtered_df,adata[filtered_cells,\"MALAT1\"].to_df()],axis=1)\n",
    "filtered_df.index = filtered_df.index + \"_pre\"\n",
    "filtered_df[\"Condition\"] = \"Filtered\"\n",
    "\n",
    "kept_df = filtered_adata.obs[['log1p_n_genes_by_counts', 'Dissociation stress',\n",
    "                              'log1p_total_counts',\"pct_counts_mt\",\n",
    "                              \"Transcriptome variance\", \n",
    "                              'Mitochondrion (go:0005739)', 'Cytoplasm (go:0005737)']]\n",
    "kept_df = pd.concat([kept_df,filtered_adata[:,\"MALAT1\"].to_df()],axis=1)\n",
    "kept_df.index = kept_df.index + \"_post\"\n",
    "kept_df[\"Condition\"] = \"Kept\""
   ]
  },
  {
   "cell_type": "code",
   "execution_count": null,
   "id": "700ef55f",
   "metadata": {},
   "outputs": [],
   "source": [
    "df = pd.concat([filtered_df,kept_df])"
   ]
  },
  {
   "cell_type": "code",
   "execution_count": null,
   "id": "2005cbc5",
   "metadata": {},
   "outputs": [],
   "source": [
    "fig, ax = plt.subplots(1,1,figsize=(3,2))\n",
    "sns.kdeplot(data=df, x=\"MALAT1\", hue=\"Condition\", ax=ax, common_norm=False, hue_order=[\"Kept\",\"Filtered\"])\n",
    "plt.legend([\"Filtered\",\"Kept\"], bbox_to_anchor=(1,1,0,0),frameon=False)\n",
    "pretty_ax(ax)"
   ]
  },
  {
   "cell_type": "code",
   "execution_count": null,
   "id": "9f81661d",
   "metadata": {},
   "outputs": [],
   "source": [
    "fig, ax = plt.subplots(2,3,figsize=(5,3))\n",
    "flatax = ax.flatten()\n",
    "\n",
    "pairs = [(\"Filtered\",\"Kept\")]\n",
    "\n",
    "features = [\"pct_counts_mt\", 'log1p_total_counts', \"Dissociation stress\", \"Transcriptome variance\", \n",
    "                    'Mitochondrion (go:0005739)', 'Cytoplasm (go:0005737)']\n",
    "names = [\"% MT counts\", 'log1p(Total counts)', \"Dissociation stress\", \"Transcriptome\\nvariance\", \n",
    "                    'Mitochondrion\\n(GO:0005739)', 'Cytoplasm\\n(GO:0005737)']\n",
    "\n",
    "for i in range(len(flatax)):\n",
    "    sns.boxplot(data=df, x=\"Condition\", y=features[i], ax=flatax[i])\n",
    "    pretty_ax(flatax[i])\n",
    "    flatax[i].set_xlabel(\"\")\n",
    "    flatax[i].set_ylabel(\"\")\n",
    "    flatax[i].set_title(names[i])\n",
    "    \n",
    "    annot = Annotator(\n",
    "        flatax[i],\n",
    "        pairs=pairs,\n",
    "        data=df, x=\"Condition\", y=features[i]\n",
    "    )\n",
    "    annot.configure(\n",
    "        test=\"Mann-Whitney\",\n",
    "        loc=\"inside\",\n",
    "        text_format=\"star\",\n",
    "        show_test_name=False,\n",
    "        verbose=2,\n",
    "        comparisons_correction=None,\n",
    "        fontsize=10,\n",
    "    )\n",
    "    annot.apply_test()\n",
    "    _, test_results = annot.annotate()\n",
    "fig.tight_layout()\n",
    "fig.savefig(\"/add/path/here/figures/pre_vs_post/luad.svg\", \n",
    "            dpi=200, bbox_inches=\"tight\")"
   ]
  },
  {
   "cell_type": "code",
   "execution_count": null,
   "id": "2ec7f3a6",
   "metadata": {},
   "outputs": [],
   "source": [
    "highmt = filtered_adata.obs[filtered_adata.obs.pct_counts_mt>15].index.str.split(\"-\").str[:2]\n",
    "highmt = [\"-\".join(nm) for nm in highmt]\n",
    "\n",
    "adata.obs[\"Condition\"] = \"Kept\"\n",
    "adata.obs.loc[filtered_cells,\"Condition\"] = \"Filtered (in-house)\"\n",
    "adata.obs.loc[highmt,\"Condition\"] = \"Additional %MT filtering\"\n",
    "\n",
    "fig, ax = plt.subplots(1,1,figsize=(2,1))\n",
    "sns.boxplot(data=adata.obs, x=\"Condition\", y=\"Dissociation stress\",order=[\"Filtered (in-house)\",\n",
    "                                                                          \"Additional %MT filtering\",\n",
    "                                                                          \"Kept\"])\n",
    "pretty_ax(ax)\n",
    "ax.set_xticks(ax.get_xticks(), ax.get_xticklabels(), rotation=45, ha=\"right\")\n",
    "ax.set_xlabel(\"\")\n",
    "ax.set_ylabel(\"\")\n",
    "ax.set_title(\"Dissociation stress\")\n",
    "fig.savefig(\"/add/path/here/figures/pre_vs_post/luad_disso_stress.svg\", dpi=200,\n",
    "            bbox_inches=\"tight\")"
   ]
  },
  {
   "cell_type": "markdown",
   "id": "5b3045e0",
   "metadata": {},
   "source": [
    "# SCLC Chan"
   ]
  },
  {
   "cell_type": "code",
   "execution_count": null,
   "id": "d2e8871b",
   "metadata": {},
   "outputs": [],
   "source": [
    "adata = sc.read_h5ad(\"/add/path/here/SCLC_Chan_10X.h5ad\")"
   ]
  },
  {
   "cell_type": "code",
   "execution_count": null,
   "id": "0d1d8b39",
   "metadata": {},
   "outputs": [],
   "source": [
    "filtered_adata = sc.read_h5ad(\"/add/path/here/SCLC_Chan_10X/filtered_adata.h5ad\")"
   ]
  },
  {
   "cell_type": "code",
   "execution_count": null,
   "id": "c3de3ff0",
   "metadata": {},
   "outputs": [],
   "source": [
    "adata.var[\"mt\"] = adata.var_names.str.startswith(\"MT-\")\n",
    "sc.pp.calculate_qc_metrics(\n",
    "    adata, qc_vars=[\"mt\"], percent_top=None, log1p=True, inplace=True\n",
    ")"
   ]
  },
  {
   "cell_type": "markdown",
   "id": "cd0eed92",
   "metadata": {},
   "source": [
    "### Normalize w/o MT genes"
   ]
  },
  {
   "cell_type": "code",
   "execution_count": null,
   "id": "6397bc2c",
   "metadata": {},
   "outputs": [],
   "source": [
    "adata = adata[:,adata.var_names[~adata.var_names.str.startswith(\"MT-\")]].copy()\n",
    "filtered_adata = filtered_adata[:,filtered_adata.var_names[~filtered_adata.var_names.str.startswith(\"MT-\")]].copy()\n",
    "\n",
    "sc.pp.normalize_total(adata, target_sum=10000)\n",
    "sc.pp.log1p(adata)\n",
    "\n",
    "sc.pp.normalize_total(filtered_adata, target_sum=10000)\n",
    "sc.pp.log1p(filtered_adata)\n",
    "\n",
    "adata.obs[\"Transcriptome variance\"] = adata.to_df().var(axis=1)\n",
    "filtered_adata.obs[\"Transcriptome variance\"] = filtered_adata.to_df().var(axis=1)\n",
    "\n",
    "for sig in go_sigs:\n",
    "    sc.tl.score_genes(adata, gene_list=go_sigs[sig], score_name=sig.capitalize())\n",
    "\n",
    "for sig in go_sigs:\n",
    "    sc.tl.score_genes(filtered_adata, gene_list=go_sigs[sig], score_name=sig.capitalize())\n",
    "\n",
    "for sig in go_sigs:\n",
    "    sc.tl.score_genes(adata, gene_list=common_disso_genes, score_name=\"Dissociation stress\")\n",
    "\n",
    "for sig in go_sigs:\n",
    "    sc.tl.score_genes(filtered_adata, gene_list=common_disso_genes, score_name=\"Dissociation stress\")"
   ]
  },
  {
   "cell_type": "code",
   "execution_count": null,
   "id": "60f923da",
   "metadata": {},
   "outputs": [],
   "source": [
    "filtered_cells = np.setdiff1d(adata.obs_names.to_numpy(), filtered_adata.obs_names.str.split(\"-\").str[0].to_numpy())"
   ]
  },
  {
   "cell_type": "code",
   "execution_count": null,
   "id": "b631c6b2",
   "metadata": {},
   "outputs": [],
   "source": [
    "filtered_df = adata.obs.loc[filtered_cells, [\"cell_type\",'log1p_n_genes_by_counts', 'Dissociation stress',\n",
    "                    'log1p_total_counts',\"pct_counts_mt\",\n",
    "                    \"Transcriptome variance\", \n",
    "                    'Mitochondrion (go:0005739)', 'Cytoplasm (go:0005737)']]\n",
    "filtered_df = pd.concat([filtered_df,adata[filtered_cells,\"MALAT1\"].to_df()],axis=1)\n",
    "filtered_df.index = filtered_df.index + \"_pre\"\n",
    "filtered_df[\"Condition\"] = \"Filtered\"\n",
    "\n",
    "kept_df = filtered_adata.obs[[\"cell_type\",'log1p_n_genes_by_counts', 'Dissociation stress',\n",
    "                              'log1p_total_counts',\"pct_counts_mt\",\n",
    "                              \"Transcriptome variance\", \n",
    "                              'Mitochondrion (go:0005739)', 'Cytoplasm (go:0005737)']]\n",
    "kept_df = pd.concat([kept_df,filtered_adata[:,\"MALAT1\"].to_df()],axis=1)\n",
    "kept_df.index = kept_df.index + \"_post\"\n",
    "kept_df[\"Condition\"] = \"Kept\""
   ]
  },
  {
   "cell_type": "code",
   "execution_count": null,
   "id": "5a658f92",
   "metadata": {},
   "outputs": [],
   "source": [
    "df = pd.concat([filtered_df,kept_df])"
   ]
  },
  {
   "cell_type": "code",
   "execution_count": null,
   "id": "e0a665f2",
   "metadata": {},
   "outputs": [],
   "source": [
    "fig, ax = plt.subplots(1,1,figsize=(3,2))\n",
    "sns.kdeplot(data=df, x=\"MALAT1\", hue=\"Condition\", ax=ax, common_norm=False, hue_order=[\"Kept\",\"Filtered\"])\n",
    "plt.legend([\"Filtered\",\"Kept\"], bbox_to_anchor=(1,1,0,0),frameon=False)\n",
    "pretty_ax(ax)"
   ]
  },
  {
   "cell_type": "code",
   "execution_count": null,
   "id": "1d8bada0",
   "metadata": {},
   "outputs": [],
   "source": [
    "fig, ax = plt.subplots(2,3,figsize=(5,3))\n",
    "flatax = ax.flatten()\n",
    "\n",
    "pairs = [(\"Filtered\",\"Kept\")]\n",
    "\n",
    "features = [\"pct_counts_mt\", 'log1p_total_counts', \"Dissociation stress\", \"Transcriptome variance\", \n",
    "                    'Mitochondrion (go:0005739)', 'Cytoplasm (go:0005737)']\n",
    "names = [\"% MT counts\", 'log1p(Total counts)', \"Dissociation stress\", \"Transcriptome\\nvariance\", \n",
    "                    'Mitochondrion\\n(GO:0005739)', 'Cytoplasm\\n(GO:0005737)']\n",
    "\n",
    "for i in range(len(flatax)):\n",
    "    sns.boxplot(data=df, x=\"Condition\", y=features[i], ax=flatax[i])\n",
    "    pretty_ax(flatax[i])\n",
    "    flatax[i].set_xlabel(\"\")\n",
    "    flatax[i].set_ylabel(\"\")\n",
    "    flatax[i].set_title(names[i])\n",
    "    \n",
    "    annot = Annotator(\n",
    "        flatax[i],\n",
    "        pairs=pairs,\n",
    "        data=df, x=\"Condition\", y=features[i]\n",
    "    )\n",
    "    annot.configure(\n",
    "        test=\"Mann-Whitney\",\n",
    "        loc=\"inside\",\n",
    "        text_format=\"star\",\n",
    "        show_test_name=False,\n",
    "        verbose=2,\n",
    "        comparisons_correction=None,\n",
    "        fontsize=10,\n",
    "    )\n",
    "    annot.apply_test()\n",
    "    _, test_results = annot.annotate()\n",
    "fig.tight_layout()\n",
    "fig.savefig(\"/add/path/here/figures/pre_vs_post/sclc.svg\", \n",
    "            dpi=200, bbox_inches=\"tight\")"
   ]
  },
  {
   "cell_type": "code",
   "execution_count": null,
   "id": "f11aba39",
   "metadata": {},
   "outputs": [],
   "source": [
    "highmt = filtered_adata.obs[filtered_adata.obs.pct_counts_mt>15].index.str.split(\"-\").str[0]\n",
    "\n",
    "adata.obs[\"Condition\"] = \"Kept\"\n",
    "adata.obs.loc[filtered_cells,\"Condition\"] = \"Filtered (in-house)\"\n",
    "adata.obs.loc[adata.obs_names.intersection(highmt),\"Condition\"] = \"Additional %MT filtering\"\n",
    "\n",
    "fig, ax = plt.subplots(1,1,figsize=(2,1))\n",
    "sns.boxplot(data=adata.obs, x=\"Condition\", y=\"Dissociation stress\",order=[\"Filtered (in-house)\",\n",
    "                                                                          \"Additional %MT filtering\",\n",
    "                                                                          \"Kept\"])\n",
    "pretty_ax(ax)\n",
    "ax.set_xticks(ax.get_xticks(), ax.get_xticklabels(), rotation=45, ha=\"right\")\n",
    "ax.set_xlabel(\"\")\n",
    "ax.set_ylabel(\"\")\n",
    "ax.set_title(\"Dissociation stress\")\n",
    "fig.savefig(\"/add/path/here/figures/pre_vs_post/sclc_disso_stress.svg\", dpi=200,\n",
    "            bbox_inches=\"tight\")"
   ]
  },
  {
   "cell_type": "markdown",
   "id": "340f5f35",
   "metadata": {},
   "source": [
    "# Prostate Song"
   ]
  },
  {
   "cell_type": "code",
   "execution_count": null,
   "id": "17835b7e",
   "metadata": {},
   "outputs": [],
   "source": [
    "adata = sc.read_h5ad(\"/add/path/here/Prostate_Song_SegWellS3_counts.h5ad\")"
   ]
  },
  {
   "cell_type": "code",
   "execution_count": null,
   "id": "5e7dbeb2",
   "metadata": {},
   "outputs": [],
   "source": [
    "filtered_adata = sc.read_h5ad(\"/add/path/here/filtered_data/Song_Prostate_SeqWell/filtered_adata.h5ad\")"
   ]
  },
  {
   "cell_type": "code",
   "execution_count": null,
   "id": "7d7afdd2",
   "metadata": {},
   "outputs": [],
   "source": [
    "adata.var[\"mt\"] = adata.var_names.str.startswith(\"MT-\")\n",
    "sc.pp.calculate_qc_metrics(\n",
    "    adata, qc_vars=[\"mt\"], percent_top=None, log1p=True, inplace=True\n",
    ")"
   ]
  },
  {
   "cell_type": "markdown",
   "id": "31876fa2",
   "metadata": {},
   "source": [
    "### Normalize w/o MT genes"
   ]
  },
  {
   "cell_type": "code",
   "execution_count": null,
   "id": "cb77c6b6",
   "metadata": {},
   "outputs": [],
   "source": [
    "adata = adata[:,adata.var_names[~adata.var_names.str.startswith(\"MT-\")]].copy()\n",
    "filtered_adata = filtered_adata[:,filtered_adata.var_names[~filtered_adata.var_names.str.startswith(\"MT-\")]].copy()\n",
    "\n",
    "sc.pp.normalize_total(adata, target_sum=10000)\n",
    "sc.pp.log1p(adata)\n",
    "\n",
    "sc.pp.normalize_total(filtered_adata, target_sum=10000)\n",
    "sc.pp.log1p(filtered_adata)\n",
    "\n",
    "adata.obs[\"Transcriptome variance\"] = adata.to_df().var(axis=1)\n",
    "filtered_adata.obs[\"Transcriptome variance\"] = filtered_adata.to_df().var(axis=1)\n",
    "\n",
    "for sig in go_sigs:\n",
    "    sc.tl.score_genes(adata, gene_list=go_sigs[sig], score_name=sig.capitalize())\n",
    "\n",
    "for sig in go_sigs:\n",
    "    sc.tl.score_genes(filtered_adata, gene_list=go_sigs[sig], score_name=sig.capitalize())\n",
    "\n",
    "for sig in go_sigs:\n",
    "    sc.tl.score_genes(adata, gene_list=common_disso_genes, score_name=\"Dissociation stress\")\n",
    "\n",
    "for sig in go_sigs:\n",
    "    sc.tl.score_genes(filtered_adata, gene_list=common_disso_genes, score_name=\"Dissociation stress\")"
   ]
  },
  {
   "cell_type": "code",
   "execution_count": null,
   "id": "56076199",
   "metadata": {},
   "outputs": [],
   "source": [
    "filtered_cells = np.setdiff1d(adata.obs_names.to_numpy(), filtered_adata.obs_names.str.split(\"-\").str[0].to_numpy())"
   ]
  },
  {
   "cell_type": "code",
   "execution_count": null,
   "id": "a68de31f",
   "metadata": {},
   "outputs": [],
   "source": [
    "filtered_df = adata.obs.loc[filtered_cells, [\"cell_type\",'log1p_n_genes_by_counts', 'Dissociation stress',\n",
    "                    'log1p_total_counts',\"pct_counts_mt\",\n",
    "                    \"Transcriptome variance\", \n",
    "                    'Mitochondrion (go:0005739)', 'Cytoplasm (go:0005737)']]\n",
    "filtered_df = pd.concat([filtered_df,adata[filtered_cells,\"MALAT1\"].to_df()],axis=1)\n",
    "filtered_df.index = filtered_df.index + \"_pre\"\n",
    "filtered_df[\"Condition\"] = \"Filtered\"\n",
    "\n",
    "kept_df = filtered_adata.obs[[\"cell_type\",'log1p_n_genes_by_counts', 'Dissociation stress',\n",
    "                              'log1p_total_counts',\"pct_counts_mt\",\n",
    "                              \"Transcriptome variance\", \n",
    "                              'Mitochondrion (go:0005739)', 'Cytoplasm (go:0005737)']]\n",
    "kept_df = pd.concat([kept_df,filtered_adata[:,\"MALAT1\"].to_df()],axis=1)\n",
    "kept_df.index = kept_df.index + \"_post\"\n",
    "kept_df[\"Condition\"] = \"Kept\""
   ]
  },
  {
   "cell_type": "code",
   "execution_count": null,
   "id": "d9b4ee48",
   "metadata": {},
   "outputs": [],
   "source": [
    "df = pd.concat([filtered_df,kept_df])"
   ]
  },
  {
   "cell_type": "code",
   "execution_count": null,
   "id": "650a01a9",
   "metadata": {},
   "outputs": [],
   "source": [
    "fig, ax = plt.subplots(1,1,figsize=(3,2))\n",
    "sns.kdeplot(data=df, x=\"MALAT1\", hue=\"Condition\", ax=ax, common_norm=False, hue_order=[\"Kept\",\"Filtered\"])\n",
    "plt.legend([\"Filtered\",\"Kept\"], bbox_to_anchor=(1,1,0,0),frameon=False)\n",
    "pretty_ax(ax)"
   ]
  },
  {
   "cell_type": "code",
   "execution_count": null,
   "id": "0553b4e3",
   "metadata": {},
   "outputs": [],
   "source": [
    "fig, ax = plt.subplots(2,3,figsize=(5,3))\n",
    "flatax = ax.flatten()\n",
    "\n",
    "pairs = [(\"Filtered\",\"Kept\")]\n",
    "\n",
    "features = [\"pct_counts_mt\", 'log1p_total_counts', \"Dissociation stress\", \"Transcriptome variance\", \n",
    "                    'Mitochondrion (go:0005739)', 'Cytoplasm (go:0005737)']\n",
    "names = [\"% MT counts\", 'log1p(Total counts)', \"Dissociation stress\", \"Transcriptome\\nvariance\", \n",
    "                    'Mitochondrion\\n(GO:0005739)', 'Cytoplasm\\n(GO:0005737)']\n",
    "\n",
    "for i in range(len(flatax)):\n",
    "    sns.boxplot(data=df, x=\"Condition\", y=features[i], ax=flatax[i])\n",
    "    pretty_ax(flatax[i])\n",
    "    flatax[i].set_xlabel(\"\")\n",
    "    flatax[i].set_ylabel(\"\")\n",
    "    flatax[i].set_title(names[i])\n",
    "    \n",
    "    annot = Annotator(\n",
    "        flatax[i],\n",
    "        pairs=pairs,\n",
    "        data=df, x=\"Condition\", y=features[i]\n",
    "    )\n",
    "    annot.configure(\n",
    "        test=\"Mann-Whitney\",\n",
    "        loc=\"inside\",\n",
    "        text_format=\"star\",\n",
    "        show_test_name=False,\n",
    "        verbose=2,\n",
    "        comparisons_correction=None,\n",
    "        fontsize=10,\n",
    "    )\n",
    "    annot.apply_test()\n",
    "    _, test_results = annot.annotate()\n",
    "fig.tight_layout()\n",
    "fig.savefig(\"/add/path/here/figures/pre_vs_post/prostate.svg\", \n",
    "            dpi=200, bbox_inches=\"tight\")"
   ]
  },
  {
   "cell_type": "code",
   "execution_count": null,
   "id": "934e6cf4",
   "metadata": {},
   "outputs": [],
   "source": [
    "highmt = filtered_adata.obs[filtered_adata.obs.pct_counts_mt>15].index.str.split(\"-\").str[0]\n",
    "\n",
    "adata.obs[\"Condition\"] = \"Kept\"\n",
    "adata.obs.loc[filtered_cells,\"Condition\"] = \"Filtered (in-house)\"\n",
    "adata.obs.loc[highmt,\"Condition\"] = \"Additional %MT filtering\"\n",
    "\n",
    "fig, ax = plt.subplots(1,1,figsize=(2,1))\n",
    "sns.boxplot(data=adata.obs, x=\"Condition\", y=\"Dissociation stress\",order=[\"Filtered (in-house)\",\n",
    "                                                                          \"Additional %MT filtering\",\n",
    "                                                                          \"Kept\"])\n",
    "pretty_ax(ax)\n",
    "ax.set_xticks(ax.get_xticks(), ax.get_xticklabels(), rotation=45, ha=\"right\")\n",
    "ax.set_xlabel(\"\")\n",
    "ax.set_ylabel(\"\")\n",
    "ax.set_title(\"Dissociation stress\")\n",
    "fig.savefig(\"/add/path/here/figures/pre_vs_post/prostate_disso_stress.svg\", dpi=200,\n",
    "            bbox_inches=\"tight\")"
   ]
  },
  {
   "cell_type": "markdown",
   "id": "d9554e48",
   "metadata": {},
   "source": [
    "# Pancreas Steele"
   ]
  },
  {
   "cell_type": "code",
   "execution_count": null,
   "id": "7932cc60",
   "metadata": {},
   "outputs": [],
   "source": [
    "adata = sc.read_h5ad(\"/add/path/here/Pancreas_Steele_10X.h5ad\")"
   ]
  },
  {
   "cell_type": "code",
   "execution_count": null,
   "id": "28625205",
   "metadata": {},
   "outputs": [],
   "source": [
    "filtered_adata = sc.read_h5ad(\"/add/path/here/filtered_data/Steele_Pancreas_10X/filtered_adata.h5ad\")"
   ]
  },
  {
   "cell_type": "code",
   "execution_count": null,
   "id": "3ff87ce9",
   "metadata": {},
   "outputs": [],
   "source": [
    "adata.var[\"mt\"] = adata.var_names.str.startswith(\"MT-\")\n",
    "sc.pp.calculate_qc_metrics(\n",
    "    adata, qc_vars=[\"mt\"], percent_top=None, log1p=True, inplace=True\n",
    ")"
   ]
  },
  {
   "cell_type": "code",
   "execution_count": null,
   "id": "2c7c9475",
   "metadata": {},
   "outputs": [],
   "source": [
    "adata.var_names_make_unique()"
   ]
  },
  {
   "cell_type": "markdown",
   "id": "3bdcf8b4",
   "metadata": {},
   "source": [
    "### Normalize w/o MT genes"
   ]
  },
  {
   "cell_type": "code",
   "execution_count": null,
   "id": "c2065b24",
   "metadata": {},
   "outputs": [],
   "source": [
    "adata = adata[:,adata.var_names[~adata.var_names.str.startswith(\"MT-\")]].copy()\n",
    "filtered_adata = filtered_adata[:,filtered_adata.var_names[~filtered_adata.var_names.str.startswith(\"MT-\")]].copy()\n",
    "\n",
    "sc.pp.normalize_total(adata, target_sum=10000)\n",
    "sc.pp.log1p(adata)\n",
    "\n",
    "sc.pp.normalize_total(filtered_adata, target_sum=10000)\n",
    "sc.pp.log1p(filtered_adata)\n",
    "\n",
    "adata.obs[\"Transcriptome variance\"] = adata.to_df().var(axis=1)\n",
    "filtered_adata.obs[\"Transcriptome variance\"] = filtered_adata.to_df().var(axis=1)\n",
    "\n",
    "for sig in go_sigs:\n",
    "    sc.tl.score_genes(adata, gene_list=go_sigs[sig], score_name=sig.capitalize())\n",
    "\n",
    "for sig in go_sigs:\n",
    "    sc.tl.score_genes(filtered_adata, gene_list=go_sigs[sig], score_name=sig.capitalize())\n",
    "\n",
    "for sig in go_sigs:\n",
    "    sc.tl.score_genes(adata, gene_list=common_disso_genes, score_name=\"Dissociation stress\")\n",
    "\n",
    "for sig in go_sigs:\n",
    "    sc.tl.score_genes(filtered_adata, gene_list=common_disso_genes, score_name=\"Dissociation stress\")"
   ]
  },
  {
   "cell_type": "code",
   "execution_count": null,
   "id": "142ddac4",
   "metadata": {},
   "outputs": [],
   "source": [
    "filtered_cells = np.setdiff1d(adata.obs_names.to_numpy(), filtered_adata.obs_names.str.split(\"-\").str[0].to_numpy()+\"-1\")"
   ]
  },
  {
   "cell_type": "code",
   "execution_count": null,
   "id": "0d4e99c1",
   "metadata": {},
   "outputs": [],
   "source": [
    "filtered_df = adata.obs.loc[filtered_cells, [\"cell_type\",'log1p_n_genes_by_counts', 'Dissociation stress',\n",
    "                    'log1p_total_counts',\"pct_counts_mt\",\n",
    "                    \"Transcriptome variance\", \n",
    "                    'Mitochondrion (go:0005739)', 'Cytoplasm (go:0005737)']]\n",
    "filtered_df = pd.concat([filtered_df,adata[filtered_cells,\"MALAT1\"].to_df()],axis=1)\n",
    "filtered_df.index = filtered_df.index + \"_pre\"\n",
    "filtered_df[\"Condition\"] = \"Filtered\"\n",
    "\n",
    "kept_df = filtered_adata.obs[[\"cell_type\",'log1p_n_genes_by_counts', 'Dissociation stress',\n",
    "                              'log1p_total_counts',\"pct_counts_mt\",\n",
    "                              \"Transcriptome variance\", \n",
    "                              'Mitochondrion (go:0005739)', 'Cytoplasm (go:0005737)']]\n",
    "kept_df = pd.concat([kept_df,filtered_adata[:,\"MALAT1\"].to_df()],axis=1)\n",
    "kept_df.index = kept_df.index + \"_post\"\n",
    "kept_df[\"Condition\"] = \"Kept\""
   ]
  },
  {
   "cell_type": "code",
   "execution_count": null,
   "id": "f7205852",
   "metadata": {},
   "outputs": [],
   "source": [
    "df = pd.concat([filtered_df,kept_df])"
   ]
  },
  {
   "cell_type": "code",
   "execution_count": null,
   "id": "d1dbe7d6",
   "metadata": {},
   "outputs": [],
   "source": [
    "fig, ax = plt.subplots(1,1,figsize=(3,2))\n",
    "sns.kdeplot(data=df, x=\"MALAT1\", hue=\"Condition\", ax=ax, common_norm=False, hue_order=[\"Kept\",\"Filtered\"])\n",
    "plt.legend([\"Filtered\",\"Kept\"], bbox_to_anchor=(1,1,0,0),frameon=False)\n",
    "pretty_ax(ax)"
   ]
  },
  {
   "cell_type": "code",
   "execution_count": null,
   "id": "8330bfde",
   "metadata": {},
   "outputs": [],
   "source": [
    "fig, ax = plt.subplots(2,3,figsize=(5,3))\n",
    "flatax = ax.flatten()\n",
    "\n",
    "pairs = [(\"Filtered\",\"Kept\")]\n",
    "\n",
    "features = [\"pct_counts_mt\", 'log1p_total_counts', \"Dissociation stress\", \"Transcriptome variance\", \n",
    "                    'Mitochondrion (go:0005739)', 'Cytoplasm (go:0005737)']\n",
    "names = [\"% MT counts\", 'log1p(Total counts)', \"Dissociation stress\", \"Transcriptome\\nvariance\", \n",
    "                    'Mitochondrion\\n(GO:0005739)', 'Cytoplasm\\n(GO:0005737)']\n",
    "\n",
    "for i in range(len(flatax)):\n",
    "    sns.boxplot(data=df, x=\"Condition\", y=features[i], ax=flatax[i])\n",
    "    pretty_ax(flatax[i])\n",
    "    flatax[i].set_xlabel(\"\")\n",
    "    flatax[i].set_ylabel(\"\")\n",
    "    flatax[i].set_title(names[i])\n",
    "    \n",
    "    annot = Annotator(\n",
    "        flatax[i],\n",
    "        pairs=pairs,\n",
    "        data=df, x=\"Condition\", y=features[i]\n",
    "    )\n",
    "    annot.configure(\n",
    "        test=\"Mann-Whitney\",\n",
    "        loc=\"inside\",\n",
    "        text_format=\"star\",\n",
    "        show_test_name=False,\n",
    "        verbose=2,\n",
    "        comparisons_correction=None,\n",
    "        fontsize=10,\n",
    "    )\n",
    "    annot.apply_test()\n",
    "    _, test_results = annot.annotate()\n",
    "fig.tight_layout()\n",
    "fig.savefig(\"/add/path/here/figures/pre_vs_post/pancreas.svg\", \n",
    "            dpi=200, bbox_inches=\"tight\")"
   ]
  },
  {
   "cell_type": "code",
   "execution_count": null,
   "id": "3aa719cf",
   "metadata": {},
   "outputs": [],
   "source": [
    "highmt = filtered_adata.obs[filtered_adata.obs.pct_counts_mt>15].index.str.split(\"-\").str[0]+\"-1\"\n",
    "\n",
    "adata.obs[\"Condition\"] = \"Kept\"\n",
    "adata.obs.loc[filtered_cells,\"Condition\"] = \"Filtered (in-house)\"\n",
    "adata.obs.loc[highmt,\"Condition\"] = \"Additional %MT filtering\"\n",
    "\n",
    "fig, ax = plt.subplots(1,1,figsize=(2,1))\n",
    "sns.boxplot(data=adata.obs, x=\"Condition\", y=\"Dissociation stress\",order=[\"Filtered (in-house)\",\n",
    "                                                                          \"Additional %MT filtering\",\n",
    "                                                                          \"Kept\"])\n",
    "pretty_ax(ax)\n",
    "ax.set_xticks(ax.get_xticks(), ax.get_xticklabels(), rotation=45, ha=\"right\")\n",
    "ax.set_xlabel(\"\")\n",
    "ax.set_ylabel(\"\")\n",
    "ax.set_title(\"Dissociation stress\")\n",
    "fig.savefig(\"/add/path/here/figures/pre_vs_post/pancreas_disso_stress.svg\", dpi=200,\n",
    "            bbox_inches=\"tight\")"
   ]
  },
  {
   "cell_type": "markdown",
   "id": "255e3a52",
   "metadata": {},
   "source": [
    "# MetPancreas Raghavan"
   ]
  },
  {
   "cell_type": "code",
   "execution_count": null,
   "id": "5f1da1b0",
   "metadata": {},
   "outputs": [],
   "source": [
    "adata = sc.read_h5ad(\"/add/path/here/Pancreas_Raghavan_10X.h5ad\")"
   ]
  },
  {
   "cell_type": "code",
   "execution_count": null,
   "id": "7afd6a40",
   "metadata": {},
   "outputs": [],
   "source": [
    "filtered_adata = sc.read_h5ad(\"/add/path/here/filtered_data/Raghavan_Pancreas_10X/filtered_adata.h5ad\")"
   ]
  },
  {
   "cell_type": "code",
   "execution_count": null,
   "id": "a3a96483",
   "metadata": {},
   "outputs": [],
   "source": [
    "adata.var[\"mt\"] = adata.var_names.str.startswith(\"MT-\")\n",
    "sc.pp.calculate_qc_metrics(\n",
    "    adata, qc_vars=[\"mt\"], percent_top=None, log1p=True, inplace=True\n",
    ")"
   ]
  },
  {
   "cell_type": "markdown",
   "id": "e73e5f8e",
   "metadata": {},
   "source": [
    "### Normalize w/o MT genes"
   ]
  },
  {
   "cell_type": "code",
   "execution_count": null,
   "id": "13ca943f",
   "metadata": {},
   "outputs": [],
   "source": [
    "adata = adata[:,adata.var_names[~adata.var_names.str.startswith(\"MT-\")]].copy()\n",
    "filtered_adata = filtered_adata[:,filtered_adata.var_names[~filtered_adata.var_names.str.startswith(\"MT-\")]].copy()\n",
    "\n",
    "sc.pp.normalize_total(adata, target_sum=10000)\n",
    "sc.pp.log1p(adata)\n",
    "\n",
    "sc.pp.normalize_total(filtered_adata, target_sum=10000)\n",
    "sc.pp.log1p(filtered_adata)\n",
    "\n",
    "adata.obs[\"Transcriptome variance\"] = adata.to_df().var(axis=1)\n",
    "filtered_adata.obs[\"Transcriptome variance\"] = filtered_adata.to_df().var(axis=1)\n",
    "\n",
    "for sig in go_sigs:\n",
    "    sc.tl.score_genes(adata, gene_list=go_sigs[sig], score_name=sig.capitalize())\n",
    "\n",
    "for sig in go_sigs:\n",
    "    sc.tl.score_genes(filtered_adata, gene_list=go_sigs[sig], score_name=sig.capitalize())\n",
    "\n",
    "for sig in go_sigs:\n",
    "    sc.tl.score_genes(adata, gene_list=common_disso_genes, score_name=\"Dissociation stress\")\n",
    "\n",
    "for sig in go_sigs:\n",
    "    sc.tl.score_genes(filtered_adata, gene_list=common_disso_genes, score_name=\"Dissociation stress\")"
   ]
  },
  {
   "cell_type": "code",
   "execution_count": null,
   "id": "3356ceca",
   "metadata": {},
   "outputs": [],
   "source": [
    "filtered_cells = np.setdiff1d(adata.obs_names.to_numpy(), filtered_adata.obs_names.str.split(\"-\").str[0].to_numpy())"
   ]
  },
  {
   "cell_type": "code",
   "execution_count": null,
   "id": "68d05650",
   "metadata": {},
   "outputs": [],
   "source": [
    "filtered_df = adata.obs.loc[filtered_cells, [\"cell_type\",'log1p_n_genes_by_counts', 'Dissociation stress',\n",
    "                    'log1p_total_counts',\"pct_counts_mt\",\n",
    "                    \"Transcriptome variance\", \n",
    "                    'Mitochondrion (go:0005739)', 'Cytoplasm (go:0005737)']]\n",
    "filtered_df = pd.concat([filtered_df,adata[filtered_cells,\"MALAT1\"].to_df()],axis=1)\n",
    "filtered_df.index = filtered_df.index + \"_pre\"\n",
    "filtered_df[\"Condition\"] = \"Filtered\"\n",
    "\n",
    "kept_df = filtered_adata.obs[[\"cell_type\",'log1p_n_genes_by_counts', 'Dissociation stress',\n",
    "                              'log1p_total_counts',\"pct_counts_mt\",\n",
    "                              \"Transcriptome variance\", \n",
    "                              'Mitochondrion (go:0005739)', 'Cytoplasm (go:0005737)']]\n",
    "kept_df = pd.concat([kept_df,filtered_adata[:,\"MALAT1\"].to_df()],axis=1)\n",
    "kept_df.index = kept_df.index + \"_post\"\n",
    "kept_df[\"Condition\"] = \"Kept\""
   ]
  },
  {
   "cell_type": "code",
   "execution_count": null,
   "id": "79569285",
   "metadata": {},
   "outputs": [],
   "source": [
    "df = pd.concat([filtered_df,kept_df])"
   ]
  },
  {
   "cell_type": "code",
   "execution_count": null,
   "id": "97296017",
   "metadata": {},
   "outputs": [],
   "source": [
    "fig, ax = plt.subplots(1,1,figsize=(3,2))\n",
    "sns.kdeplot(data=df, x=\"MALAT1\", hue=\"Condition\", ax=ax, common_norm=False, hue_order=[\"Kept\",\"Filtered\"])\n",
    "plt.legend([\"Filtered\",\"Kept\"], bbox_to_anchor=(1,1,0,0),frameon=False)\n",
    "pretty_ax(ax)"
   ]
  },
  {
   "cell_type": "code",
   "execution_count": null,
   "id": "65c444a3",
   "metadata": {},
   "outputs": [],
   "source": [
    "fig, ax = plt.subplots(2,3,figsize=(5,3))\n",
    "flatax = ax.flatten()\n",
    "\n",
    "pairs = [(\"Filtered\",\"Kept\")]\n",
    "\n",
    "features = [\"pct_counts_mt\", 'log1p_total_counts', \"Dissociation stress\", \"Transcriptome variance\", \n",
    "                    'Mitochondrion (go:0005739)', 'Cytoplasm (go:0005737)']\n",
    "names = [\"% MT counts\", 'log1p(Total counts)', \"Dissociation stress\", \"Transcriptome\\nvariance\", \n",
    "                    'Mitochondrion\\n(GO:0005739)', 'Cytoplasm\\n(GO:0005737)']\n",
    "\n",
    "for i in range(len(flatax)):\n",
    "    sns.boxplot(data=df, x=\"Condition\", y=features[i], ax=flatax[i])\n",
    "    pretty_ax(flatax[i])\n",
    "    flatax[i].set_xlabel(\"\")\n",
    "    flatax[i].set_ylabel(\"\")\n",
    "    flatax[i].set_title(names[i])\n",
    "    \n",
    "    annot = Annotator(\n",
    "        flatax[i],\n",
    "        pairs=pairs,\n",
    "        data=df, x=\"Condition\", y=features[i]\n",
    "    )\n",
    "    annot.configure(\n",
    "        test=\"Mann-Whitney\",\n",
    "        loc=\"inside\",\n",
    "        text_format=\"star\",\n",
    "        show_test_name=False,\n",
    "        verbose=2,\n",
    "        comparisons_correction=None,\n",
    "        fontsize=10,\n",
    "    )\n",
    "    annot.apply_test()\n",
    "    _, test_results = annot.annotate()\n",
    "fig.tight_layout()\n",
    "fig.savefig(\"/add/path/here/figures/pre_vs_post/metpancreas.svg\", \n",
    "            dpi=200, bbox_inches=\"tight\")"
   ]
  },
  {
   "cell_type": "code",
   "execution_count": null,
   "id": "dfb434cb",
   "metadata": {},
   "outputs": [],
   "source": [
    "highmt = filtered_adata.obs[filtered_adata.obs.pct_counts_mt>15].index.str.split(\"-\").str[0]\n",
    "\n",
    "adata.obs[\"Condition\"] = \"Kept\"\n",
    "adata.obs.loc[filtered_cells,\"Condition\"] = \"Filtered (in-house)\"\n",
    "adata.obs.loc[highmt,\"Condition\"] = \"Additional %MT filtering\"\n",
    "\n",
    "fig, ax = plt.subplots(1,1,figsize=(2,1))\n",
    "sns.boxplot(data=adata.obs, x=\"Condition\", y=\"Dissociation stress\",order=[\"Filtered (in-house)\",\n",
    "                                                                          \"Additional %MT filtering\",\n",
    "                                                                          \"Kept\"])\n",
    "pretty_ax(ax)\n",
    "ax.set_xticks(ax.get_xticks(), ax.get_xticklabels(), rotation=45, ha=\"right\")\n",
    "ax.set_xlabel(\"\")\n",
    "ax.set_ylabel(\"\")\n",
    "ax.set_title(\"Dissociation stress\")\n",
    "fig.savefig(\"/add/path/here/figures/pre_vs_post/metpancreas_disso_stress.svg\", dpi=200,\n",
    "            bbox_inches=\"tight\")"
   ]
  },
  {
   "cell_type": "markdown",
   "id": "a7cd1f8a",
   "metadata": {},
   "source": [
    "# Breast Wu"
   ]
  },
  {
   "cell_type": "code",
   "execution_count": null,
   "id": "fb5bed9e",
   "metadata": {},
   "outputs": [],
   "source": [
    "adata = sc.read_h5ad(\"/add/path/here/Breast_Wu_10X.h5ad\")"
   ]
  },
  {
   "cell_type": "code",
   "execution_count": null,
   "id": "01af5669",
   "metadata": {},
   "outputs": [],
   "source": [
    "filtered_adata = sc.read_h5ad(\"/add/path/here/filtered_data/Breast_Wu_10X/filtered_adata.h5ad\")"
   ]
  },
  {
   "cell_type": "code",
   "execution_count": null,
   "id": "918535bb",
   "metadata": {},
   "outputs": [],
   "source": [
    "adata.var[\"mt\"] = adata.var_names.str.startswith(\"MT-\")\n",
    "sc.pp.calculate_qc_metrics(\n",
    "    adata, qc_vars=[\"mt\"], percent_top=None, log1p=True, inplace=True\n",
    ")"
   ]
  },
  {
   "cell_type": "markdown",
   "id": "dfd87f1e",
   "metadata": {},
   "source": [
    "### Normalize w/o MT genes"
   ]
  },
  {
   "cell_type": "code",
   "execution_count": null,
   "id": "13a6c4eb",
   "metadata": {},
   "outputs": [],
   "source": [
    "adata = adata[:,adata.var_names[~adata.var_names.str.startswith(\"MT-\")]].copy()\n",
    "filtered_adata = filtered_adata[:,filtered_adata.var_names[~filtered_adata.var_names.str.startswith(\"MT-\")]].copy()\n",
    "\n",
    "sc.pp.normalize_total(adata, target_sum=10000)\n",
    "sc.pp.log1p(adata)\n",
    "\n",
    "sc.pp.normalize_total(filtered_adata, target_sum=10000)\n",
    "sc.pp.log1p(filtered_adata)\n",
    "\n",
    "adata.obs[\"Transcriptome variance\"] = adata.to_df().var(axis=1)\n",
    "filtered_adata.obs[\"Transcriptome variance\"] = filtered_adata.to_df().var(axis=1)\n",
    "\n",
    "for sig in go_sigs:\n",
    "    sc.tl.score_genes(adata, gene_list=go_sigs[sig], score_name=sig.capitalize())\n",
    "\n",
    "for sig in go_sigs:\n",
    "    sc.tl.score_genes(filtered_adata, gene_list=go_sigs[sig], score_name=sig.capitalize())\n",
    "\n",
    "for sig in go_sigs:\n",
    "    sc.tl.score_genes(adata, gene_list=common_disso_genes, score_name=\"Dissociation stress\")\n",
    "\n",
    "for sig in go_sigs:\n",
    "    sc.tl.score_genes(filtered_adata, gene_list=common_disso_genes, score_name=\"Dissociation stress\")"
   ]
  },
  {
   "cell_type": "code",
   "execution_count": null,
   "id": "f922f144",
   "metadata": {},
   "outputs": [],
   "source": [
    "filtered_cells = np.setdiff1d(adata.obs_names.to_numpy(), filtered_adata.obs_names.str.split(\"-\").str[0].to_numpy())"
   ]
  },
  {
   "cell_type": "code",
   "execution_count": null,
   "id": "96da9d37",
   "metadata": {},
   "outputs": [],
   "source": [
    "filtered_df = adata.obs.loc[filtered_cells, [\"cell_type\",'log1p_n_genes_by_counts', 'Dissociation stress',\n",
    "                    'log1p_total_counts',\"pct_counts_mt\",\n",
    "                    \"Transcriptome variance\", \n",
    "                    'Mitochondrion (go:0005739)', 'Cytoplasm (go:0005737)']]\n",
    "filtered_df = pd.concat([filtered_df,adata[filtered_cells,\"MALAT1\"].to_df()],axis=1)\n",
    "filtered_df.index = filtered_df.index + \"_pre\"\n",
    "filtered_df[\"Condition\"] = \"Filtered\"\n",
    "\n",
    "kept_df = filtered_adata.obs[[\"cell_type\",'log1p_n_genes_by_counts', 'Dissociation stress',\n",
    "                              'log1p_total_counts',\"pct_counts_mt\",\n",
    "                              \"Transcriptome variance\", \n",
    "                              'Mitochondrion (go:0005739)', 'Cytoplasm (go:0005737)']]\n",
    "kept_df = pd.concat([kept_df,filtered_adata[:,\"MALAT1\"].to_df()],axis=1)\n",
    "kept_df.index = kept_df.index + \"_post\"\n",
    "kept_df[\"Condition\"] = \"Kept\""
   ]
  },
  {
   "cell_type": "code",
   "execution_count": null,
   "id": "9119a611",
   "metadata": {},
   "outputs": [],
   "source": [
    "df = pd.concat([filtered_df,kept_df])"
   ]
  },
  {
   "cell_type": "code",
   "execution_count": null,
   "id": "f97065de",
   "metadata": {},
   "outputs": [],
   "source": [
    "fig, ax = plt.subplots(1,1,figsize=(3,2))\n",
    "sns.kdeplot(data=df, x=\"MALAT1\", hue=\"Condition\", ax=ax, common_norm=False, hue_order=[\"Kept\",\"Filtered\"])\n",
    "plt.legend([\"Filtered\",\"Kept\"], bbox_to_anchor=(1,1,0,0),frameon=False)\n",
    "pretty_ax(ax)"
   ]
  },
  {
   "cell_type": "code",
   "execution_count": null,
   "id": "7e25f5bf",
   "metadata": {},
   "outputs": [],
   "source": [
    "fig, ax = plt.subplots(2,3,figsize=(5,3))\n",
    "flatax = ax.flatten()\n",
    "\n",
    "pairs = [(\"Filtered\",\"Kept\")]\n",
    "\n",
    "features = [\"pct_counts_mt\", 'log1p_total_counts', \"Dissociation stress\", \"Transcriptome variance\", \n",
    "                    'Mitochondrion (go:0005739)', 'Cytoplasm (go:0005737)']\n",
    "names = [\"% MT counts\", 'log1p(Total counts)', \"Dissociation stress\", \"Transcriptome\\nvariance\", \n",
    "                    'Mitochondrion\\n(GO:0005739)', 'Cytoplasm\\n(GO:0005737)']\n",
    "\n",
    "for i in range(len(flatax)):\n",
    "    sns.boxplot(data=df, x=\"Condition\", y=features[i], ax=flatax[i])\n",
    "    pretty_ax(flatax[i])\n",
    "    flatax[i].set_xlabel(\"\")\n",
    "    flatax[i].set_ylabel(\"\")\n",
    "    flatax[i].set_title(names[i])\n",
    "    \n",
    "    annot = Annotator(\n",
    "        flatax[i],\n",
    "        pairs=pairs,\n",
    "        data=df, x=\"Condition\", y=features[i]\n",
    "    )\n",
    "    annot.configure(\n",
    "        test=\"Mann-Whitney\",\n",
    "        loc=\"inside\",\n",
    "        text_format=\"star\",\n",
    "        show_test_name=False,\n",
    "        verbose=2,\n",
    "        comparisons_correction=None,\n",
    "        fontsize=10,\n",
    "    )\n",
    "    annot.apply_test()\n",
    "    _, test_results = annot.annotate()\n",
    "fig.tight_layout()\n",
    "fig.savefig(\"/add/path/here/figures/pre_vs_post/breast.svg\", \n",
    "            dpi=200, bbox_inches=\"tight\")"
   ]
  },
  {
   "cell_type": "code",
   "execution_count": null,
   "id": "3fab79b6",
   "metadata": {},
   "outputs": [],
   "source": [
    "highmt = filtered_adata.obs[filtered_adata.obs.pct_counts_mt>15].index.str.split(\"-\").str[0]\n",
    "\n",
    "adata.obs[\"Condition\"] = \"Kept\"\n",
    "adata.obs.loc[filtered_cells,\"Condition\"] = \"Filtered (in-house)\"\n",
    "adata.obs.loc[highmt,\"Condition\"] = \"Additional %MT filtering\"\n",
    "\n",
    "fig, ax = plt.subplots(1,1,figsize=(2,1))\n",
    "sns.boxplot(data=adata.obs, x=\"Condition\", y=\"Dissociation stress\",order=[\"Filtered (in-house)\",\n",
    "                                                                          \"Additional %MT filtering\",\n",
    "                                                                          \"Kept\"])\n",
    "pretty_ax(ax)\n",
    "ax.set_xticks(ax.get_xticks(), ax.get_xticklabels(), rotation=45, ha=\"right\")\n",
    "ax.set_xlabel(\"\")\n",
    "ax.set_ylabel(\"\")\n",
    "ax.set_title(\"Dissociation stress\")\n",
    "fig.savefig(\"/add/path/here/figures/pre_vs_post/breast_disso_stress.svg\", dpi=200,\n",
    "            bbox_inches=\"tight\")"
   ]
  },
  {
   "cell_type": "markdown",
   "id": "515345f7",
   "metadata": {},
   "source": [
    "# RCC Bi"
   ]
  },
  {
   "cell_type": "code",
   "execution_count": null,
   "id": "75ed6421",
   "metadata": {},
   "outputs": [],
   "source": [
    "adata = sc.read_h5ad(\"/add/path/here/RCC_Bi_10X.h5ad\")"
   ]
  },
  {
   "cell_type": "code",
   "execution_count": null,
   "id": "97d9465f",
   "metadata": {},
   "outputs": [],
   "source": [
    "filtered_adata = sc.read_h5ad(\"/add/path/here/filtered_data/Bi_RCC_10X/filtered_adata.h5ad\")"
   ]
  },
  {
   "cell_type": "code",
   "execution_count": null,
   "id": "96a6af5e",
   "metadata": {},
   "outputs": [],
   "source": [
    "adata.var[\"mt\"] = adata.var_names.str.startswith(\"MT-\")\n",
    "sc.pp.calculate_qc_metrics(\n",
    "    adata, qc_vars=[\"mt\"], percent_top=None, log1p=True, inplace=True\n",
    ")"
   ]
  },
  {
   "cell_type": "markdown",
   "id": "8de1aa40",
   "metadata": {},
   "source": [
    "### Normalize w/o MT genes"
   ]
  },
  {
   "cell_type": "code",
   "execution_count": null,
   "id": "8a29524d",
   "metadata": {},
   "outputs": [],
   "source": [
    "adata = adata[:,adata.var_names[~adata.var_names.str.startswith(\"MT-\")]].copy()\n",
    "filtered_adata = filtered_adata[:,filtered_adata.var_names[~filtered_adata.var_names.str.startswith(\"MT-\")]].copy()\n",
    "\n",
    "sc.pp.normalize_total(adata, target_sum=10000)\n",
    "sc.pp.log1p(adata)\n",
    "\n",
    "sc.pp.normalize_total(filtered_adata, target_sum=10000)\n",
    "sc.pp.log1p(filtered_adata)\n",
    "\n",
    "adata.obs[\"Transcriptome variance\"] = adata.to_df().var(axis=1)\n",
    "filtered_adata.obs[\"Transcriptome variance\"] = filtered_adata.to_df().var(axis=1)\n",
    "\n",
    "for sig in go_sigs:\n",
    "    sc.tl.score_genes(adata, gene_list=go_sigs[sig], score_name=sig.capitalize())\n",
    "\n",
    "for sig in go_sigs:\n",
    "    sc.tl.score_genes(filtered_adata, gene_list=go_sigs[sig], score_name=sig.capitalize())\n",
    "\n",
    "for sig in go_sigs:\n",
    "    sc.tl.score_genes(adata, gene_list=common_disso_genes, score_name=\"Dissociation stress\")\n",
    "\n",
    "for sig in go_sigs:\n",
    "    sc.tl.score_genes(filtered_adata, gene_list=common_disso_genes, score_name=\"Dissociation stress\")"
   ]
  },
  {
   "cell_type": "code",
   "execution_count": null,
   "id": "c314db93",
   "metadata": {},
   "outputs": [],
   "source": [
    "filtered_cells = np.setdiff1d(adata.obs_names.to_numpy(), filtered_adata.obs_names.str.split(\"-\").str[0].to_numpy())"
   ]
  },
  {
   "cell_type": "code",
   "execution_count": null,
   "id": "ae657d1a",
   "metadata": {},
   "outputs": [],
   "source": [
    "filtered_df = adata.obs.loc[filtered_cells, ['log1p_n_genes_by_counts', 'Dissociation stress',\n",
    "                    'log1p_total_counts',\"pct_counts_mt\",\n",
    "                    \"Transcriptome variance\", \n",
    "                    'Mitochondrion (go:0005739)', 'Cytoplasm (go:0005737)']]\n",
    "filtered_df = pd.concat([filtered_df,adata[filtered_cells,\"MALAT1\"].to_df()],axis=1)\n",
    "filtered_df.index = filtered_df.index + \"_pre\"\n",
    "filtered_df[\"Condition\"] = \"Filtered\"\n",
    "\n",
    "kept_df = filtered_adata.obs[['log1p_n_genes_by_counts', 'Dissociation stress',\n",
    "                              'log1p_total_counts',\"pct_counts_mt\",\n",
    "                              \"Transcriptome variance\", \n",
    "                              'Mitochondrion (go:0005739)', 'Cytoplasm (go:0005737)']]\n",
    "kept_df = pd.concat([kept_df,filtered_adata[:,\"MALAT1\"].to_df()],axis=1)\n",
    "kept_df.index = kept_df.index + \"_post\"\n",
    "kept_df[\"Condition\"] = \"Kept\""
   ]
  },
  {
   "cell_type": "code",
   "execution_count": null,
   "id": "9509f75b",
   "metadata": {},
   "outputs": [],
   "source": [
    "df = pd.concat([filtered_df,kept_df])"
   ]
  },
  {
   "cell_type": "code",
   "execution_count": null,
   "id": "5e53f843",
   "metadata": {},
   "outputs": [],
   "source": [
    "fig, ax = plt.subplots(1,1,figsize=(3,2))\n",
    "sns.kdeplot(data=df, x=\"MALAT1\", hue=\"Condition\", ax=ax, common_norm=False, hue_order=[\"Kept\",\"Filtered\"])\n",
    "plt.legend([\"Filtered\",\"Kept\"], bbox_to_anchor=(1,1,0,0),frameon=False)\n",
    "pretty_ax(ax)"
   ]
  },
  {
   "cell_type": "code",
   "execution_count": null,
   "id": "642f870f",
   "metadata": {},
   "outputs": [],
   "source": [
    "fig, ax = plt.subplots(2,3,figsize=(5,3))\n",
    "flatax = ax.flatten()\n",
    "\n",
    "pairs = [(\"Filtered\",\"Kept\")]\n",
    "\n",
    "features = [\"pct_counts_mt\", 'log1p_total_counts', \"Dissociation stress\", \"Transcriptome variance\", \n",
    "                    'Mitochondrion (go:0005739)', 'Cytoplasm (go:0005737)']\n",
    "names = [\"% MT counts\", 'log1p(Total counts)', \"Dissociation stress\", \"Transcriptome\\nvariance\", \n",
    "                    'Mitochondrion\\n(GO:0005739)', 'Cytoplasm\\n(GO:0005737)']\n",
    "\n",
    "for i in range(len(flatax)):\n",
    "    sns.boxplot(data=df, x=\"Condition\", y=features[i], ax=flatax[i])\n",
    "    pretty_ax(flatax[i])\n",
    "    flatax[i].set_xlabel(\"\")\n",
    "    flatax[i].set_ylabel(\"\")\n",
    "    flatax[i].set_title(names[i])\n",
    "    \n",
    "    annot = Annotator(\n",
    "        flatax[i],\n",
    "        pairs=pairs,\n",
    "        data=df, x=\"Condition\", y=features[i]\n",
    "    )\n",
    "    annot.configure(\n",
    "        test=\"Mann-Whitney\",\n",
    "        loc=\"inside\",\n",
    "        text_format=\"star\",\n",
    "        show_test_name=False,\n",
    "        verbose=2,\n",
    "        comparisons_correction=None,\n",
    "        fontsize=10,\n",
    "    )\n",
    "    annot.apply_test()\n",
    "    _, test_results = annot.annotate()\n",
    "fig.tight_layout()\n",
    "fig.savefig(\"/add/path/here/figures/pre_vs_post/rcc.svg\", \n",
    "            dpi=200, bbox_inches=\"tight\")"
   ]
  },
  {
   "cell_type": "code",
   "execution_count": null,
   "id": "39c1d855",
   "metadata": {},
   "outputs": [],
   "source": [
    "highmt = filtered_adata.obs[filtered_adata.obs.pct_counts_mt>15].index.str.split(\"-\").str[0]\n",
    "\n",
    "adata.obs[\"Condition\"] = \"Kept\"\n",
    "adata.obs.loc[filtered_cells,\"Condition\"] = \"Filtered (in-house)\"\n",
    "adata.obs.loc[highmt,\"Condition\"] = \"Additional %MT filtering\"\n",
    "\n",
    "fig, ax = plt.subplots(1,1,figsize=(2,1))\n",
    "sns.boxplot(data=adata.obs, x=\"Condition\", y=\"Dissociation stress\",order=[\"Filtered (in-house)\",\n",
    "                                                                          \"Additional %MT filtering\",\n",
    "                                                                          \"Kept\"])\n",
    "pretty_ax(ax)\n",
    "ax.set_xticks(ax.get_xticks(), ax.get_xticklabels(), rotation=45, ha=\"right\")\n",
    "ax.set_xlabel(\"\")\n",
    "ax.set_ylabel(\"\")\n",
    "ax.set_title(\"Dissociation stress\")\n",
    "fig.savefig(\"/add/path/here/figures/pre_vs_post/rcc_disso_stress.svg\", dpi=200,\n",
    "            bbox_inches=\"tight\")"
   ]
  },
  {
   "cell_type": "markdown",
   "id": "61f3643c",
   "metadata": {},
   "source": [
    "# NasoCarcinoma Chen"
   ]
  },
  {
   "cell_type": "code",
   "execution_count": null,
   "id": "96aac4bf",
   "metadata": {},
   "outputs": [],
   "source": [
    "adata = sc.read_h5ad(\"/add/path/here/NasoCarcinoma_Chen_10X.h5ad\")"
   ]
  },
  {
   "cell_type": "code",
   "execution_count": null,
   "id": "e13d83d5",
   "metadata": {},
   "outputs": [],
   "source": [
    "filtered_adata = sc.read_h5ad(\"/add/path/here/filtered_data/Chen_NasoCarcinoma_10X/filtered_adata.h5ad\")"
   ]
  },
  {
   "cell_type": "code",
   "execution_count": null,
   "id": "11a729d3",
   "metadata": {},
   "outputs": [],
   "source": [
    "adata.var[\"mt\"] = adata.var_names.str.startswith(\"MT-\")\n",
    "sc.pp.calculate_qc_metrics(\n",
    "    adata, qc_vars=[\"mt\"], percent_top=None, log1p=True, inplace=True\n",
    ")"
   ]
  },
  {
   "cell_type": "code",
   "execution_count": null,
   "id": "168dabeb",
   "metadata": {},
   "outputs": [],
   "source": [
    "adata.var_names_make_unique()"
   ]
  },
  {
   "cell_type": "markdown",
   "id": "8fc2bb0d",
   "metadata": {},
   "source": [
    "### Normalize w/o MT genes"
   ]
  },
  {
   "cell_type": "code",
   "execution_count": null,
   "id": "c92a65d4",
   "metadata": {},
   "outputs": [],
   "source": [
    "adata = adata[:,adata.var_names[~adata.var_names.str.startswith(\"MT-\")]].copy()\n",
    "filtered_adata = filtered_adata[:,filtered_adata.var_names[~filtered_adata.var_names.str.startswith(\"MT-\")]].copy()\n",
    "\n",
    "sc.pp.normalize_total(adata, target_sum=10000)\n",
    "sc.pp.log1p(adata)\n",
    "\n",
    "sc.pp.normalize_total(filtered_adata, target_sum=10000)\n",
    "sc.pp.log1p(filtered_adata)\n",
    "\n",
    "adata.obs[\"Transcriptome variance\"] = adata.to_df().var(axis=1)\n",
    "filtered_adata.obs[\"Transcriptome variance\"] = filtered_adata.to_df().var(axis=1)\n",
    "\n",
    "for sig in go_sigs:\n",
    "    sc.tl.score_genes(adata, gene_list=go_sigs[sig], score_name=sig.capitalize())\n",
    "\n",
    "for sig in go_sigs:\n",
    "    sc.tl.score_genes(filtered_adata, gene_list=go_sigs[sig], score_name=sig.capitalize())\n",
    "\n",
    "for sig in go_sigs:\n",
    "    sc.tl.score_genes(adata, gene_list=common_disso_genes, score_name=\"Dissociation stress\")\n",
    "\n",
    "for sig in go_sigs:\n",
    "    sc.tl.score_genes(filtered_adata, gene_list=common_disso_genes, score_name=\"Dissociation stress\")"
   ]
  },
  {
   "cell_type": "code",
   "execution_count": null,
   "id": "8b6ba185",
   "metadata": {},
   "outputs": [],
   "source": [
    "filtered_cells = np.setdiff1d(adata.obs_names.to_numpy(), filtered_adata.obs_names.str.split(\"-\").str[0].to_numpy()+\"-1\")"
   ]
  },
  {
   "cell_type": "code",
   "execution_count": null,
   "id": "64ed8180",
   "metadata": {},
   "outputs": [],
   "source": [
    "filtered_df = adata.obs.loc[filtered_cells, [\"cell_type\",'log1p_n_genes_by_counts', 'Dissociation stress',\n",
    "                    'log1p_total_counts',\"pct_counts_mt\",\n",
    "                    \"Transcriptome variance\", \n",
    "                    'Mitochondrion (go:0005739)', 'Cytoplasm (go:0005737)']]\n",
    "filtered_df = pd.concat([filtered_df,adata[filtered_cells,\"MALAT1\"].to_df()],axis=1)\n",
    "filtered_df.index = filtered_df.index + \"_pre\"\n",
    "filtered_df[\"Condition\"] = \"Filtered\"\n",
    "\n",
    "kept_df = filtered_adata.obs[[\"cell_type\",'log1p_n_genes_by_counts', 'Dissociation stress',\n",
    "                              'log1p_total_counts',\"pct_counts_mt\",\n",
    "                              \"Transcriptome variance\", \n",
    "                              'Mitochondrion (go:0005739)', 'Cytoplasm (go:0005737)']]\n",
    "kept_df = pd.concat([kept_df,filtered_adata[:,\"MALAT1\"].to_df()],axis=1)\n",
    "kept_df.index = kept_df.index + \"_post\"\n",
    "kept_df[\"Condition\"] = \"Kept\""
   ]
  },
  {
   "cell_type": "code",
   "execution_count": null,
   "id": "c5b47b14",
   "metadata": {},
   "outputs": [],
   "source": [
    "df = pd.concat([filtered_df,kept_df])"
   ]
  },
  {
   "cell_type": "code",
   "execution_count": null,
   "id": "06917689",
   "metadata": {},
   "outputs": [],
   "source": [
    "fig, ax = plt.subplots(1,1,figsize=(3,2))\n",
    "sns.kdeplot(data=df, x=\"MALAT1\", hue=\"Condition\", ax=ax, common_norm=False, hue_order=[\"Kept\",\"Filtered\"])\n",
    "plt.legend([\"Filtered\",\"Kept\"], bbox_to_anchor=(1,1,0,0),frameon=False)\n",
    "pretty_ax(ax)"
   ]
  },
  {
   "cell_type": "code",
   "execution_count": null,
   "id": "526fa1ab",
   "metadata": {},
   "outputs": [],
   "source": [
    "fig, ax = plt.subplots(2,3,figsize=(5,3))\n",
    "flatax = ax.flatten()\n",
    "\n",
    "pairs = [(\"Filtered\",\"Kept\")]\n",
    "\n",
    "features = [\"pct_counts_mt\", 'log1p_total_counts', \"Dissociation stress\", \"Transcriptome variance\", \n",
    "                    'Mitochondrion (go:0005739)', 'Cytoplasm (go:0005737)']\n",
    "names = [\"% MT counts\", 'log1p(Total counts)', \"Dissociation stress\", \"Transcriptome\\nvariance\", \n",
    "                    'Mitochondrion\\n(GO:0005739)', 'Cytoplasm\\n(GO:0005737)']\n",
    "\n",
    "for i in range(len(flatax)):\n",
    "    sns.boxplot(data=df, x=\"Condition\", y=features[i], ax=flatax[i])\n",
    "    pretty_ax(flatax[i])\n",
    "    flatax[i].set_xlabel(\"\")\n",
    "    flatax[i].set_ylabel(\"\")\n",
    "    flatax[i].set_title(names[i])\n",
    "    \n",
    "    annot = Annotator(\n",
    "        flatax[i],\n",
    "        pairs=pairs,\n",
    "        data=df, x=\"Condition\", y=features[i]\n",
    "    )\n",
    "    annot.configure(\n",
    "        test=\"Mann-Whitney\",\n",
    "        loc=\"inside\",\n",
    "        text_format=\"star\",\n",
    "        show_test_name=False,\n",
    "        verbose=2,\n",
    "        comparisons_correction=None,\n",
    "        fontsize=10,\n",
    "    )\n",
    "    annot.apply_test()\n",
    "    _, test_results = annot.annotate()\n",
    "fig.tight_layout()\n",
    "fig.savefig(\"/add/path/here/figures/pre_vs_post/nasocarcinoma.svg\", \n",
    "            dpi=200, bbox_inches=\"tight\")"
   ]
  },
  {
   "cell_type": "code",
   "execution_count": null,
   "id": "dba8147c",
   "metadata": {},
   "outputs": [],
   "source": [
    "highmt = filtered_adata.obs[filtered_adata.obs.pct_counts_mt>15].index.str.split(\"-\").str[0]+\"-1\"\n",
    "\n",
    "adata.obs[\"Condition\"] = \"Kept\"\n",
    "adata.obs.loc[filtered_cells,\"Condition\"] = \"Filtered (in-house)\"\n",
    "adata.obs.loc[highmt,\"Condition\"] = \"Additional %MT filtering\"\n",
    "\n",
    "fig, ax = plt.subplots(1,1,figsize=(2,1))\n",
    "sns.boxplot(data=adata.obs, x=\"Condition\", y=\"Dissociation stress\",order=[\"Filtered (in-house)\",\n",
    "                                                                          \"Additional %MT filtering\",\n",
    "                                                                          \"Kept\"])\n",
    "pretty_ax(ax)\n",
    "ax.set_xticks(ax.get_xticks(), ax.get_xticklabels(), rotation=45, ha=\"right\")\n",
    "ax.set_xlabel(\"\")\n",
    "ax.set_ylabel(\"\")\n",
    "ax.set_title(\"Dissociation stress\")\n",
    "fig.savefig(\"/add/path/here/figures/pre_vs_post/nasocarcinoma_disso_stress.svg\", dpi=200,\n",
    "            bbox_inches=\"tight\")"
   ]
  },
  {
   "cell_type": "code",
   "execution_count": null,
   "id": "9b2b9689",
   "metadata": {},
   "outputs": [],
   "source": []
  },
  {
   "cell_type": "markdown",
   "id": "30f27ca9",
   "metadata": {},
   "source": [
    "# Uveal Melanoma"
   ]
  },
  {
   "cell_type": "code",
   "execution_count": null,
   "id": "ba788513",
   "metadata": {},
   "outputs": [],
   "source": [
    "adata = sc.read_h5ad(\"/Users/josephineyates/Downloads/UvealMelanoma_Durante.h5ad\")\n",
    "\n",
    "#adata = sc.read_h5ad(\"/add/path/here/NasoCarcinoma_Chen_10X.h5ad\")"
   ]
  },
  {
   "cell_type": "code",
   "execution_count": null,
   "id": "25a9aa6c",
   "metadata": {},
   "outputs": [],
   "source": [
    "filtered_adata = sc.read_h5ad(\"/add/path/here/filtered_data/UvealMelanoma_Durante_10X/filtered_adata.h5ad\")"
   ]
  },
  {
   "cell_type": "code",
   "execution_count": null,
   "id": "46283f4b",
   "metadata": {},
   "outputs": [],
   "source": [
    "adata.var[\"mt\"] = adata.var_names.str.startswith(\"MT-\")\n",
    "sc.pp.calculate_qc_metrics(\n",
    "    adata, qc_vars=[\"mt\"], percent_top=None, log1p=True, inplace=True\n",
    ")"
   ]
  },
  {
   "cell_type": "code",
   "execution_count": null,
   "id": "36823f44",
   "metadata": {},
   "outputs": [],
   "source": [
    "adata.var_names_make_unique()"
   ]
  },
  {
   "cell_type": "markdown",
   "id": "dbc6431f",
   "metadata": {},
   "source": [
    "### Normalize w/o MT genes"
   ]
  },
  {
   "cell_type": "code",
   "execution_count": null,
   "id": "6d54dfb1",
   "metadata": {},
   "outputs": [],
   "source": [
    "adata = adata[:,adata.var_names[~adata.var_names.str.startswith(\"MT-\")]].copy()\n",
    "filtered_adata = filtered_adata[:,filtered_adata.var_names[~filtered_adata.var_names.str.startswith(\"MT-\")]].copy()\n",
    "\n",
    "sc.pp.normalize_total(adata, target_sum=10000)\n",
    "sc.pp.log1p(adata)\n",
    "\n",
    "sc.pp.normalize_total(filtered_adata, target_sum=10000)\n",
    "sc.pp.log1p(filtered_adata)\n",
    "\n",
    "adata.obs[\"Transcriptome variance\"] = adata.to_df().var(axis=1)\n",
    "filtered_adata.obs[\"Transcriptome variance\"] = filtered_adata.to_df().var(axis=1)\n",
    "\n",
    "for sig in go_sigs:\n",
    "    sc.tl.score_genes(adata, gene_list=go_sigs[sig], score_name=sig.capitalize())\n",
    "\n",
    "for sig in go_sigs:\n",
    "    sc.tl.score_genes(filtered_adata, gene_list=go_sigs[sig], score_name=sig.capitalize())\n",
    "\n",
    "for sig in go_sigs:\n",
    "    sc.tl.score_genes(adata, gene_list=common_disso_genes, score_name=\"Dissociation stress\")\n",
    "\n",
    "for sig in go_sigs:\n",
    "    sc.tl.score_genes(filtered_adata, gene_list=common_disso_genes, score_name=\"Dissociation stress\")"
   ]
  },
  {
   "cell_type": "code",
   "execution_count": null,
   "id": "dc3c6079",
   "metadata": {},
   "outputs": [],
   "source": [
    "filtered_cells = np.setdiff1d(adata.obs_names.to_numpy(), [\"-\".join(nm) for nm in filtered_adata.obs_names.str.split(\"-\").str[:3]])"
   ]
  },
  {
   "cell_type": "code",
   "execution_count": null,
   "id": "0834b6e0",
   "metadata": {},
   "outputs": [],
   "source": [
    "filtered_df = adata.obs.loc[filtered_cells, [\"cell_type\",'log1p_n_genes_by_counts', 'Dissociation stress',\n",
    "                    'log1p_total_counts',\"pct_counts_mt\",\n",
    "                    \"Transcriptome variance\", \n",
    "                    'Mitochondrion (go:0005739)', 'Cytoplasm (go:0005737)']]\n",
    "filtered_df = pd.concat([filtered_df,adata[filtered_cells,\"MALAT1\"].to_df()],axis=1)\n",
    "filtered_df.index = filtered_df.index + \"_pre\"\n",
    "filtered_df[\"Condition\"] = \"Filtered\"\n",
    "\n",
    "kept_df = filtered_adata.obs[[\"cell_type\",'log1p_n_genes_by_counts', 'Dissociation stress',\n",
    "                              'log1p_total_counts',\"pct_counts_mt\",\n",
    "                              \"Transcriptome variance\", \n",
    "                              'Mitochondrion (go:0005739)', 'Cytoplasm (go:0005737)']]\n",
    "kept_df = pd.concat([kept_df,filtered_adata[:,\"MALAT1\"].to_df()],axis=1)\n",
    "kept_df.index = kept_df.index + \"_post\"\n",
    "kept_df[\"Condition\"] = \"Kept\""
   ]
  },
  {
   "cell_type": "code",
   "execution_count": null,
   "id": "8a8d8759",
   "metadata": {},
   "outputs": [],
   "source": [
    "df = pd.concat([filtered_df,kept_df])"
   ]
  },
  {
   "cell_type": "code",
   "execution_count": null,
   "id": "44ea98cc",
   "metadata": {},
   "outputs": [],
   "source": [
    "fig, ax = plt.subplots(1,1,figsize=(3,2))\n",
    "sns.kdeplot(data=df, x=\"MALAT1\", hue=\"Condition\", ax=ax, common_norm=False, hue_order=[\"Kept\",\"Filtered\"])\n",
    "plt.legend([\"Filtered\",\"Kept\"], bbox_to_anchor=(1,1,0,0),frameon=False)\n",
    "pretty_ax(ax)"
   ]
  },
  {
   "cell_type": "code",
   "execution_count": null,
   "id": "9632dcfc",
   "metadata": {},
   "outputs": [],
   "source": [
    "fig, ax = plt.subplots(2,3,figsize=(5,3))\n",
    "flatax = ax.flatten()\n",
    "\n",
    "pairs = [(\"Filtered\",\"Kept\")]\n",
    "\n",
    "features = [\"pct_counts_mt\", 'log1p_total_counts', \"Dissociation stress\", \"Transcriptome variance\", \n",
    "                    'Mitochondrion (go:0005739)', 'Cytoplasm (go:0005737)']\n",
    "names = [\"% MT counts\", 'log1p(Total counts)', \"Dissociation stress\", \"Transcriptome\\nvariance\", \n",
    "                    'Mitochondrion\\n(GO:0005739)', 'Cytoplasm\\n(GO:0005737)']\n",
    "\n",
    "for i in range(len(flatax)):\n",
    "    sns.boxplot(data=df, x=\"Condition\", y=features[i], ax=flatax[i])\n",
    "    pretty_ax(flatax[i])\n",
    "    flatax[i].set_xlabel(\"\")\n",
    "    flatax[i].set_ylabel(\"\")\n",
    "    flatax[i].set_title(names[i])\n",
    "    \n",
    "    annot = Annotator(\n",
    "        flatax[i],\n",
    "        pairs=pairs,\n",
    "        data=df, x=\"Condition\", y=features[i]\n",
    "    )\n",
    "    annot.configure(\n",
    "        test=\"Mann-Whitney\",\n",
    "        loc=\"inside\",\n",
    "        text_format=\"star\",\n",
    "        show_test_name=False,\n",
    "        verbose=2,\n",
    "        comparisons_correction=None,\n",
    "        fontsize=10,\n",
    "    )\n",
    "    annot.apply_test()\n",
    "    _, test_results = annot.annotate()\n",
    "fig.tight_layout()\n",
    "fig.savefig(\"/add/path/here/figures/pre_vs_post/uvealmelanoma.svg\", \n",
    "            dpi=200, bbox_inches=\"tight\")"
   ]
  },
  {
   "cell_type": "code",
   "execution_count": null,
   "id": "029ac51b",
   "metadata": {},
   "outputs": [],
   "source": [
    "highmt = filtered_adata.obs[filtered_adata.obs.pct_counts_mt>15].index.str.split(\"-\").str[:3]\n",
    "highmt = [\"-\".join(nm) for nm in highmt]\n",
    "\n",
    "adata.obs[\"Condition\"] = \"Kept\"\n",
    "adata.obs.loc[filtered_cells,\"Condition\"] = \"Filtered (in-house)\"\n",
    "adata.obs.loc[highmt,\"Condition\"] = \"Additional %MT filtering\"\n",
    "\n",
    "fig, ax = plt.subplots(1,1,figsize=(2,1))\n",
    "sns.boxplot(data=adata.obs, x=\"Condition\", y=\"Dissociation stress\",order=[\"Filtered (in-house)\",\n",
    "                                                                          \"Additional %MT filtering\",\n",
    "                                                                          \"Kept\"])\n",
    "pretty_ax(ax)\n",
    "ax.set_xticks(ax.get_xticks(), ax.get_xticklabels(), rotation=45, ha=\"right\")\n",
    "ax.set_xlabel(\"\")\n",
    "ax.set_ylabel(\"\")\n",
    "ax.set_title(\"Dissociation stress\")\n",
    "fig.savefig(\"/add/path/here/figures/pre_vs_post/uvealmelanoma_disso_stress.svg\", dpi=200,\n",
    "            bbox_inches=\"tight\")"
   ]
  },
  {
   "cell_type": "code",
   "execution_count": null,
   "id": "2389dd92",
   "metadata": {},
   "outputs": [],
   "source": []
  },
  {
   "cell_type": "code",
   "execution_count": null,
   "id": "c9733274",
   "metadata": {},
   "outputs": [],
   "source": []
  },
  {
   "cell_type": "code",
   "execution_count": null,
   "id": "6489758c",
   "metadata": {},
   "outputs": [],
   "source": []
  },
  {
   "cell_type": "code",
   "execution_count": null,
   "id": "70db15e6",
   "metadata": {},
   "outputs": [],
   "source": []
  }
 ],
 "metadata": {
  "kernelspec": {
   "display_name": "Python 3 (ipykernel)",
   "language": "python",
   "name": "python3"
  },
  "language_info": {
   "codemirror_mode": {
    "name": "ipython",
    "version": 3
   },
   "file_extension": ".py",
   "mimetype": "text/x-python",
   "name": "python",
   "nbconvert_exporter": "python",
   "pygments_lexer": "ipython3",
   "version": "3.10.0"
  }
 },
 "nbformat": 4,
 "nbformat_minor": 5
}
