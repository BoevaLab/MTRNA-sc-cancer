{
 "cells": [
  {
   "cell_type": "code",
   "execution_count": 1,
   "id": "496b6a49",
   "metadata": {},
   "outputs": [],
   "source": [
    "import pandas as pd\n",
    "import numpy as np\n",
    "import scanpy as sc"
   ]
  },
  {
   "cell_type": "code",
   "execution_count": 117,
   "id": "5ea643f8",
   "metadata": {},
   "outputs": [],
   "source": [
    "import matplotlib.pyplot as plt\n",
    "import seaborn as sns"
   ]
  },
  {
   "cell_type": "code",
   "execution_count": 99,
   "id": "7eb7bb16",
   "metadata": {},
   "outputs": [],
   "source": [
    "import os\n",
    "import pathlib as pl"
   ]
  },
  {
   "cell_type": "code",
   "execution_count": 97,
   "id": "bd5b8269",
   "metadata": {},
   "outputs": [],
   "source": [
    "from tqdm.notebook import tqdm"
   ]
  },
  {
   "cell_type": "code",
   "execution_count": 119,
   "id": "1377e53c",
   "metadata": {},
   "outputs": [],
   "source": [
    "def pretty_ax(ax: plt.Axes, linew: int = 1, hideticks: bool=False):\n",
    "    # Hide the right and top spines\n",
    "    ax.spines.right.set_visible(False)\n",
    "    ax.spines.top.set_visible(False)\n",
    "    for axis in [\"bottom\", \"left\"]:\n",
    "        ax.spines[axis].set_linewidth(linew)\n",
    "    if hideticks:\n",
    "        ax.set_xticks([])\n",
    "        ax.set_yticks([])"
   ]
  },
  {
   "cell_type": "markdown",
   "id": "678cf5ae",
   "metadata": {},
   "source": [
    "# General info"
   ]
  },
  {
   "cell_type": "code",
   "execution_count": 74,
   "id": "6267de7c",
   "metadata": {},
   "outputs": [],
   "source": [
    "meta = pd.read_csv(\"/add/path/here/10498240/final_master.tsv\",sep=\"\\t\").set_index(\"cell_id\")"
   ]
  },
  {
   "cell_type": "markdown",
   "id": "87d92d39-da1b-46e6-9630-7043be7ae8cd",
   "metadata": {},
   "source": [
    "The following file was provided by the author of the paper; another way of assigning clones is to follow these indications: \n",
    "\"The letter clone assignments are based on the node IDs in increasing order, so you can map them accordingly. For example, if there are 3 nodes: nodes 1, 164, and 294, then node_1 is assigned to clone A, node_164 to clone B, and node_294 to clone C.\""
   ]
  },
  {
   "cell_type": "code",
   "execution_count": 77,
   "id": "035c99a4",
   "metadata": {},
   "outputs": [],
   "source": [
    "# provided file\n",
    "scrna_clone_labels = pd.read_csv(\"/add/path/here/clonelabel_RNA.tsv\",sep=\"\\t\").set_index(\"cell_id\")"
   ]
  },
  {
   "cell_type": "markdown",
   "id": "1efbd39f",
   "metadata": {},
   "source": [
    "# SA039"
   ]
  },
  {
   "cell_type": "code",
   "execution_count": 182,
   "id": "3c998371",
   "metadata": {},
   "outputs": [
    {
     "data": {
      "application/vnd.jupyter.widget-view+json": {
       "model_id": "6e2ef74ab01146aaa18ce282c35735a5",
       "version_major": 2,
       "version_minor": 0
      },
      "text/plain": [
       "0it [00:00, ?it/s]"
      ]
     },
     "metadata": {},
     "output_type": "display_data"
    }
   ],
   "source": [
    "patient = \"SA039\"\n",
    "\n",
    "resdir = pl.Path(f\"/add/path/here/sigs_june2022/scRNA/count_matrices/{patient}\")\n",
    "\n",
    "plot_df = []\n",
    "for sample in tqdm(resdir.iterdir()):\n",
    "    if sample.stem==\".DS_Store\":\n",
    "        continue\n",
    "    counts = sc.read_10x_mtx(sample)\n",
    "\n",
    "    counts.obs_names = sample.stem + \"_\" + counts.obs_names\n",
    "\n",
    "    # mitochondrial genes, \"MT-\" for human, \"Mt-\" for mouse\n",
    "    counts.var[\"mt\"] = counts.var_names.str.startswith(\"MT-\")\n",
    "    # ribosomal genes\n",
    "    counts.var[\"ribo\"] = counts.var_names.str.startswith((\"RPS\", \"RPL\"))\n",
    "\n",
    "    sc.pp.calculate_qc_metrics(\n",
    "        counts, qc_vars=[\"mt\", \"ribo\"], inplace=True, log1p=True\n",
    "    )\n",
    "    \n",
    "    common = scrna_clone_labels.index.intersection(counts.obs_names)\n",
    "    plot_df_pat = pd.concat([counts.obs.loc[common,[\"pct_counts_mt\"]],scrna_clone_labels.loc[common]],axis=1)\n",
    "    \n",
    "    plot_df.append(plot_df_pat)"
   ]
  },
  {
   "cell_type": "code",
   "execution_count": 183,
   "id": "0681eb60",
   "metadata": {},
   "outputs": [],
   "source": [
    "plot_df = pd.concat(plot_df)"
   ]
  },
  {
   "cell_type": "code",
   "execution_count": 184,
   "id": "5bd11408",
   "metadata": {},
   "outputs": [
    {
     "name": "stderr",
     "output_type": "stream",
     "text": [
      "/var/folders/y0/0jmz5bl96kb57fmb09fl6fdw0000gn/T/ipykernel_88386/1307149508.py:3: FutureWarning: The default value of numeric_only in DataFrameGroupBy.median is deprecated. In a future version, numeric_only will default to False. Either specify numeric_only or select only columns which should be valid for the function.\n",
      "  order = meta[meta[\"suplibrary\"]==\"SA039-ALL\"].groupby(\"treealign_id\").median()[\"MNR\"].sort_values().index\n"
     ]
    },
    {
     "data": {
      "image/png": "[encoded data removed]",
      "text/plain": [
       "<Figure size 400x200 with 2 Axes>"
      ]
     },
     "metadata": {},
     "output_type": "display_data"
    }
   ],
   "source": [
    "fig, ax = plt.subplots(1,2,figsize=(4,2))\n",
    "\n",
    "order = meta[meta[\"suplibrary\"]==\"SA039-ALL\"].groupby(\"treealign_id\").median()[\"MNR\"].sort_values().index\n",
    "\n",
    "sns.boxplot(data=meta[meta[\"suplibrary\"]==\"SA039-ALL\"], x=\"treealign_id\", y=\"MNR\",ax=ax[0], order=order)\n",
    "ax[0].set_xlabel(\"\")\n",
    "sns.boxplot(data=plot_df, x=\"clone_id\", y=\"pct_counts_mt\",ax=ax[1], order=order)\n",
    "ax[1].set_xlabel(\"\")\n",
    "ax[1].set_ylabel(\"% MT counts\")\n",
    "\n",
    "for i in range(len(ax)):\n",
    "    pretty_ax(ax[i])\n",
    "    \n",
    "fig.suptitle(patient)\n",
    "fig.tight_layout()\n",
    "fig.savefig(f\"/add/path/here/figures/mtdna_to_pct/{patient}.svg\", dpi=200, bbox_inches='tight')"
   ]
  },
  {
   "cell_type": "markdown",
   "id": "cb51dde4",
   "metadata": {},
   "source": [
    "# SA1035"
   ]
  },
  {
   "cell_type": "code",
   "execution_count": 185,
   "id": "bd340860",
   "metadata": {},
   "outputs": [
    {
     "data": {
      "application/vnd.jupyter.widget-view+json": {
       "model_id": "d494aba653a04f578d922861ae4c3e55",
       "version_major": 2,
       "version_minor": 0
      },
      "text/plain": [
       "0it [00:00, ?it/s]"
      ]
     },
     "metadata": {},
     "output_type": "display_data"
    }
   ],
   "source": [
    "patient = \"SA1035\"\n",
    "\n",
    "resdir = pl.Path(f\"/add/path/here/sigs_june2022/scRNA/count_matrices/{patient}\")\n",
    "\n",
    "plot_df = []\n",
    "for sample in tqdm(resdir.iterdir()):\n",
    "    if sample.stem==\".DS_Store\":\n",
    "        continue\n",
    "    counts = sc.read_10x_mtx(sample)\n",
    "\n",
    "    counts.obs_names = sample.stem + \"_\" + counts.obs_names\n",
    "\n",
    "    # mitochondrial genes, \"MT-\" for human, \"Mt-\" for mouse\n",
    "    counts.var[\"mt\"] = counts.var_names.str.startswith(\"MT-\")\n",
    "    # ribosomal genes\n",
    "    counts.var[\"ribo\"] = counts.var_names.str.startswith((\"RPS\", \"RPL\"))\n",
    "\n",
    "    sc.pp.calculate_qc_metrics(\n",
    "        counts, qc_vars=[\"mt\", \"ribo\"], inplace=True, log1p=True\n",
    "    )\n",
    "    \n",
    "    common = scrna_clone_labels.index.intersection(counts.obs_names)\n",
    "    plot_df_pat = pd.concat([counts.obs.loc[common,[\"pct_counts_mt\"]],scrna_clone_labels.loc[common]],axis=1)\n",
    "    \n",
    "    plot_df.append(plot_df_pat)"
   ]
  },
  {
   "cell_type": "code",
   "execution_count": 186,
   "id": "50fae0ad",
   "metadata": {},
   "outputs": [],
   "source": [
    "plot_df = pd.concat(plot_df)"
   ]
  },
  {
   "cell_type": "code",
   "execution_count": 187,
   "id": "1f1a6e82",
   "metadata": {},
   "outputs": [
    {
     "name": "stderr",
     "output_type": "stream",
     "text": [
      "/var/folders/y0/0jmz5bl96kb57fmb09fl6fdw0000gn/T/ipykernel_88386/3292324805.py:3: FutureWarning: The default value of numeric_only in DataFrameGroupBy.median is deprecated. In a future version, numeric_only will default to False. Either specify numeric_only or select only columns which should be valid for the function.\n",
      "  order = meta[meta[\"suplibrary\"]==\"SA1035U-ALL\"].groupby(\"treealign_id\").median()[\"MNR\"].sort_values().index\n"
     ]
    },
    {
     "data": {
      "image/png": "[encoded data removed]",
      "text/plain": [
       "<Figure size 400x200 with 2 Axes>"
      ]
     },
     "metadata": {},
     "output_type": "display_data"
    }
   ],
   "source": [
    "fig, ax = plt.subplots(1,2,figsize=(4,2))\n",
    "\n",
    "order = meta[meta[\"suplibrary\"]==\"SA1035U-ALL\"].groupby(\"treealign_id\").median()[\"MNR\"].sort_values().index\n",
    "\n",
    "sns.boxplot(data=meta[meta[\"suplibrary\"]==\"SA1035U-ALL\"], x=\"treealign_id\", y=\"MNR\",ax=ax[0], order=order)\n",
    "ax[0].set_xlabel(\"\")\n",
    "sns.boxplot(data=plot_df, x=\"clone_id\", y=\"pct_counts_mt\",ax=ax[1], order=order)\n",
    "ax[1].set_xlabel(\"\")\n",
    "ax[1].set_ylabel(\"% MT counts\")\n",
    "\n",
    "for i in range(len(ax)):\n",
    "    pretty_ax(ax[i])\n",
    "    \n",
    "fig.suptitle(patient)\n",
    "fig.tight_layout()\n",
    "fig.savefig(f\"/add/path/here/figures/mtdna_to_pct/{patient}.svg\", dpi=200, bbox_inches='tight')"
   ]
  },
  {
   "cell_type": "markdown",
   "id": "e208cba7",
   "metadata": {},
   "source": [
    "# SA1052"
   ]
  },
  {
   "cell_type": "code",
   "execution_count": 188,
   "id": "668b8e85",
   "metadata": {},
   "outputs": [
    {
     "data": {
      "application/vnd.jupyter.widget-view+json": {
       "model_id": "65f08cb5595e428080d6619e5d2cb938",
       "version_major": 2,
       "version_minor": 0
      },
      "text/plain": [
       "0it [00:00, ?it/s]"
      ]
     },
     "metadata": {},
     "output_type": "display_data"
    }
   ],
   "source": [
    "patient = \"SA1052\"\n",
    "\n",
    "resdir = pl.Path(f\"/add/path/here/sigs_june2022/scRNA/count_matrices/{patient}\")\n",
    "\n",
    "plot_df = []\n",
    "for sample in tqdm(resdir.iterdir()):\n",
    "    if sample.stem==\".DS_Store\":\n",
    "        continue\n",
    "    counts = sc.read_10x_mtx(sample)\n",
    "\n",
    "    counts.obs_names = sample.stem + \"_\" + counts.obs_names\n",
    "\n",
    "    # mitochondrial genes, \"MT-\" for human, \"Mt-\" for mouse\n",
    "    counts.var[\"mt\"] = counts.var_names.str.startswith(\"MT-\")\n",
    "    # ribosomal genes\n",
    "    counts.var[\"ribo\"] = counts.var_names.str.startswith((\"RPS\", \"RPL\"))\n",
    "\n",
    "    sc.pp.calculate_qc_metrics(\n",
    "        counts, qc_vars=[\"mt\", \"ribo\"], inplace=True, log1p=True\n",
    "    )\n",
    "    \n",
    "    common = scrna_clone_labels.index.intersection(counts.obs_names)\n",
    "    plot_df_pat = pd.concat([counts.obs.loc[common,[\"pct_counts_mt\"]],scrna_clone_labels.loc[common]],axis=1)\n",
    "    \n",
    "    plot_df.append(plot_df_pat)"
   ]
  },
  {
   "cell_type": "code",
   "execution_count": 189,
   "id": "3de74736",
   "metadata": {},
   "outputs": [],
   "source": [
    "plot_df = pd.concat(plot_df)"
   ]
  },
  {
   "cell_type": "code",
   "execution_count": 190,
   "id": "5d196755",
   "metadata": {
    "scrolled": true
   },
   "outputs": [
    {
     "name": "stderr",
     "output_type": "stream",
     "text": [
      "/var/folders/y0/0jmz5bl96kb57fmb09fl6fdw0000gn/T/ipykernel_88386/303475160.py:3: FutureWarning: The default value of numeric_only in DataFrameGroupBy.median is deprecated. In a future version, numeric_only will default to False. Either specify numeric_only or select only columns which should be valid for the function.\n",
      "  order = meta[meta[\"suplibrary\"]==\"SA1052-ALL\"].groupby(\"treealign_id\").median()[\"MNR\"].sort_values().index\n"
     ]
    },
    {
     "data": {
      "image/png": "[encoded data removed]",
      "text/plain": [
       "<Figure size 400x200 with 2 Axes>"
      ]
     },
     "metadata": {},
     "output_type": "display_data"
    }
   ],
   "source": [
    "fig, ax = plt.subplots(1,2,figsize=(4,2))\n",
    "\n",
    "order = meta[meta[\"suplibrary\"]==\"SA1052-ALL\"].groupby(\"treealign_id\").median()[\"MNR\"].sort_values().index\n",
    "\n",
    "sns.boxplot(data=meta[meta[\"suplibrary\"]==\"SA1052-ALL\"], x=\"treealign_id\", y=\"MNR\",ax=ax[0], order=order)\n",
    "ax[0].set_xlabel(\"\")\n",
    "sns.boxplot(data=plot_df, x=\"clone_id\", y=\"pct_counts_mt\",ax=ax[1], order=order)\n",
    "ax[1].set_xlabel(\"\")\n",
    "ax[1].set_ylabel(\"% MT counts\")\n",
    "\n",
    "for i in range(len(ax)):\n",
    "    pretty_ax(ax[i])\n",
    "    \n",
    "fig.suptitle(patient)\n",
    "fig.tight_layout()\n",
    "fig.savefig(f\"/add/path/here/figures/mtdna_to_pct/{patient}.svg\", dpi=200, bbox_inches='tight')"
   ]
  },
  {
   "cell_type": "markdown",
   "id": "75f331fb",
   "metadata": {},
   "source": [
    "# SA1054"
   ]
  },
  {
   "cell_type": "code",
   "execution_count": 191,
   "id": "1ae4de0c",
   "metadata": {},
   "outputs": [
    {
     "data": {
      "application/vnd.jupyter.widget-view+json": {
       "model_id": "63e6a5b0929f4ad9a19234a95547cf40",
       "version_major": 2,
       "version_minor": 0
      },
      "text/plain": [
       "0it [00:00, ?it/s]"
      ]
     },
     "metadata": {},
     "output_type": "display_data"
    }
   ],
   "source": [
    "patient = \"SA1054\"\n",
    "\n",
    "resdir = pl.Path(f\"/add/path/here/sigs_june2022/scRNA/count_matrices/{patient}\")\n",
    "\n",
    "plot_df = []\n",
    "for sample in tqdm(resdir.iterdir()):\n",
    "    if sample.stem==\".DS_Store\":\n",
    "        continue\n",
    "    counts = sc.read_10x_mtx(sample)\n",
    "\n",
    "    counts.obs_names = sample.stem + \"_\" + counts.obs_names\n",
    "\n",
    "    # mitochondrial genes, \"MT-\" for human, \"Mt-\" for mouse\n",
    "    counts.var[\"mt\"] = counts.var_names.str.startswith(\"MT-\")\n",
    "    # ribosomal genes\n",
    "    counts.var[\"ribo\"] = counts.var_names.str.startswith((\"RPS\", \"RPL\"))\n",
    "\n",
    "    sc.pp.calculate_qc_metrics(\n",
    "        counts, qc_vars=[\"mt\", \"ribo\"], inplace=True, log1p=True\n",
    "    )\n",
    "    \n",
    "    common = scrna_clone_labels.index.intersection(counts.obs_names)\n",
    "    plot_df_pat = pd.concat([counts.obs.loc[common,[\"pct_counts_mt\"]],scrna_clone_labels.loc[common]],axis=1)\n",
    "    \n",
    "    plot_df.append(plot_df_pat)"
   ]
  },
  {
   "cell_type": "code",
   "execution_count": 192,
   "id": "011a7ae2",
   "metadata": {},
   "outputs": [],
   "source": [
    "plot_df = pd.concat(plot_df)"
   ]
  },
  {
   "cell_type": "code",
   "execution_count": 193,
   "id": "b918f316",
   "metadata": {},
   "outputs": [
    {
     "name": "stderr",
     "output_type": "stream",
     "text": [
      "/var/folders/y0/0jmz5bl96kb57fmb09fl6fdw0000gn/T/ipykernel_88386/3588080792.py:3: FutureWarning: The default value of numeric_only in DataFrameGroupBy.median is deprecated. In a future version, numeric_only will default to False. Either specify numeric_only or select only columns which should be valid for the function.\n",
      "  order = meta[meta[\"suplibrary\"]==\"SA1054-A95632A\"].groupby(\"treealign_id\").median()[\"MNR\"].sort_values().index\n"
     ]
    },
    {
     "data": {
      "image/png": "[encoded data removed]",
      "text/plain": [
       "<Figure size 400x200 with 2 Axes>"
      ]
     },
     "metadata": {},
     "output_type": "display_data"
    }
   ],
   "source": [
    "fig, ax = plt.subplots(1,2,figsize=(4,2))\n",
    "\n",
    "order = meta[meta[\"suplibrary\"]==\"SA1054-A95632A\"].groupby(\"treealign_id\").median()[\"MNR\"].sort_values().index\n",
    "\n",
    "sns.boxplot(data=meta[meta[\"suplibrary\"]==\"SA1054-A95632A\"], x=\"treealign_id\", y=\"MNR\",ax=ax[0], order=order)\n",
    "ax[0].set_xlabel(\"\")\n",
    "sns.boxplot(data=plot_df, x=\"clone_id\", y=\"pct_counts_mt\",ax=ax[1], order=order)\n",
    "ax[1].set_xlabel(\"\")\n",
    "ax[1].set_ylabel(\"% MT counts\")\n",
    "\n",
    "for i in range(len(ax)):\n",
    "    pretty_ax(ax[i])\n",
    "    \n",
    "fig.suptitle(patient)\n",
    "fig.tight_layout()\n",
    "fig.savefig(f\"/add/path/here/figures/mtdna_to_pct/{patient}.svg\", dpi=200, bbox_inches='tight')"
   ]
  },
  {
   "cell_type": "markdown",
   "id": "7084c0a0",
   "metadata": {},
   "source": [
    "# SA1055"
   ]
  },
  {
   "cell_type": "code",
   "execution_count": 194,
   "id": "8d0c20a8",
   "metadata": {},
   "outputs": [
    {
     "data": {
      "application/vnd.jupyter.widget-view+json": {
       "model_id": "5418e119cdf7428faef4b6d63d881c0b",
       "version_major": 2,
       "version_minor": 0
      },
      "text/plain": [
       "0it [00:00, ?it/s]"
      ]
     },
     "metadata": {},
     "output_type": "display_data"
    }
   ],
   "source": [
    "patient = \"SA1055\"\n",
    "\n",
    "resdir = pl.Path(f\"/add/path/here/sigs_june2022/scRNA/count_matrices/{patient}\")\n",
    "\n",
    "plot_df = []\n",
    "for sample in tqdm(resdir.iterdir()):\n",
    "    if sample.stem==\".DS_Store\":\n",
    "        continue\n",
    "    counts = sc.read_10x_mtx(sample)\n",
    "\n",
    "    counts.obs_names = sample.stem + \"_\" + counts.obs_names\n",
    "\n",
    "    # mitochondrial genes, \"MT-\" for human, \"Mt-\" for mouse\n",
    "    counts.var[\"mt\"] = counts.var_names.str.startswith(\"MT-\")\n",
    "    # ribosomal genes\n",
    "    counts.var[\"ribo\"] = counts.var_names.str.startswith((\"RPS\", \"RPL\"))\n",
    "\n",
    "    sc.pp.calculate_qc_metrics(\n",
    "        counts, qc_vars=[\"mt\", \"ribo\"], inplace=True, log1p=True\n",
    "    )\n",
    "    \n",
    "    common = scrna_clone_labels.index.intersection(counts.obs_names)\n",
    "    plot_df_pat = pd.concat([counts.obs.loc[common,[\"pct_counts_mt\"]],scrna_clone_labels.loc[common]],axis=1)\n",
    "    \n",
    "    plot_df.append(plot_df_pat)"
   ]
  },
  {
   "cell_type": "code",
   "execution_count": 195,
   "id": "4234bb50",
   "metadata": {},
   "outputs": [],
   "source": [
    "plot_df = pd.concat(plot_df)"
   ]
  },
  {
   "cell_type": "code",
   "execution_count": 196,
   "id": "e6b6a5e4",
   "metadata": {},
   "outputs": [
    {
     "name": "stderr",
     "output_type": "stream",
     "text": [
      "/var/folders/y0/0jmz5bl96kb57fmb09fl6fdw0000gn/T/ipykernel_88386/518279278.py:3: FutureWarning: The default value of numeric_only in DataFrameGroupBy.median is deprecated. In a future version, numeric_only will default to False. Either specify numeric_only or select only columns which should be valid for the function.\n",
      "  order = meta[meta[\"suplibrary\"]==\"SA1055-A95621A\"].groupby(\"treealign_id\").median()[\"MNR\"].sort_values().index\n"
     ]
    },
    {
     "data": {
      "image/png": "[encoded data removed]",
      "text/plain": [
       "<Figure size 400x200 with 2 Axes>"
      ]
     },
     "metadata": {},
     "output_type": "display_data"
    }
   ],
   "source": [
    "fig, ax = plt.subplots(1,2,figsize=(4,2))\n",
    "\n",
    "order = meta[meta[\"suplibrary\"]==\"SA1055-A95621A\"].groupby(\"treealign_id\").median()[\"MNR\"].sort_values().index\n",
    "\n",
    "sns.boxplot(data=meta[meta[\"suplibrary\"]==\"SA1055-A95621A\"], x=\"treealign_id\", y=\"MNR\",ax=ax[0], order=order)\n",
    "ax[0].set_xlabel(\"\")\n",
    "sns.boxplot(data=plot_df, x=\"clone_id\", y=\"pct_counts_mt\",ax=ax[1], order=order)\n",
    "ax[1].set_xlabel(\"\")\n",
    "ax[1].set_ylabel(\"% MT counts\")\n",
    "\n",
    "for i in range(len(ax)):\n",
    "    pretty_ax(ax[i])\n",
    "\n",
    "fig.suptitle(patient)\n",
    "fig.tight_layout()\n",
    "fig.savefig(f\"/add/path/here/figures/mtdna_to_pct/{patient}.svg\", dpi=200, bbox_inches='tight')"
   ]
  },
  {
   "cell_type": "markdown",
   "id": "d6c19c3b",
   "metadata": {},
   "source": [
    "# SA1056"
   ]
  },
  {
   "cell_type": "code",
   "execution_count": 197,
   "id": "39bc0663",
   "metadata": {},
   "outputs": [
    {
     "data": {
      "application/vnd.jupyter.widget-view+json": {
       "model_id": "4114307e2ac34fd2b6060c97a0ddf541",
       "version_major": 2,
       "version_minor": 0
      },
      "text/plain": [
       "0it [00:00, ?it/s]"
      ]
     },
     "metadata": {},
     "output_type": "display_data"
    }
   ],
   "source": [
    "patient = \"SA1056\"\n",
    "\n",
    "resdir = pl.Path(f\"/add/path/here/sigs_june2022/scRNA/count_matrices/{patient}\")\n",
    "\n",
    "plot_df = []\n",
    "for sample in tqdm(resdir.iterdir()):\n",
    "    if sample.stem==\".DS_Store\":\n",
    "        continue\n",
    "    counts = sc.read_10x_mtx(sample)\n",
    "\n",
    "    counts.obs_names = sample.stem + \"_\" + counts.obs_names\n",
    "\n",
    "    # mitochondrial genes, \"MT-\" for human, \"Mt-\" for mouse\n",
    "    counts.var[\"mt\"] = counts.var_names.str.startswith(\"MT-\")\n",
    "    # ribosomal genes\n",
    "    counts.var[\"ribo\"] = counts.var_names.str.startswith((\"RPS\", \"RPL\"))\n",
    "\n",
    "    sc.pp.calculate_qc_metrics(\n",
    "        counts, qc_vars=[\"mt\", \"ribo\"], inplace=True, log1p=True\n",
    "    )\n",
    "    \n",
    "    common = scrna_clone_labels.index.intersection(counts.obs_names)\n",
    "    plot_df_pat = pd.concat([counts.obs.loc[common,[\"pct_counts_mt\"]],scrna_clone_labels.loc[common]],axis=1)\n",
    "    \n",
    "    plot_df.append(plot_df_pat)"
   ]
  },
  {
   "cell_type": "code",
   "execution_count": 198,
   "id": "ff684323",
   "metadata": {},
   "outputs": [],
   "source": [
    "plot_df = pd.concat(plot_df)"
   ]
  },
  {
   "cell_type": "code",
   "execution_count": 199,
   "id": "3553189a",
   "metadata": {},
   "outputs": [
    {
     "name": "stderr",
     "output_type": "stream",
     "text": [
      "/var/folders/y0/0jmz5bl96kb57fmb09fl6fdw0000gn/T/ipykernel_88386/1938737471.py:3: FutureWarning: The default value of numeric_only in DataFrameGroupBy.median is deprecated. In a future version, numeric_only will default to False. Either specify numeric_only or select only columns which should be valid for the function.\n",
      "  order = meta[meta[\"suplibrary\"]==\"SA1056-A95635A\"].groupby(\"treealign_id\").median()[\"MNR\"].sort_values().index\n"
     ]
    },
    {
     "data": {
      "image/png": "[encoded data removed]",
      "text/plain": [
       "<Figure size 400x200 with 2 Axes>"
      ]
     },
     "metadata": {},
     "output_type": "display_data"
    }
   ],
   "source": [
    "fig, ax = plt.subplots(1,2,figsize=(4,2))\n",
    "\n",
    "order = meta[meta[\"suplibrary\"]==\"SA1056-A95635A\"].groupby(\"treealign_id\").median()[\"MNR\"].sort_values().index\n",
    "\n",
    "sns.boxplot(data=meta[meta[\"suplibrary\"]==\"SA1056-A95635A\"], x=\"treealign_id\", y=\"MNR\",ax=ax[0], order=order)\n",
    "ax[0].set_xlabel(\"\")\n",
    "sns.boxplot(data=plot_df, x=\"clone_id\", y=\"pct_counts_mt\",ax=ax[1], order=order)\n",
    "ax[1].set_xlabel(\"\")\n",
    "ax[1].set_ylabel(\"% MT counts\")\n",
    "\n",
    "for i in range(len(ax)):\n",
    "    pretty_ax(ax[i])\n",
    "\n",
    "fig.suptitle(patient)\n",
    "fig.tight_layout()\n",
    "fig.savefig(f\"/add/path/here/figures/mtdna_to_pct/{patient}.svg\", dpi=200, bbox_inches='tight')"
   ]
  },
  {
   "cell_type": "markdown",
   "id": "38b2f3a1",
   "metadata": {},
   "source": [
    "# SA1188"
   ]
  },
  {
   "cell_type": "code",
   "execution_count": 200,
   "id": "a06f4253",
   "metadata": {},
   "outputs": [
    {
     "data": {
      "application/vnd.jupyter.widget-view+json": {
       "model_id": "6d3cb5cc8c454811a8f3320ee98f12e9",
       "version_major": 2,
       "version_minor": 0
      },
      "text/plain": [
       "0it [00:00, ?it/s]"
      ]
     },
     "metadata": {},
     "output_type": "display_data"
    }
   ],
   "source": [
    "patient = \"SA1188\"\n",
    "\n",
    "resdir = pl.Path(f\"/add/path/here/sigs_june2022/scRNA/count_matrices/{patient}\")\n",
    "\n",
    "plot_df = []\n",
    "for sample in tqdm(resdir.iterdir()):\n",
    "    if sample.stem==\".DS_Store\":\n",
    "        continue\n",
    "    counts = sc.read_10x_mtx(sample)\n",
    "\n",
    "    counts.obs_names = sample.stem + \"_\" + counts.obs_names\n",
    "\n",
    "    # mitochondrial genes, \"MT-\" for human, \"Mt-\" for mouse\n",
    "    counts.var[\"mt\"] = counts.var_names.str.startswith(\"MT-\")\n",
    "    # ribosomal genes\n",
    "    counts.var[\"ribo\"] = counts.var_names.str.startswith((\"RPS\", \"RPL\"))\n",
    "\n",
    "    sc.pp.calculate_qc_metrics(\n",
    "        counts, qc_vars=[\"mt\", \"ribo\"], inplace=True, log1p=True\n",
    "    )\n",
    "    \n",
    "    common = scrna_clone_labels.index.intersection(counts.obs_names)\n",
    "    plot_df_pat = pd.concat([counts.obs.loc[common,[\"pct_counts_mt\"]],scrna_clone_labels.loc[common]],axis=1)\n",
    "    \n",
    "    plot_df.append(plot_df_pat)"
   ]
  },
  {
   "cell_type": "code",
   "execution_count": 201,
   "id": "20aadf33",
   "metadata": {},
   "outputs": [],
   "source": [
    "plot_df = pd.concat(plot_df)"
   ]
  },
  {
   "cell_type": "code",
   "execution_count": 202,
   "id": "6b042c75",
   "metadata": {},
   "outputs": [
    {
     "name": "stderr",
     "output_type": "stream",
     "text": [
      "/var/folders/y0/0jmz5bl96kb57fmb09fl6fdw0000gn/T/ipykernel_88386/4096095976.py:3: FutureWarning: The default value of numeric_only in DataFrameGroupBy.median is deprecated. In a future version, numeric_only will default to False. Either specify numeric_only or select only columns which should be valid for the function.\n",
      "  order = meta[meta[\"suplibrary\"]==\"SA1188-ALL\"].groupby(\"treealign_id\").median()[\"MNR\"].sort_values().index\n"
     ]
    },
    {
     "data": {
      "image/png": "[encoded data removed]",
      "text/plain": [
       "<Figure size 400x200 with 2 Axes>"
      ]
     },
     "metadata": {},
     "output_type": "display_data"
    }
   ],
   "source": [
    "fig, ax = plt.subplots(1,2,figsize=(4,2))\n",
    "\n",
    "order = meta[meta[\"suplibrary\"]==\"SA1188-ALL\"].groupby(\"treealign_id\").median()[\"MNR\"].sort_values().index\n",
    "\n",
    "sns.boxplot(data=meta[meta[\"suplibrary\"]==\"SA1188-ALL\"], x=\"treealign_id\", y=\"MNR\",ax=ax[0], order=order)\n",
    "ax[0].set_xlabel(\"\")\n",
    "sns.boxplot(data=plot_df, x=\"clone_id\", y=\"pct_counts_mt\",ax=ax[1], order=order)\n",
    "ax[1].set_xlabel(\"\")\n",
    "ax[1].set_ylabel(\"% MT counts\")\n",
    "\n",
    "for i in range(len(ax)):\n",
    "    pretty_ax(ax[i])\n",
    "\n",
    "fig.suptitle(patient)\n",
    "fig.tight_layout()\n",
    "fig.savefig(f\"/add/path/here/figures/mtdna_to_pct/{patient}.svg\", dpi=200, bbox_inches='tight')"
   ]
  },
  {
   "cell_type": "markdown",
   "id": "c4579175",
   "metadata": {},
   "source": [
    "# SA535"
   ]
  },
  {
   "cell_type": "code",
   "execution_count": 169,
   "id": "5a3466d3",
   "metadata": {},
   "outputs": [
    {
     "data": {
      "application/vnd.jupyter.widget-view+json": {
       "model_id": "",
       "version_major": 2,
       "version_minor": 0
      },
      "text/plain": [
       "0it [00:00, ?it/s]"
      ]
     },
     "metadata": {},
     "output_type": "display_data"
    }
   ],
   "source": [
    "patient = \"SA535\"\n",
    "\n",
    "resdir = pl.Path(f\"/add/path/here/sigs_june2022/scRNA/count_matrices/{patient}\")\n",
    "\n",
    "plot_df = []\n",
    "for sample in tqdm(resdir.iterdir()):\n",
    "    if sample.stem==\".DS_Store\":\n",
    "        continue\n",
    "    counts = sc.read_10x_mtx(sample)\n",
    "\n",
    "    counts.obs_names = sample.stem + \"_\" + counts.obs_names\n",
    "\n",
    "    # mitochondrial genes, \"MT-\" for human, \"Mt-\" for mouse\n",
    "    counts.var[\"mt\"] = counts.var_names.str.startswith(\"MT-\")\n",
    "    # ribosomal genes\n",
    "    counts.var[\"ribo\"] = counts.var_names.str.startswith((\"RPS\", \"RPL\"))\n",
    "\n",
    "    sc.pp.calculate_qc_metrics(\n",
    "        counts, qc_vars=[\"mt\", \"ribo\"], inplace=True, log1p=True\n",
    "    )\n",
    "    \n",
    "    common = scrna_clone_labels.index.intersection(counts.obs_names)\n",
    "    plot_df_pat = pd.concat([counts.obs.loc[common,[\"pct_counts_mt\"]],scrna_clone_labels.loc[common]],axis=1)\n",
    "    \n",
    "    plot_df.append(plot_df_pat)"
   ]
  },
  {
   "cell_type": "code",
   "execution_count": 170,
   "id": "133ec4e9",
   "metadata": {},
   "outputs": [],
   "source": [
    "plot_df = pd.concat(plot_df)"
   ]
  },
  {
   "cell_type": "code",
   "execution_count": 178,
   "id": "7a15599b",
   "metadata": {},
   "outputs": [
    {
     "name": "stderr",
     "output_type": "stream",
     "text": [
      "/var/folders/y0/0jmz5bl96kb57fmb09fl6fdw0000gn/T/ipykernel_88386/2276057531.py:3: FutureWarning: The default value of numeric_only in DataFrameGroupBy.median is deprecated. In a future version, numeric_only will default to False. Either specify numeric_only or select only columns which should be valid for the function.\n",
      "  order = meta[meta[\"suplibrary\"]==\"SA535U-ALL\"].groupby(\"treealign_id\").median()[\"MNR\"].sort_values().index\n"
     ]
    },
    {
     "data": {
      "image/png": "[encoded data removed]",
      "text/plain": [
       "<Figure size 400x200 with 2 Axes>"
      ]
     },
     "metadata": {},
     "output_type": "display_data"
    }
   ],
   "source": [
    "fig, ax = plt.subplots(1,2,figsize=(4,2))\n",
    "\n",
    "order = meta[meta[\"suplibrary\"]==\"SA535U-ALL\"].groupby(\"treealign_id\").median()[\"MNR\"].sort_values().index\n",
    "\n",
    "sns.boxplot(data=meta[meta[\"suplibrary\"]==\"SA535U-ALL\"], x=\"treealign_id\", y=\"MNR\",ax=ax[0], order=order)\n",
    "ax[0].set_xlabel(\"\")\n",
    "sns.boxplot(data=plot_df, x=\"clone_id\", y=\"pct_counts_mt\",ax=ax[1], order=order)\n",
    "ax[1].set_xlabel(\"\")\n",
    "ax[1].set_ylabel(\"% MT counts\")\n",
    "\n",
    "for i in range(len(ax)):\n",
    "    pretty_ax(ax[i])\n",
    "\n",
    "fig.suptitle(patient)\n",
    "fig.tight_layout()\n",
    "fig.savefig(f\"/add/path/here/figures/mtdna_to_pct/{patient}.svg\", dpi=200, bbox_inches='tight')"
   ]
  },
  {
   "cell_type": "markdown",
   "id": "6a370e3c",
   "metadata": {},
   "source": [
    "# SA604"
   ]
  },
  {
   "cell_type": "code",
   "execution_count": 203,
   "id": "8757a937",
   "metadata": {},
   "outputs": [
    {
     "data": {
      "application/vnd.jupyter.widget-view+json": {
       "model_id": "",
       "version_major": 2,
       "version_minor": 0
      },
      "text/plain": [
       "0it [00:00, ?it/s]"
      ]
     },
     "metadata": {},
     "output_type": "display_data"
    }
   ],
   "source": [
    "patient = \"SA604\"\n",
    "\n",
    "resdir = pl.Path(f\"/add/path/here/sigs_june2022/scRNA/count_matrices/{patient}\")\n",
    "\n",
    "plot_df = []\n",
    "for sample in tqdm(resdir.iterdir()):\n",
    "    if sample.stem==\".DS_Store\":\n",
    "        continue\n",
    "    counts = sc.read_10x_mtx(sample)\n",
    "\n",
    "    counts.obs_names = sample.stem + \"_\" + counts.obs_names\n",
    "\n",
    "    # mitochondrial genes, \"MT-\" for human, \"Mt-\" for mouse\n",
    "    counts.var[\"mt\"] = counts.var_names.str.startswith(\"MT-\")\n",
    "    # ribosomal genes\n",
    "    counts.var[\"ribo\"] = counts.var_names.str.startswith((\"RPS\", \"RPL\"))\n",
    "\n",
    "    sc.pp.calculate_qc_metrics(\n",
    "        counts, qc_vars=[\"mt\", \"ribo\"], inplace=True, log1p=True\n",
    "    )\n",
    "    \n",
    "    common = scrna_clone_labels.index.intersection(counts.obs_names)\n",
    "    plot_df_pat = pd.concat([counts.obs.loc[common,[\"pct_counts_mt\"]],scrna_clone_labels.loc[common]],axis=1)\n",
    "    \n",
    "    plot_df.append(plot_df_pat)"
   ]
  },
  {
   "cell_type": "code",
   "execution_count": 204,
   "id": "fec80e53",
   "metadata": {},
   "outputs": [],
   "source": [
    "plot_df = pd.concat(plot_df)"
   ]
  },
  {
   "cell_type": "code",
   "execution_count": 205,
   "id": "1013a1bb",
   "metadata": {},
   "outputs": [
    {
     "name": "stderr",
     "output_type": "stream",
     "text": [
      "/var/folders/y0/0jmz5bl96kb57fmb09fl6fdw0000gn/T/ipykernel_88386/1520034267.py:3: FutureWarning: The default value of numeric_only in DataFrameGroupBy.median is deprecated. In a future version, numeric_only will default to False. Either specify numeric_only or select only columns which should be valid for the function.\n",
      "  order = meta[meta[\"suplibrary\"]==\"SA604-ALL\"].groupby(\"treealign_id\").median()[\"MNR\"].sort_values().index\n"
     ]
    },
    {
     "data": {
      "image/png": "[encoded data removed]",
      "text/plain": [
       "<Figure size 400x200 with 2 Axes>"
      ]
     },
     "metadata": {},
     "output_type": "display_data"
    }
   ],
   "source": [
    "fig, ax = plt.subplots(1,2,figsize=(4,2))\n",
    "\n",
    "order = meta[meta[\"suplibrary\"]==\"SA604-ALL\"].groupby(\"treealign_id\").median()[\"MNR\"].sort_values().index\n",
    "\n",
    "sns.boxplot(data=meta[meta[\"suplibrary\"]==\"SA604-ALL\"], x=\"treealign_id\", y=\"MNR\",ax=ax[0], order=order)\n",
    "ax[0].set_xlabel(\"\")\n",
    "sns.boxplot(data=plot_df, x=\"clone_id\", y=\"pct_counts_mt\",ax=ax[1], order=order)\n",
    "ax[1].set_xlabel(\"\")\n",
    "ax[1].set_ylabel(\"% MT counts\")\n",
    "\n",
    "for i in range(len(ax)):\n",
    "    pretty_ax(ax[i])\n",
    "\n",
    "fig.suptitle(patient)\n",
    "fig.tight_layout()\n",
    "fig.savefig(f\"/add/path/here/figures/mtdna_to_pct/{patient}.svg\", dpi=200, bbox_inches='tight')"
   ]
  },
  {
   "cell_type": "markdown",
   "id": "70824fed",
   "metadata": {},
   "source": [
    "# SA605"
   ]
  },
  {
   "cell_type": "code",
   "execution_count": 206,
   "id": "e388a90d",
   "metadata": {},
   "outputs": [
    {
     "data": {
      "application/vnd.jupyter.widget-view+json": {
       "model_id": "",
       "version_major": 2,
       "version_minor": 0
      },
      "text/plain": [
       "0it [00:00, ?it/s]"
      ]
     },
     "metadata": {},
     "output_type": "display_data"
    }
   ],
   "source": [
    "patient = \"SA605\"\n",
    "\n",
    "resdir = pl.Path(f\"/add/path/here/sigs_june2022/scRNA/count_matrices/{patient}\")\n",
    "\n",
    "plot_df = []\n",
    "for sample in tqdm(resdir.iterdir()):\n",
    "    if sample.stem==\".DS_Store\":\n",
    "        continue\n",
    "    counts = sc.read_10x_mtx(sample)\n",
    "\n",
    "    counts.obs_names = sample.stem + \"_\" + counts.obs_names\n",
    "\n",
    "    # mitochondrial genes, \"MT-\" for human, \"Mt-\" for mouse\n",
    "    counts.var[\"mt\"] = counts.var_names.str.startswith(\"MT-\")\n",
    "    # ribosomal genes\n",
    "    counts.var[\"ribo\"] = counts.var_names.str.startswith((\"RPS\", \"RPL\"))\n",
    "\n",
    "    sc.pp.calculate_qc_metrics(\n",
    "        counts, qc_vars=[\"mt\", \"ribo\"], inplace=True, log1p=True\n",
    "    )\n",
    "    \n",
    "    common = scrna_clone_labels.index.intersection(counts.obs_names)\n",
    "    plot_df_pat = pd.concat([counts.obs.loc[common,[\"pct_counts_mt\"]],scrna_clone_labels.loc[common]],axis=1)\n",
    "    \n",
    "    plot_df.append(plot_df_pat)"
   ]
  },
  {
   "cell_type": "code",
   "execution_count": 207,
   "id": "fa1c9e30",
   "metadata": {},
   "outputs": [],
   "source": [
    "plot_df = pd.concat(plot_df)"
   ]
  },
  {
   "cell_type": "code",
   "execution_count": 208,
   "id": "cc278343",
   "metadata": {},
   "outputs": [
    {
     "name": "stderr",
     "output_type": "stream",
     "text": [
      "/var/folders/y0/0jmz5bl96kb57fmb09fl6fdw0000gn/T/ipykernel_88386/1294616765.py:3: FutureWarning: The default value of numeric_only in DataFrameGroupBy.median is deprecated. In a future version, numeric_only will default to False. Either specify numeric_only or select only columns which should be valid for the function.\n",
      "  order = meta[meta[\"suplibrary\"]==\"SA605-ALL\"].groupby(\"treealign_id\").median()[\"MNR\"].sort_values().index\n"
     ]
    },
    {
     "data": {
      "image/png": "[encoded data removed]",
      "text/plain": [
       "<Figure size 400x200 with 2 Axes>"
      ]
     },
     "metadata": {},
     "output_type": "display_data"
    }
   ],
   "source": [
    "fig, ax = plt.subplots(1,2,figsize=(4,2))\n",
    "\n",
    "order = meta[meta[\"suplibrary\"]==\"SA605-ALL\"].groupby(\"treealign_id\").median()[\"MNR\"].sort_values().index\n",
    "\n",
    "sns.boxplot(data=meta[meta[\"suplibrary\"]==\"SA605-ALL\"], x=\"treealign_id\", y=\"MNR\",ax=ax[0], order=order)\n",
    "ax[0].set_xlabel(\"\")\n",
    "sns.boxplot(data=plot_df, x=\"clone_id\", y=\"pct_counts_mt\",ax=ax[1], order=order)\n",
    "ax[1].set_xlabel(\"\")\n",
    "ax[1].set_ylabel(\"% MT counts\")\n",
    "\n",
    "for i in range(len(ax)):\n",
    "    pretty_ax(ax[i])\n",
    "\n",
    "fig.suptitle(patient)\n",
    "fig.tight_layout()\n",
    "fig.savefig(f\"/add/path/here/figures/mtdna_to_pct/{patient}.svg\", dpi=200, bbox_inches='tight')"
   ]
  },
  {
   "cell_type": "markdown",
   "id": "2106f32c",
   "metadata": {},
   "source": [
    "# SA609"
   ]
  },
  {
   "cell_type": "code",
   "execution_count": 209,
   "id": "183d589d",
   "metadata": {},
   "outputs": [
    {
     "data": {
      "application/vnd.jupyter.widget-view+json": {
       "model_id": "",
       "version_major": 2,
       "version_minor": 0
      },
      "text/plain": [
       "0it [00:00, ?it/s]"
      ]
     },
     "metadata": {},
     "output_type": "display_data"
    }
   ],
   "source": [
    "patient = \"SA609\"\n",
    "\n",
    "resdir = pl.Path(f\"/add/path/here/sigs_june2022/scRNA/count_matrices/{patient}\")\n",
    "\n",
    "plot_df = []\n",
    "for sample in tqdm(resdir.iterdir()):\n",
    "    if sample.stem==\".DS_Store\":\n",
    "        continue\n",
    "    counts = sc.read_10x_mtx(sample)\n",
    "\n",
    "    counts.obs_names = sample.stem + \"_\" + counts.obs_names\n",
    "\n",
    "    # mitochondrial genes, \"MT-\" for human, \"Mt-\" for mouse\n",
    "    counts.var[\"mt\"] = counts.var_names.str.startswith(\"MT-\")\n",
    "    # ribosomal genes\n",
    "    counts.var[\"ribo\"] = counts.var_names.str.startswith((\"RPS\", \"RPL\"))\n",
    "\n",
    "    sc.pp.calculate_qc_metrics(\n",
    "        counts, qc_vars=[\"mt\", \"ribo\"], inplace=True, log1p=True\n",
    "    )\n",
    "    \n",
    "    common = scrna_clone_labels.index.intersection(counts.obs_names)\n",
    "    plot_df_pat = pd.concat([counts.obs.loc[common,[\"pct_counts_mt\"]],scrna_clone_labels.loc[common]],axis=1)\n",
    "    \n",
    "    plot_df.append(plot_df_pat)"
   ]
  },
  {
   "cell_type": "code",
   "execution_count": 210,
   "id": "f64087f6",
   "metadata": {},
   "outputs": [],
   "source": [
    "plot_df = pd.concat(plot_df)"
   ]
  },
  {
   "cell_type": "code",
   "execution_count": 211,
   "id": "4b40717e",
   "metadata": {},
   "outputs": [
    {
     "name": "stderr",
     "output_type": "stream",
     "text": [
      "/var/folders/y0/0jmz5bl96kb57fmb09fl6fdw0000gn/T/ipykernel_88386/646292302.py:3: FutureWarning: The default value of numeric_only in DataFrameGroupBy.median is deprecated. In a future version, numeric_only will default to False. Either specify numeric_only or select only columns which should be valid for the function.\n",
      "  order = meta[meta[\"suplibrary\"]==\"SA609U-ALL\"].groupby(\"treealign_id\").median()[\"MNR\"].sort_values().index\n"
     ]
    },
    {
     "data": {
      "image/png": "[encoded data removed]",
      "text/plain": [
       "<Figure size 400x200 with 2 Axes>"
      ]
     },
     "metadata": {},
     "output_type": "display_data"
    }
   ],
   "source": [
    "fig, ax = plt.subplots(1,2,figsize=(4,2))\n",
    "\n",
    "order = meta[meta[\"suplibrary\"]==\"SA609U-ALL\"].groupby(\"treealign_id\").median()[\"MNR\"].sort_values().index\n",
    "\n",
    "sns.boxplot(data=meta[meta[\"suplibrary\"]==\"SA609U-ALL\"], x=\"treealign_id\", y=\"MNR\",ax=ax[0], order=order)\n",
    "ax[0].set_xlabel(\"\")\n",
    "sns.boxplot(data=plot_df, x=\"clone_id\", y=\"pct_counts_mt\",ax=ax[1], order=order)\n",
    "ax[1].set_xlabel(\"\")\n",
    "ax[1].set_ylabel(\"% MT counts\")\n",
    "\n",
    "for i in range(len(ax)):\n",
    "    pretty_ax(ax[i])\n",
    "\n",
    "fig.suptitle(patient)\n",
    "fig.tight_layout()\n",
    "fig.savefig(f\"/add/path/here/figures/mtdna_to_pct/{patient}.svg\", dpi=200, bbox_inches='tight')"
   ]
  },
  {
   "cell_type": "markdown",
   "id": "cb66e51a",
   "metadata": {},
   "source": [
    "# SA610"
   ]
  },
  {
   "cell_type": "code",
   "execution_count": 212,
   "id": "820a582d",
   "metadata": {},
   "outputs": [
    {
     "data": {
      "application/vnd.jupyter.widget-view+json": {
       "model_id": "",
       "version_major": 2,
       "version_minor": 0
      },
      "text/plain": [
       "0it [00:00, ?it/s]"
      ]
     },
     "metadata": {},
     "output_type": "display_data"
    }
   ],
   "source": [
    "patient = \"SA610\"\n",
    "\n",
    "resdir = pl.Path(f\"/add/path/here/sigs_june2022/scRNA/count_matrices/{patient}\")\n",
    "\n",
    "plot_df = []\n",
    "for sample in tqdm(resdir.iterdir()):\n",
    "    if sample.stem==\".DS_Store\":\n",
    "        continue\n",
    "    counts = sc.read_10x_mtx(sample)\n",
    "\n",
    "    counts.obs_names = sample.stem + \"_\" + counts.obs_names\n",
    "\n",
    "    # mitochondrial genes, \"MT-\" for human, \"Mt-\" for mouse\n",
    "    counts.var[\"mt\"] = counts.var_names.str.startswith(\"MT-\")\n",
    "    # ribosomal genes\n",
    "    counts.var[\"ribo\"] = counts.var_names.str.startswith((\"RPS\", \"RPL\"))\n",
    "\n",
    "    sc.pp.calculate_qc_metrics(\n",
    "        counts, qc_vars=[\"mt\", \"ribo\"], inplace=True, log1p=True\n",
    "    )\n",
    "    \n",
    "    common = scrna_clone_labels.index.intersection(counts.obs_names)\n",
    "    plot_df_pat = pd.concat([counts.obs.loc[common,[\"pct_counts_mt\"]],scrna_clone_labels.loc[common]],axis=1)\n",
    "    \n",
    "    plot_df.append(plot_df_pat)"
   ]
  },
  {
   "cell_type": "code",
   "execution_count": 213,
   "id": "f6e7bedc",
   "metadata": {},
   "outputs": [],
   "source": [
    "plot_df = pd.concat(plot_df)"
   ]
  },
  {
   "cell_type": "code",
   "execution_count": 214,
   "id": "f7638617",
   "metadata": {},
   "outputs": [
    {
     "name": "stderr",
     "output_type": "stream",
     "text": [
      "/var/folders/y0/0jmz5bl96kb57fmb09fl6fdw0000gn/T/ipykernel_88386/3611786463.py:3: FutureWarning: The default value of numeric_only in DataFrameGroupBy.median is deprecated. In a future version, numeric_only will default to False. Either specify numeric_only or select only columns which should be valid for the function.\n",
      "  order = meta[meta[\"suplibrary\"]==\"SA610-ALL\"].groupby(\"treealign_id\").median()[\"MNR\"].sort_values().index\n"
     ]
    },
    {
     "data": {
      "image/png": "[encoded data removed]",
      "text/plain": [
       "<Figure size 400x200 with 2 Axes>"
      ]
     },
     "metadata": {},
     "output_type": "display_data"
    }
   ],
   "source": [
    "fig, ax = plt.subplots(1,2,figsize=(4,2))\n",
    "\n",
    "order = meta[meta[\"suplibrary\"]==\"SA610-ALL\"].groupby(\"treealign_id\").median()[\"MNR\"].sort_values().index\n",
    "\n",
    "sns.boxplot(data=meta[meta[\"suplibrary\"]==\"SA610-ALL\"], x=\"treealign_id\", y=\"MNR\",ax=ax[0], order=order)\n",
    "ax[0].set_xlabel(\"\")\n",
    "sns.boxplot(data=plot_df, x=\"clone_id\", y=\"pct_counts_mt\",ax=ax[1], order=order)\n",
    "ax[1].set_xlabel(\"\")\n",
    "ax[1].set_ylabel(\"% MT counts\")\n",
    "\n",
    "for i in range(len(ax)):\n",
    "    pretty_ax(ax[i])\n",
    "\n",
    "fig.suptitle(patient)\n",
    "fig.tight_layout()\n",
    "fig.savefig(f\"/add/path/here/figures/mtdna_to_pct/{patient}.svg\", dpi=200, bbox_inches='tight')"
   ]
  },
  {
   "cell_type": "markdown",
   "id": "61ec1bc2",
   "metadata": {},
   "source": [
    "# SA906a"
   ]
  },
  {
   "cell_type": "code",
   "execution_count": 215,
   "id": "b3d57637",
   "metadata": {},
   "outputs": [
    {
     "data": {
      "application/vnd.jupyter.widget-view+json": {
       "model_id": "01a933b058684f5fb728aa64fd87fccf",
       "version_major": 2,
       "version_minor": 0
      },
      "text/plain": [
       "0it [00:00, ?it/s]"
      ]
     },
     "metadata": {},
     "output_type": "display_data"
    }
   ],
   "source": [
    "patient = \"SA906a\"\n",
    "\n",
    "resdir = pl.Path(f\"/add/path/here/sigs_june2022/scRNA/count_matrices/{patient}\")\n",
    "\n",
    "plot_df = []\n",
    "for sample in tqdm(resdir.iterdir()):\n",
    "    if sample.stem==\".DS_Store\":\n",
    "        continue\n",
    "    counts = sc.read_10x_mtx(sample)\n",
    "\n",
    "    counts.obs_names = sample.stem + \"_\" + counts.obs_names\n",
    "\n",
    "    # mitochondrial genes, \"MT-\" for human, \"Mt-\" for mouse\n",
    "    counts.var[\"mt\"] = counts.var_names.str.startswith(\"MT-\")\n",
    "    # ribosomal genes\n",
    "    counts.var[\"ribo\"] = counts.var_names.str.startswith((\"RPS\", \"RPL\"))\n",
    "\n",
    "    sc.pp.calculate_qc_metrics(\n",
    "        counts, qc_vars=[\"mt\", \"ribo\"], inplace=True, log1p=True\n",
    "    )\n",
    "    \n",
    "    common = scrna_clone_labels.index.intersection(counts.obs_names)\n",
    "    plot_df_pat = pd.concat([counts.obs.loc[common,[\"pct_counts_mt\"]],scrna_clone_labels.loc[common]],axis=1)\n",
    "    \n",
    "    plot_df.append(plot_df_pat)"
   ]
  },
  {
   "cell_type": "code",
   "execution_count": 216,
   "id": "a84cc941",
   "metadata": {},
   "outputs": [],
   "source": [
    "plot_df = pd.concat(plot_df)"
   ]
  },
  {
   "cell_type": "code",
   "execution_count": 217,
   "id": "24cbdc2c",
   "metadata": {},
   "outputs": [
    {
     "name": "stderr",
     "output_type": "stream",
     "text": [
      "/var/folders/y0/0jmz5bl96kb57fmb09fl6fdw0000gn/T/ipykernel_88386/847776125.py:3: FutureWarning: The default value of numeric_only in DataFrameGroupBy.median is deprecated. In a future version, numeric_only will default to False. Either specify numeric_only or select only columns which should be valid for the function.\n",
      "  order = meta[meta[\"suplibrary\"]==\"SA906a-ALL\"].groupby(\"treealign_id\").median()[\"MNR\"].sort_values().index\n"
     ]
    },
    {
     "data": {
      "image/png": "[encoded data removed]",
      "text/plain": [
       "<Figure size 400x200 with 2 Axes>"
      ]
     },
     "metadata": {},
     "output_type": "display_data"
    }
   ],
   "source": [
    "fig, ax = plt.subplots(1,2,figsize=(4,2))\n",
    "\n",
    "order = meta[meta[\"suplibrary\"]==\"SA906a-ALL\"].groupby(\"treealign_id\").median()[\"MNR\"].sort_values().index\n",
    "\n",
    "sns.boxplot(data=meta[meta[\"suplibrary\"]==\"SA906a-ALL\"], x=\"treealign_id\", y=\"MNR\",ax=ax[0], order=order)\n",
    "ax[0].set_xlabel(\"\")\n",
    "sns.boxplot(data=plot_df, x=\"clone_id\", y=\"pct_counts_mt\",ax=ax[1], order=order)\n",
    "ax[1].set_xlabel(\"\")\n",
    "ax[1].set_ylabel(\"% MT counts\")\n",
    "\n",
    "for i in range(len(ax)):\n",
    "    pretty_ax(ax[i])\n",
    "\n",
    "fig.suptitle(patient)\n",
    "fig.tight_layout()\n",
    "fig.savefig(f\"/add/path/here/figures/mtdna_to_pct/{patient}.svg\", dpi=200, bbox_inches='tight')"
   ]
  },
  {
   "cell_type": "markdown",
   "id": "2b1f7741",
   "metadata": {},
   "source": [
    "# SA906b"
   ]
  },
  {
   "cell_type": "code",
   "execution_count": 179,
   "id": "5ac61fc8",
   "metadata": {},
   "outputs": [
    {
     "data": {
      "application/vnd.jupyter.widget-view+json": {
       "model_id": "",
       "version_major": 2,
       "version_minor": 0
      },
      "text/plain": [
       "0it [00:00, ?it/s]"
      ]
     },
     "metadata": {},
     "output_type": "display_data"
    }
   ],
   "source": [
    "patient = \"SA906b\"\n",
    "\n",
    "resdir = pl.Path(f\"/add/path/here/sigs_june2022/scRNA/count_matrices/{patient}\")\n",
    "\n",
    "plot_df = []\n",
    "for sample in tqdm(resdir.iterdir()):\n",
    "    if sample.stem==\".DS_Store\":\n",
    "        continue\n",
    "    counts = sc.read_10x_mtx(sample)\n",
    "\n",
    "    counts.obs_names = sample.stem + \"_\" + counts.obs_names\n",
    "\n",
    "    # mitochondrial genes, \"MT-\" for human, \"Mt-\" for mouse\n",
    "    counts.var[\"mt\"] = counts.var_names.str.startswith(\"MT-\")\n",
    "    # ribosomal genes\n",
    "    counts.var[\"ribo\"] = counts.var_names.str.startswith((\"RPS\", \"RPL\"))\n",
    "\n",
    "    sc.pp.calculate_qc_metrics(\n",
    "        counts, qc_vars=[\"mt\", \"ribo\"], inplace=True, log1p=True\n",
    "    )\n",
    "    \n",
    "    common = scrna_clone_labels.index.intersection(counts.obs_names)\n",
    "    plot_df_pat = pd.concat([counts.obs.loc[common,[\"pct_counts_mt\"]],scrna_clone_labels.loc[common]],axis=1)\n",
    "    \n",
    "    plot_df.append(plot_df_pat)"
   ]
  },
  {
   "cell_type": "code",
   "execution_count": 180,
   "id": "95d3c741",
   "metadata": {},
   "outputs": [],
   "source": [
    "plot_df = pd.concat(plot_df)"
   ]
  },
  {
   "cell_type": "code",
   "execution_count": 181,
   "id": "83ceea53",
   "metadata": {},
   "outputs": [
    {
     "name": "stderr",
     "output_type": "stream",
     "text": [
      "/var/folders/y0/0jmz5bl96kb57fmb09fl6fdw0000gn/T/ipykernel_88386/3498055822.py:3: FutureWarning: The default value of numeric_only in DataFrameGroupBy.median is deprecated. In a future version, numeric_only will default to False. Either specify numeric_only or select only columns which should be valid for the function.\n",
      "  order = meta[meta[\"suplibrary\"]==\"SA906b-ALL\"].groupby(\"treealign_id\").median()[\"MNR\"].sort_values().index\n"
     ]
    },
    {
     "data": {
      "image/png": "[encoded data removed]",
      "text/plain": [
       "<Figure size 400x200 with 2 Axes>"
      ]
     },
     "metadata": {},
     "output_type": "display_data"
    }
   ],
   "source": [
    "fig, ax = plt.subplots(1,2,figsize=(4,2))\n",
    "\n",
    "order = meta[meta[\"suplibrary\"]==\"SA906b-ALL\"].groupby(\"treealign_id\").median()[\"MNR\"].sort_values().index\n",
    "\n",
    "sns.boxplot(data=meta[meta[\"suplibrary\"]==\"SA906b-ALL\"], x=\"treealign_id\", y=\"MNR\",ax=ax[0], order=order)\n",
    "ax[0].set_xlabel(\"\")\n",
    "sns.boxplot(data=plot_df, x=\"clone_id\", y=\"pct_counts_mt\",ax=ax[1], order=order)\n",
    "ax[1].set_xlabel(\"\")\n",
    "ax[1].set_ylabel(\"% MT counts\")\n",
    "\n",
    "for i in range(len(ax)):\n",
    "    pretty_ax(ax[i])\n",
    "    \n",
    "fig.suptitle(patient)\n",
    "fig.tight_layout()\n",
    "fig.savefig(f\"/add/path/here/figures/mtdna_to_pct/{patient}.svg\", dpi=200, bbox_inches='tight')"
   ]
  },
  {
   "cell_type": "code",
   "execution_count": null,
   "id": "47953827",
   "metadata": {},
   "outputs": [],
   "source": []
  },
  {
   "cell_type": "code",
   "execution_count": 219,
   "id": "19b68db4",
   "metadata": {},
   "outputs": [],
   "source": [
    "scrna_meta = pd.read_csv(\"/add/path/here/GSE180661_GEO_cells.tsv.gz\",sep=\"\\t\").set_index(\"cell_id\")"
   ]
  },
  {
   "cell_type": "markdown",
   "id": "0ebbfdc5",
   "metadata": {},
   "source": [
    "# SPECTRUM-OV-022"
   ]
  },
  {
   "cell_type": "code",
   "execution_count": 226,
   "id": "61451151",
   "metadata": {},
   "outputs": [],
   "source": [
    "patient = \"SPECTRUM-OV-022\""
   ]
  },
  {
   "cell_type": "code",
   "execution_count": 227,
   "id": "0716967b",
   "metadata": {},
   "outputs": [],
   "source": [
    "plot_df = pd.read_csv(\"/add/path/here/10498240/OV022_scRNA.tsv\",sep=\"\\t\").set_index(\"cell_id\")\n",
    "\n",
    "plot_df = pd.concat([plot_df, scrna_meta],axis=1, join=\"inner\")"
   ]
  },
  {
   "cell_type": "code",
   "execution_count": 231,
   "id": "fe240b2f",
   "metadata": {},
   "outputs": [
    {
     "name": "stderr",
     "output_type": "stream",
     "text": [
      "/var/folders/y0/0jmz5bl96kb57fmb09fl6fdw0000gn/T/ipykernel_88386/2840198253.py:3: FutureWarning: The default value of numeric_only in DataFrameGroupBy.median is deprecated. In a future version, numeric_only will default to False. Either specify numeric_only or select only columns which should be valid for the function.\n",
      "  order = meta[meta[\"suplibrary\"]==\"SPECTRUM-OV-022\"].groupby(\"treealign_id\").median()[\"MNR\"].sort_values().index\n"
     ]
    },
    {
     "data": {
      "image/png": "[encoded data removed]",
      "text/plain": [
       "<Figure size 400x200 with 2 Axes>"
      ]
     },
     "metadata": {},
     "output_type": "display_data"
    }
   ],
   "source": [
    "fig, ax = plt.subplots(1,2,figsize=(4,2))\n",
    "\n",
    "order = meta[meta[\"suplibrary\"]==\"SPECTRUM-OV-022\"].groupby(\"treealign_id\").median()[\"MNR\"].sort_values().index\n",
    "\n",
    "sns.boxplot(data=meta[meta[\"suplibrary\"]==\"SPECTRUM-OV-022\"], x=\"treealign_id\", y=\"MNR\",ax=ax[0], order=order)\n",
    "ax[0].set_xlabel(\"\")\n",
    "sns.boxplot(data=plot_df, x=\"clonealign_id\", y=\"percent.mt\",ax=ax[1], order=order)\n",
    "ax[1].set_xlabel(\"\")\n",
    "ax[1].set_ylabel(\"% MT counts\")\n",
    "\n",
    "for i in range(len(ax)):\n",
    "    pretty_ax(ax[i])\n",
    "    \n",
    "fig.suptitle(patient)\n",
    "fig.tight_layout()\n",
    "fig.savefig(f\"/add/path/here/figures/mtdna_to_pct/{patient}.svg\", dpi=200, bbox_inches='tight')"
   ]
  },
  {
   "cell_type": "markdown",
   "id": "a339c54f",
   "metadata": {},
   "source": [
    "# SPECTRUM-OV-081"
   ]
  },
  {
   "cell_type": "code",
   "execution_count": 232,
   "id": "0f46b001",
   "metadata": {},
   "outputs": [],
   "source": [
    "patient = \"SPECTRUM-OV-081\""
   ]
  },
  {
   "cell_type": "code",
   "execution_count": 233,
   "id": "dba4feff",
   "metadata": {},
   "outputs": [],
   "source": [
    "plot_df = pd.read_csv(\"/add/path/here/10498240/OV081_scRNA.tsv\",sep=\"\\t\").set_index(\"cell_id\")\n",
    "\n",
    "plot_df = pd.concat([plot_df, scrna_meta],axis=1, join=\"inner\")"
   ]
  },
  {
   "cell_type": "code",
   "execution_count": 234,
   "id": "7387ca5b",
   "metadata": {},
   "outputs": [
    {
     "name": "stderr",
     "output_type": "stream",
     "text": [
      "/var/folders/y0/0jmz5bl96kb57fmb09fl6fdw0000gn/T/ipykernel_88386/1052996324.py:3: FutureWarning: The default value of numeric_only in DataFrameGroupBy.median is deprecated. In a future version, numeric_only will default to False. Either specify numeric_only or select only columns which should be valid for the function.\n",
      "  order = meta[meta[\"suplibrary\"]==\"SPECTRUM-OV-081\"].groupby(\"treealign_id\").median()[\"MNR\"].sort_values().index\n"
     ]
    },
    {
     "data": {
      "image/png": "[encoded data removed]",
      "text/plain": [
       "<Figure size 400x200 with 2 Axes>"
      ]
     },
     "metadata": {},
     "output_type": "display_data"
    }
   ],
   "source": [
    "fig, ax = plt.subplots(1,2,figsize=(4,2))\n",
    "\n",
    "order = meta[meta[\"suplibrary\"]==\"SPECTRUM-OV-081\"].groupby(\"treealign_id\").median()[\"MNR\"].sort_values().index\n",
    "\n",
    "sns.boxplot(data=meta[meta[\"suplibrary\"]==\"SPECTRUM-OV-081\"], x=\"treealign_id\", y=\"MNR\",ax=ax[0], order=order)\n",
    "ax[0].set_xlabel(\"\")\n",
    "sns.boxplot(data=plot_df, x=\"clonealign_id\", y=\"percent.mt\",ax=ax[1], order=order)\n",
    "ax[1].set_xlabel(\"\")\n",
    "ax[1].set_ylabel(\"% MT counts\")\n",
    "\n",
    "for i in range(len(ax)):\n",
    "    pretty_ax(ax[i])\n",
    "    \n",
    "fig.suptitle(patient)\n",
    "fig.tight_layout()\n",
    "fig.savefig(f\"/add/path/here/figures/mtdna_to_pct/{patient}.svg\", dpi=200, bbox_inches='tight')"
   ]
  },
  {
   "cell_type": "code",
   "execution_count": null,
   "id": "d4506095",
   "metadata": {},
   "outputs": [],
   "source": []
  }
 ],
 "metadata": {
  "kernelspec": {
   "display_name": "Python 3 (ipykernel)",
   "language": "python",
   "name": "python3"
  },
  "language_info": {
   "codemirror_mode": {
    "name": "ipython",
    "version": 3
   },
   "file_extension": ".py",
   "mimetype": "text/x-python",
   "name": "python",
   "nbconvert_exporter": "python",
   "pygments_lexer": "ipython3",
   "version": "3.10.0"
  }
 },
 "nbformat": 4,
 "nbformat_minor": 5
}
