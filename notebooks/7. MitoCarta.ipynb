{
 "cells": [
  {
   "cell_type": "code",
   "execution_count": null,
   "id": "d55fe78e",
   "metadata": {},
   "outputs": [],
   "source": [
    "import pandas as pd\n",
    "import numpy as np\n",
    "import scanpy as sc\n",
    "\n",
    "import matplotlib.pyplot as plt\n",
    "import seaborn as sns\n",
    "\n",
    "import pathlib as pl\n",
    "import os"
   ]
  },
  {
   "cell_type": "code",
   "execution_count": null,
   "id": "7b7ee564",
   "metadata": {},
   "outputs": [],
   "source": [
    "from scipy.stats import mannwhitneyu"
   ]
  },
  {
   "cell_type": "code",
   "execution_count": null,
   "id": "7184a476",
   "metadata": {},
   "outputs": [],
   "source": [
    "from statsmodels.stats.multitest import multipletests"
   ]
  },
  {
   "cell_type": "code",
   "execution_count": null,
   "id": "311fb5d1",
   "metadata": {},
   "outputs": [],
   "source": [
    "from tqdm.notebook import tqdm"
   ]
  },
  {
   "cell_type": "code",
   "execution_count": null,
   "id": "91a722b5",
   "metadata": {},
   "outputs": [],
   "source": [
    "from statannotations.Annotator import Annotator"
   ]
  },
  {
   "cell_type": "code",
   "execution_count": null,
   "id": "dee93316",
   "metadata": {},
   "outputs": [],
   "source": [
    "def pretty_ax(ax: plt.Axes, linew: int = 1, hideticks: bool=False):\n",
    "    # Hide the right and top spines\n",
    "    ax.spines.right.set_visible(False)\n",
    "    ax.spines.top.set_visible(False)\n",
    "    for axis in [\"bottom\", \"left\"]:\n",
    "        ax.spines[axis].set_linewidth(linew)\n",
    "    if hideticks:\n",
    "        ax.set_xticks([])\n",
    "        ax.set_yticks([])"
   ]
  },
  {
   "cell_type": "markdown",
   "id": "9e417942",
   "metadata": {},
   "source": [
    "# Mitocarta genes"
   ]
  },
  {
   "cell_type": "code",
   "execution_count": null,
   "id": "7f2a499c",
   "metadata": {},
   "outputs": [],
   "source": [
    "mitocarta = pd.read_csv(\"/add/path/here/auxiliary_data/mitocarta_genes.csv\").values.ravel()\n",
    "mitocarta = np.setdiff1d(mitocarta,['MT-ATP6', 'MT-CO2', 'MT-CO1', 'MT-ND2', 'MT-ND4', 'MT-ND5',\n",
    "       'MT-CYB', 'MT-ATP8', 'MT-CO3', 'MT-ND3', 'MT-ND1', 'MT-ND4L',\n",
    "       'MT-ND6'])"
   ]
  },
  {
   "cell_type": "code",
   "execution_count": null,
   "id": "1b75c669",
   "metadata": {},
   "outputs": [],
   "source": [
    "mitocarta_pathways = pd.read_csv(\"/add/path/here/auxiliary_data/mitocarta_pathways.csv\",index_col=0)\n",
    "\n",
    "high_order = []\n",
    "\n",
    "for name in mitocarta_pathways[\"MitoPathways Hierarchy\"].str.split(\">\").values:\n",
    "    if len(name)==1:\n",
    "        high_order.append(name[0])\n",
    "\n",
    "high_order = mitocarta_pathways[mitocarta_pathways[\"MitoPathways Hierarchy\"].isin(high_order)][\"Genes\"].str.split(\", \").to_dict()"
   ]
  },
  {
   "cell_type": "code",
   "execution_count": null,
   "id": "a7d741fd",
   "metadata": {},
   "outputs": [],
   "source": [
    "high_order.keys()"
   ]
  },
  {
   "cell_type": "markdown",
   "id": "88c2e790",
   "metadata": {},
   "source": [
    "# Analyze mitocarta pathways "
   ]
  },
  {
   "cell_type": "code",
   "execution_count": null,
   "id": "30b46649",
   "metadata": {},
   "outputs": [],
   "source": [
    "resdir = pl.Path(\"/add/path/here/metabolic_dysregulation/mitocarta_met_res\")"
   ]
  },
  {
   "cell_type": "code",
   "execution_count": null,
   "id": "3ead292d",
   "metadata": {},
   "outputs": [],
   "source": [
    "mitocarta_enrichment = {}\n",
    "for f in resdir.iterdir():\n",
    "    if f.stem in [\".DS_Store\"]:\n",
    "        continue\n",
    "    mitocarta_enrichment[f.stem] = pd.read_csv(f, index_col=0)"
   ]
  },
  {
   "cell_type": "code",
   "execution_count": null,
   "id": "c9eb43be",
   "metadata": {},
   "outputs": [],
   "source": [
    "meta_pathways = mitocarta_pathways[mitocarta_pathways[\"MitoPathways Hierarchy\"].str.contains(\"Metabolism\")].index"
   ]
  },
  {
   "cell_type": "code",
   "execution_count": null,
   "id": "e995bf2e",
   "metadata": {},
   "outputs": [],
   "source": [
    "meta_mito = []\n",
    "for ct in mitocarta_enrichment:\n",
    "    print(ct)\n",
    "    meta_ct = mitocarta_enrichment[ct].loc[meta_pathways]\n",
    "    meta_ct = meta_ct[\"Diff. median\"]\n",
    "    meta_ct.name = ct\n",
    "    meta_mito.append(meta_ct)"
   ]
  },
  {
   "cell_type": "code",
   "execution_count": null,
   "id": "447d6ead",
   "metadata": {},
   "outputs": [],
   "source": [
    "meta_mito = pd.concat(meta_mito,axis=1).rename(columns={\"Pancreas_Raghavan_10X\": \"MetPancreas\", \"SCLC_Chan_10X\": \"SCLC\",\n",
    "                                           \"RCC_Bi_10X\": \"RCC\", \"LUAD_Bischoff_10X\": \"LUAD\", \n",
    "                                            \"Breast_Wu_10X\": \"Breast\", \n",
    "                                                        \"Pancreas_Steele_10X\": \"Pancreas\", \n",
    "                                                        \"UvealMelanoma_Durante_10X\": \"Uveal Melanoma\",})"
   ]
  },
  {
   "cell_type": "code",
   "execution_count": null,
   "id": "8258684a",
   "metadata": {},
   "outputs": [],
   "source": [
    "(meta_mito>0).sum(axis=1).sort_values(ascending=False).head(10)"
   ]
  },
  {
   "cell_type": "code",
   "execution_count": null,
   "id": "3e22ae41",
   "metadata": {},
   "outputs": [],
   "source": [
    "fig, ax = plt.subplots(1,1,figsize=(4,6))\n",
    "sns.heatmap(meta_mito.loc[meta_mito.median(axis=1).sort_values(ascending=False).index,\n",
    "            [\"Uveal Melanoma\",\"LUAD\",\"SCLC\",\"RCC\",\"Breast\",\"Pancreas\",\"MetPancreas\"]],\n",
    "            cmap=\"vlag\", center=0, vmin=-0.1, vmax=0.1,ax=ax)\n",
    "ax.set_yticks([])\n",
    "ax.set_ylabel(\"\")\n",
    "fig.savefig(\"/add/path/here/figures/mitocarta_meta_dys.svg\", \n",
    "                 dpi=200, bbox_inches='tight')"
   ]
  },
  {
   "cell_type": "code",
   "execution_count": null,
   "id": "416e9b1b",
   "metadata": {},
   "outputs": [],
   "source": [
    "(meta_mito>0).sum(axis=1).sort_values(ascending=False).head(10)"
   ]
  },
  {
   "cell_type": "code",
   "execution_count": null,
   "id": "a085bda2",
   "metadata": {},
   "outputs": [],
   "source": [
    "meta_mito.loc[meta_mito.median(axis=1).sort_values(ascending=False).index].head(15)"
   ]
  },
  {
   "cell_type": "code",
   "execution_count": null,
   "id": "c5673e41-e4ce-472e-90b5-b9d612a9ead6",
   "metadata": {},
   "outputs": [],
   "source": []
  }
 ],
 "metadata": {
  "kernelspec": {
   "display_name": "Python 3 (ipykernel)",
   "language": "python",
   "name": "python3"
  },
  "language_info": {
   "codemirror_mode": {
    "name": "ipython",
    "version": 3
   },
   "file_extension": ".py",
   "mimetype": "text/x-python",
   "name": "python",
   "nbconvert_exporter": "python",
   "pygments_lexer": "ipython3",
   "version": "3.10.0"
  }
 },
 "nbformat": 4,
 "nbformat_minor": 5
}
