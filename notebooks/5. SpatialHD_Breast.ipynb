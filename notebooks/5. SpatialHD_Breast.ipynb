{
 "cells": [
  {
   "cell_type": "code",
   "execution_count": null,
   "id": "3eabccdd",
   "metadata": {},
   "outputs": [],
   "source": [
    "from spatialdata_io import visium_hd"
   ]
  },
  {
   "cell_type": "code",
   "execution_count": null,
   "id": "b6471bfd-4e64-47ec-8659-75a2fcd1241d",
   "metadata": {},
   "outputs": [],
   "source": [
    "import pandas as pd\n",
    "import seaborn as sns\n",
    "import scanpy as sc\n",
    "import numpy as np"
   ]
  },
  {
   "cell_type": "code",
   "execution_count": null,
   "id": "827d2d27-ce35-4833-8087-ca2967fbd36a",
   "metadata": {},
   "outputs": [],
   "source": [
    "import infercnvpy as cnv"
   ]
  },
  {
   "cell_type": "code",
   "execution_count": null,
   "id": "e8a781d3-2136-41a0-a56e-3c8ed1202f71",
   "metadata": {},
   "outputs": [],
   "source": [
    "import squidpy as sq"
   ]
  },
  {
   "cell_type": "code",
   "execution_count": null,
   "id": "a7956c01-675d-4302-8cf2-6a5b2b650009",
   "metadata": {},
   "outputs": [],
   "source": [
    "from tqdm.notebook import tqdm"
   ]
  },
  {
   "cell_type": "code",
   "execution_count": null,
   "id": "f222ebc2-fd80-4668-a803-3880102203ad",
   "metadata": {},
   "outputs": [],
   "source": [
    "from statannotations.Annotator import Annotator"
   ]
  },
  {
   "cell_type": "code",
   "execution_count": null,
   "id": "2001ce9c-648f-435f-9038-5212a88d0807",
   "metadata": {},
   "outputs": [],
   "source": [
    "def pretty_ax(ax):\n",
    "    ax.spines['right'].set_visible(False)\n",
    "    ax.spines['top'].set_visible(False)\n",
    "    ax.tick_params(\n",
    "        axis='both',  \n",
    "        which='both',      \n",
    "        bottom=True,     \n",
    "        top=False,\n",
    "        left=False,\n",
    "        labelbottom=True,\n",
    "        labelleft = True)\n",
    "    ax.spines[\"bottom\"].set_linewidth(1.5)\n",
    "    ax.spines[\"left\"].set_linewidth(1.5)"
   ]
  },
  {
   "cell_type": "code",
   "execution_count": null,
   "id": "314b80e2",
   "metadata": {},
   "outputs": [],
   "source": [
    "sdata = visium_hd(path=\"/add/path/here/Breast_VisiumHD_FreshFrozen/\")"
   ]
  },
  {
   "cell_type": "code",
   "execution_count": null,
   "id": "93306c61",
   "metadata": {},
   "outputs": [],
   "source": [
    "for table in sdata.tables.values():\n",
    "    table.var_names_make_unique()"
   ]
  },
  {
   "cell_type": "code",
   "execution_count": null,
   "id": "c13999ff",
   "metadata": {},
   "outputs": [],
   "source": [
    "sdata"
   ]
  },
  {
   "cell_type": "code",
   "execution_count": null,
   "id": "e0efa49c",
   "metadata": {},
   "outputs": [],
   "source": [
    "import matplotlib.pyplot as plt\n",
    "import spatialdata_plot\n",
    "\n",
    "axes = plt.subplots(1, 1, figsize=(10, 5))\n",
    "sdata.pl.render_images('Visium_HD_Human_Breast_Cancer_Fresh_Frozen_hires_image').pl.show(ax=axes[1], coordinate_systems=\"downscaled_hires\",\n",
    "                                                                                              title=\"Full image\")"
   ]
  },
  {
   "cell_type": "markdown",
   "id": "82e5937e-56a3-4dfb-bccb-76e0dba0d767",
   "metadata": {},
   "source": [
    "# Create metacells"
   ]
  },
  {
   "cell_type": "code",
   "execution_count": null,
   "id": "3fbe79bb-f72f-4650-b091-7f4b649a4e19",
   "metadata": {},
   "outputs": [],
   "source": [
    "adata= sdata[\"square_008um\"].copy()"
   ]
  },
  {
   "cell_type": "code",
   "execution_count": null,
   "id": "93dc6107-0369-4abd-9187-53b6ee3c3d86",
   "metadata": {},
   "outputs": [],
   "source": [
    "# mitochondrial genes, \"MT-\" for human, \"Mt-\" for mouse\n",
    "adata.var[\"mt\"] = adata.var_names.str.startswith(\"MT-\")\n",
    "# ribosomal genes\n",
    "adata.var[\"ribo\"] = adata.var_names.str.startswith((\"RPS\", \"RPL\"))\n",
    "# hemoglobin genes\n",
    "adata.var[\"hb\"] = adata.var_names.str.contains(\"^HB[^(P)]\")"
   ]
  },
  {
   "cell_type": "code",
   "execution_count": null,
   "id": "f5bd8ac2-78b9-4aa8-8ab7-a7824c396064",
   "metadata": {},
   "outputs": [],
   "source": [
    "sc.pp.calculate_qc_metrics(\n",
    "    adata, qc_vars=[\"mt\", \"ribo\", \"hb\"], inplace=True, log1p=True\n",
    ")"
   ]
  },
  {
   "cell_type": "code",
   "execution_count": null,
   "id": "25e350d6-a61f-4482-a2cf-86dc286825e0",
   "metadata": {},
   "outputs": [],
   "source": [
    "sc.pp.filter_genes(adata, min_cells=100)\n",
    "sc.pp.filter_cells(adata, min_counts=50)"
   ]
  },
  {
   "cell_type": "code",
   "execution_count": null,
   "id": "67010c06-ccf2-49ce-882f-d631bb801f37",
   "metadata": {},
   "outputs": [],
   "source": [
    "adata.obs.pct_counts_mt.hist(bins=20)"
   ]
  },
  {
   "cell_type": "code",
   "execution_count": null,
   "id": "709bcb65-ee7f-4c14-a38d-da21a6e72ea0",
   "metadata": {},
   "outputs": [],
   "source": [
    "(adata.obs.pct_counts_mt>15).sum()"
   ]
  },
  {
   "cell_type": "code",
   "execution_count": null,
   "id": "58295bec-9c7e-4084-8ee4-2e323e10e33d",
   "metadata": {},
   "outputs": [],
   "source": [
    "adata.layers[\"counts\"] = adata.X.copy()\n",
    "sc.pp.normalize_total(adata)\n",
    "sc.pp.log1p(adata)\n",
    "\n",
    "sc.tl.pca(adata)\n",
    "\n",
    "sc.pp.neighbors(adata)"
   ]
  },
  {
   "cell_type": "code",
   "execution_count": null,
   "id": "1b59291a-74ec-407e-a0e5-f30e2fec8354",
   "metadata": {},
   "outputs": [],
   "source": [
    "sc.tl.leiden(adata, flavor=\"igraph\", resolution=300, directed=False, n_iterations=2)"
   ]
  },
  {
   "cell_type": "code",
   "execution_count": null,
   "id": "13a157e0-cad7-4ab1-9860-6ebd9bc87d6e",
   "metadata": {},
   "outputs": [],
   "source": [
    "adata.obs.leiden.nunique()"
   ]
  },
  {
   "cell_type": "code",
   "execution_count": null,
   "id": "8e2963e7-e6c6-4420-a97b-0260fe51807e",
   "metadata": {},
   "outputs": [],
   "source": [
    "metacelled = []\n",
    "for gr in tqdm(adata.obs.leiden.unique()):\n",
    "    metacelled.append(pd.DataFrame(np.array(adata[adata.obs.leiden==gr].layers[\"counts\"].sum(axis=0)).ravel(),columns=[gr],index=adata.var_names))\n",
    "\n",
    "metacelled = pd.concat(metacelled,axis=1).T\n",
    "\n",
    "metacelled = sc.AnnData(metacelled)"
   ]
  },
  {
   "cell_type": "code",
   "execution_count": null,
   "id": "be100272-54ad-4981-9e09-526ef11ca4db",
   "metadata": {},
   "outputs": [],
   "source": [
    "# mitochondrial genes, \"MT-\" for human, \"Mt-\" for mouse\n",
    "metacelled.var[\"mt\"] = metacelled.var_names.str.startswith(\"MT-\")\n",
    "# ribosomal genes\n",
    "metacelled.var[\"ribo\"] = metacelled.var_names.str.startswith((\"RPS\", \"RPL\"))\n",
    "# hemoglobin genes\n",
    "metacelled.var[\"hb\"] = metacelled.var_names.str.contains(\"^HB[^(P)]\")"
   ]
  },
  {
   "cell_type": "code",
   "execution_count": null,
   "id": "dc1d94c1-9299-4f72-a376-083c94919de2",
   "metadata": {},
   "outputs": [],
   "source": [
    "sc.pp.calculate_qc_metrics(\n",
    "    metacelled, qc_vars=[\"mt\", \"ribo\", \"hb\"], inplace=True, log1p=True\n",
    ")"
   ]
  },
  {
   "cell_type": "code",
   "execution_count": null,
   "id": "036d5007-e7ce-48dd-8e02-4fe9bcd91cec",
   "metadata": {},
   "outputs": [],
   "source": [
    "metacelled.layers[\"counts\"] = metacelled.X.copy()\n",
    "sc.pp.normalize_total(metacelled)\n",
    "sc.pp.log1p(metacelled)\n",
    "\n",
    "sc.tl.pca(metacelled)\n",
    "\n",
    "sc.pp.neighbors(metacelled)"
   ]
  },
  {
   "cell_type": "code",
   "execution_count": null,
   "id": "ad66caad-f2de-4b84-99a4-6470cbf0c197",
   "metadata": {},
   "outputs": [],
   "source": [
    "sc.tl.umap(metacelled)"
   ]
  },
  {
   "cell_type": "code",
   "execution_count": null,
   "id": "e81d5059-4d3d-417b-8bc3-53540e003997",
   "metadata": {},
   "outputs": [],
   "source": [
    "sc.tl.leiden(metacelled, flavor=\"igraph\", resolution=1, directed=False, n_iterations=2)"
   ]
  },
  {
   "cell_type": "code",
   "execution_count": null,
   "id": "3cd78770-21ee-4100-bfaa-d26c22ad9eeb",
   "metadata": {},
   "outputs": [],
   "source": [
    "sc.pl.umap(metacelled, color=\"leiden\")"
   ]
  },
  {
   "cell_type": "markdown",
   "id": "b7625ca9-2509-4e4f-8e50-0d5748ec6852",
   "metadata": {},
   "source": [
    "## Assign cell types"
   ]
  },
  {
   "cell_type": "code",
   "execution_count": null,
   "id": "341341e6-b6f8-420e-8da8-2bda26587e91",
   "metadata": {},
   "outputs": [],
   "source": [
    "# markers from here https://www.nature.com/articles/s41597-024-03127-0#Sec10\n",
    "high_level_ct = {\"Epithelial\": [\"EPCAM\", \"KRT18\", \"KRT7\", \"KRT8\"], \"Immune\": [\"CD3D\", \"CD3E\", \"CD79A\", \"CD79B\", \n",
    "                                                                              \"CD19\", \"MS4A1\", \"CD3G\", \"JCHAIN\", \"MZB1\",\n",
    "                                                                              \"LYZ\", \"CD68\", \"FCGR3A\", \"MARCO\"], \n",
    "                 \"Endothelial\": [\"PECAM1\", \"VWF\", \"CLDN5\", \"CDH5\", \"FLT1\", \"RAMP2\"], \n",
    "                 \"Stromal\": [\"COL1A1\", \"DCN\", \"COL1A2\", \"C1R\",\"ACTA2\"],}"
   ]
  },
  {
   "cell_type": "code",
   "execution_count": null,
   "id": "ccf3752a-0944-4f60-bab9-8bfb374e0c97",
   "metadata": {},
   "outputs": [],
   "source": [
    "for ct in high_level_ct:\n",
    "    sc.tl.score_genes(metacelled, gene_list=high_level_ct[ct], score_name=f\"{ct}_score\")"
   ]
  },
  {
   "cell_type": "code",
   "execution_count": null,
   "id": "d442bd94-1000-44b7-8cb5-906388f9d721",
   "metadata": {},
   "outputs": [],
   "source": [
    "sc.pl.umap(metacelled, color=[\"leiden\",'Epithelial_score', 'Endothelial_score', \n",
    "                         'Immune_score', 'Stromal_score',],ncols=2)"
   ]
  },
  {
   "cell_type": "code",
   "execution_count": null,
   "id": "2d39b5d5-317b-4cc7-bf23-c5bbaee21216",
   "metadata": {
    "scrolled": true
   },
   "outputs": [],
   "source": [
    "for score in ['Epithelial_score',\n",
    "                         'Immune_score',\n",
    "                         'Endothelial_score', \"Stromal_score\",]:\n",
    "    fig, ax = plt.subplots(1,1)\n",
    "    sns.boxplot(data=metacelled.obs, x=\"leiden\", y=score)"
   ]
  },
  {
   "cell_type": "code",
   "execution_count": null,
   "id": "72a01f9b-53e7-4649-bd5f-39a78ad81f2e",
   "metadata": {},
   "outputs": [],
   "source": [
    "std_score = metacelled.obs[['Epithelial_score',\n",
    "                         'Immune_score',\n",
    "                         'Endothelial_score', \"Stromal_score\",]].copy()\n",
    "std_score = (std_score - std_score.mean())/std_score.std()"
   ]
  },
  {
   "cell_type": "code",
   "execution_count": null,
   "id": "f5190665-e1f3-4930-add0-c47fc951c50a",
   "metadata": {},
   "outputs": [],
   "source": [
    "mapping = pd.concat([metacelled.obs[\"leiden\"],std_score],axis=1).groupby(\"leiden\").mean().idxmax(axis=1)"
   ]
  },
  {
   "cell_type": "code",
   "execution_count": null,
   "id": "2e7a640a-8454-4ffe-be11-5696540672b5",
   "metadata": {},
   "outputs": [],
   "source": [
    "mapping"
   ]
  },
  {
   "cell_type": "code",
   "execution_count": null,
   "id": "9cc900f6-0481-4c4e-82ea-c200d30af177",
   "metadata": {},
   "outputs": [],
   "source": [
    "mapping = mapping.str[:-6].to_dict()"
   ]
  },
  {
   "cell_type": "code",
   "execution_count": null,
   "id": "25569681-33a2-422f-a3de-a824fe62b6a9",
   "metadata": {},
   "outputs": [],
   "source": [
    "putative_ct = metacelled.obs[\"leiden\"].replace(mapping)"
   ]
  },
  {
   "cell_type": "code",
   "execution_count": null,
   "id": "fd6fba1f-517b-4db2-97b9-d42c12b33af1",
   "metadata": {},
   "outputs": [],
   "source": [
    "metacelled.obs[\"cell_type\"] = putative_ct"
   ]
  },
  {
   "cell_type": "code",
   "execution_count": null,
   "id": "f4c2728d-1f9d-4368-a8b1-b106f7a59329",
   "metadata": {},
   "outputs": [],
   "source": [
    "sc.pl.umap(metacelled, color=[\"cell_type\"], palette={\"Endothelial\": \"tab:blue\", \"Immune\": \"tab:orange\",\n",
    "                                                            \"Stromal\": \"tab:red\", \"Epithelial\": \"tab:green\", \"Uncertain\": \"tab:purple\"}, ncols=2)"
   ]
  },
  {
   "cell_type": "markdown",
   "id": "f5a1eff6-e854-43b5-a95b-f18f7c4b1aa8",
   "metadata": {},
   "source": [
    "## CNV inference to clean cell types and find malignant cells"
   ]
  },
  {
   "cell_type": "code",
   "execution_count": null,
   "id": "d2910867-9a97-403e-ae0c-28f95fcf86fd",
   "metadata": {},
   "outputs": [],
   "source": [
    "gencode = pd.read_csv(\"/add/path/here/auxiliary_data/gencode_v41_positions.csv\",index_col=0).set_index(\"gene_name\")\n",
    "gencode = gencode.loc[~gencode.index.duplicated()]"
   ]
  },
  {
   "cell_type": "code",
   "execution_count": null,
   "id": "67cce7d4-18b0-4f03-9f2d-0bb06e64574f",
   "metadata": {},
   "outputs": [],
   "source": [
    "gencode.columns = [\"chromosome\", \"start\", \"end\", \"strand\", \"gene_id\"]"
   ]
  },
  {
   "cell_type": "code",
   "execution_count": null,
   "id": "3036a5e8-046b-4c20-971b-89b690e2b99a",
   "metadata": {},
   "outputs": [],
   "source": [
    "metacelled.var = pd.concat([metacelled.var, gencode.loc[gencode.index.intersection(metacelled.var_names)]],axis=1)"
   ]
  },
  {
   "cell_type": "code",
   "execution_count": null,
   "id": "0b03c4a5-7d21-4e12-859e-5f1278ab87b5",
   "metadata": {},
   "outputs": [],
   "source": [
    "cnv.tl.infercnv(metacelled, \n",
    "                reference_key=\"cell_type\", \n",
    "                reference_cat=[\"Immune\",\"Stromal\",\"Endothelial\"])"
   ]
  },
  {
   "cell_type": "code",
   "execution_count": null,
   "id": "fcf29ddc-0023-470d-bd62-53f6f0ff5892",
   "metadata": {},
   "outputs": [],
   "source": [
    "cnv.pl.chromosome_heatmap(metacelled, groupby=\"cell_type\")"
   ]
  },
  {
   "cell_type": "code",
   "execution_count": null,
   "id": "f63c93de-91a7-4f7a-879e-ffcbc5989c96",
   "metadata": {
    "scrolled": true
   },
   "outputs": [],
   "source": [
    "cnv.tl.pca(metacelled)\n",
    "cnv.pp.neighbors(metacelled)\n",
    "cnv.tl.leiden(metacelled, flavor=\"igraph\", resolution=0.2, directed=False, n_iterations=2)"
   ]
  },
  {
   "cell_type": "code",
   "execution_count": null,
   "id": "d93835fc-b987-4bab-af18-9fc201e1b181",
   "metadata": {},
   "outputs": [],
   "source": [
    "cnv.pl.chromosome_heatmap(metacelled, groupby=[\"cnv_leiden\",\"cell_type\"], dendrogram=True)"
   ]
  },
  {
   "cell_type": "code",
   "execution_count": null,
   "id": "bb63b89d-637e-4621-85dc-eb441198953d",
   "metadata": {},
   "outputs": [],
   "source": [
    "cnv.tl.umap(metacelled)\n",
    "cnv.tl.cnv_score(metacelled)"
   ]
  },
  {
   "cell_type": "code",
   "execution_count": null,
   "id": "7718418f-64ec-444d-b629-997624483a02",
   "metadata": {},
   "outputs": [],
   "source": [
    "fig, ((ax1, ax2), (ax3, ax4)) = plt.subplots(2, 2, figsize=(11, 11))\n",
    "ax4.axis(\"off\")\n",
    "cnv.pl.umap(\n",
    "    metacelled,\n",
    "    color=\"cnv_leiden\",\n",
    "    legend_loc=\"on data\",\n",
    "    legend_fontoutline=2,\n",
    "    ax=ax1,\n",
    "    show=False,\n",
    ")\n",
    "cnv.pl.umap(metacelled, color=\"cnv_score\", ax=ax2, show=False)\n",
    "cnv.pl.umap(metacelled, color=\"cell_type\", ax=ax3)"
   ]
  },
  {
   "cell_type": "code",
   "execution_count": null,
   "id": "d72658b1-3642-4a9f-baae-f8dd3b7d3562",
   "metadata": {},
   "outputs": [],
   "source": [
    "metacelled.obs[[\"cnv_leiden\",\"cnv_score\"]].groupby(\"cnv_leiden\").median()"
   ]
  },
  {
   "cell_type": "code",
   "execution_count": null,
   "id": "18ed2410-b773-4acb-abbf-ffd23cf47814",
   "metadata": {},
   "outputs": [],
   "source": [
    "metacelled.obs[\"CNV_status\"] = metacelled.obs.cnv_leiden.replace({\"0\":\"Malignant\", \"1\": \"Healthy\", \"2\": \"Healthy\"})"
   ]
  },
  {
   "cell_type": "code",
   "execution_count": null,
   "id": "c93ceada-70a9-4ba1-9961-c3afccc3d431",
   "metadata": {
    "scrolled": true
   },
   "outputs": [],
   "source": [
    "metacelled.obs[\"refined_celltype\"] = metacelled.obs.cell_type.replace({\"Epithelial\": \"Malignant epithelial\"}).astype(\"str\")\n",
    "\n",
    "maldf = metacelled.obs[metacelled.obs[\"CNV_status\"]=='Malignant']\n",
    "metacelled.obs.loc[maldf[maldf.cell_type!=\"Epithelial\"].index,\"refined_celltype\"] = \"Uncertain\"\n",
    "\n",
    "heldf = metacelled.obs[metacelled.obs[\"CNV_status\"]=='Healthy']\n",
    "metacelled.obs.loc[heldf[heldf.cell_type==\"Epithelial\"].index,\"refined_celltype\"] = \"Uncertain\""
   ]
  },
  {
   "cell_type": "code",
   "execution_count": null,
   "id": "352c86a2-8988-4cc9-aecb-5d531ee63949",
   "metadata": {},
   "outputs": [],
   "source": [
    "ax = sc.pl.umap(metacelled, color=[\"refined_celltype\"], palette={\"Endothelial\": \"tab:blue\", \"Immune\": \"tab:orange\",\n",
    "                                                            \"Stromal\": \"tab:red\", \"Malignant epithelial\": \"tab:green\", \n",
    "                                                            \"Healthy epithelial\": \"tab:brown\", \"Uncertain\": \"tab:purple\"},\n",
    "                ncols=2, show=False)\n",
    "ax.set_title(\"Cell type\")\n",
    "pretty_ax(ax)\n",
    "ax.figure.set_size_inches(5,3)\n",
    "ax.figure.savefig(\"/add/path/here/figures/breast_freshfrozen_celltypes.png\", dpi=200, bbox_inches=\"tight\")"
   ]
  },
  {
   "cell_type": "code",
   "execution_count": null,
   "id": "9dae7977-ee8b-4090-882a-1638f4f7650e",
   "metadata": {},
   "outputs": [],
   "source": [
    "adata.obs[\"refined_celltype\"] = adata.obs.leiden.replace(metacelled.obs.refined_celltype.to_dict())"
   ]
  },
  {
   "cell_type": "markdown",
   "id": "f4e7cbd3-8fbc-4712-b659-ba5454a82841",
   "metadata": {},
   "source": [
    "# Going back to single-spot resolution"
   ]
  },
  {
   "cell_type": "code",
   "execution_count": null,
   "id": "43b22c48-85bd-4b51-8011-73719e2bff23",
   "metadata": {},
   "outputs": [],
   "source": [
    "sdata['square_008um'].obs[\"cell_type\"] = adata.obs.refined_celltype\n",
    "sdata['square_008um'].obs[\"pct_counts_mt\"] = adata.obs.pct_counts_mt\n",
    "\n",
    "sdata['square_008um'].obs[\"MT-RNA bins\"] = pd.cut(sdata['square_008um'].obs[\"pct_counts_mt\"],[0,5,10,15,20,25,100], labels=[\"0-5\",\"5-10\",\"10-15\",\"15-20\",\"20-25\",\"25+\"])\n",
    "\n",
    "sdata['square_008um'].write(\"/add/path/here/processed_data/breast-visium-hd-2_square_008um.h5ad\")"
   ]
  },
  {
   "cell_type": "code",
   "execution_count": null,
   "id": "236440da-43b9-4f9f-ae06-1b9b4452f363",
   "metadata": {},
   "outputs": [],
   "source": [
    "sdata['square_008um'] = sc.read_h5ad(\"/add/path/here/processed_data/breast-visium-hd-2_square_008um.h5ad\")"
   ]
  },
  {
   "cell_type": "code",
   "execution_count": null,
   "id": "f72d89fc-16f8-458c-9649-f7c1dfca7ccf",
   "metadata": {},
   "outputs": [],
   "source": [
    "ct_order = sdata['square_008um'].obs[[\"cell_type\",\"pct_counts_mt\"]].groupby(\"cell_type\").median().sort_values(\"pct_counts_mt\").drop(\"Uncertain\").index"
   ]
  },
  {
   "cell_type": "code",
   "execution_count": null,
   "id": "656cc079-2892-4cc3-9ead-43c672ef105e",
   "metadata": {},
   "outputs": [],
   "source": [
    "sdata['square_008um'].obs[[\"cell_type\",\"pct_counts_mt\"]].groupby(\"cell_type\").median()"
   ]
  },
  {
   "cell_type": "code",
   "execution_count": null,
   "id": "1968afdf-bb3f-4bbc-906a-1d15a89958e5",
   "metadata": {},
   "outputs": [],
   "source": [
    "fig, ax = plt.subplots(1,1,figsize=(4,2))\n",
    "sns.boxplot(data=sdata['square_008um'].obs, x=\"cell_type\", \n",
    "            y=\"pct_counts_mt\", order=ct_order, palette={\"Endothelial\": \"tab:blue\", \"Immune\": \"tab:orange\",\n",
    "                                                            \"Stromal\": \"tab:red\", \"Malignant epithelial\": \"tab:green\", \n",
    "                                                            \"Healthy epithelial\": \"tab:brown\", \"Uncertain\": \"tab:purple\"})\n",
    "ax.set_xlabel(\"\")\n",
    "ax.set_ylabel(\"% MT counts\")\n",
    "\n",
    "ax.set_xticks(ax.get_xticks(), ax.get_xticklabels(), rotation=45, ha=\"right\")\n",
    "pretty_ax(ax)\n",
    "\n",
    "pairs = []\n",
    "for ct in np.setdiff1d(ct_order,[\"Malignant epithelial\"]):\n",
    "     pairs.append((\"Malignant epithelial\",ct))\n",
    "annot = Annotator(\n",
    "        ax,\n",
    "        pairs=pairs,\n",
    "        data=sdata['square_008um'].obs, x=\"cell_type\", y=\"pct_counts_mt\", order=ct_order\n",
    "    )\n",
    "annot.configure(\n",
    "    test=\"Mann-Whitney\",\n",
    "    loc=\"inside\",\n",
    "    text_format=\"star\",\n",
    "    show_test_name=False,\n",
    "    verbose=2,\n",
    "    comparisons_correction=None,\n",
    "    fontsize=10,\n",
    ")\n",
    "annot.apply_test()\n",
    "ax.set_ylim([0,15])\n",
    "_, test_results = annot.annotate()  \n",
    "fig.savefig(\"/add/path/here/figures/breast_freshfrozen_distcounts.svg\", dpi=200, bbox_inches=\"tight\")"
   ]
  },
  {
   "cell_type": "code",
   "execution_count": null,
   "id": "aa4f5713-b8a8-42d0-8be6-2e4566dd666e",
   "metadata": {},
   "outputs": [],
   "source": [
    "from tqdm.notebook import tqdm\n",
    "import matplotlib.cm as cm\n",
    "from matplotlib.colors import LinearSegmentedColormap\n",
    "\n",
    "# modify the viridis colormap, so that the top color is a green (better visible on the H&E pink), and such that\n",
    "# the value 0 leads to a transparent color\n",
    "viridis = cm.get_cmap(\"viridis\", 256)\n",
    "# using 0.8 instead of 1.0 truncates the colormap\n",
    "colors = viridis(np.linspace(0, 0.8, 256))\n",
    "\n",
    "colors[:,-1]=0.8\n",
    "colors[0, :] = [1.0, 1.0, 1.0, 0.0]\n",
    "\n",
    "new_cmap = LinearSegmentedColormap.from_list(\"truncated_viridis\", colors)"
   ]
  },
  {
   "cell_type": "code",
   "execution_count": null,
   "id": "3887c94c-6b7f-41c3-baed-f49518fa32ae",
   "metadata": {
    "scrolled": true
   },
   "outputs": [],
   "source": [
    "import matplotlib.pyplot as plt\n",
    "import spatialdata_plot\n",
    "import matplotlib.patches as patches\n",
    "from spatialdata import bounding_box_query\n",
    "\n",
    "bb_w = 100\n",
    "bb_h = 100\n",
    "\n",
    "xcoords = np.arange(500,5500,bb_w)\n",
    "ycoords = np.arange(500,4000,bb_h)\n",
    "\n",
    "total_patches = []\n",
    "\n",
    "median_values = {}\n",
    "for i in tqdm(range(len(xcoords)-1)):\n",
    "    for j in range(len(ycoords)-1):\n",
    "        sdata_small = sdata.query.bounding_box(\n",
    "            min_coordinate=[xcoords[i], ycoords[j]], max_coordinate=[xcoords[i+1], ycoords[j+1]], axes=(\"x\", \"y\"), target_coordinate_system=\"downscaled_hires\"\n",
    "        )\n",
    "        if \"square_008um\" in sdata_small:\n",
    "            if sdata_small['square_008um'].shape[0]>=100:\n",
    "                if sdata_small['square_008um'].obs.cell_type.value_counts().loc[\"Malignant epithelial\"]>=25:\n",
    "                    median_pct_counts = sdata_small['square_008um'].obs[[\"cell_type\",\"pct_counts_mt\"]].groupby(\"cell_type\",observed=False).median().fillna(0)\n",
    "                    median_values[f\"{xcoords[i]}-{xcoords[i+1]}_{ycoords[j]}-{ycoords[j+1]}\"] = median_pct_counts\n",
    "                    rect = patches.Rectangle((xcoords[i], ycoords[j]), bb_w, bb_h, linewidth=0.1, edgecolor=\"white\", facecolor=new_cmap(min(1,median_pct_counts.loc[\"Malignant epithelial\",\"pct_counts_mt\"]/10)))\n",
    "        \n",
    "                    total_patches.append(rect)"
   ]
  },
  {
   "cell_type": "code",
   "execution_count": null,
   "id": "cf4d62d6-f8d1-4afa-8f1b-5f5d78b421b0",
   "metadata": {},
   "outputs": [],
   "source": [
    "median_df = pd.concat(median_values).unstack().droplevel(0,axis=1).fillna(0)"
   ]
  },
  {
   "cell_type": "code",
   "execution_count": null,
   "id": "d61cb2a4-b6ac-4c71-b475-4416a6db2034",
   "metadata": {},
   "outputs": [],
   "source": [
    "crop0 = lambda x: bounding_box_query(\n",
    "    x, min_coordinate=[500, 500], max_coordinate=[5500, 4000], axes=(\"x\", \"y\"), target_coordinate_system=\"downscaled_hires\"\n",
    ")\n",
    "\n",
    "axes = plt.subplots(1, 1, figsize=(10, 5))\n",
    "crop0(sdata).pl.render_images('Visium_HD_Human_Breast_Cancer_Fresh_Frozen_hires_image').pl.show(ax=axes[1], coordinate_systems=\"downscaled_hires\",\n",
    "                                                                                              title=\"Full image\")"
   ]
  },
  {
   "cell_type": "code",
   "execution_count": null,
   "id": "d8245814-7755-493c-bf6c-5d5b396ef818",
   "metadata": {
    "scrolled": true
   },
   "outputs": [],
   "source": [
    "crop0 = lambda x: bounding_box_query(\n",
    "    x, min_coordinate=[500, 500], max_coordinate=[5500, 4000], axes=(\"x\", \"y\"), target_coordinate_system=\"downscaled_hires\"\n",
    ")\n",
    "\n",
    "axes = plt.subplots(1, 1, figsize=(10, 5))\n",
    "crop0(sdata).pl.render_images('Visium_HD_Human_Breast_Cancer_Fresh_Frozen_hires_image').pl.show(ax=axes[1], coordinate_systems=\"downscaled_hires\",\n",
    "                                                                                              title=\"Full image\")\n",
    "\n",
    "for c in total_patches:\n",
    "   axes[1].add_patch(c)\n"
   ]
  },
  {
   "cell_type": "code",
   "execution_count": null,
   "id": "f5e89b44-8e8c-4dd9-aebc-8938c7a5a525",
   "metadata": {},
   "outputs": [],
   "source": [
    "new_cmap"
   ]
  },
  {
   "cell_type": "code",
   "execution_count": null,
   "id": "b8a4edda-f762-4947-af58-65771f756e33",
   "metadata": {},
   "outputs": [],
   "source": [
    "pd.concat(median_values).unstack().droplevel(0,axis=1).fillna(0).sort_values(\"Malignant epithelial\",ascending=False).head(10)"
   ]
  },
  {
   "cell_type": "code",
   "execution_count": null,
   "id": "7c71e04f-b59a-46d6-a617-1b94e35bd510",
   "metadata": {},
   "outputs": [],
   "source": [
    "pd.concat(median_values).unstack().droplevel(0,axis=1).fillna(0).sort_values(\"Epithelial\").tail(20)"
   ]
  },
  {
   "cell_type": "code",
   "execution_count": null,
   "id": "6f1d3490-2d28-4604-9d1e-4c41ba3b3184",
   "metadata": {},
   "outputs": [],
   "source": [
    "sdata[\"square_008um\"].obs[\"trunc_pct_counts_mt\"] = sdata[\"square_008um\"].obs.pct_counts_mt.clip(0,15)\n",
    "\n",
    "sdata[\"square_008um\"].obs.cell_type = sdata[\"square_008um\"].obs.cell_type.astype(str).replace({\"nan\": \"Poor quality\"}).astype(\"category\")"
   ]
  },
  {
   "cell_type": "markdown",
   "id": "02d89805-dd8c-44c0-aed5-eb6c6485fcdd",
   "metadata": {},
   "source": [
    "# Region 1"
   ]
  },
  {
   "cell_type": "code",
   "execution_count": null,
   "id": "8715846a-b989-47f9-95f9-b1682666a8bd",
   "metadata": {},
   "outputs": [],
   "source": [
    "from spatialdata import bounding_box_query\n",
    "\n",
    "#crop0 = lambda x: bounding_box_query(\n",
    "#    x, min_coordinate=[750, 1000], max_coordinate=[1000, 1250], axes=(\"x\", \"y\"), target_coordinate_system=\"downscaled_hires\"\n",
    "#)\n",
    "crop0 = lambda x: bounding_box_query(\n",
    "    x, min_coordinate=[1100, 2400], max_coordinate=[1400, 2700], axes=(\"x\", \"y\"), target_coordinate_system=\"downscaled_hires\"\n",
    ")\n",
    "crop0(sdata).pl.render_images('Visium_HD_Human_Breast_Cancer_Fresh_Frozen_hires_image').pl.render_shapes(\n",
    "        \"Visium_HD_Human_Breast_Cancer_Fresh_Frozen_square_008um\", color=\"cell_type\", \n",
    "    groups=[\"Endothelial\",\"Immune\",\"Malignant epithelial\",\"Stromal\",\"Healthy epithelial\",\"Uncertain\",\"Poor quality\"],\n",
    "    palette=[\"tab:blue\", \"tab:orange\", \"tab:green\", \"tab:red\", \"tab:brown\", \"tab:purple\", \"white\"],\n",
    "    ).pl.show(coordinate_systems=\"downscaled_hires\", title=f\"Cell type\", figsize=(10, 10))"
   ]
  },
  {
   "cell_type": "code",
   "execution_count": null,
   "id": "80155138-6904-4f0a-bf9f-0adfcb989b87",
   "metadata": {},
   "outputs": [],
   "source": [
    "import matplotlib.cm as cm\n",
    "import matplotlib.pyplot as plt\n",
    "\n",
    "import numpy as np\n",
    "from matplotlib.colors import LinearSegmentedColormap\n",
    "\n",
    "# modify the viridis colormap, so that the top color is a green (better visible on the H&E pink), and such that\n",
    "# the value 0 leads to a transparent color\n",
    "viridis = cm.get_cmap(\"viridis\", 256)\n",
    "# using 0.8 instead of 1.0 truncates the colormap\n",
    "colors = viridis(np.linspace(0, 0.8, 256))\n",
    "# set the color of zero to be transparent\n",
    "colors[:,-1]=0.7\n",
    "colors[0, :] = [1.0, 1.0, 1.0, 0.0]\n",
    "\n",
    "new_cmap = LinearSegmentedColormap.from_list(\"truncated_viridis\", colors)\n",
    "\n",
    "crop0 = lambda x: bounding_box_query(\n",
    "    x, min_coordinate=[1100, 2400], max_coordinate=[1400, 2700], axes=(\"x\", \"y\"), target_coordinate_system=\"downscaled_hires\"\n",
    ")\n",
    "crop0(sdata).pl.render_images('Visium_HD_Human_Breast_Cancer_Fresh_Frozen_hires_image').pl.render_shapes(\n",
    "        \"Visium_HD_Human_Breast_Cancer_Fresh_Frozen_square_008um\", color=\"trunc_pct_counts_mt\", cmap=new_cmap,\n",
    "    ).pl.show(coordinate_systems=\"downscaled_hires\", title=f\"Cell type\", figsize=(10, 10))"
   ]
  },
  {
   "cell_type": "code",
   "execution_count": null,
   "id": "e79eef40-78a8-4117-98d1-e16d1a4d21dc",
   "metadata": {},
   "outputs": [],
   "source": [
    "from spatialdata import bounding_box_query\n",
    "\n",
    "crop0 = lambda x: bounding_box_query(\n",
    "    x, min_coordinate=[1100, 2400], max_coordinate=[1400, 2700], axes=(\"x\", \"y\"), target_coordinate_system=\"downscaled_hires\"\n",
    ")\n",
    "crop0(sdata).pl.render_images('Visium_HD_Human_Breast_Cancer_Fresh_Frozen_hires_image'\n",
    "                             ).pl.show(coordinate_systems=\"downscaled_hires\", title=\"H&E\", figsize=(10, 10))"
   ]
  },
  {
   "cell_type": "markdown",
   "id": "db85c333-4247-44dd-96cc-0b8f0b252dfc",
   "metadata": {},
   "source": [
    "# Region 2"
   ]
  },
  {
   "cell_type": "code",
   "execution_count": null,
   "id": "5615a5e3-39ad-438e-b225-8b101e744444",
   "metadata": {},
   "outputs": [],
   "source": [
    "from spatialdata import bounding_box_query\n",
    "\n",
    "crop0 = lambda x: bounding_box_query(\n",
    "    x, min_coordinate=[2200, 2900], max_coordinate=[2500, 3200], axes=(\"x\", \"y\"), target_coordinate_system=\"downscaled_hires\"\n",
    ")\n",
    "crop0(sdata).pl.render_images('Visium_HD_Human_Breast_Cancer_Fresh_Frozen_hires_image').pl.render_shapes(\n",
    "        \"Visium_HD_Human_Breast_Cancer_Fresh_Frozen_square_008um\", color=\"cell_type\", \n",
    "    groups=[\"Endothelial\",\"Immune\",\"Malignant epithelial\",\"Stromal\",\"Healthy epithelial\",\"Uncertain\",\"Poor quality\"],\n",
    "    palette=[\"tab:blue\", \"tab:orange\", \"tab:green\", \"tab:red\", \"tab:brown\", \"tab:purple\", \"white\"],\n",
    "    ).pl.show(coordinate_systems=\"downscaled_hires\", title=f\"Cell type\", figsize=(10, 10))"
   ]
  },
  {
   "cell_type": "code",
   "execution_count": null,
   "id": "9ea9a6c3-f92b-4c3d-8ab6-33a7b0dd42b2",
   "metadata": {},
   "outputs": [],
   "source": [
    "import matplotlib.cm as cm\n",
    "import matplotlib.pyplot as plt\n",
    "\n",
    "import numpy as np\n",
    "from matplotlib.colors import LinearSegmentedColormap\n",
    "\n",
    "# modify the viridis colormap, so that the top color is a green (better visible on the H&E pink), and such that\n",
    "# the value 0 leads to a transparent color\n",
    "viridis = cm.get_cmap(\"viridis\", 256)\n",
    "# using 0.8 instead of 1.0 truncates the colormap\n",
    "colors = viridis(np.linspace(0, 0.8, 256))\n",
    "# set the color of zero to be transparent\n",
    "colors[:,-1]=0.7\n",
    "colors[0, :] = [1.0, 1.0, 1.0, 0.0]\n",
    "\n",
    "new_cmap = LinearSegmentedColormap.from_list(\"truncated_viridis\", colors)\n",
    "\n",
    "crop0 = lambda x: bounding_box_query(\n",
    "    x, min_coordinate=[2200, 2900], max_coordinate=[2500, 3200], axes=(\"x\", \"y\"), target_coordinate_system=\"downscaled_hires\"\n",
    ")\n",
    "crop0(sdata).pl.render_images('Visium_HD_Human_Breast_Cancer_Fresh_Frozen_hires_image').pl.render_shapes(\n",
    "        \"Visium_HD_Human_Breast_Cancer_Fresh_Frozen_square_008um\", color=\"trunc_pct_counts_mt\", cmap=new_cmap,\n",
    "    ).pl.show(coordinate_systems=\"downscaled_hires\", title=f\"Cell type\", figsize=(10, 10))"
   ]
  },
  {
   "cell_type": "code",
   "execution_count": null,
   "id": "9090d1fb-9858-4019-9ed7-d559d7689ffa",
   "metadata": {},
   "outputs": [],
   "source": [
    "from spatialdata import bounding_box_query\n",
    "\n",
    "crop0 = lambda x: bounding_box_query(\n",
    "    x, min_coordinate=[2200, 2900], max_coordinate=[2500, 3200], axes=(\"x\", \"y\"), target_coordinate_system=\"downscaled_hires\"\n",
    ")\n",
    "crop0(sdata).pl.render_images('Visium_HD_Human_Breast_Cancer_Fresh_Frozen_hires_image'\n",
    "                             ).pl.show(coordinate_systems=\"downscaled_hires\", title=\"H&E\", figsize=(10, 10))"
   ]
  },
  {
   "cell_type": "markdown",
   "id": "462ee723-8ae1-47ee-b57a-3baa70af86ef",
   "metadata": {},
   "source": [
    "# Region 3"
   ]
  },
  {
   "cell_type": "code",
   "execution_count": null,
   "id": "afc30cc9-c8c2-4a54-adbb-a0e8a18c224d",
   "metadata": {},
   "outputs": [],
   "source": [
    "from spatialdata import bounding_box_query\n",
    "\n",
    "crop0 = lambda x: bounding_box_query(\n",
    "    x, min_coordinate=[3200, 2300], max_coordinate=[3500, 2600], axes=(\"x\", \"y\"), target_coordinate_system=\"downscaled_hires\"\n",
    ")\n",
    "crop0(sdata).pl.render_images('Visium_HD_Human_Breast_Cancer_Fresh_Frozen_hires_image').pl.render_shapes(\n",
    "        \"Visium_HD_Human_Breast_Cancer_Fresh_Frozen_square_008um\", color=\"cell_type\", \n",
    "    groups=[\"Endothelial\",\"Immune\",\"Malignant epithelial\",\"Stromal\",\"Healthy epithelial\",\"Uncertain\",\"Poor quality\"],\n",
    "    palette=[\"tab:blue\", \"tab:orange\", \"tab:green\", \"tab:red\", \"tab:brown\", \"tab:purple\", \"white\"],\n",
    "    ).pl.show(coordinate_systems=\"downscaled_hires\", title=f\"Cell type\", figsize=(10, 10))"
   ]
  },
  {
   "cell_type": "code",
   "execution_count": null,
   "id": "0c625e79-f602-4e9e-9c64-2ce5f95b6947",
   "metadata": {},
   "outputs": [],
   "source": []
  },
  {
   "cell_type": "code",
   "execution_count": null,
   "id": "83ce6c77-0bca-45fd-8a5d-9415cfadedc0",
   "metadata": {},
   "outputs": [],
   "source": [
    "import matplotlib.cm as cm\n",
    "import matplotlib.pyplot as plt\n",
    "\n",
    "import numpy as np\n",
    "from matplotlib.colors import LinearSegmentedColormap, Normalize\n",
    "\n",
    "# modify the viridis colormap, so that the top color is a green (better visible on the H&E pink), and such that\n",
    "# the value 0 leads to a transparent color\n",
    "viridis = cm.get_cmap(\"viridis\", 256)\n",
    "# using 0.8 instead of 1.0 truncates the colormap\n",
    "colors = viridis(np.linspace(0, 0.8, 256))\n",
    "# set the color of zero to be transparent\n",
    "colors[:,-1]=0.7\n",
    "colors[0, :] = [1.0, 1.0, 1.0, 0.0]\n",
    "#norm = Normalize(vmin=0, vmax=15)\n",
    "\n",
    "new_cmap = LinearSegmentedColormap.from_list(\"truncated_viridis\", colors)\n",
    "\n",
    "crop0 = lambda x: bounding_box_query(\n",
    "    x, min_coordinate=[3200, 2300], max_coordinate=[3500, 2600], axes=(\"x\", \"y\"), target_coordinate_system=\"downscaled_hires\", \n",
    ")\n",
    "crop0(sdata).pl.render_images('Visium_HD_Human_Breast_Cancer_Fresh_Frozen_hires_image').pl.render_shapes(\n",
    "        \"Visium_HD_Human_Breast_Cancer_Fresh_Frozen_square_008um\", color=\"trunc_pct_counts_mt\", cmap=new_cmap, #norm=norm,\n",
    "    ).pl.show(coordinate_systems=\"downscaled_hires\", title=f\"Cell type\", figsize=(10, 10))"
   ]
  },
  {
   "cell_type": "code",
   "execution_count": null,
   "id": "96db0e25-8705-4b9e-93d4-804e79ed6e2f",
   "metadata": {},
   "outputs": [],
   "source": [
    "from spatialdata import bounding_box_query\n",
    "\n",
    "crop0 = lambda x: bounding_box_query(\n",
    "    x, min_coordinate=[3200, 2300], max_coordinate=[3500, 2600], axes=(\"x\", \"y\"), target_coordinate_system=\"downscaled_hires\"\n",
    ")\n",
    "crop0(sdata).pl.render_images('Visium_HD_Human_Breast_Cancer_Fresh_Frozen_hires_image'\n",
    "                             ).pl.show(coordinate_systems=\"downscaled_hires\", title=\"H&E\", figsize=(10, 10))"
   ]
  },
  {
   "cell_type": "code",
   "execution_count": null,
   "id": "7101480d",
   "metadata": {},
   "outputs": [],
   "source": []
  },
  {
   "cell_type": "code",
   "execution_count": null,
   "id": "73321a75",
   "metadata": {},
   "outputs": [],
   "source": []
  }
 ],
 "metadata": {
  "kernelspec": {
   "display_name": "Python 3 (ipykernel)",
   "language": "python",
   "name": "python3"
  },
  "language_info": {
   "codemirror_mode": {
    "name": "ipython",
    "version": 3
   },
   "file_extension": ".py",
   "mimetype": "text/x-python",
   "name": "python",
   "nbconvert_exporter": "python",
   "pygments_lexer": "ipython3",
   "version": "3.10.0"
  }
 },
 "nbformat": 4,
 "nbformat_minor": 5
}
