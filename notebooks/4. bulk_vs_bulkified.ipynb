{
 "cells": [
  {
   "cell_type": "code",
   "execution_count": null,
   "id": "81bb6b2a",
   "metadata": {},
   "outputs": [],
   "source": [
    "import pandas as pd\n",
    "import numpy as np\n",
    "import scanpy as sc\n",
    "\n",
    "import matplotlib.pyplot as plt\n",
    "import seaborn as sns\n",
    "\n",
    "from tqdm.notebook import tqdm\n",
    "\n",
    "import os\n",
    "import pathlib as pl"
   ]
  },
  {
   "cell_type": "code",
   "execution_count": null,
   "id": "a23c0a88",
   "metadata": {},
   "outputs": [],
   "source": [
    "def pretty_ax(ax):\n",
    "    ax.spines['right'].set_visible(False)\n",
    "    ax.spines['top'].set_visible(False)\n",
    "    ax.tick_params(\n",
    "        axis='both',  \n",
    "        which='both',      \n",
    "        bottom=True,     \n",
    "        top=False,\n",
    "        left=False,\n",
    "        labelbottom=True,\n",
    "        labelleft = True)\n",
    "    ax.spines[\"bottom\"].set_linewidth(1.5)\n",
    "    ax.spines[\"left\"].set_linewidth(1.5)"
   ]
  },
  {
   "cell_type": "code",
   "execution_count": null,
   "id": "b244576e",
   "metadata": {},
   "outputs": [],
   "source": [
    "from sklearn.preprocessing import PolynomialFeatures\n",
    "from sklearn.linear_model import LinearRegression\n",
    "from sklearn.metrics import r2_score\n",
    "\n",
    "def compute_residuals(df: pd.DataFrame, gene_list: np.ndarray, deg: int, abso: bool=True):\n",
    "    train_df = df.drop(gene_list)\n",
    "    test_df = df.loc[gene_list]\n",
    "    \n",
    "    x_train = train_df.Bulk.ravel()\n",
    "    y_train = train_df.Bulkified.ravel()\n",
    "    \n",
    "    x_test = test_df.Bulk.ravel()\n",
    "    y_test = test_df.Bulkified.ravel()\n",
    "    \n",
    "    pr = PolynomialFeatures(degree = deg)\n",
    "    polyfit = pr.fit(x_train.reshape(-1,1))\n",
    "    \n",
    "    X_train = polyfit.transform(x_train.reshape(-1,1))\n",
    "    X_test = polyfit.transform(x_test.reshape(-1,1))\n",
    "    \n",
    "    lr_2 = LinearRegression()\n",
    "    lr_2.fit(X_train, y_train)\n",
    "    \n",
    "    y_train_pred = lr_2.predict(X_train)\n",
    "    y_pred = lr_2.predict(X_test)\n",
    "    if abso:\n",
    "        abs_res = pd.Series(y_test - y_pred).abs()\n",
    "    else:\n",
    "        abs_res = pd.Series(y_test - y_pred)\n",
    "        \n",
    "    return abs_res, r2_score(y_train, y_train_pred)"
   ]
  },
  {
   "cell_type": "code",
   "execution_count": null,
   "id": "ab5982d2",
   "metadata": {},
   "outputs": [],
   "source": [
    "def get_value_patient(adata: sc.AnnData, logbulk: pd.DataFrame, patient: str, \n",
    "                      deg: int, col_name: str, n_rep: int=500, layer_name: str= \"counts\", \n",
    "                      n_closest: int=500, abso: bool=True):\n",
    "    \n",
    "    cells = adata.obs[adata.obs[col_name]==patient].index\n",
    "\n",
    "    patadata = adata[cells].copy()\n",
    "\n",
    "    counts = patadata.layers[layer_name].toarray()\n",
    "\n",
    "    if layer_name==\"TPM\":\n",
    "        bulkified = pd.DataFrame(counts.mean(axis=0),index=patadata.var_names)\n",
    "    else:\n",
    "        bulkified = pd.DataFrame(counts.sum(axis=0),index=patadata.var_names)\n",
    "    bulkified = bulkified.applymap(np.log1p)\n",
    "\n",
    "    df = pd.concat([bulkified, logbulk.loc[patient]],axis=1).dropna()\n",
    "    df.columns = [\"Bulkified\",\"Bulk\"]\n",
    "\n",
    "    mt_genes = df.index[df.index.str.startswith(\"MT-\")].to_numpy()\n",
    "    \n",
    "    mt_res, _ = compute_residuals(df, gene_list=mt_genes, deg=deg, abso=abso)\n",
    "    \n",
    "    mt_mean = mt_res.mean()\n",
    "\n",
    "    sorted_df = df.sort_values(\"Bulkified\")\n",
    "    sorted_df = sorted_df.drop(mt_genes)\n",
    "\n",
    "    pool_genes = sorted_df.iloc[sorted_df.shape[0]-n_closest:sorted_df.shape[0]].index\n",
    "\n",
    "    rng = np.random.default_rng(42)\n",
    "    ctrl_res = []\n",
    "    full_ctrl_dist = []\n",
    "    for i in range(n_rep):\n",
    "        ctrl_genes = rng.choice(pool_genes, size=(len(mt_genes)), replace=False)\n",
    "        res, _ = compute_residuals(df, gene_list=ctrl_genes, deg=deg, abso=abso)\n",
    "        ctrl_res.append(res.mean())\n",
    "        full_ctrl_dist.append(res.ravel())\n",
    "\n",
    "    p_val = np.sum(ctrl_res>=mt_mean)/n_rep\n",
    "    \n",
    "    return mt_mean, mt_res, p_val, ctrl_res, np.hstack(full_ctrl_dist)"
   ]
  },
  {
   "cell_type": "markdown",
   "id": "16f1a56a",
   "metadata": {},
   "source": [
    "# Breast Wu"
   ]
  },
  {
   "cell_type": "code",
   "execution_count": null,
   "id": "907d4456",
   "metadata": {},
   "outputs": [],
   "source": [
    "bulk = pd.read_csv(\"/add/path/here/auxiliary_data/BRCA_Wu_fpkm.csv\",index_col=0).T"
   ]
  },
  {
   "cell_type": "code",
   "execution_count": null,
   "id": "3d21aab7",
   "metadata": {},
   "outputs": [],
   "source": [
    "logbulk = bulk.applymap(np.log1p)"
   ]
  },
  {
   "cell_type": "code",
   "execution_count": null,
   "id": "f449fc31",
   "metadata": {},
   "outputs": [],
   "source": [
    "adata = sc.read_h5ad(\"/add/path/here/filtered_data/Breast_Wu_10X/filtered_adata.h5ad\")"
   ]
  },
  {
   "cell_type": "code",
   "execution_count": null,
   "id": "923e2069",
   "metadata": {},
   "outputs": [],
   "source": [
    "adata.var_names_make_unique()\n",
    "\n",
    "adata = adata[:,(adata.var.mean_counts>=0.01)].copy()"
   ]
  },
  {
   "cell_type": "code",
   "execution_count": null,
   "id": "89b21620",
   "metadata": {
    "scrolled": true
   },
   "outputs": [],
   "source": [
    "for deg in tqdm(np.arange(1,10)):\n",
    "    means, pvals, ctrl_dist = {},{},{}\n",
    "    for pat in tqdm(logbulk.index):\n",
    "        mt_mean, _, p_val, ctrl_res, _ = get_value_patient(adata=adata, logbulk=logbulk, patient=pat, \n",
    "                          deg=deg, col_name=\"Patient\", n_rep=500, n_closest=500, abso=False)\n",
    "        means[pat] = [mt_mean]\n",
    "        pvals[pat] = [p_val]\n",
    "        ctrl_dist[pat] = ctrl_res\n",
    "\n",
    "    ctrl_dist = pd.DataFrame(ctrl_dist).T\n",
    "\n",
    "    means = pd.DataFrame(means).T\n",
    "\n",
    "    pvals = pd.DataFrame(pvals).T\n",
    "    \n",
    "    resdir = pl.Path(f\"/add/path/here/results_bulk_vs_bulkified/Breast_Wu/deg{deg}\")\n",
    "    os.makedirs(resdir, exist_ok=True)\n",
    "\n",
    "    ctrl_dist.to_csv(resdir / \"ctrl_dist.csv\")\n",
    "    means.to_csv(resdir / \"mtmeans.csv\")\n",
    "    pvals.to_csv(resdir / \"pvals.csv\")"
   ]
  },
  {
   "cell_type": "markdown",
   "id": "a238c4e6",
   "metadata": {},
   "source": [
    "# Compute plot"
   ]
  },
  {
   "cell_type": "code",
   "execution_count": null,
   "id": "74df7fd0",
   "metadata": {},
   "outputs": [],
   "source": [
    "mean_dir = pl.Path(\"/add/path/here/results_bulk_vs_bulkified/Breast_Wu/\")\n",
    "\n",
    "pvals_full = {}\n",
    "for f in mean_dir.iterdir():\n",
    "    if f.stem  not in [\".DS_Store\"]:\n",
    "        pvals_full[f.stem] = pd.read_csv(f / \"pvals.csv\", index_col=0)\n",
    "\n",
    "\n",
    "ctrl_res = {}\n",
    "for f in mean_dir.iterdir():\n",
    "    if f.stem  not in [\".DS_Store\"]:\n",
    "        ctrl_res[f.stem] = pd.read_csv(f / \"ctrl_dist.csv\", index_col=0)\n",
    "\n",
    "\n",
    "mt_means = {}\n",
    "for f in mean_dir.iterdir():\n",
    "    if f.stem  not in [\".DS_Store\"]:\n",
    "        mt_means[f.stem] = pd.read_csv(f / \"mtmeans.csv\", index_col=0)\n",
    "\n",
    "\n",
    "for deg in [f\"deg{i}\" for i in np.arange(1,7)]:\n",
    "\n",
    "    plot_df = mt_means[deg].drop(\"CID4461\")\n",
    "    plot_df = plot_df.reset_index()\n",
    "    plot_df.columns = [\"Patient\",\"MT res. means\"]\n",
    "    \n",
    "    text_ps = pvals_full[deg].loc[plot_df.Patient.ravel()].applymap(lambda x: \"\" if x>=0.05 else (\"*\" if 0.01<=x<0.05 else \"**\")).values.ravel()\n",
    "\n",
    "    qt = ctrl_res[deg].loc[plot_df.Patient.ravel()]\n",
    "\n",
    "    y1, y2 = qt.quantile(0.05,axis=1).ravel(),qt.quantile(0.95,axis=1).ravel()\n",
    "\n",
    "    fig, ax = plt.subplots(1,1,figsize=(7,2))\n",
    "    sns.scatterplot(data=plot_df, x=\"Patient\", y=\"MT res. means\",ax=ax)\n",
    "    pretty_ax(ax)\n",
    "    ax.set_xticks(ax.get_xticks(), ax.get_xticklabels(), rotation=45, ha='right')\n",
    "    ax.hlines(y=0, xmin=ax.get_xlim()[0], xmax=ax.get_xlim()[1], linestyle=\"--\", color=\"gray\")\n",
    "    ax.fill_between(np.arange(plot_df.shape[0]), y1, y2, color=\"grey\", alpha=0.25)\n",
    "    ax.set_xlabel(\"\")\n",
    "    \n",
    "    for i,p in enumerate(text_ps):\n",
    "        ax.text(i, ax.get_ylim()[1], p, ha='center', va='center')\n",
    "    fig.savefig(f\"/add/path/here/figures/bulk_vs_bulkified/Breast_Wu_deg{deg}.svg\", dpi=200, \n",
    "                bbox_inches=\"tight\")"
   ]
  },
  {
   "cell_type": "markdown",
   "id": "ec976053",
   "metadata": {},
   "source": [
    "# Compute average R2 scores"
   ]
  },
  {
   "cell_type": "code",
   "execution_count": null,
   "id": "f4a24e9a",
   "metadata": {},
   "outputs": [],
   "source": [
    "layer_name = \"counts\"\n",
    "col_name = \"Patient\"\n",
    "\n",
    "scores = {}\n",
    "for patient in tqdm(logbulk.index.intersection(adata.obs[col_name].unique())):\n",
    "    pat_scores = {}\n",
    "    for deg in np.arange(1,8):\n",
    "        cells = adata.obs[adata.obs[col_name]==patient].index\n",
    "\n",
    "        patadata = adata[cells].copy()\n",
    "\n",
    "        counts = patadata.layers[layer_name].toarray()\n",
    "\n",
    "        if layer_name==\"TPM\":\n",
    "            bulkified = pd.DataFrame(counts.mean(axis=0),index=patadata.var_names)\n",
    "        else:\n",
    "            bulkified = pd.DataFrame(counts.sum(axis=0),index=patadata.var_names)\n",
    "        bulkified = bulkified.applymap(np.log1p)\n",
    "\n",
    "        df = pd.concat([bulkified, logbulk.loc[patient]],axis=1).dropna()\n",
    "        df.columns = [\"Bulkified\",\"Bulk\"]\n",
    "\n",
    "        mt_genes = df.index[df.index.str.startswith(\"MT-\")].to_numpy()\n",
    "\n",
    "        res, score = compute_residuals(df, gene_list=mt_genes, deg=deg)\n",
    "\n",
    "        mt_mean = res.mean()\n",
    "\n",
    "        pat_scores[deg] = [score]\n",
    "    scores[patient] = pd.DataFrame(pat_scores)"
   ]
  },
  {
   "cell_type": "code",
   "execution_count": null,
   "id": "97fb2120",
   "metadata": {},
   "outputs": [],
   "source": [
    "avg_r2 = pd.concat(scores).reset_index().drop(\"level_1\",axis=1).set_index(\"level_0\").mean()"
   ]
  },
  {
   "cell_type": "code",
   "execution_count": null,
   "id": "cb5a9003",
   "metadata": {},
   "outputs": [],
   "source": [
    "fig, ax = plt.subplots(1,1,figsize=(2,1))\n",
    "sns.scatterplot(data=avg_r2.reset_index(), x=\"index\", y=0,ax=ax)\n",
    "pretty_ax(ax)\n",
    "ax.set_ylabel(\"R2\")\n",
    "ax.set_xlabel(\"Degree\")\n",
    "fig.savefig(\"/add/path/here/figures/bulk_vs_bulkified/Breast_Wu_R2.svg\", dpi=200, \n",
    "                bbox_inches=\"tight\")"
   ]
  },
  {
   "cell_type": "markdown",
   "id": "88286280",
   "metadata": {},
   "source": [
    "# Breast Chung"
   ]
  },
  {
   "cell_type": "code",
   "execution_count": null,
   "id": "0b97edff",
   "metadata": {},
   "outputs": [],
   "source": [
    "bulk = pd.read_csv(\"/add/path/here/auxiliary_data/Breast_Chung_bulk.csv\",index_col=0)"
   ]
  },
  {
   "cell_type": "code",
   "execution_count": null,
   "id": "d350c215",
   "metadata": {},
   "outputs": [],
   "source": [
    "logbulk = bulk.applymap(np.log1p)"
   ]
  },
  {
   "cell_type": "code",
   "execution_count": null,
   "id": "378bd46f",
   "metadata": {},
   "outputs": [],
   "source": [
    "logbulk = logbulk.loc[:,~logbulk.columns.duplicated()]"
   ]
  },
  {
   "cell_type": "code",
   "execution_count": null,
   "id": "9a1cc42d",
   "metadata": {},
   "outputs": [],
   "source": [
    "adata = sc.read_h5ad(\"/add/path/here/filtered_data/Breast_Chung\")"
   ]
  },
  {
   "cell_type": "code",
   "execution_count": null,
   "id": "08d636d7",
   "metadata": {},
   "outputs": [],
   "source": [
    "adata.var_names_make_unique()\n",
    "\n",
    "adata = adata[:,(adata.var.mean_counts>=0.1)].copy()"
   ]
  },
  {
   "cell_type": "code",
   "execution_count": null,
   "id": "b82c00ae",
   "metadata": {},
   "outputs": [],
   "source": [
    "for deg in tqdm(np.arange(1,10)):\n",
    "    means, pvals, ctrl_dist = {},{},{}\n",
    "    for pat in tqdm(logbulk.index.intersection(adata.obs[\"sample\"].unique())):\n",
    "        mt_mean, _, p_val, ctrl_res, _ = get_value_patient(adata=adata, logbulk=logbulk, patient=pat, \n",
    "                            col_name=\"sample\",\n",
    "                          deg=deg, n_rep=500, layer_name=\"TPM\", n_closest=500, abso=False)\n",
    "        means[pat] = [mt_mean]\n",
    "        pvals[pat] = [p_val]\n",
    "        ctrl_dist[pat] = ctrl_res\n",
    "\n",
    "    ctrl_dist = pd.DataFrame(ctrl_dist).T\n",
    "\n",
    "    means = pd.DataFrame(means).T\n",
    "\n",
    "    pvals = pd.DataFrame(pvals).T\n",
    "    \n",
    "    resdir = pl.Path(f\"/add/path/here/results_bulk_vs_bulkified/Breast_Chung/deg{deg}\")\n",
    "    os.makedirs(resdir, exist_ok=True)\n",
    "\n",
    "    ctrl_dist.to_csv(resdir / \"ctrl_dist.csv\")\n",
    "    means.to_csv(resdir / \"mtmeans.csv\")\n",
    "    pvals.to_csv(resdir / \"pvals.csv\")"
   ]
  },
  {
   "cell_type": "code",
   "execution_count": null,
   "id": "75c86aa6",
   "metadata": {},
   "outputs": [],
   "source": [
    "mean_dir = pl.Path(\"/add/path/here/results_bulk_vs_bulkified/Breast_Chung/\")\n",
    "\n",
    "pvals_full = {}\n",
    "for f in mean_dir.iterdir():\n",
    "    if f.stem  not in [\".DS_Store\"]:\n",
    "        pvals_full[f.stem] = pd.read_csv(f / \"pvals.csv\", index_col=0)\n",
    "\n",
    "\n",
    "ctrl_res = {}\n",
    "for f in mean_dir.iterdir():\n",
    "    if f.stem  not in [\".DS_Store\"]:\n",
    "        ctrl_res[f.stem] = pd.read_csv(f / \"ctrl_dist.csv\", index_col=0)\n",
    "\n",
    "\n",
    "mt_means = {}\n",
    "for f in mean_dir.iterdir():\n",
    "    if f.stem  not in [\".DS_Store\"]:\n",
    "        mt_means[f.stem] = pd.read_csv(f / \"mtmeans.csv\", index_col=0)\n",
    "\n",
    "\n",
    "for deg in [f\"deg{i}\" for i in np.arange(1,7)]:\n",
    "\n",
    "    plot_df = mt_means[deg]\n",
    "    plot_df = plot_df.reset_index()\n",
    "    plot_df.columns = [\"Patient\",\"MT res. means\"]\n",
    "    \n",
    "    text_ps = pvals_full[deg].loc[plot_df.Patient.ravel()].applymap(lambda x: \"\" if x>=0.05 else (\"*\" if 0.01<=x<0.05 else \"**\")).values.ravel()\n",
    "\n",
    "    qt = ctrl_res[deg].loc[plot_df.Patient.ravel()]\n",
    "\n",
    "    y1, y2 = qt.quantile(0.05,axis=1).ravel(),qt.quantile(0.95,axis=1).ravel()\n",
    "\n",
    "    fig, ax = plt.subplots(1,1,figsize=(3.5,2))\n",
    "    sns.scatterplot(data=plot_df, x=\"Patient\", y=\"MT res. means\",ax=ax)\n",
    "    pretty_ax(ax)\n",
    "    ax.set_xticks(ax.get_xticks(), ax.get_xticklabels(), rotation=45, ha='right')\n",
    "    ax.hlines(y=0, xmin=ax.get_xlim()[0], xmax=ax.get_xlim()[1], linestyle=\"--\", color=\"gray\")\n",
    "    ax.fill_between(np.arange(plot_df.shape[0]), y1, y2, color=\"grey\", alpha=0.25)\n",
    "    ax.set_xlabel(\"\")\n",
    "    \n",
    "    for i,p in enumerate(text_ps):\n",
    "        ax.text(i, ax.get_ylim()[1], p, ha='center', va='center')\n",
    "    fig.savefig(f\"/add/path/here/figures/bulk_vs_bulkified/Breast_Chung_deg{deg}.svg\", dpi=200, \n",
    "                bbox_inches=\"tight\")"
   ]
  },
  {
   "cell_type": "code",
   "execution_count": null,
   "id": "cc7700da",
   "metadata": {},
   "outputs": [],
   "source": []
  },
  {
   "cell_type": "markdown",
   "id": "33e4beeb",
   "metadata": {},
   "source": [
    "# Compute average R2 scores"
   ]
  },
  {
   "cell_type": "code",
   "execution_count": null,
   "id": "6d294949",
   "metadata": {},
   "outputs": [],
   "source": [
    "layer_name = \"TPM\"\n",
    "col_name = \"sample\"\n",
    "\n",
    "scores = {}\n",
    "for patient in tqdm(logbulk.index.intersection(adata.obs[col_name].unique())):\n",
    "    pat_scores = {}\n",
    "    for deg in np.arange(1,8):\n",
    "        cells = adata.obs[adata.obs[col_name]==patient].index\n",
    "\n",
    "        patadata = adata[cells].copy()\n",
    "\n",
    "        counts = patadata.layers[layer_name].toarray()\n",
    "\n",
    "        if layer_name==\"TPM\":\n",
    "            bulkified = pd.DataFrame(counts.mean(axis=0),index=patadata.var_names)\n",
    "        else:\n",
    "            bulkified = pd.DataFrame(counts.sum(axis=0),index=patadata.var_names)\n",
    "        bulkified = bulkified.applymap(np.log1p)\n",
    "\n",
    "        df = pd.concat([bulkified, logbulk.loc[patient]],axis=1).dropna()\n",
    "        df.columns = [\"Bulkified\",\"Bulk\"]\n",
    "\n",
    "        mt_genes = df.index[df.index.str.startswith(\"MT-\")].to_numpy()\n",
    "\n",
    "        res, score = compute_residuals(df, gene_list=mt_genes, deg=deg)\n",
    "\n",
    "        mt_mean = res.mean()\n",
    "\n",
    "        pat_scores[deg] = [score]\n",
    "    scores[patient] = pd.DataFrame(pat_scores)"
   ]
  },
  {
   "cell_type": "code",
   "execution_count": null,
   "id": "d3365d87",
   "metadata": {},
   "outputs": [],
   "source": [
    "avg_r2 = pd.concat(scores).reset_index().drop(\"level_1\",axis=1).set_index(\"level_0\").mean()"
   ]
  },
  {
   "cell_type": "code",
   "execution_count": null,
   "id": "06efe5c5",
   "metadata": {},
   "outputs": [],
   "source": [
    "fig, ax = plt.subplots(1,1,figsize=(2,1))\n",
    "sns.scatterplot(data=avg_r2.reset_index(), x=\"index\", y=0,ax=ax)\n",
    "pretty_ax(ax)\n",
    "ax.set_ylabel(\"R2\")\n",
    "ax.set_xlabel(\"Degree\")\n",
    "fig.savefig(\"/add/path/here/figures/bulk_vs_bulkified/Breast_Chung_R2.svg\", dpi=200, \n",
    "                bbox_inches=\"tight\")"
   ]
  },
  {
   "cell_type": "markdown",
   "id": "f71882c7",
   "metadata": {},
   "source": [
    "# Pick the model"
   ]
  },
  {
   "cell_type": "code",
   "execution_count": null,
   "id": "b762cc82",
   "metadata": {},
   "outputs": [],
   "source": [
    "mean_dir = pl.Path(\"/add/path/here/results_bulk_vs_bulkified/Breast_Chung/\")\n",
    "\n",
    "ctrl_res = {}\n",
    "for f in mean_dir.iterdir():\n",
    "    if f.stem!=\".DS_Store\":\n",
    "        ctrl_res[f.stem] = pd.read_csv(f / \"ctrl_dist.csv\", index_col=0)\n",
    "\n",
    "full_res = pd.concat([ctrl_res[dg].mean(axis=1) for dg in ctrl_res],axis=1)\n",
    "\n",
    "mean_res = full_res.mean().round(2)"
   ]
  },
  {
   "cell_type": "code",
   "execution_count": null,
   "id": "c6801002",
   "metadata": {},
   "outputs": [],
   "source": [
    "mean_res"
   ]
  },
  {
   "cell_type": "code",
   "execution_count": null,
   "id": "a99325f5",
   "metadata": {},
   "outputs": [],
   "source": [
    "mean_res.argsort()+1"
   ]
  },
  {
   "cell_type": "code",
   "execution_count": null,
   "id": "1a2535ea",
   "metadata": {},
   "outputs": [],
   "source": [
    "mean_dir = pl.Path(\"/add/path/here/results_bulk_vs_bulkified/Breast_Wu/\")\n",
    "\n",
    "ctrl_res = {}\n",
    "for f in mean_dir.iterdir():\n",
    "    if f.stem!=\".DS_Store\":\n",
    "        ctrl_res[f.stem] = pd.read_csv(f / \"ctrl_dist.csv\", index_col=0)\n",
    "\n",
    "full_res = pd.concat([ctrl_res[dg].mean(axis=1) for dg in ctrl_res],axis=1)\n",
    "\n",
    "mean_res = full_res.mean().round(2)"
   ]
  },
  {
   "cell_type": "code",
   "execution_count": null,
   "id": "4d6bc86a",
   "metadata": {},
   "outputs": [],
   "source": [
    "mean_res"
   ]
  },
  {
   "cell_type": "code",
   "execution_count": null,
   "id": "fb996d0f",
   "metadata": {},
   "outputs": [],
   "source": [
    "full_res.mean().argsort()+1"
   ]
  }
 ],
 "metadata": {
  "kernelspec": {
   "display_name": "Python 3 (ipykernel)",
   "language": "python",
   "name": "python3"
  },
  "language_info": {
   "codemirror_mode": {
    "name": "ipython",
    "version": 3
   },
   "file_extension": ".py",
   "mimetype": "text/x-python",
   "name": "python",
   "nbconvert_exporter": "python",
   "pygments_lexer": "ipython3",
   "version": "3.10.0"
  }
 },
 "nbformat": 4,
 "nbformat_minor": 5
}
