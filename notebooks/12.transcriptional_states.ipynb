{
 "cells": [
  {
   "cell_type": "code",
   "execution_count": null,
   "id": "c93cebaa-272a-4949-b5cf-cc1e0d097248",
   "metadata": {},
   "outputs": [],
   "source": [
    "import pandas as pd\n",
    "import numpy as np\n",
    "import scanpy as sc\n",
    "\n",
    "import matplotlib.pyplot as plt\n",
    "import seaborn as sns\n",
    "\n",
    "from statannotations.Annotator import Annotator\n",
    "\n",
    "from tqdm.notebook import tqdm\n",
    "\n",
    "from scipy.stats import fisher_exact\n",
    "import pathlib as pl\n",
    "import os\n",
    "from typing import List, Tuple\n",
    "\n",
    "import pandas as pd\n",
    "import scanpy as sc\n",
    "import numpy as np\n",
    "\n",
    "import matplotlib.pyplot as plt\n",
    "import seaborn as sns\n",
    "\n",
    "import pathlib as pl\n",
    "from statannotations.Annotator import Annotator"
   ]
  },
  {
   "cell_type": "markdown",
   "id": "7bc67e6d-0170-4a27-9c61-35da5c8eaca2",
   "metadata": {},
   "source": [
    "# Breast Wu 10X"
   ]
  },
  {
   "cell_type": "code",
   "execution_count": null,
   "id": "6aa4f230-93c7-43dc-8bfc-fcba5d30eb4e",
   "metadata": {},
   "outputs": [],
   "source": [
    "metacells = sc.read_h5ad(\"/add/path/here/Breast_Wu_10X/metacells.h5ad\")\n",
    "metacells.obs[\"HighMT\"] = (metacells.obs[\"HighMT_fraction_of_1\"]>0.3).astype(int)\n",
    "metacells.X = metacells.layers[\"total_umis\"]\n",
    "sc.pp.normalize_total(metacells, target_sum=10000)\n",
    "sc.pp.log1p(metacells)"
   ]
  },
  {
   "cell_type": "markdown",
   "id": "de0f9ef7-5fbe-4073-9218-b2c1a331f010",
   "metadata": {},
   "source": [
    "Score transcriptional states only in malignant cells"
   ]
  },
  {
   "cell_type": "code",
   "execution_count": null,
   "id": "1d011927-3854-44d6-b48a-1b97c8e5814c",
   "metadata": {},
   "outputs": [],
   "source": [
    "mal_meta = metacells[metacells.obs.Malignant==1].copy()"
   ]
  },
  {
   "cell_type": "markdown",
   "id": "7605a42f-a891-4258-8bd6-6dbb6c21d29c",
   "metadata": {},
   "source": [
    "Load gene markers of the transcriptional states from Wu et al."
   ]
  },
  {
   "cell_type": "code",
   "execution_count": null,
   "id": "0dfb5ba9-2a97-416e-a504-42de5d20747a",
   "metadata": {},
   "outputs": [],
   "source": [
    "breast_states = pd.read_csv(\"/add/path/here/auxiliary_data/breast_states_markers.txt\", sep='\\t', header=None)\n",
    "\n",
    "gm1 = breast_states[breast_states[1] == 1][0].tolist()\n",
    "gm2 = breast_states[breast_states[1] == 2][0].tolist()\n",
    "gm3 = breast_states[breast_states[1] == 3][0].tolist()\n",
    "gm4 = breast_states[breast_states[1] == 4][0].tolist()\n",
    "gm5 = breast_states[breast_states[1] == 5][0].tolist()\n",
    "gm6 = breast_states[breast_states[1] == 6][0].tolist()\n",
    "gm7 = breast_states[breast_states[1] == 7][0].tolist()"
   ]
  },
  {
   "cell_type": "code",
   "execution_count": null,
   "id": "388afc7e-5731-4b05-8777-bcb95c3dffe8",
   "metadata": {},
   "outputs": [],
   "source": [
    "sc.tl.score_genes(mal_meta, gene_list=gm1, score_name=\"GM1\")\n",
    "sc.tl.score_genes(mal_meta, gene_list=gm2, score_name=\"GM2\")\n",
    "sc.tl.score_genes(mal_meta, gene_list=gm3, score_name=\"GM3\")\n",
    "sc.tl.score_genes(mal_meta, gene_list=gm4, score_name=\"GM4\")\n",
    "sc.tl.score_genes(mal_meta, gene_list=gm5, score_name=\"GM5\")\n",
    "sc.tl.score_genes(mal_meta, gene_list=gm6, score_name=\"GM6\")\n",
    "sc.tl.score_genes(mal_meta, gene_list=gm7, score_name=\"GM7\")"
   ]
  },
  {
   "cell_type": "code",
   "execution_count": null,
   "id": "8994456e-34a5-491c-ad29-2aeca90944b9",
   "metadata": {},
   "outputs": [],
   "source": [
    "mal_meta.obs[['cleaned_celltype', 'Malignant', 'HighMT',\n",
    "       'GM1', 'GM2', 'GM3', 'GM4',\"GM5\", \"GM6\", \"GM7\"]].to_csv(\"/add/path/here/brca_states.csv\")"
   ]
  },
  {
   "cell_type": "markdown",
   "id": "1d6987e5-ac2a-4270-b064-4496895a6b81",
   "metadata": {},
   "source": [
    "# SCLC Chan"
   ]
  },
  {
   "cell_type": "code",
   "execution_count": null,
   "id": "17f0a958-f50e-41bd-8f66-a94649be6553",
   "metadata": {},
   "outputs": [],
   "source": [
    "metacells = sc.read_h5ad(\"/add/path/here/SCLC_Chan_10X/metacells.h5ad\")\n",
    "metacells.obs[\"HighMT\"] = (metacells.obs[\"HighMT_fraction_of_1\"]>0.3).astype(int)\n",
    "metacells.X = metacells.layers[\"total_umis\"]\n",
    "\n",
    "sc.pp.normalize_total(metacells, target_sum=10000)\n",
    "sc.pp.log1p(metacells)"
   ]
  },
  {
   "cell_type": "markdown",
   "id": "ac377bf1-8958-433f-96c6-241e80882851",
   "metadata": {},
   "source": [
    "Score transcriptional states in malignant cells"
   ]
  },
  {
   "cell_type": "code",
   "execution_count": null,
   "id": "0e575a70-71f1-4ca9-b8de-55dd7b93817f",
   "metadata": {},
   "outputs": [],
   "source": [
    "mal_meta = metacells[metacells.obs.Malignant==1].copy()"
   ]
  },
  {
   "cell_type": "markdown",
   "id": "19da8bee-fd08-4f64-9575-17e4af7646c2",
   "metadata": {},
   "source": [
    "Provide gene signatures of the states from Zhang et al., doi: 10.21037/tlcr.2018.02.02"
   ]
  },
  {
   "cell_type": "code",
   "execution_count": null,
   "id": "6a5044cc-d544-4e90-b9d8-2e276d0011d2",
   "metadata": {},
   "outputs": [],
   "source": [
    "ne = [\"BEX1\", \"ASCL1\", \"INSM1\", \"CHGA\", \"TAGLN3\", \"KIF5C\", \"CRMP1\", \"SCG3\", \"SYT4\", \"RTN1\", \"MYT1\", \"SYP\",\n",
    "\"KIF1A\", \"TMSB15A\", \"SYN1\", \"SYT11\", \"RUNDC3A\", \"TFF3\", \"CHGB\", \"FAM57B\", \"SH3GL2\", \"BSN\", \"SEZ6\", \"TMSB15B\", \"CELF3\"]\n",
    "\n",
    "no_ne = [\"RAB27B\", \"TGFBR2\", \"SLC16A5\", \"S100A10\", \"ITGB4\", \"YAP1\", \"LGALS3\", \"EPHA2\", \"S100A16\", \"PLAU\", \"ABCC3\",\n",
    "\"ARHGDIB\", \"CYR61\", \"PTGES\", \"CCND1\", \"IFITM2\", \"IFITM3\", \"AHNAK\", \"CAV2\", \"TACSTD2\", \"TGFBI\", \"EMP1\", \"CAV1\", \"ANXA1\", \"MYOF\"]\n"
   ]
  },
  {
   "cell_type": "code",
   "execution_count": null,
   "id": "be02ccd1-8444-491d-a245-ed1dea753f07",
   "metadata": {},
   "outputs": [],
   "source": [
    "sc.tl.score_genes(mal_meta, gene_list=ne, score_name=\"NE\")\n",
    "sc.tl.score_genes(mal_meta, gene_list=no_ne, score_name=\"no_NE\")"
   ]
  },
  {
   "cell_type": "code",
   "execution_count": null,
   "id": "5147b0f9-a874-4b01-ba02-97f793c45113",
   "metadata": {},
   "outputs": [],
   "source": [
    "mal_meta.obs[['cleaned_celltype', 'Malignant', 'HighMT',\n",
    "       'NE', 'no_NE']].to_csv(\"/add/path/here/sclc_states.csv\")"
   ]
  },
  {
   "cell_type": "markdown",
   "id": "7d934680-1b9f-48d5-bce1-61cda0c2b7fa",
   "metadata": {},
   "source": [
    "# Metastatic pancreas Raghavan 10X"
   ]
  },
  {
   "cell_type": "code",
   "execution_count": null,
   "id": "5f454b11-8d14-4a0e-a185-8521146b8bac",
   "metadata": {},
   "outputs": [],
   "source": [
    "metacells = sc.read_h5ad(\"/add/path/here/Pancreas_Raghavan_10X/metacells.h5ad\")\n",
    "metacells.obs[\"HighMT\"] = (metacells.obs[\"HighMT_fraction_of_1\"]>0.3).astype(int)\n",
    "metacells.X = metacells.layers[\"total_umis\"]\n",
    "\n",
    "sc.pp.normalize_total(metacells, target_sum=10000)\n",
    "sc.pp.log1p(metacells)"
   ]
  },
  {
   "cell_type": "markdown",
   "id": "58fb1b29-b511-40bd-a830-e90a5bf0afbe",
   "metadata": {},
   "source": [
    "Score transcriptional states in malignant cells"
   ]
  },
  {
   "cell_type": "code",
   "execution_count": null,
   "id": "a87c5ff4-58a9-43ae-bb1b-4f7f3ed3829e",
   "metadata": {},
   "outputs": [],
   "source": [
    "mal_meta = metacells[metacells.obs.Malignant==1].copy()"
   ]
  },
  {
   "cell_type": "markdown",
   "id": "95738286-2333-4d12-bc03-83124e586812",
   "metadata": {},
   "source": [
    "Use marker genes from Zhang et al., https://doi.org/10.1038/s41467-023-40727-7"
   ]
  },
  {
   "cell_type": "code",
   "execution_count": null,
   "id": "3b3f44c5-d196-4134-b204-d3cf7a51e910",
   "metadata": {},
   "outputs": [],
   "source": [
    "states = pd.read_csv(\"/add/path/here/auxiliary_data/PDAC_states_markers.txt\",  sep='\\t')\n",
    "\n",
    "tff1 = states[states.cluster == \"Ductal cell TFF1\"][\"gene\"].dropna().tolist()\n",
    "rps3 = states[states.cluster == \"Ductal cell RPS3\"][\"gene\"].dropna().tolist()\n",
    "ceacam6 = states[states.cluster == \"Ductal cell CEACAM6\"][\"gene\"].dropna().tolist()\n",
    "malat1 = states[states.cluster == \"Ductal cell MALAT1\"][\"gene\"].dropna().tolist()\n",
    "mki67 = states[states.cluster == \"Ductal cell MKI67\"][\"gene\"].dropna().tolist()\n",
    "ceacam5 = states[states.cluster == \"Ductal cell CEACAM5\"][\"gene\"].dropna().tolist()\n"
   ]
  },
  {
   "cell_type": "code",
   "execution_count": null,
   "id": "e78dd97a-527d-4d7a-b0ad-3e05146189db",
   "metadata": {},
   "outputs": [],
   "source": [
    "sc.tl.score_genes(mal_meta, gene_list=tff1, score_name=\"TFF1\")\n",
    "sc.tl.score_genes(mal_meta, gene_list=rps3, score_name=\"RPS3\")\n",
    "sc.tl.score_genes(mal_meta, gene_list=ceacam6, score_name=\"CEACAM6\")\n",
    "sc.tl.score_genes(mal_meta, gene_list=malat1, score_name=\"MALAT1\")\n",
    "sc.tl.score_genes(mal_meta, gene_list=mki67, score_name=\"MKI67\")\n",
    "sc.tl.score_genes(mal_meta, gene_list=ceacam5, score_name=\"CEACAM5\")"
   ]
  },
  {
   "cell_type": "code",
   "execution_count": null,
   "id": "b12783ff-6129-4ffe-b7ee-c22f3a7efc81",
   "metadata": {},
   "outputs": [],
   "source": [
    "mal_meta.obs[['cleaned_celltype', 'Malignant', 'HighMT',\n",
    "       'TFF1', \"RPS3\", \"CEACAM6\", \"MALAT1\", \"MKI67\", \"CEACAM5\"]].to_csv(\"/add/path/here/metpan_states.csv\")"
   ]
  },
  {
   "cell_type": "markdown",
   "id": "ed30a6e0-e613-406c-a855-8638d8ab6186",
   "metadata": {},
   "source": [
    "# Pancreas Steele 10X"
   ]
  },
  {
   "cell_type": "code",
   "execution_count": null,
   "id": "382715a5-c044-47eb-8626-907d952920d0",
   "metadata": {},
   "outputs": [],
   "source": [
    "metacells = sc.read_h5ad(\"/add/path/here/Pancreas_Steele_10X/metacells.h5ad\")\n",
    "metacells.obs[\"HighMT\"] = (metacells.obs[\"HighMT_fraction_of_1\"]>0.3).astype(int)\n",
    "metacells.X = metacells.layers[\"total_umis\"]\n",
    "\n",
    "sc.pp.normalize_total(metacells, target_sum=10000)\n",
    "sc.pp.log1p(metacells)"
   ]
  },
  {
   "cell_type": "markdown",
   "id": "dd8a981d-ae4d-4956-bb89-29876dfd66b2",
   "metadata": {},
   "source": [
    "Score transcriptional states in malignant cells"
   ]
  },
  {
   "cell_type": "code",
   "execution_count": null,
   "id": "c54a0e12-e7a4-4e9c-be69-541400c5fb23",
   "metadata": {},
   "outputs": [],
   "source": [
    "mal_meta = metacells[metacells.obs.Malignant==1].copy()"
   ]
  },
  {
   "cell_type": "code",
   "execution_count": null,
   "id": "25ca66bf-4f08-4a6c-b3dd-eeb1d404fa1e",
   "metadata": {},
   "outputs": [],
   "source": []
  },
  {
   "cell_type": "markdown",
   "id": "598cbe46-76dc-4b6e-ae52-4cff1b0b6c31",
   "metadata": {},
   "source": [
    "Use marker genes from Zhang et al., https://doi.org/10.1038/s41467-023-40727-7"
   ]
  },
  {
   "cell_type": "code",
   "execution_count": null,
   "id": "6c363571-963a-4c42-b7a5-d9578460c5d8",
   "metadata": {},
   "outputs": [],
   "source": [
    "states = pd.read_csv(\"/add/path/here/auxiliary_data/PDAC_states_markers.txt\",  sep='\\t')\n",
    "\n",
    "tff1 = states[states.cluster == \"Ductal cell TFF1\"][\"gene\"].dropna().tolist()\n",
    "rps3 = states[states.cluster == \"Ductal cell RPS3\"][\"gene\"].dropna().tolist()\n",
    "ceacam6 = states[states.cluster == \"Ductal cell CEACAM6\"][\"gene\"].dropna().tolist()\n",
    "malat1 = states[states.cluster == \"Ductal cell MALAT1\"][\"gene\"].dropna().tolist()\n",
    "mki67 = states[states.cluster == \"Ductal cell MKI67\"][\"gene\"].dropna().tolist()\n",
    "ceacam5 = states[states.cluster == \"Ductal cell CEACAM5\"][\"gene\"].dropna().tolist()"
   ]
  },
  {
   "cell_type": "code",
   "execution_count": null,
   "id": "105843fb-b736-4969-9fdb-16f70b7ae135",
   "metadata": {},
   "outputs": [],
   "source": [
    "sc.tl.score_genes(mal_meta, gene_list=tff1, score_name=\"TFF1\")\n",
    "sc.tl.score_genes(mal_meta, gene_list=rps3, score_name=\"RPS3\")\n",
    "sc.tl.score_genes(mal_meta, gene_list=ceacam6, score_name=\"CEACAM6\")\n",
    "sc.tl.score_genes(mal_meta, gene_list=malat1, score_name=\"MALAT1\")\n",
    "sc.tl.score_genes(mal_meta, gene_list=mki67, score_name=\"MKI67\")\n",
    "sc.tl.score_genes(mal_meta, gene_list=ceacam5, score_name=\"CEACAM5\")"
   ]
  },
  {
   "cell_type": "code",
   "execution_count": null,
   "id": "c7f7613b-979b-4373-8193-3a16738c1bf8",
   "metadata": {},
   "outputs": [],
   "source": [
    "mal_meta.obs[['cleaned_celltype', 'Malignant', 'HighMT',\n",
    "       'TFF1', \"RPS3\", \"CEACAM6\", \"MALAT1\", \"MKI67\", \"CEACAM5\"]].to_csv(\"/add/path/here/pancreas_states.csv\")\n"
   ]
  },
  {
   "cell_type": "markdown",
   "id": "b2cee97d-bcc3-407e-9e53-96350d7742c3",
   "metadata": {},
   "source": [
    "# RCC Bi 10X"
   ]
  },
  {
   "cell_type": "code",
   "execution_count": null,
   "id": "caa6f219-2cb4-4480-829a-4f1c42106157",
   "metadata": {},
   "outputs": [],
   "source": [
    "metacells = sc.read_h5ad(\"/add/path/here/RCC_Bi_10X/metacells.h5ad\")\n",
    "metacells.obs[\"HighMT\"] = (metacells.obs[\"HighMT_fraction_of_1\"]>0.3).astype(int)\n",
    "metacells.X = metacells.layers[\"total_umis\"]\n",
    "\n",
    "sc.pp.normalize_total(metacells, target_sum=10000)\n",
    "sc.pp.log1p(metacells)"
   ]
  },
  {
   "cell_type": "markdown",
   "id": "c7e5f2bc-e8c4-411c-9789-e3e342482c23",
   "metadata": {},
   "source": [
    "Score transcriptional states in malignant cells"
   ]
  },
  {
   "cell_type": "code",
   "execution_count": null,
   "id": "3fe9e0cb-fed7-449f-8ea8-f194f1e4442f",
   "metadata": {},
   "outputs": [],
   "source": [
    "mal_meta = metacells[metacells.obs.Malignant==1].copy()"
   ]
  },
  {
   "cell_type": "markdown",
   "id": "385c81ba-415c-4085-97cc-f630a89b4dec",
   "metadata": {},
   "source": [
    "Use marker genes of the states from Bi et al."
   ]
  },
  {
   "cell_type": "code",
   "execution_count": null,
   "id": "bc77c92b-08fa-411e-a105-b6ae5d6ab27b",
   "metadata": {},
   "outputs": [],
   "source": [
    "rcc_states = pd.read_csv(\"/add/path/here/auxiliary_data/RCC_states_markers.txt\", sep='\\t')\n",
    "\n",
    "tp1 = rcc_states[\"TP1\"].dropna().tolist()\n",
    "tp2 = rcc_states[\"TP2\"].dropna().tolist()"
   ]
  },
  {
   "cell_type": "code",
   "execution_count": null,
   "id": "2f4d09c4-2e59-44c3-8159-11d5881d8953",
   "metadata": {},
   "outputs": [],
   "source": [
    "sc.tl.score_genes(mal_meta, gene_list=tp1, score_name=\"TP1\")\n",
    "sc.tl.score_genes(mal_meta, gene_list=tp2, score_name=\"TP2\")"
   ]
  },
  {
   "cell_type": "code",
   "execution_count": null,
   "id": "627a0fe0-a251-4f05-8c98-2772abe2c490",
   "metadata": {},
   "outputs": [],
   "source": [
    "mal_meta.obs[['cleaned_celltype', 'Malignant', 'HighMT',\n",
    "       'TP1', \"TP2\"]].to_csv(\"/add/path/here/rcc_states.csv\")"
   ]
  },
  {
   "cell_type": "markdown",
   "id": "8d2b2d54-2a9b-45d2-a28c-9746ac973aa7",
   "metadata": {},
   "source": [
    "# LUAD Bischoff 10X"
   ]
  },
  {
   "cell_type": "code",
   "execution_count": null,
   "id": "ffd36aea-4984-4c35-9313-4534dbc5f272",
   "metadata": {},
   "outputs": [],
   "source": [
    "metacells = sc.read_h5ad(\"/add/path/here/LUAD_Bischoff_10X/metacells.h5ad\")\n",
    "metacells.obs[\"HighMT\"] = (metacells.obs[\"HighMT_fraction_of_1\"]>0.3).astype(int)\n",
    "metacells.X = metacells.layers[\"total_umis\"]\n",
    "\n",
    "sc.pp.normalize_total(metacells, target_sum=10000)\n",
    "sc.pp.log1p(metacells)"
   ]
  },
  {
   "cell_type": "markdown",
   "id": "26792e74-8da4-4d61-922a-3579ec07f6c7",
   "metadata": {},
   "source": [
    "Score transcriptional states in malignant cells"
   ]
  },
  {
   "cell_type": "code",
   "execution_count": null,
   "id": "e77a985c-42ef-40bb-ba71-09453b56aafc",
   "metadata": {},
   "outputs": [],
   "source": [
    "mal_meta = metacells[metacells.obs.Malignant==1].copy()"
   ]
  },
  {
   "cell_type": "markdown",
   "id": "aad09a6f-45b2-44e0-8ef2-6b96cf63dd9c",
   "metadata": {},
   "source": [
    "Use marker genes from the transcriptional states from Kim et al., https://doi.org/10.1038/s41467-020-16164-1"
   ]
  },
  {
   "cell_type": "code",
   "execution_count": null,
   "id": "c8c0e6cc-cdf5-4b5a-9ab0-f2bf4b497bd9",
   "metadata": {},
   "outputs": [],
   "source": [
    "states = pd.read_csv(\"/add/path/here/auxiliary_data/LUAD_states_markers.txt\", sep=',', index_col=0)"
   ]
  },
  {
   "cell_type": "code",
   "execution_count": null,
   "id": "224c7f87-aacc-49a5-8f1d-3f08ba45eb94",
   "metadata": {},
   "outputs": [],
   "source": [
    "ts1 = states[\"ts1\"].dropna().tolist()\n",
    "ts2 = states[\"ts2\"].dropna().tolist()\n",
    "ts3 = states[\"ts3\"].dropna().tolist()"
   ]
  },
  {
   "cell_type": "code",
   "execution_count": null,
   "id": "769bdc35-2a9e-465b-837e-dfc9606cf1a4",
   "metadata": {},
   "outputs": [],
   "source": [
    "sc.tl.score_genes(mal_meta, gene_list=ts1, score_name=\"tS1\")\n",
    "sc.tl.score_genes(mal_meta, gene_list=ts2, score_name=\"tS2\")\n",
    "sc.tl.score_genes(mal_meta, gene_list=ts3, score_name=\"tS3\")"
   ]
  },
  {
   "cell_type": "code",
   "execution_count": null,
   "id": "b13018a5-f704-4315-b9ba-b48e433f8e7c",
   "metadata": {},
   "outputs": [],
   "source": [
    "mal_meta.obs[['cleaned_celltype', 'Malignant', 'HighMT',\n",
    "       'tS1', \"tS2\", \"tS3\"]].to_csv(\"/add/path/here/auxiliary_data/luad_states.csv\")"
   ]
  },
  {
   "cell_type": "markdown",
   "id": "789d2fe5-18f6-48f9-9dc5-223aeb1683d8",
   "metadata": {},
   "source": [
    "# UvealMelanoma Durante 10X"
   ]
  },
  {
   "cell_type": "code",
   "execution_count": null,
   "id": "812f5060-c69a-4be4-8a87-8a430cbad360",
   "metadata": {},
   "outputs": [],
   "source": [
    "metacells = sc.read_h5ad(\"/add/path/here/UvealMelanoma_Durante_10X/metacells.h5ad\")\n",
    "metacells.obs[\"HighMT\"] = (metacells.obs[\"HighMT_fraction_of_1\"]>0.3).astype(int)\n",
    "metacells.X = metacells.layers[\"total_umis\"]\n",
    "\n",
    "sc.pp.normalize_total(metacells, target_sum=10000)\n",
    "sc.pp.log1p(metacells)"
   ]
  },
  {
   "cell_type": "markdown",
   "id": "0ed3d754-dae1-467e-8e09-a2d19444b286",
   "metadata": {},
   "source": [
    "Score transcriptional states in malignant cells"
   ]
  },
  {
   "cell_type": "code",
   "execution_count": null,
   "id": "73e4f70f-c45d-439f-9c35-2a7e97be5dff",
   "metadata": {},
   "outputs": [],
   "source": [
    "mal_meta = metacells[metacells.obs.Malignant==1].copy()"
   ]
  },
  {
   "cell_type": "markdown",
   "id": "dac3602d-0c5f-4b9c-8e4a-3cef96106e5c",
   "metadata": {},
   "source": [
    "Load gene markers of the transcriptional states from Durante et al."
   ]
  },
  {
   "cell_type": "code",
   "execution_count": null,
   "id": "d2fc81d1-66c3-4fe5-8c26-f1b6f7682870",
   "metadata": {},
   "outputs": [],
   "source": [
    "states = pd.read_csv(\"/add/path/here/auxiliary_data/uveal_states_markers.txt\", sep='\\t', index_col=None)"
   ]
  },
  {
   "cell_type": "code",
   "execution_count": null,
   "id": "d0ce7ef7-a9ae-4d49-86b3-1914de1aba64",
   "metadata": {},
   "outputs": [],
   "source": [
    "class_1a_primary = states[\"Class_1A_Primary\"].dropna().tolist()\n",
    "class_1b_pramePos_met = states[\"Class_1B+PRAME+_Met\"].dropna().tolist()\n",
    "class_2_prameNeg_primary = states[\"Class_2_PRAME-_Primary\"].dropna().tolist()\n",
    "class_2_pramePos_primary = states[\"Class_2_PRAME+_Primary\"].dropna().tolist()"
   ]
  },
  {
   "cell_type": "code",
   "execution_count": null,
   "id": "100d7110-9094-430c-9aac-297f6919ea3d",
   "metadata": {},
   "outputs": [],
   "source": [
    "sc.tl.score_genes(mal_meta, gene_list=class_1a_primary, score_name=\"1A_primary\")\n",
    "sc.tl.score_genes(mal_meta, gene_list=class_1b_pramePos_met, score_name=\"1B_PRAMEpos_metastatic\")\n",
    "sc.tl.score_genes(mal_meta, gene_list=class_2_prameNeg_primary, score_name=\"2_PRAMEneg_primary\")\n",
    "sc.tl.score_genes(mal_meta, gene_list=class_2_pramePos_primary , score_name=\"2_PRAMEpos_primary\")"
   ]
  },
  {
   "cell_type": "code",
   "execution_count": null,
   "id": "ab0f4add-4dda-4e37-8362-f48eff5f9fb6",
   "metadata": {},
   "outputs": [],
   "source": [
    "mal_meta.obs[['cleaned_celltype', 'Malignant', 'HighMT',\n",
    "       '1A_primary', \"1B_PRAMEpos_metastatic\", \"2_PRAMEneg_primary\", \"2_PRAMEpos_primary\"]].to_csv(\"/add/path/here/uveal_states.csv\")\n"
   ]
  },
  {
   "cell_type": "markdown",
   "id": "2b7e1a40-14fc-47e4-bd54-42e9cd842575",
   "metadata": {},
   "source": [
    "# Plot scores from all studies"
   ]
  },
  {
   "cell_type": "code",
   "execution_count": null,
   "id": "54bb32b0-7506-4631-b5ff-1c289e53af8a",
   "metadata": {},
   "outputs": [],
   "source": [
    "sclc = pd.read_csv(\"/add/path/here/sclc_states.csv\", index_col=0)\n",
    "uveal = pd.read_csv(\"/add/path/here/uveal_states.csv\", index_col=0)\n",
    "brca = pd.read_csv(\"/add/path/here/brca_states.csv\", index_col=0)\n",
    "metpan = pd.read_csv(\"/add/path/here/metpan_states.csv\", index_col=0)\n",
    "luad = pd.read_csv(\"/add/path/here/luad_states.csv\", index_col=0)\n",
    "pancreas = pd.read_csv(\"/add/path/here/pancreas_states.csv\", index_col=0)\n",
    "rcc = pd.read_csv(\"/add/path/here/rcc_states.csv\", index_col=0)"
   ]
  },
  {
   "cell_type": "code",
   "execution_count": null,
   "id": "1508e7e7-de13-4f3a-9a8c-73aa5186b86e",
   "metadata": {},
   "outputs": [],
   "source": [
    "metpan.columns = metpan.columns[:3].tolist() + [\"Met_\" + x for x in metpan.columns[3:]] \n",
    "\n",
    "all = pd.concat([sclc, uveal, brca, metpan, luad, pancreas, rcc], axis=0)\n",
    "\n",
    "sub = all.iloc[:,2:]\n",
    "sub2 = pd.melt(sub, id_vars=[\"HighMT\"]).dropna()"
   ]
  },
  {
   "cell_type": "code",
   "execution_count": null,
   "id": "9ae1fae3-7fdf-46be-809e-0eb7dc2dcd2f",
   "metadata": {},
   "outputs": [],
   "source": [
    "fig, ax = plt.subplots(1,1,figsize=(15,5))\n",
    "order = rcc.columns[3:].tolist() + sclc.columns[3:].tolist() + brca.columns[3:].tolist() + pancreas.columns[3:].tolist() + metpan.columns[3:].tolist() + uveal.columns[3:].tolist()  + luad.columns[3:].tolist()\n",
    "pairs = [((x, 0),(x,1)) for x in order]\n",
    "hue_order = [0,1]\n",
    "ax = sns.violinplot(data=sub2, x=\"variable\", y=\"value\", boxprops={'alpha': 0.4}, dodge=True, hue = \"HighMT\",\n",
    "order = order, hue_order = hue_order)\n",
    "                                          \n",
    "annotator = Annotator(ax, pairs, data=sub2, x=\"variable\", y=\"value\", hue=\"HighMT\", \n",
    "order = order, hue_order = hue_order)\n",
    "\n",
    "annotator.configure(test='Mann-Whitney', text_format='star', loc='outside', text_offset=1, show_test_name = False)\n",
    "annotator.apply_and_annotate()\n",
    "\n",
    "plt.xticks(rotation=45, ha=\"right\")\n",
    "fig.show()\n",
    "fig.savefig(\"/add/path/here/all_states.pdf\", format=\"pdf\")\n"
   ]
  },
  {
   "cell_type": "markdown",
   "id": "86c7ae80-2216-4376-9823-aa5274e193f7",
   "metadata": {},
   "source": [
    "Plot subset of the results for the main figure"
   ]
  },
  {
   "cell_type": "code",
   "execution_count": null,
   "id": "9fcb8ac7-fcc4-44de-b0df-1c1a71d68448",
   "metadata": {},
   "outputs": [],
   "source": [
    "subset = [\"TP1\", \"NE\", \"GM1\", \"GM5\", \"GM7\", \"TFF1\", \"MALAT1\", \n",
    "\"Met_TFF1\", \"Met_MALAT1\", \"1B_PRAMEpos_metastatic\", \"tS2\"]\n",
    "\n",
    "sub3 = sub2[sub2.variable.isin(subset)].copy()\n",
    "order2 = [x for x in order if x in subset]\n",
    "\n",
    "fig, ax = plt.subplots(1,1,figsize=(15,2.5))\n",
    "pairs = [((x, 0),(x,1)) for x in order2]\n",
    "hue_order = [0,1]\n",
    "ax = sns.violinplot(data=sub3, x=\"variable\", y=\"value\", boxprops={'alpha': 0.4}, dodge=True, hue = \"HighMT\",\n",
    "order = order2, hue_order = hue_order)\n",
    "                                          \n",
    "annotator = Annotator(ax, pairs, data=sub3, x=\"variable\", y=\"value\", hue=\"HighMT\", \n",
    "order = order2, hue_order = hue_order)\n",
    "\n",
    "annotator.configure(test='Mann-Whitney', text_format='simple', loc='outside', text_offset=1, show_test_name = False)\n",
    "annotator.apply_and_annotate()\n",
    "\n",
    "plt.xticks(rotation=45, ha=\"right\")\n",
    "fig.show()\n",
    "fig.savefig(\"/add/path/here/highMT_states.pdf\", format=\"pdf\")\n"
   ]
  }
 ],
 "metadata": {
  "kernelspec": {
   "display_name": "Python 3 (ipykernel)",
   "language": "python",
   "name": "python3"
  },
  "language_info": {
   "codemirror_mode": {
    "name": "ipython",
    "version": 3
   },
   "file_extension": ".py",
   "mimetype": "text/x-python",
   "name": "python",
   "nbconvert_exporter": "python",
   "pygments_lexer": "ipython3",
   "version": "3.10.12"
  }
 },
 "nbformat": 4,
 "nbformat_minor": 5
}
