{
 "cells": [
  {
   "cell_type": "code",
   "execution_count": null,
   "id": "4333e51a-bae0-4795-98ab-be04eb195351",
   "metadata": {},
   "outputs": [],
   "source": [
    "import pandas as pd\n",
    "import numpy as np\n",
    "import scanpy as sc\n",
    "\n",
    "import matplotlib.pyplot as plt\n",
    "import seaborn as sns\n",
    "\n",
    "from statannotations.Annotator import Annotator\n",
    "\n",
    "from tqdm.notebook import tqdm\n",
    "\n",
    "from scipy.stats import fisher_exact, mannwhitneyu\n",
    "\n",
    "from statsmodels.stats.multitest import multipletests\n",
    "\n",
    "import pathlib as pl\n",
    "import os\n",
    "\n",
    "import metacells as mc"
   ]
  },
  {
   "cell_type": "code",
   "execution_count": null,
   "id": "d310e7e8-7247-49fc-9598-78bc846c8c2c",
   "metadata": {},
   "outputs": [],
   "source": [
    "def pretty_ax(ax):\n",
    "    ax.spines['right'].set_visible(False)\n",
    "    ax.spines['top'].set_visible(False)\n",
    "    ax.tick_params(\n",
    "        axis='both',  \n",
    "        which='both',      \n",
    "        bottom=True,     \n",
    "        top=False,\n",
    "        left=False,\n",
    "        labelbottom=True,\n",
    "        labelleft = True)\n",
    "    ax.spines[\"bottom\"].set_linewidth(1.5)\n",
    "    ax.spines[\"left\"].set_linewidth(1.5)"
   ]
  },
  {
   "cell_type": "code",
   "execution_count": null,
   "id": "be0d4070",
   "metadata": {},
   "outputs": [],
   "source": [
    "def plot_boxplot(adata, y, ax=None, name=None, x=\"Malignant\", savename=None):\n",
    "    pairs = [((0,0),(0,1)),((1,0),(1,1)),((0,0),(1,1)),((0,1),(1,0)),((0,1),(1,1))]\n",
    "\n",
    "    if ax is None:\n",
    "        fig, ax = plt.subplots(1,1,figsize=(3,2))\n",
    "    sns.boxplot(data=adata.obs, x=x, y=y, \n",
    "                        hue=\"HighMT\", ax=ax)\n",
    "    pretty_ax(ax)\n",
    "    ax.legend(frameon=False, title=\"HighMT\",bbox_to_anchor=(1,1,0,0))\n",
    "    if name is not None:\n",
    "        ax.set_ylabel(\"\")\n",
    "        ax.set_title(name)\n",
    "\n",
    "    annot = Annotator(\n",
    "        ax,\n",
    "        pairs=pairs,\n",
    "        data=adata.obs, x=x, y=y, hue=\"HighMT\"\n",
    "    )\n",
    "    annot.configure(\n",
    "        test=\"Mann-Whitney\",\n",
    "        loc=\"inside\",\n",
    "        text_format=\"star\",\n",
    "        show_test_name=False,\n",
    "        verbose=2,\n",
    "        comparisons_correction=None,\n",
    "        fontsize=10,\n",
    "    )\n",
    "    annot.apply_test()\n",
    "    _, test_results = annot.annotate()\n",
    "    \n",
    "    if savename is not None:\n",
    "        fig.savefig(savename, dpi=200, bbox_inches=\"tight\")"
   ]
  },
  {
   "cell_type": "code",
   "execution_count": null,
   "id": "3298fa7c",
   "metadata": {},
   "outputs": [],
   "source": [
    "def create_pairs(celltypes) -> np.ndarray:\n",
    "    pairs = []\n",
    "    for ct in celltypes:\n",
    "        pairs.append(((ct, 0),(ct, 1)))\n",
    "    return pairs\n",
    "\n",
    "def plot_boxplot_celltype(adata, y, celltypes,\n",
    "                          ax=None, name=None, x=\"Malignant\", savename=None):\n",
    "    pairs = create_pairs(celltypes)\n",
    "\n",
    "    if ax is None:\n",
    "        fig, ax = plt.subplots(1,1,figsize=(3,2))\n",
    "    sns.boxplot(data=adata.obs, x=x, y=y, \n",
    "                        hue=\"HighMT\", order=celltypes,\n",
    "                ax=ax)\n",
    "    pretty_ax(ax)\n",
    "    ax.legend(frameon=False, title=\"HighMT\",bbox_to_anchor=(1,1,0,0))\n",
    "    ax.set_xticks(ax.get_xticks(), ax.get_xticklabels(), rotation=45, ha=\"right\")\n",
    "    \n",
    "    ax.set_xlabel(\"\")\n",
    "    \n",
    "    if name is not None:\n",
    "        ax.set_ylabel(\"\")\n",
    "        ax.set_title(name)\n",
    "\n",
    "    annot = Annotator(\n",
    "        ax,\n",
    "        pairs=pairs,\n",
    "        data=adata.obs, x=x, y=y, \n",
    "        hue=\"HighMT\", order=celltypes,\n",
    "    )\n",
    "    annot.configure(\n",
    "        test=\"Mann-Whitney\",\n",
    "        loc=\"inside\",\n",
    "        text_format=\"star\",\n",
    "        show_test_name=False,\n",
    "        verbose=2,\n",
    "        comparisons_correction=None,\n",
    "        fontsize=10,\n",
    "    )\n",
    "    annot.apply_test()\n",
    "    _, test_results = annot.annotate()\n",
    "    \n",
    "    if savename is not None:\n",
    "        fig.savefig(savename, dpi=200, bbox_inches=\"tight\")"
   ]
  },
  {
   "cell_type": "markdown",
   "id": "5391b5bf",
   "metadata": {},
   "source": [
    "# Define metacells parameters"
   ]
  },
  {
   "cell_type": "code",
   "execution_count": null,
   "id": "ce001500",
   "metadata": {},
   "outputs": [],
   "source": [
    "LATERAL_GENE_NAMES = [\n",
    "    \"ACSM3\", \"ANP32B\", \"APOE\", \"AURKA\", \"B2M\", \"BIRC5\", \"BTG2\", \"CALM1\", \"CD63\", \"CD69\", \"CDK4\",\n",
    "    \"CENPF\", \"CENPU\", \"CENPW\", \"CH17-373J23.1\", \"CKS1B\", \"CKS2\", \"COX4I1\", \"CXCR4\", \"DNAJB1\",\n",
    "    \"DONSON\", \"DUSP1\", \"DUT\", \"EEF1A1\", \"EEF1B2\", \"EIF3E\", \"EMP3\", \"FKBP4\", \"FOS\", \"FOSB\", \"FTH1\",\n",
    "    \"G0S2\", \"GGH\", \"GLTSCR2\", \"GMNN\", \"GNB2L1\", \"GPR183\", \"H2AFZ\", \"H3F3B\", \"HBM\", \"HIST1H1C\",\n",
    "    \"HIST1H2AC\", \"HIST1H2BG\", \"HIST1H4C\", \"HLA-A\", \"HLA-B\", \"HLA-C\", \"HLA-DMA\", \"HLA-DMB\",\n",
    "    \"HLA-DPA1\", \"HLA-DPB1\", \"HLA-DQA1\", \"HLA-DQB1\", \"HLA-DRA\", \"HLA-DRB1\", \"HLA-E\", \"HLA-F\", \"HMGA1\",\n",
    "    \"HMGB1\", \"HMGB2\", \"HMGB3\", \"HMGN2\", \"HNRNPAB\", \"HSP90AA1\", \"HSP90AB1\", \"HSPA1A\", \"HSPA1B\",\n",
    "    \"HSPA6\", \"HSPD1\", \"HSPE1\", \"HSPH1\", \"ID2\", \"IER2\", \"IGHA1\", \"IGHA2\", \"IGHD\", \"IGHG1\", \"IGHG2\",\n",
    "    \"IGHG3\", \"IGHG4\", \"IGHM\", \"IGKC\", \"IGKV1-12\", \"IGKV1-39\", \"IGKV1-5\", \"IGKV3-15\", \"IGKV4-1\",\n",
    "    \"IGLC2\", \"IGLC3\", \"IGLC6\", \"IGLC7\", \"IGLL1\", \"IGLL5\", \"IGLV2-34\", \"JUN\", \"JUNB\", \"KIAA0101\",\n",
    "    \"LEPROTL1\", \"LGALS1\", \"LINC01206\", \"LTB\", \"MCM3\", \"MCM4\", \"MCM7\", \"MKI67\", \"MT2A\", \"MYL12A\",\n",
    "    \"MYL6\", \"NASP\", \"NFKBIA\", \"NUSAP1\", \"PA2G4\", \"PCNA\", \"PDLIM1\", \"PLK3\", \"PPP1R15A\", \"PTMA\",\n",
    "    \"PTTG1\", \"RAN\", \"RANBP1\", \"RGCC\", \"RGS1\", \"RGS2\", \"RGS3\", \"RP11-1143G9.4\", \"RP11-160E2.6\",\n",
    "    \"RP11-53B5.1\", \"RP11-620J15.3\", \"RP5-1025A1.3\", \"RP5-1171I10.5\", \"RPS10\", \"RPS10-NUDT3\", \"RPS11\",\n",
    "    \"RPS12\", \"RPS13\", \"RPS14\", \"RPS15\", \"RPS15A\", \"RPS16\", \"RPS17\", \"RPS18\", \"RPS19\", \"RPS19BP1\",\n",
    "    \"RPS2\", \"RPS20\", \"RPS21\", \"RPS23\", \"RPS24\", \"RPS25\", \"RPS26\", \"RPS27\", \"RPS27A\", \"RPS27L\",\n",
    "    \"RPS28\", \"RPS29\", \"RPS3\", \"RPS3A\", \"RPS4X\", \"RPS4Y1\", \"RPS4Y2\", \"RPS5\", \"RPS6\", \"RPS6KA1\",\n",
    "    \"RPS6KA2\", \"RPS6KA2-AS1\", \"RPS6KA3\", \"RPS6KA4\", \"RPS6KA5\", \"RPS6KA6\", \"RPS6KB1\", \"RPS6KB2\",\n",
    "    \"RPS6KC1\", \"RPS6KL1\", \"RPS7\", \"RPS8\", \"RPS9\", \"RPSA\", \"RRM2\", \"SMC4\", \"SRGN\", \"SRSF7\", \"STMN1\",\n",
    "    \"TK1\", \"TMSB4X\", \"TOP2A\", \"TPX2\", \"TSC22D3\", \"TUBA1A\", \"TUBA1B\", \"TUBB\", \"TUBB4B\", \"TXN\", \"TYMS\",\n",
    "    \"UBA52\", \"UBC\", \"UBE2C\", \"UHRF1\", \"YBX1\", \"YPEL5\", \"ZFP36\", \"ZWINT\"\n",
    "]\n",
    "LATERAL_GENE_PATTERNS = [\"RP[LS].*\"]  # Ribosomal\n"
   ]
  },
  {
   "cell_type": "code",
   "execution_count": null,
   "id": "729f0482",
   "metadata": {},
   "outputs": [],
   "source": [
    "NOISY_GENE_NAMES = [\n",
    "    \"CCL3\", \"CCL4\", \"CCL5\", \"CXCL8\", \"DUSP1\", \"FOS\", \"G0S2\", \"HBB\", \"HIST1H4C\", \"IER2\", \"IGKC\",\n",
    "    \"IGLC2\", \"JUN\", \"JUNB\", \"KLRB1\", \"MT2A\", \"RPS26\", \"RPS4Y1\", \"TRBC1\", \"TUBA1B\", \"TUBB\"\n",
    "]"
   ]
  },
  {
   "cell_type": "markdown",
   "id": "25bf63df",
   "metadata": {},
   "source": [
    "# Download stress dissociation signatures"
   ]
  },
  {
   "cell_type": "code",
   "execution_count": null,
   "id": "afede2c9",
   "metadata": {},
   "outputs": [],
   "source": [
    "core_genes_stress = pd.read_csv(\"/add/path/here/auxiliary_data/coregene_df-FALSE-v3.csv\")\n",
    "\n",
    "list_core_genes = core_genes_stress[core_genes_stress[\"logFC\"]>0].gene_symbol.ravel()\n",
    "\n",
    "red_core_genes = core_genes_stress.head(40).gene_symbol.ravel()\n",
    "\n",
    "dissociation_genes = pd.read_csv(\"/add/path/here/auxiliary_data/dissociation_genes-vanDenBrink2017.csv\",header=None).astype(str)\n",
    "dissociation_genes = dissociation_genes[0].str.upper().ravel()\n",
    "\n",
    "dissociation_genes_machado = pd.read_csv(\"/add/path/here/auxiliary_data/dissociation_Machado2021.csv\",header=None).astype(str)\n",
    "dissociation_genes_machado = dissociation_genes_machado[0].str.upper().ravel()\n",
    "\n",
    "dissociation_prostate_specific = [\"JUN\",\"FOS\",\"EGR1\",\"ATF3\",\"JUNB\",\"GADD45B\",\"IER2\",\"ZFP36\",\n",
    "\"DNAJB1\",\"RHOB\",\"NR4A1\",\"UBC\",\"HES1\"]\n",
    "\n",
    "common_disso_genes = np.intersect1d(list_core_genes.astype(str),dissociation_genes.astype(str))\n",
    "common_disso_genes = np.intersect1d(common_disso_genes,dissociation_genes_machado.astype(str))"
   ]
  },
  {
   "cell_type": "markdown",
   "id": "a9ea38ac",
   "metadata": {},
   "source": [
    "# Download MitoCarta genes"
   ]
  },
  {
   "cell_type": "code",
   "execution_count": null,
   "id": "00437dab",
   "metadata": {},
   "outputs": [],
   "source": [
    "mitocarta = pd.read_csv(\"/add/path/here/auxiliary_data/mitocarta_genes.csv\").values.ravel()\n",
    "mitocarta = np.setdiff1d(mitocarta,['MT-ATP6', 'MT-CO2', 'MT-CO1', 'MT-ND2', 'MT-ND4', 'MT-ND5',\n",
    "       'MT-CYB', 'MT-ATP8', 'MT-CO3', 'MT-ND3', 'MT-ND1', 'MT-ND4L',\n",
    "       'MT-ND6'])\n",
    "\n",
    "mitocarta_pathways = pd.read_csv(\"/add/path/here/auxiliary_data/mitocarta_pathways.csv\",index_col=0)\n",
    "\n",
    "high_order = []\n",
    "\n",
    "for name in mitocarta_pathways[\"MitoPathways Hierarchy\"].str.split(\">\").values:\n",
    "    if len(name)==1:\n",
    "        high_order.append(name[0])\n",
    "\n",
    "high_order = mitocarta_pathways[mitocarta_pathways[\"MitoPathways Hierarchy\"].isin(high_order)][\"Genes\"].str.split(\", \").to_dict()\n",
    "\n",
    "for k, v in high_order.items():\n",
    "    high_order[k] = np.setdiff1d(v, ['MT-ATP6', 'MT-CO2', 'MT-CO1', 'MT-ND2', 'MT-ND4', 'MT-ND5',\n",
    "       'MT-CYB', 'MT-ATP8', 'MT-CO3', 'MT-ND3', 'MT-ND1', 'MT-ND4L',\n",
    "       'MT-ND6'])"
   ]
  },
  {
   "cell_type": "markdown",
   "id": "c259b0c1",
   "metadata": {},
   "source": [
    "# GOBP"
   ]
  },
  {
   "cell_type": "code",
   "execution_count": null,
   "id": "97599e4e",
   "metadata": {},
   "outputs": [],
   "source": [
    "gocc = {}\n",
    "with open(\"/Users/josephineyates/Downloads/GO_Cellular_Component_2013.txt\", \"r\") as f:\n",
    "    lines = f.readlines()\n",
    "    for line in lines:\n",
    "        vals = line.split(\"\\t\")\n",
    "        gocc[vals[0]] = vals[2:-1]\n",
    "\n",
    "\n",
    "pathways_gocc = [\"mitochondrion (GO:0005739)\",\n",
    "                \"cytoplasm (GO:0005737)\"]\n",
    "\n",
    "go_sigs = {}\n",
    "for path in pathways_gocc:\n",
    "    go_sigs[path] = gocc[path]"
   ]
  },
  {
   "cell_type": "markdown",
   "id": "1d6a5737",
   "metadata": {},
   "source": [
    "# Signature of mitochondrial transfer"
   ]
  },
  {
   "cell_type": "markdown",
   "id": "7b0c36d6",
   "metadata": {},
   "source": [
    "Taken from \"Systematic investigation of mitochondrial transfer between cancer cells and T cells at single-cell resolution\", Zhang et al., 2023, https://www.sciencedirect.com/science/article/pii/S1535610823003197?via%3Dihub"
   ]
  },
  {
   "cell_type": "code",
   "execution_count": null,
   "id": "1ef50f7e",
   "metadata": {},
   "outputs": [],
   "source": [
    "mito_transfer = [\"ABI1\",\"ARF6\",\"F11R\",\"BAIAP2L1\",\"MYADM\",\"ACTR3\",\"ARHGEF5\",\"SRC\",\"CAPZA2\",\"ARHGEF5\",\"PSEN1\",\n",
    "                 \"GOLPH3\",\"RAB10\",\"ARF4\",\"CAP1\",\"YWHAG\", \"YWHAZ\", \"HSPA4\"]"
   ]
  },
  {
   "cell_type": "markdown",
   "id": "7b1142a7",
   "metadata": {},
   "source": [
    "# Create metacells"
   ]
  },
  {
   "cell_type": "code",
   "execution_count": null,
   "id": "36cd1b4f",
   "metadata": {},
   "outputs": [],
   "source": [
    "def get_metacells(adata: sc.AnnData, celltype_col: str = \"cleaned_celltype\", \n",
    "                 sample_col: str = \"sample\") -> sc.AnnData:\n",
    "    \n",
    "\n",
    "    mc.ut.set_name(adata, \"hca_bm.one-pass.preliminary.cells\")\n",
    "\n",
    "    mc.pl.mark_lateral_genes(\n",
    "        adata,\n",
    "        lateral_gene_names=LATERAL_GENE_NAMES,\n",
    "        lateral_gene_patterns=LATERAL_GENE_PATTERNS,\n",
    "    )\n",
    "\n",
    "    lateral_gene_mask = mc.ut.get_v_numpy(adata, \"lateral_gene\")\n",
    "    lateral_gene_names = set(adata.var_names[lateral_gene_mask])\n",
    "\n",
    "    # This will mark as \"noisy_gene\" any genes that match the above, if they exist in the clean dataset.\n",
    "    mc.pl.mark_noisy_genes(adata, noisy_gene_names=NOISY_GENE_NAMES)\n",
    "\n",
    "    # Either use the guesstimator:\n",
    "    max_parallel_piles = mc.pl.guess_max_parallel_piles(adata)\n",
    "    mc.pl.set_max_parallel_piles(max_parallel_piles)\n",
    "\n",
    "    with mc.ut.progress_bar():\n",
    "        mc.pl.divide_and_conquer_pipeline(adata, random_seed=123456)\n",
    "\n",
    "    metacells = \\\n",
    "        mc.pl.collect_metacells(adata, name=\"hca_bm.one-pass.preliminary.metacells\", random_seed=123456)\n",
    "    print(f\"Preliminary: {metacells.n_obs} metacells, {metacells.n_vars} genes\")\n",
    "    \n",
    "    mc.tl.convey_obs_fractions_to_group(adata=adata, gdata=metacells, property_name=celltype_col)\n",
    "    mc.tl.convey_obs_fractions_to_group(adata=adata, gdata=metacells, property_name=sample_col)\n",
    "    mc.tl.convey_obs_fractions_to_group(adata=adata, gdata=metacells, property_name=\"HighMT\")\n",
    "    mc.tl.convey_obs_fractions_to_group(adata=adata, gdata=metacells, property_name=\"Malignant\")\n",
    "    \n",
    "    mc.tl.convey_obs_to_group(\n",
    "    adata=adata, gdata=metacells,\n",
    "    property_name=\"cleaned_celltype\", to_property_name=\"cleaned_celltype\",\n",
    "    method=mc.ut.most_frequent  # This is the default, for categorical data\n",
    "    )\n",
    "\n",
    "    mc.tl.convey_obs_to_group(\n",
    "        adata=adata, gdata=metacells,\n",
    "        property_name=\"Malignant\", to_property_name=\"Malignant\",\n",
    "        method=mc.ut.most_frequent  # This is the default, for categorical data\n",
    "    )\n",
    "\n",
    "    mc.tl.convey_obs_to_group(\n",
    "        adata=adata, gdata=metacells,\n",
    "        property_name=\"HighMT\", to_property_name=\"HighMT\",\n",
    "        method=mc.ut.most_frequent  # This is the default, for categorical data\n",
    "    )\n",
    "    return metacells, adata"
   ]
  },
  {
   "cell_type": "code",
   "execution_count": null,
   "id": "993e9901-ac1e-4077-ad6e-d5afc72be32e",
   "metadata": {},
   "outputs": [],
   "source": []
  },
  {
   "cell_type": "markdown",
   "id": "e924fe24",
   "metadata": {},
   "source": [
    "# SCLC Chan"
   ]
  },
  {
   "cell_type": "code",
   "execution_count": null,
   "id": "33274631",
   "metadata": {},
   "outputs": [],
   "source": [
    "adata = sc.read_h5ad(\"/add/path/here/filtered_data/SCLC_Chan_10X/filtered_adata.h5ad\")"
   ]
  },
  {
   "cell_type": "code",
   "execution_count": null,
   "id": "76e1433a",
   "metadata": {},
   "outputs": [],
   "source": [
    "adata = adata[adata.obs.source!=\"pleural_effusion\"].copy()"
   ]
  },
  {
   "cell_type": "code",
   "execution_count": null,
   "id": "581ee015",
   "metadata": {},
   "outputs": [],
   "source": [
    "all_samples = adata.obs[\"sample\"].unique()"
   ]
  },
  {
   "cell_type": "code",
   "execution_count": null,
   "id": "03da700b",
   "metadata": {},
   "outputs": [],
   "source": [
    "sc.pp.filter_genes(adata, min_cells=int(0.01*adata.shape[0]))"
   ]
  },
  {
   "cell_type": "code",
   "execution_count": null,
   "id": "dc3c5b62",
   "metadata": {},
   "outputs": [],
   "source": [
    "adata.obs[\"HighMT\"] = (adata.obs.pct_counts_mt>15).astype(int)\n",
    "adata.obs[\"Malignant\"] = (adata.obs.cleaned_celltype==\"Malignant\").astype(int)"
   ]
  },
  {
   "cell_type": "markdown",
   "id": "5863d5b6",
   "metadata": {},
   "source": [
    "# Normalize without the MT genes"
   ]
  },
  {
   "cell_type": "code",
   "execution_count": null,
   "id": "0bdb6e34",
   "metadata": {},
   "outputs": [],
   "source": [
    "adata.X = adata.layers[\"counts\"].copy()\n",
    "\n",
    "adata = adata[:,adata.var_names[~adata.var_names.str.startswith(\"MT-\")]].copy()"
   ]
  },
  {
   "cell_type": "markdown",
   "id": "4e157b55",
   "metadata": {},
   "source": [
    "# Create metacells"
   ]
  },
  {
   "cell_type": "code",
   "execution_count": null,
   "id": "de829160",
   "metadata": {},
   "outputs": [],
   "source": [
    "metacells, adata = get_metacells(adata, celltype_col=\"cleaned_celltype\", sample_col=\"sample\")\n",
    "\n",
    "metacells.write(\"/add/path/here/metacell_data/SCLC_Chan_10X/metacells.h5ad\")\n",
    "\n",
    "adata.obs.to_csv(\"/add/path/here/metacell_data/SCLC_Chan_10X/adata_obs.csv\")"
   ]
  },
  {
   "cell_type": "markdown",
   "id": "2ca712ea",
   "metadata": {},
   "source": [
    "# Analyze metacells"
   ]
  },
  {
   "cell_type": "code",
   "execution_count": null,
   "id": "78b1e7d6",
   "metadata": {},
   "outputs": [],
   "source": [
    "metacells = sc.read_h5ad(\"/add/path/here/metacell_data/SCLC_Chan_10X/metacells.h5ad\")"
   ]
  },
  {
   "cell_type": "code",
   "execution_count": null,
   "id": "986f835c",
   "metadata": {},
   "outputs": [],
   "source": [
    "metacells.obs[\"HighMT\"] = (metacells.obs[\"HighMT_fraction_of_1\"]>0.3).astype(int)"
   ]
  },
  {
   "cell_type": "code",
   "execution_count": null,
   "id": "6a17222f",
   "metadata": {},
   "outputs": [],
   "source": [
    "metacells.X = metacells.layers[\"total_umis\"]\n",
    "\n",
    "sc.pp.normalize_total(metacells, target_sum=10000)\n",
    "sc.pp.log1p(metacells)"
   ]
  },
  {
   "cell_type": "code",
   "execution_count": null,
   "id": "d0b543d7",
   "metadata": {},
   "outputs": [],
   "source": [
    "egfr_df = pd.concat([metacells[:,metacells.var_names[metacells.var_names.str.startswith((\"ERB\",\"EGFR\"))]].to_df(),\n",
    "                     metacells.obs[[\"Malignant\",\"HighMT\"]]],axis=1)\n",
    "\n",
    "egfr_df.to_csv(\"/add/path/here/egfr_expression_metacells/SCLC.csv\")"
   ]
  },
  {
   "cell_type": "code",
   "execution_count": null,
   "id": "c6496ebe",
   "metadata": {
    "scrolled": true
   },
   "outputs": [],
   "source": [
    "fig, ax = plt.subplots(1,4, figsize=(11,2))\n",
    "flatax = ax.flatten()\n",
    "\n",
    "sc.tl.score_genes(metacells, gene_list=metacells.var_names[metacells.var_names.str.startswith(\"CYP\")], \n",
    "                  score_name=\"CYP genes\")\n",
    "sc.tl.score_genes(metacells, gene_list=metacells.var_names[metacells.var_names.str.startswith((\"UGT\",\"B3GAT\"))],\n",
    "                  score_name=\"UGT genes\")\n",
    "sc.tl.score_genes(metacells, gene_list=metacells.var_names[metacells.var_names.str.startswith(\"GST\")], \n",
    "                  score_name=\"GST genes\")\n",
    "sc.tl.score_genes(metacells, gene_list=kegg['ABC transporters'], \n",
    "                  score_name=\"ABC transporters\")\n",
    "\n",
    "\n",
    "plot_boxplot(metacells, \"CYP genes\", name=\"CYP genes (phase I)\",ax=flatax[0])\n",
    "plot_boxplot(metacells, \"UGT genes\", name=\"UGT genes (phase II)\",ax=flatax[1])\n",
    "plot_boxplot(metacells, \"GST genes\", name=\"GST genes (phase II)\",ax=flatax[2])\n",
    "plot_boxplot(metacells, \"ABC transporters\", name=\"ABC transporters (phase III)\",ax=flatax[3])\n",
    "for i in range(len(flatax)):\n",
    "    pretty_ax(flatax[i])\n",
    "    \n",
    "fig.tight_layout()"
   ]
  },
  {
   "cell_type": "code",
   "execution_count": null,
   "id": "45c4a4fb",
   "metadata": {},
   "outputs": [],
   "source": [
    "sc.tl.pca(metacells)\n",
    "sc.pp.neighbors(metacells)\n",
    "sc.tl.umap(metacells)"
   ]
  },
  {
   "cell_type": "code",
   "execution_count": null,
   "id": "c64c40a8",
   "metadata": {},
   "outputs": [],
   "source": [
    "sc.pl.umap(metacells, color=[\"HighMT\",\"Malignant\",\"cleaned_celltype\"])"
   ]
  },
  {
   "cell_type": "code",
   "execution_count": null,
   "id": "16cf8235",
   "metadata": {},
   "outputs": [],
   "source": [
    "sc.tl.score_genes(metacells, gene_list=common_disso_genes, score_name=\"Dissociation stress\") "
   ]
  },
  {
   "cell_type": "code",
   "execution_count": null,
   "id": "fd560cb0",
   "metadata": {},
   "outputs": [],
   "source": [
    "stress_sigs = [\"O-Flanagan_dissociation_stress\",\"O-Flanagan_dissociation_red\",\n",
    "               \"Van-den-Brink_dissociation_stress\",\"Machado_dissociation_stress\"]\n",
    "sc.tl.score_genes(metacells, gene_list=list_core_genes, score_name=\"O-Flanagan_dissociation_stress\")\n",
    "sc.tl.score_genes(metacells, gene_list=red_core_genes, score_name=\"O-Flanagan_dissociation_red\")\n",
    "sc.tl.score_genes(metacells, gene_list=dissociation_genes, score_name=\"Van-den-Brink_dissociation_stress\")\n",
    "sc.tl.score_genes(metacells, gene_list=dissociation_genes_machado, score_name=\"Machado_dissociation_stress\")"
   ]
  },
  {
   "cell_type": "code",
   "execution_count": null,
   "id": "91211331",
   "metadata": {},
   "outputs": [],
   "source": [
    "fig, ax = plt.subplots(1,4, figsize=(12,2))\n",
    "flatax = ax.flatten()\n",
    "for i,pathway in enumerate(stress_sigs):\n",
    "    plot_boxplot(metacells, pathway, ax=flatax[i], name=pathway)\n",
    "fig.tight_layout()"
   ]
  },
  {
   "cell_type": "code",
   "execution_count": null,
   "id": "0d00adc5",
   "metadata": {},
   "outputs": [],
   "source": [
    "metacells.obs[\"Transcriptome variance\"] = metacells.to_df().var(axis=1)\n",
    "\n",
    "for sig in go_sigs:\n",
    "    sc.tl.score_genes(metacells, gene_list=go_sigs[sig], score_name=sig)\n",
    "\n",
    "fig, ax = plt.subplots(1,3, figsize=(9,2))\n",
    "flatax = ax.flatten()\n",
    "for i,sig in enumerate(go_sigs):\n",
    "    plot_boxplot(metacells, \n",
    "                 sig, name=sig.split(\" (GO\")[0], ax = flatax[i])\n",
    "plot_boxplot(metacells, \n",
    "                 \"Transcriptome variance\", name=\"Transcriptome variance\", ax = flatax[-1])\n",
    "fig.tight_layout()"
   ]
  },
  {
   "cell_type": "code",
   "execution_count": null,
   "id": "99b1419d",
   "metadata": {
    "scrolled": true
   },
   "outputs": [],
   "source": [
    "from scipy.stats import mannwhitneyu\n",
    "from tqdm.notebook import tqdm\n",
    "\n",
    "diffs = {}\n",
    "for name in tqdm(mitocarta_pathways.index):\n",
    "    sig_genes = mitocarta_pathways.loc[name].Genes.split(\", \")\n",
    "    if len(metacells.var_names.intersection(sig_genes))==0:\n",
    "        continue\n",
    "    sc.tl.score_genes(metacells, gene_list=sig_genes, score_name=\"MTCARTA_sig\")\n",
    "\n",
    "    malobs = metacells.obs[metacells.obs[\"Malignant\"]==1]\n",
    "    val1 = malobs[malobs.HighMT==0][\"MTCARTA_sig\"]\n",
    "    val2 = malobs[malobs.HighMT==1][\"MTCARTA_sig\"]\n",
    "    _, p = mannwhitneyu(val1.values,val2.values)\n",
    "    median_high = val2.median()\n",
    "    median_low = val1.median()\n",
    "    diffs[name] = [median_low,median_high,p]\n",
    "\n",
    "diffs = pd.DataFrame(diffs,index=[\"Median LowMT\",\"Median HighMT\",\"MWU p\"]).T.sort_values(\"MWU p\")\n",
    "\n",
    "diffs[\"Diff. median\"] = diffs[\"Median HighMT\"] - diffs[\"Median LowMT\"]\n",
    "\n",
    "diffs.sort_values(\"Diff. median\").to_csv(\"/add/path/here/metabolic_dysregulation/mitocarta_met_res/SCLC_Chan_10X.csv\")"
   ]
  },
  {
   "cell_type": "code",
   "execution_count": null,
   "id": "a3fc2021",
   "metadata": {},
   "outputs": [],
   "source": [
    "metacells.obs[['cleaned_celltype', 'Malignant', 'HighMT',\n",
    "       'CYP genes', 'UGT genes', 'GST genes', 'ABC transporters',\n",
    "       'O-Flanagan_dissociation_stress', 'O-Flanagan_dissociation_red',\n",
    "       'Van-den-Brink_dissociation_stress', 'Machado_dissociation_stress',\n",
    "       'Dissociation stress', 'Mito transfer']].to_csv(\"/add/path/here/info-metacells/sclc.csv\")"
   ]
  },
  {
   "cell_type": "markdown",
   "id": "20a5d569",
   "metadata": {},
   "source": [
    "# Pancreas Steele 10X"
   ]
  },
  {
   "cell_type": "code",
   "execution_count": null,
   "id": "06c04547",
   "metadata": {},
   "outputs": [],
   "source": [
    "adata = sc.read_h5ad(\"/add/path/here/filtered_data/Steele_Pancreas_10X/filtered_adata.h5ad\")"
   ]
  },
  {
   "cell_type": "code",
   "execution_count": null,
   "id": "00d88d6c",
   "metadata": {},
   "outputs": [],
   "source": [
    "all_samples = adata.obs[\"sample\"].unique()"
   ]
  },
  {
   "cell_type": "code",
   "execution_count": null,
   "id": "54777a66",
   "metadata": {},
   "outputs": [],
   "source": [
    "sc.pp.filter_genes(adata, min_cells=int(0.01*adata.shape[0]))"
   ]
  },
  {
   "cell_type": "code",
   "execution_count": null,
   "id": "15d3735f",
   "metadata": {},
   "outputs": [],
   "source": [
    "adata.obs[\"HighMT\"] = (adata.obs.pct_counts_mt>15).astype(int)\n",
    "adata.obs[\"Malignant\"] = (adata.obs.cleaned_celltype==\"Malignant\").astype(int)"
   ]
  },
  {
   "cell_type": "markdown",
   "id": "0bd349bd",
   "metadata": {},
   "source": [
    "# Normalize without the MT genes"
   ]
  },
  {
   "cell_type": "code",
   "execution_count": null,
   "id": "b0c75943",
   "metadata": {},
   "outputs": [],
   "source": [
    "adata.X = adata.layers[\"counts\"].copy()\n",
    "\n",
    "adata = adata[:,adata.var_names[~adata.var_names.str.startswith(\"MT-\")]].copy()"
   ]
  },
  {
   "cell_type": "markdown",
   "id": "5a42c52f",
   "metadata": {},
   "source": [
    "# Create metacells"
   ]
  },
  {
   "cell_type": "code",
   "execution_count": null,
   "id": "4548c802",
   "metadata": {
    "scrolled": true
   },
   "outputs": [],
   "source": [
    "metacells, adata = get_metacells(adata, celltype_col=\"cleaned_celltype\", sample_col=\"sample\")\n",
    "\n",
    "metacells.write(\"/add/path/here/metacell_data/Pancreas_Steele_10X/metacells.h5ad\")\n",
    "\n",
    "adata.obs.to_csv(\"/add/path/here/metacell_data/Pancreas_Steele_10X/adata_obs.csv\")"
   ]
  },
  {
   "cell_type": "markdown",
   "id": "b6c892c0",
   "metadata": {},
   "source": [
    "# Analyze metacells"
   ]
  },
  {
   "cell_type": "code",
   "execution_count": null,
   "id": "cf1b0721",
   "metadata": {},
   "outputs": [],
   "source": [
    "metacells = sc.read_h5ad(\"/add/path/here/metacell_data/Pancreas_Steele_10X/metacells.h5ad\")"
   ]
  },
  {
   "cell_type": "code",
   "execution_count": null,
   "id": "b4fc529a",
   "metadata": {},
   "outputs": [],
   "source": [
    "metacells.obs[\"HighMT\"] = (metacells.obs[\"HighMT_fraction_of_1\"]>0.3).astype(int)"
   ]
  },
  {
   "cell_type": "code",
   "execution_count": null,
   "id": "89e96aa7",
   "metadata": {},
   "outputs": [],
   "source": [
    "metacells.X = metacells.layers[\"total_umis\"]\n",
    "\n",
    "sc.pp.normalize_total(metacells, target_sum=10000)\n",
    "sc.pp.log1p(metacells)"
   ]
  },
  {
   "cell_type": "code",
   "execution_count": null,
   "id": "2192dc1d",
   "metadata": {},
   "outputs": [],
   "source": [
    "egfr_df = pd.concat([metacells[:,metacells.var_names[metacells.var_names.str.startswith((\"ERB\",\"EGFR\"))]].to_df(),\n",
    "                     metacells.obs[[\"Malignant\",\"HighMT\"]]],axis=1)\n",
    "\n",
    "egfr_df.to_csv(\"/add/path/here/egfr_expression_metacells/Pancreas.csv\")"
   ]
  },
  {
   "cell_type": "code",
   "execution_count": null,
   "id": "a3fd113c",
   "metadata": {
    "scrolled": true
   },
   "outputs": [],
   "source": [
    "fig, ax = plt.subplots(1,4, figsize=(11,2))\n",
    "flatax = ax.flatten()\n",
    "\n",
    "sc.tl.score_genes(metacells, gene_list=metacells.var_names[metacells.var_names.str.startswith(\"CYP\")], \n",
    "                  score_name=\"CYP genes\")\n",
    "sc.tl.score_genes(metacells, gene_list=metacells.var_names[metacells.var_names.str.startswith((\"UGT\",\"B3GAT\"))], \n",
    "                  score_name=\"UGT genes\")\n",
    "sc.tl.score_genes(metacells, gene_list=metacells.var_names[metacells.var_names.str.startswith(\"GST\")], \n",
    "                  score_name=\"GST genes\")\n",
    "sc.tl.score_genes(metacells, gene_list=kegg['ABC transporters'], \n",
    "                  score_name=\"ABC transporters\")\n",
    "\n",
    "\n",
    "plot_boxplot(metacells, \"CYP genes\", name=\"CYP genes (phase I)\",ax=flatax[0])\n",
    "plot_boxplot(metacells, \"UGT genes\", name=\"UGT genes (phase II)\",ax=flatax[1])\n",
    "plot_boxplot(metacells, \"GST genes\", name=\"GST genes (phase II)\",ax=flatax[2])\n",
    "plot_boxplot(metacells, \"ABC transporters\", name=\"ABC transporters (phase III)\",ax=flatax[3])\n",
    "for i in range(len(flatax)):\n",
    "    pretty_ax(flatax[i])\n",
    "    \n",
    "fig.tight_layout()"
   ]
  },
  {
   "cell_type": "code",
   "execution_count": null,
   "id": "48348b5a",
   "metadata": {},
   "outputs": [],
   "source": [
    "sc.tl.pca(metacells)\n",
    "sc.pp.neighbors(metacells)\n",
    "sc.tl.umap(metacells)"
   ]
  },
  {
   "cell_type": "code",
   "execution_count": null,
   "id": "317f7c12",
   "metadata": {},
   "outputs": [],
   "source": [
    "sc.pl.umap(metacells, color=[\"HighMT\",\"Malignant\",\"cleaned_celltype\"])"
   ]
  },
  {
   "cell_type": "code",
   "execution_count": null,
   "id": "db96f459",
   "metadata": {},
   "outputs": [],
   "source": [
    "sc.tl.score_genes(metacells, gene_list=common_disso_genes, score_name=\"Dissociation stress\")"
   ]
  },
  {
   "cell_type": "code",
   "execution_count": null,
   "id": "74e15e9c",
   "metadata": {},
   "outputs": [],
   "source": [
    "stress_sigs = [\"O-Flanagan_dissociation_stress\",\"O-Flanagan_dissociation_red\",\n",
    "               \"Van-den-Brink_dissociation_stress\",\"Machado_dissociation_stress\"]\n",
    "sc.tl.score_genes(metacells, gene_list=list_core_genes, score_name=\"O-Flanagan_dissociation_stress\")\n",
    "sc.tl.score_genes(metacells, gene_list=red_core_genes, score_name=\"O-Flanagan_dissociation_red\")\n",
    "sc.tl.score_genes(metacells, gene_list=dissociation_genes, score_name=\"Van-den-Brink_dissociation_stress\")\n",
    "sc.tl.score_genes(metacells, gene_list=dissociation_genes_machado, score_name=\"Machado_dissociation_stress\")"
   ]
  },
  {
   "cell_type": "code",
   "execution_count": null,
   "id": "d127d624",
   "metadata": {},
   "outputs": [],
   "source": [
    "fig, ax = plt.subplots(1,4, figsize=(12,2))\n",
    "flatax = ax.flatten()\n",
    "for i,pathway in enumerate(stress_sigs):\n",
    "    plot_boxplot(metacells, pathway, ax=flatax[i], name=pathway)\n",
    "fig.tight_layout()"
   ]
  },
  {
   "cell_type": "code",
   "execution_count": null,
   "id": "b187633c",
   "metadata": {
    "scrolled": true
   },
   "outputs": [],
   "source": [
    "metacells.obs[\"Transcriptome variance\"] = metacells.to_df().var(axis=1)\n",
    "\n",
    "for sig in go_sigs:\n",
    "    sc.tl.score_genes(metacells, gene_list=go_sigs[sig], score_name=sig)\n",
    "\n",
    "fig, ax = plt.subplots(1,3, figsize=(9,2))\n",
    "flatax = ax.flatten()\n",
    "for i,sig in enumerate(go_sigs):\n",
    "    plot_boxplot(metacells, \n",
    "                 sig, name=sig.split(\" (GO\")[0], ax = flatax[i])\n",
    "plot_boxplot(metacells, \n",
    "                 \"Transcriptome variance\", name=\"Transcriptome variance\", ax = flatax[-1])\n",
    "fig.tight_layout()"
   ]
  },
  {
   "cell_type": "code",
   "execution_count": null,
   "id": "7e5b7b18",
   "metadata": {
    "scrolled": true
   },
   "outputs": [],
   "source": [
    "sc.tl.score_genes(metacells, gene_list=mito_transfer, score_name=\"Mito transfer\")\n",
    "\n",
    "plot_boxplot(metacells, \n",
    "                 \"Mito transfer\", name=\"Mito transfer\")"
   ]
  },
  {
   "cell_type": "code",
   "execution_count": null,
   "id": "c80e53a2",
   "metadata": {},
   "outputs": [],
   "source": [
    "from scipy.stats import mannwhitneyu\n",
    "from tqdm.notebook import tqdm\n",
    "\n",
    "diffs = {}\n",
    "for name in tqdm(mitocarta_pathways.index):\n",
    "    sig_genes = mitocarta_pathways.loc[name].Genes.split(\", \")\n",
    "    if len(metacells.var_names.intersection(sig_genes))==0:\n",
    "        continue\n",
    "    sc.tl.score_genes(metacells, gene_list=sig_genes, score_name=\"MTCARTA_sig\")\n",
    "\n",
    "    malobs = metacells.obs[metacells.obs[\"Malignant\"]==1]\n",
    "    val1 = malobs[malobs.HighMT==0][\"MTCARTA_sig\"]\n",
    "    val2 = malobs[malobs.HighMT==1][\"MTCARTA_sig\"]\n",
    "    _, p = mannwhitneyu(val1.values,val2.values)\n",
    "    median_high = val2.median()\n",
    "    median_low = val1.median()\n",
    "    diffs[name] = [median_low,median_high,p]\n",
    "\n",
    "diffs = pd.DataFrame(diffs,index=[\"Median LowMT\",\"Median HighMT\",\"MWU p\"]).T.sort_values(\"MWU p\")\n",
    "\n",
    "diffs[\"Diff. median\"] = diffs[\"Median HighMT\"] - diffs[\"Median LowMT\"]\n",
    "\n",
    "diffs.sort_values(\"Diff. median\").to_csv(\"/add/path/here/metabolic_dysregulation/mitocarta_met_res/Pancreas_Steele_10X.csv\")"
   ]
  },
  {
   "cell_type": "code",
   "execution_count": null,
   "id": "ea6785ba",
   "metadata": {},
   "outputs": [],
   "source": [
    "metacells.obs[['cleaned_celltype', 'Malignant', 'HighMT',\n",
    "       'CYP genes', 'UGT genes', 'GST genes', 'ABC transporters',\n",
    "       'O-Flanagan_dissociation_stress', 'O-Flanagan_dissociation_red',\n",
    "       'Van-den-Brink_dissociation_stress', 'Machado_dissociation_stress',\n",
    "       'Dissociation stress', 'Mito transfer']].to_csv(\"/add/path/here/info-metacells/pancreas.csv\")"
   ]
  },
  {
   "cell_type": "markdown",
   "id": "72112a72",
   "metadata": {},
   "source": [
    "# Metastatic pancreas Raghavan 10X"
   ]
  },
  {
   "cell_type": "code",
   "execution_count": null,
   "id": "abc156ae",
   "metadata": {},
   "outputs": [],
   "source": [
    "adata = sc.read_h5ad(\"/add/path/here/filtered_data/Raghavan_Pancreas_10X/filtered_adata.h5ad\")"
   ]
  },
  {
   "cell_type": "code",
   "execution_count": null,
   "id": "a7359ce9",
   "metadata": {},
   "outputs": [],
   "source": [
    "all_samples = adata.obs[\"sample\"].unique()"
   ]
  },
  {
   "cell_type": "code",
   "execution_count": null,
   "id": "4d0913ba",
   "metadata": {},
   "outputs": [],
   "source": [
    "sc.pp.filter_genes(adata, min_cells=int(0.01*adata.shape[0]))"
   ]
  },
  {
   "cell_type": "code",
   "execution_count": null,
   "id": "2aadba42",
   "metadata": {},
   "outputs": [],
   "source": [
    "adata.obs[\"HighMT\"] = (adata.obs.pct_counts_mt>15).astype(int)\n",
    "adata.obs[\"Malignant\"] = (adata.obs.cleaned_celltype==\"Malignant\").astype(int)"
   ]
  },
  {
   "cell_type": "markdown",
   "id": "ac2198ea",
   "metadata": {},
   "source": [
    "# Normalize without the MT genes"
   ]
  },
  {
   "cell_type": "code",
   "execution_count": null,
   "id": "109b0311",
   "metadata": {},
   "outputs": [],
   "source": [
    "adata.X = adata.layers[\"counts\"].copy()\n",
    "\n",
    "adata = adata[:,adata.var_names[~adata.var_names.str.startswith(\"MT-\")]].copy()"
   ]
  },
  {
   "cell_type": "markdown",
   "id": "c7a6e59f",
   "metadata": {},
   "source": [
    "# Create metacells"
   ]
  },
  {
   "cell_type": "code",
   "execution_count": null,
   "id": "63969072",
   "metadata": {
    "scrolled": true
   },
   "outputs": [],
   "source": [
    "metacells, adata = get_metacells(adata, celltype_col=\"cleaned_celltype\", sample_col=\"sample\")\n",
    "\n",
    "metacells.write(\"/add/path/here/metacell_data/Pancreas_Raghavan_10X/metacells.h5ad\")\n",
    "\n",
    "adata.obs.to_csv(\"/add/path/here/metacell_data/Pancreas_Raghavan_10X/adata_obs.csv\")"
   ]
  },
  {
   "cell_type": "markdown",
   "id": "0961e2b5",
   "metadata": {},
   "source": [
    "# Analyze metacells"
   ]
  },
  {
   "cell_type": "code",
   "execution_count": null,
   "id": "a4765773",
   "metadata": {},
   "outputs": [],
   "source": [
    "metacells = sc.read_h5ad(\"/add/path/here/metacell_data/Pancreas_Raghavan_10X/metacells.h5ad\")"
   ]
  },
  {
   "cell_type": "code",
   "execution_count": null,
   "id": "f61e79b3",
   "metadata": {},
   "outputs": [],
   "source": [
    "metacells.obs[\"HighMT\"] = (metacells.obs[\"HighMT_fraction_of_1\"]>0.3).astype(int)"
   ]
  },
  {
   "cell_type": "code",
   "execution_count": null,
   "id": "51d09a8e",
   "metadata": {},
   "outputs": [],
   "source": [
    "metacells.X = metacells.layers[\"total_umis\"]\n",
    "\n",
    "sc.pp.normalize_total(metacells, target_sum=10000)\n",
    "sc.pp.log1p(metacells)"
   ]
  },
  {
   "cell_type": "code",
   "execution_count": null,
   "id": "194c4223",
   "metadata": {},
   "outputs": [],
   "source": [
    "egfr_df = pd.concat([metacells[:,metacells.var_names[metacells.var_names.str.startswith((\"ERB\",\"EGFR\"))]].to_df(),\n",
    "                     metacells.obs[[\"Malignant\",\"HighMT\"]]],axis=1)\n",
    "\n",
    "egfr_df.to_csv(\"/add/path/here/egfr_expression_metacells/MetPancreas.csv\")"
   ]
  },
  {
   "cell_type": "code",
   "execution_count": null,
   "id": "5c047683",
   "metadata": {
    "scrolled": true
   },
   "outputs": [],
   "source": [
    "fig, ax = plt.subplots(1,4, figsize=(11,2))\n",
    "flatax = ax.flatten()\n",
    "\n",
    "sc.tl.score_genes(metacells, gene_list=metacells.var_names[metacells.var_names.str.startswith(\"CYP\")], \n",
    "                  score_name=\"CYP genes\")\n",
    "sc.tl.score_genes(metacells, gene_list=metacells.var_names[metacells.var_names.str.startswith((\"UGT\",\"B3GAT\"))], \n",
    "                  score_name=\"UGT genes\")\n",
    "sc.tl.score_genes(metacells, gene_list=metacells.var_names[metacells.var_names.str.startswith(\"GST\")], \n",
    "                  score_name=\"GST genes\")\n",
    "sc.tl.score_genes(metacells, gene_list=kegg['ABC transporters'], \n",
    "                  score_name=\"ABC transporters\")\n",
    "\n",
    "\n",
    "plot_boxplot(metacells, \"CYP genes\", name=\"CYP genes (phase I)\",ax=flatax[0])\n",
    "plot_boxplot(metacells, \"UGT genes\", name=\"UGT genes (phase II)\",ax=flatax[1])\n",
    "plot_boxplot(metacells, \"GST genes\", name=\"GST genes (phase II)\",ax=flatax[2])\n",
    "plot_boxplot(metacells, \"ABC transporters\", name=\"ABC transporters (phase III)\",ax=flatax[3])\n",
    "for i in range(len(flatax)):\n",
    "    pretty_ax(flatax[i])\n",
    "    \n",
    "fig.tight_layout()"
   ]
  },
  {
   "cell_type": "code",
   "execution_count": null,
   "id": "2f248b71",
   "metadata": {},
   "outputs": [],
   "source": [
    "sc.tl.pca(metacells)\n",
    "sc.pp.neighbors(metacells)\n",
    "sc.tl.umap(metacells)"
   ]
  },
  {
   "cell_type": "code",
   "execution_count": null,
   "id": "e316b611",
   "metadata": {},
   "outputs": [],
   "source": [
    "sc.pl.umap(metacells, color=[\"HighMT\",\"Malignant\",\"cleaned_celltype\"])"
   ]
  },
  {
   "cell_type": "code",
   "execution_count": null,
   "id": "b0380039",
   "metadata": {},
   "outputs": [],
   "source": [
    "sc.tl.score_genes(metacells, gene_list=common_disso_genes, score_name=\"Dissociation stress\") "
   ]
  },
  {
   "cell_type": "code",
   "execution_count": null,
   "id": "9e5319e9",
   "metadata": {},
   "outputs": [],
   "source": [
    "stress_sigs = [\"O-Flanagan_dissociation_stress\",\"O-Flanagan_dissociation_red\",\n",
    "               \"Van-den-Brink_dissociation_stress\",\"Machado_dissociation_stress\"]\n",
    "sc.tl.score_genes(metacells, gene_list=list_core_genes, score_name=\"O-Flanagan_dissociation_stress\")\n",
    "sc.tl.score_genes(metacells, gene_list=red_core_genes, score_name=\"O-Flanagan_dissociation_red\")\n",
    "sc.tl.score_genes(metacells, gene_list=dissociation_genes, score_name=\"Van-den-Brink_dissociation_stress\")\n",
    "sc.tl.score_genes(metacells, gene_list=dissociation_genes_machado, score_name=\"Machado_dissociation_stress\")"
   ]
  },
  {
   "cell_type": "code",
   "execution_count": null,
   "id": "5ba2b680",
   "metadata": {},
   "outputs": [],
   "source": [
    "fig, ax = plt.subplots(1,4, figsize=(12,2))\n",
    "flatax = ax.flatten()\n",
    "for i,pathway in enumerate(stress_sigs):\n",
    "    plot_boxplot(metacells, pathway, ax=flatax[i], name=pathway)\n",
    "fig.tight_layout()"
   ]
  },
  {
   "cell_type": "code",
   "execution_count": null,
   "id": "195c36a6",
   "metadata": {
    "scrolled": true
   },
   "outputs": [],
   "source": [
    "metacells.obs[\"Transcriptome variance\"] = metacells.to_df().var(axis=1)\n",
    "\n",
    "for sig in go_sigs:\n",
    "    sc.tl.score_genes(metacells, gene_list=go_sigs[sig], score_name=sig)\n",
    "\n",
    "fig, ax = plt.subplots(1,3, figsize=(9,2))\n",
    "flatax = ax.flatten()\n",
    "for i,sig in enumerate(go_sigs):\n",
    "    plot_boxplot(metacells, \n",
    "                 sig, name=sig.split(\" (GO\")[0], ax = flatax[i])\n",
    "plot_boxplot(metacells, \n",
    "                 \"Transcriptome variance\", name=\"Transcriptome variance\", ax = flatax[-1])\n",
    "fig.tight_layout()"
   ]
  },
  {
   "cell_type": "code",
   "execution_count": null,
   "id": "d96b0c56",
   "metadata": {},
   "outputs": [],
   "source": [
    "sc.tl.score_genes(metacells, gene_list=mito_transfer, score_name=\"Mito transfer\")\n",
    "\n",
    "plot_boxplot(metacells, \n",
    "                 \"Mito transfer\", name=\"Mito transfer\")"
   ]
  },
  {
   "cell_type": "code",
   "execution_count": null,
   "id": "dd6ef7fe",
   "metadata": {},
   "outputs": [],
   "source": [
    "from scipy.stats import mannwhitneyu\n",
    "from tqdm.notebook import tqdm\n",
    "\n",
    "diffs = {}\n",
    "for name in tqdm(mitocarta_pathways.index):\n",
    "    sig_genes = mitocarta_pathways.loc[name].Genes.split(\", \")\n",
    "    if len(metacells.var_names.intersection(sig_genes))==0:\n",
    "        continue\n",
    "    sc.tl.score_genes(metacells, gene_list=sig_genes, score_name=\"MTCARTA_sig\")\n",
    "\n",
    "    malobs = metacells.obs[metacells.obs[\"Malignant\"]==1]\n",
    "    val1 = malobs[malobs.HighMT==0][\"MTCARTA_sig\"]\n",
    "    val2 = malobs[malobs.HighMT==1][\"MTCARTA_sig\"]\n",
    "    _, p = mannwhitneyu(val1.values,val2.values)\n",
    "    median_high = val2.median()\n",
    "    median_low = val1.median()\n",
    "    diffs[name] = [median_low,median_high,p]\n",
    "\n",
    "diffs = pd.DataFrame(diffs,index=[\"Median LowMT\",\"Median HighMT\",\"MWU p\"]).T.sort_values(\"MWU p\")\n",
    "\n",
    "diffs[\"Diff. median\"] = diffs[\"Median HighMT\"] - diffs[\"Median LowMT\"]\n",
    "\n",
    "diffs.sort_values(\"Diff. median\").to_csv(\"/add/path/here/metabolic_dysregulation/mitocarta_met_res/Pancreas_Raghavan_10X.csv\")"
   ]
  },
  {
   "cell_type": "code",
   "execution_count": null,
   "id": "5853ed0c",
   "metadata": {},
   "outputs": [],
   "source": [
    "metacells.obs[['cleaned_celltype', 'Malignant', 'HighMT',\n",
    "       'CYP genes', 'UGT genes', 'GST genes', 'ABC transporters',\n",
    "       'O-Flanagan_dissociation_stress', 'O-Flanagan_dissociation_red',\n",
    "       'Van-den-Brink_dissociation_stress', 'Machado_dissociation_stress',\n",
    "       'Dissociation stress', 'Mito transfer']].to_csv(\"/add/path/here/info-metacells/metpancreas.csv\")"
   ]
  },
  {
   "cell_type": "markdown",
   "id": "22fb6baa",
   "metadata": {},
   "source": [
    "# RCC Bi 10X"
   ]
  },
  {
   "cell_type": "code",
   "execution_count": null,
   "id": "7f238735",
   "metadata": {},
   "outputs": [],
   "source": [
    "adata = sc.read_h5ad(\"/add/path/here/filtered_data/Bi_RCC_10X/filtered_adata.h5ad\")\n",
    "\n",
    "all_samples = adata.obs[\"biosample_id\"].unique()\n",
    "\n",
    "adata.obs[\"HighMT\"] = (adata.obs.pct_counts_mt>15).astype(int)\n",
    "adata.obs[\"Malignant\"] = (adata.obs.cleaned_celltype.isin([\"Tumor\",\"TP1\",\"TP2\"])).astype(int)"
   ]
  },
  {
   "cell_type": "code",
   "execution_count": null,
   "id": "936a5de7",
   "metadata": {},
   "outputs": [],
   "source": [
    "sc.pp.filter_genes(adata, min_cells=int(0.01*adata.shape[0]))"
   ]
  },
  {
   "cell_type": "markdown",
   "id": "eb259b4e",
   "metadata": {},
   "source": [
    "# Normalize without the MT genes"
   ]
  },
  {
   "cell_type": "code",
   "execution_count": null,
   "id": "d2f52132",
   "metadata": {},
   "outputs": [],
   "source": [
    "adata.X = adata.layers[\"counts\"].copy()\n",
    "\n",
    "adata = adata[:,adata.var_names[~adata.var_names.str.startswith(\"MT-\")]].copy()"
   ]
  },
  {
   "cell_type": "markdown",
   "id": "15880519",
   "metadata": {},
   "source": [
    "# Create metacells"
   ]
  },
  {
   "cell_type": "code",
   "execution_count": null,
   "id": "418c82da",
   "metadata": {
    "scrolled": true
   },
   "outputs": [],
   "source": [
    "metacells, adata = get_metacells(adata, celltype_col=\"cleaned_celltype\", sample_col=\"sample\")\n",
    "\n",
    "metacells.write(\"/add/path/here/metacell_data/RCC_Bi_10X/metacells.h5ad\")\n",
    "\n",
    "adata.obs.to_csv(\"/add/path/here/metacell_data/RCC_Bi_10X/adata_obs.csv\")"
   ]
  },
  {
   "cell_type": "markdown",
   "id": "898b8d62",
   "metadata": {},
   "source": [
    "# Analyze metacells"
   ]
  },
  {
   "cell_type": "code",
   "execution_count": null,
   "id": "33a7e4c7",
   "metadata": {},
   "outputs": [],
   "source": [
    "metacells = sc.read_h5ad(\"/add/path/here/metacell_data/RCC_Bi_10X/metacells.h5ad\")"
   ]
  },
  {
   "cell_type": "code",
   "execution_count": null,
   "id": "a09b4fdc",
   "metadata": {},
   "outputs": [],
   "source": [
    "metacells.obs[\"HighMT\"] = (metacells.obs[\"HighMT_fraction_of_1\"]>0.3).astype(int)"
   ]
  },
  {
   "cell_type": "code",
   "execution_count": null,
   "id": "a6c31dac",
   "metadata": {},
   "outputs": [],
   "source": [
    "metacells.X = metacells.layers[\"total_umis\"]\n",
    "\n",
    "sc.pp.normalize_total(metacells, target_sum=10000)\n",
    "sc.pp.log1p(metacells)"
   ]
  },
  {
   "cell_type": "code",
   "execution_count": null,
   "id": "5ae9cfcc",
   "metadata": {},
   "outputs": [],
   "source": [
    "egfr_df = pd.concat([metacells[:,metacells.var_names[metacells.var_names.str.startswith((\"ERB\",\"EGFR\"))]].to_df(),\n",
    "                     metacells.obs[[\"Malignant\",\"HighMT\"]]],axis=1)\n",
    "\n",
    "egfr_df.to_csv(\"/add/path/here/egfr_expression_metacells/RCC.csv\")"
   ]
  },
  {
   "cell_type": "code",
   "execution_count": null,
   "id": "51e65458",
   "metadata": {
    "scrolled": true
   },
   "outputs": [],
   "source": [
    "fig, ax = plt.subplots(1,4, figsize=(11,2))\n",
    "flatax = ax.flatten()\n",
    "\n",
    "sc.tl.score_genes(metacells, gene_list=metacells.var_names[metacells.var_names.str.startswith(\"CYP\")], \n",
    "                  score_name=\"CYP genes\")\n",
    "sc.tl.score_genes(metacells, gene_list=metacells.var_names[metacells.var_names.str.startswith((\"UGT\",\"B3GAT\"))],\n",
    "                  score_name=\"UGT genes\")\n",
    "sc.tl.score_genes(metacells, gene_list=metacells.var_names[metacells.var_names.str.startswith(\"GST\")], \n",
    "                  score_name=\"GST genes\")\n",
    "sc.tl.score_genes(metacells, gene_list=kegg['ABC transporters'], \n",
    "                  score_name=\"ABC transporters\")\n",
    "\n",
    "\n",
    "plot_boxplot(metacells, \"CYP genes\", name=\"CYP genes (phase I)\",ax=flatax[0])\n",
    "plot_boxplot(metacells, \"UGT genes\", name=\"UGT genes (phase II)\",ax=flatax[1])\n",
    "plot_boxplot(metacells, \"GST genes\", name=\"GST genes (phase II)\",ax=flatax[2])\n",
    "plot_boxplot(metacells, \"ABC transporters\", name=\"ABC transporters (phase III)\",ax=flatax[3])\n",
    "for i in range(len(flatax)):\n",
    "    pretty_ax(flatax[i])\n",
    "    \n",
    "fig.tight_layout()"
   ]
  },
  {
   "cell_type": "code",
   "execution_count": null,
   "id": "6cd90426",
   "metadata": {},
   "outputs": [],
   "source": [
    "sc.tl.pca(metacells)\n",
    "sc.pp.neighbors(metacells)\n",
    "sc.tl.umap(metacells)"
   ]
  },
  {
   "cell_type": "code",
   "execution_count": null,
   "id": "7ae4c712",
   "metadata": {},
   "outputs": [],
   "source": [
    "sc.pl.umap(metacells, color=[\"HighMT\",\"Malignant\",\"cleaned_celltype\"])"
   ]
  },
  {
   "cell_type": "code",
   "execution_count": null,
   "id": "74b02f16",
   "metadata": {},
   "outputs": [],
   "source": [
    "sc.tl.score_genes(metacells, gene_list=common_disso_genes, score_name=\"Dissociation stress\")"
   ]
  },
  {
   "cell_type": "code",
   "execution_count": null,
   "id": "e4226ad1",
   "metadata": {},
   "outputs": [],
   "source": [
    "stress_sigs = [\"O-Flanagan_dissociation_stress\",\"O-Flanagan_dissociation_red\",\n",
    "               \"Van-den-Brink_dissociation_stress\",\"Machado_dissociation_stress\"]\n",
    "sc.tl.score_genes(metacells, gene_list=list_core_genes, score_name=\"O-Flanagan_dissociation_stress\")\n",
    "sc.tl.score_genes(metacells, gene_list=red_core_genes, score_name=\"O-Flanagan_dissociation_red\")\n",
    "sc.tl.score_genes(metacells, gene_list=dissociation_genes, score_name=\"Van-den-Brink_dissociation_stress\")\n",
    "sc.tl.score_genes(metacells, gene_list=dissociation_genes_machado, score_name=\"Machado_dissociation_stress\")"
   ]
  },
  {
   "cell_type": "code",
   "execution_count": null,
   "id": "9dc23c56",
   "metadata": {},
   "outputs": [],
   "source": [
    "fig, ax = plt.subplots(1,4, figsize=(12,2))\n",
    "flatax = ax.flatten()\n",
    "for i,pathway in enumerate(stress_sigs):\n",
    "    plot_boxplot(metacells, pathway, ax=flatax[i], name=pathway)\n",
    "fig.tight_layout()"
   ]
  },
  {
   "cell_type": "code",
   "execution_count": null,
   "id": "ee06d5bb",
   "metadata": {
    "scrolled": true
   },
   "outputs": [],
   "source": [
    "metacells.obs[\"Transcriptome variance\"] = metacells.to_df().var(axis=1)\n",
    "\n",
    "for sig in go_sigs:\n",
    "    sc.tl.score_genes(metacells, gene_list=go_sigs[sig], score_name=sig)\n",
    "\n",
    "fig, ax = plt.subplots(1,3, figsize=(9,2))\n",
    "flatax = ax.flatten()\n",
    "for i,sig in enumerate(go_sigs):\n",
    "    plot_boxplot(metacells, \n",
    "                 sig, name=sig.split(\" (GO\")[0], ax = flatax[i])\n",
    "plot_boxplot(metacells, \n",
    "                 \"Transcriptome variance\", name=\"Transcriptome variance\", ax = flatax[-1])\n",
    "fig.tight_layout()"
   ]
  },
  {
   "cell_type": "code",
   "execution_count": null,
   "id": "c6c744bb",
   "metadata": {},
   "outputs": [],
   "source": [
    "sc.tl.score_genes(metacells, gene_list=mito_transfer, score_name=\"Mito transfer\")\n",
    "\n",
    "plot_boxplot(metacells, \n",
    "                 \"Mito transfer\", name=\"Mito transfer\")"
   ]
  },
  {
   "cell_type": "code",
   "execution_count": null,
   "id": "6b8432bf",
   "metadata": {},
   "outputs": [],
   "source": [
    "from scipy.stats import mannwhitneyu\n",
    "from tqdm.notebook import tqdm\n",
    "\n",
    "diffs = {}\n",
    "for name in tqdm(mitocarta_pathways.index):\n",
    "    sig_genes = mitocarta_pathways.loc[name].Genes.split(\", \")\n",
    "    if len(metacells.var_names.intersection(sig_genes))==0:\n",
    "        continue\n",
    "    sc.tl.score_genes(metacells, gene_list=sig_genes, score_name=\"MTCARTA_sig\")\n",
    "\n",
    "    malobs = metacells.obs[metacells.obs[\"Malignant\"]==1]\n",
    "    val1 = malobs[malobs.HighMT==0][\"MTCARTA_sig\"]\n",
    "    val2 = malobs[malobs.HighMT==1][\"MTCARTA_sig\"]\n",
    "    _, p = mannwhitneyu(val1.values,val2.values)\n",
    "    median_high = val2.median()\n",
    "    median_low = val1.median()\n",
    "    diffs[name] = [median_low,median_high,p]\n",
    "\n",
    "diffs = pd.DataFrame(diffs,index=[\"Median LowMT\",\"Median HighMT\",\"MWU p\"]).T.sort_values(\"MWU p\")\n",
    "\n",
    "diffs[\"Diff. median\"] = diffs[\"Median HighMT\"] - diffs[\"Median LowMT\"]\n",
    "\n",
    "diffs.sort_values(\"Diff. median\").to_csv(\"/add/path/here/metabolic_dysregulation/mitocarta_met_res/RCC_Bi_10X.csv\")"
   ]
  },
  {
   "cell_type": "code",
   "execution_count": null,
   "id": "9f02d75c",
   "metadata": {},
   "outputs": [],
   "source": [
    "metacells.obs[['cleaned_celltype', 'Malignant', 'HighMT',\n",
    "       'CYP genes', 'UGT genes', 'GST genes', 'ABC transporters',\n",
    "       'O-Flanagan_dissociation_stress', 'O-Flanagan_dissociation_red',\n",
    "       'Van-den-Brink_dissociation_stress', 'Machado_dissociation_stress',\n",
    "       'Dissociation stress', 'Mito transfer']].to_csv(\"/add/path/here/info-metacells/rcc.csv\")"
   ]
  },
  {
   "cell_type": "markdown",
   "id": "60dec475",
   "metadata": {},
   "source": [
    "# Breast Wu 10X"
   ]
  },
  {
   "cell_type": "code",
   "execution_count": null,
   "id": "bab11759",
   "metadata": {},
   "outputs": [],
   "source": [
    "adata = sc.read_h5ad(\"/add/path/here/filtered_data/Breast_Wu_10X/filtered_adata.h5ad\")\n",
    "\n",
    "all_samples = adata.obs[\"Patient\"].unique()\n",
    "\n",
    "adata.obs[\"HighMT\"] = (adata.obs.pct_counts_mt>15).astype(int)\n",
    "adata.obs[\"Malignant\"] = (adata.obs.cleaned_celltype.isin([\"Cancer Epithelial\"])).astype(int)"
   ]
  },
  {
   "cell_type": "code",
   "execution_count": null,
   "id": "b9754f2d",
   "metadata": {},
   "outputs": [],
   "source": [
    "sc.pp.filter_genes(adata, min_cells=int(0.01*adata.shape[0]))"
   ]
  },
  {
   "cell_type": "markdown",
   "id": "260fccdd",
   "metadata": {},
   "source": [
    "# Normalize without the MT genes"
   ]
  },
  {
   "cell_type": "code",
   "execution_count": null,
   "id": "1f81779e",
   "metadata": {},
   "outputs": [],
   "source": [
    "adata.X = adata.layers[\"counts\"].copy()\n",
    "\n",
    "adata = adata[:,adata.var_names[~adata.var_names.str.startswith(\"MT-\")]].copy()"
   ]
  },
  {
   "cell_type": "markdown",
   "id": "f273c5e6",
   "metadata": {},
   "source": [
    "# Create metacells"
   ]
  },
  {
   "cell_type": "code",
   "execution_count": null,
   "id": "f786369c",
   "metadata": {
    "scrolled": true
   },
   "outputs": [],
   "source": [
    "metacells, adata = get_metacells(adata, celltype_col=\"cleaned_celltype\", sample_col=\"Patient\")\n",
    "\n",
    "metacells.write(\"/add/path/here/metacell_data/Breast_Wu_10X/metacells.h5ad\")\n",
    "\n",
    "adata.obs.to_csv(\"/add/path/here/metacell_data/Breast_Wu_10X/adata_obs.csv\")"
   ]
  },
  {
   "cell_type": "markdown",
   "id": "cdafd154",
   "metadata": {},
   "source": [
    "# Analyze metacells"
   ]
  },
  {
   "cell_type": "code",
   "execution_count": null,
   "id": "af2037b5",
   "metadata": {},
   "outputs": [],
   "source": [
    "metacells = sc.read_h5ad(\"/add/path/here/metacell_data/Breast_Wu_10X/metacells.h5ad\")"
   ]
  },
  {
   "cell_type": "code",
   "execution_count": null,
   "id": "2cf6841b",
   "metadata": {},
   "outputs": [],
   "source": [
    "metacells.obs[\"HighMT\"] = (metacells.obs[\"HighMT_fraction_of_1\"]>0.3).astype(int)"
   ]
  },
  {
   "cell_type": "code",
   "execution_count": null,
   "id": "06478181",
   "metadata": {},
   "outputs": [],
   "source": [
    "metacells.X = metacells.layers[\"total_umis\"]\n",
    "\n",
    "sc.pp.normalize_total(metacells, target_sum=10000)\n",
    "sc.pp.log1p(metacells)"
   ]
  },
  {
   "cell_type": "code",
   "execution_count": null,
   "id": "d4973ee2",
   "metadata": {},
   "outputs": [],
   "source": [
    "egfr_df = pd.concat([metacells[:,metacells.var_names[metacells.var_names.str.startswith((\"ERB\",\"EGFR\"))]].to_df(),\n",
    "                     metacells.obs[[\"Malignant\",\"HighMT\"]]],axis=1)\n",
    "\n",
    "egfr_df.to_csv(\"/add/path/here/egfr_expression_metacells/Breast.csv\")"
   ]
  },
  {
   "cell_type": "code",
   "execution_count": null,
   "id": "309c0a3b",
   "metadata": {},
   "outputs": [],
   "source": [
    "fig, ax = plt.subplots(1,4, figsize=(11,2))\n",
    "flatax = ax.flatten()\n",
    "\n",
    "sc.tl.score_genes(metacells, gene_list=metacells.var_names[metacells.var_names.str.startswith(\"CYP\")], \n",
    "                  score_name=\"CYP genes\")\n",
    "sc.tl.score_genes(metacells, gene_list=metacells.var_names[metacells.var_names.str.startswith((\"UGT\",\"B3GAT\"))], \n",
    "                  score_name=\"UGT genes\")\n",
    "sc.tl.score_genes(metacells, gene_list=metacells.var_names[metacells.var_names.str.startswith(\"GST\")], \n",
    "                  score_name=\"GST genes\")\n",
    "sc.tl.score_genes(metacells, gene_list=kegg['ABC transporters'], \n",
    "                  score_name=\"ABC transporters\")\n",
    "\n",
    "\n",
    "plot_boxplot(metacells, \"CYP genes\", name=\"CYP genes (phase I)\",ax=flatax[0])\n",
    "plot_boxplot(metacells, \"UGT genes\", name=\"UGT genes (phase II)\",ax=flatax[1])\n",
    "plot_boxplot(metacells, \"GST genes\", name=\"GST genes (phase II)\",ax=flatax[2])\n",
    "plot_boxplot(metacells, \"ABC transporters\", name=\"ABC transporters (phase III)\",ax=flatax[3])\n",
    "for i in range(len(flatax)):\n",
    "    pretty_ax(flatax[i])\n",
    "    \n",
    "fig.tight_layout()"
   ]
  },
  {
   "cell_type": "code",
   "execution_count": null,
   "id": "01993f9f",
   "metadata": {},
   "outputs": [],
   "source": [
    "sc.tl.pca(metacells)\n",
    "sc.pp.neighbors(metacells)\n",
    "sc.tl.umap(metacells)"
   ]
  },
  {
   "cell_type": "code",
   "execution_count": null,
   "id": "ca9ab221",
   "metadata": {},
   "outputs": [],
   "source": [
    "sc.pl.umap(metacells, color=[\"HighMT\",\"Malignant\",\"cleaned_celltype\"])"
   ]
  },
  {
   "cell_type": "code",
   "execution_count": null,
   "id": "a48df913",
   "metadata": {},
   "outputs": [],
   "source": [
    "sc.tl.score_genes(metacells, gene_list=common_disso_genes, score_name=\"Dissociation stress\")"
   ]
  },
  {
   "cell_type": "code",
   "execution_count": null,
   "id": "fd5b75bf",
   "metadata": {},
   "outputs": [],
   "source": [
    "stress_sigs = [\"O-Flanagan_dissociation_stress\",\"O-Flanagan_dissociation_red\",\n",
    "               \"Van-den-Brink_dissociation_stress\",\"Machado_dissociation_stress\"]\n",
    "sc.tl.score_genes(metacells, gene_list=list_core_genes, score_name=\"O-Flanagan_dissociation_stress\")\n",
    "sc.tl.score_genes(metacells, gene_list=red_core_genes, score_name=\"O-Flanagan_dissociation_red\")\n",
    "sc.tl.score_genes(metacells, gene_list=dissociation_genes, score_name=\"Van-den-Brink_dissociation_stress\")\n",
    "sc.tl.score_genes(metacells, gene_list=dissociation_genes_machado, score_name=\"Machado_dissociation_stress\")"
   ]
  },
  {
   "cell_type": "code",
   "execution_count": null,
   "id": "84fa5d72",
   "metadata": {},
   "outputs": [],
   "source": [
    "fig, ax = plt.subplots(1,4, figsize=(12,2))\n",
    "flatax = ax.flatten()\n",
    "for i,pathway in enumerate(stress_sigs):\n",
    "    plot_boxplot(metacells, pathway, ax=flatax[i], name=pathway)\n",
    "fig.tight_layout()"
   ]
  },
  {
   "cell_type": "code",
   "execution_count": null,
   "id": "a350276b",
   "metadata": {},
   "outputs": [],
   "source": [
    "metacells.obs[\"Transcriptome variance\"] = metacells.to_df().var(axis=1)\n",
    "\n",
    "for sig in go_sigs:\n",
    "    sc.tl.score_genes(metacells, gene_list=go_sigs[sig], score_name=sig)\n",
    "\n",
    "fig, ax = plt.subplots(1,3, figsize=(9,2))\n",
    "flatax = ax.flatten()\n",
    "for i,sig in enumerate(go_sigs):\n",
    "    plot_boxplot(metacells, \n",
    "                 sig, name=sig.split(\" (GO\")[0], ax = flatax[i])\n",
    "plot_boxplot(metacells, \n",
    "                 \"Transcriptome variance\", name=\"Transcriptome variance\", ax = flatax[-1])\n",
    "fig.tight_layout()"
   ]
  },
  {
   "cell_type": "code",
   "execution_count": null,
   "id": "59d9f0c9",
   "metadata": {},
   "outputs": [],
   "source": [
    "sc.tl.score_genes(metacells, gene_list=mito_transfer, score_name=\"Mito transfer\")\n",
    "\n",
    "plot_boxplot(metacells, \n",
    "                 \"Mito transfer\", name=\"Mito transfer\")"
   ]
  },
  {
   "cell_type": "code",
   "execution_count": null,
   "id": "90f30de6",
   "metadata": {},
   "outputs": [],
   "source": [
    "from scipy.stats import mannwhitneyu\n",
    "from tqdm.notebook import tqdm\n",
    "\n",
    "diffs = {}\n",
    "for name in tqdm(mitocarta_pathways.index):\n",
    "    sig_genes = mitocarta_pathways.loc[name].Genes.split(\", \")\n",
    "    if len(metacells.var_names.intersection(sig_genes))==0:\n",
    "        continue\n",
    "    sc.tl.score_genes(metacells, gene_list=sig_genes, score_name=\"MTCARTA_sig\")\n",
    "\n",
    "    malobs = metacells.obs[metacells.obs[\"Malignant\"]==1]\n",
    "    val1 = malobs[malobs.HighMT==0][\"MTCARTA_sig\"]\n",
    "    val2 = malobs[malobs.HighMT==1][\"MTCARTA_sig\"]\n",
    "    _, p = mannwhitneyu(val1.values,val2.values)\n",
    "    median_high = val2.median()\n",
    "    median_low = val1.median()\n",
    "    diffs[name] = [median_low,median_high,p]\n",
    "\n",
    "diffs = pd.DataFrame(diffs,index=[\"Median LowMT\",\"Median HighMT\",\"MWU p\"]).T.sort_values(\"MWU p\")\n",
    "\n",
    "diffs[\"Diff. median\"] = diffs[\"Median HighMT\"] - diffs[\"Median LowMT\"]\n",
    "\n",
    "diffs.sort_values(\"Diff. median\").to_csv(\"/add/path/here/metabolic_dysregulation/mitocarta_met_res/Breast_Wu_10X.csv\")"
   ]
  },
  {
   "cell_type": "code",
   "execution_count": null,
   "id": "e11e417c",
   "metadata": {},
   "outputs": [],
   "source": [
    "metacells.obs[['cleaned_celltype', 'Malignant', 'HighMT',\n",
    "       'CYP genes', 'UGT genes', 'GST genes', 'ABC transporters',\n",
    "       'O-Flanagan_dissociation_stress', 'O-Flanagan_dissociation_red',\n",
    "       'Van-den-Brink_dissociation_stress', 'Machado_dissociation_stress',\n",
    "       'Dissociation stress', 'Mito transfer']].to_csv(\"/add/path/here/info-metacells/breast.csv\")"
   ]
  },
  {
   "cell_type": "markdown",
   "id": "bb658408",
   "metadata": {},
   "source": [
    "# UvealMelanoma Durante 10X"
   ]
  },
  {
   "cell_type": "code",
   "execution_count": null,
   "id": "fecf1aa4",
   "metadata": {},
   "outputs": [],
   "source": [
    "adata = sc.read_h5ad(\"/add/path/here/filtered_data/UvealMelanoma_Durante_10X/filtered_adata.h5ad\")\n",
    "\n",
    "all_samples = adata.obs[\"patient\"].unique()\n",
    "\n",
    "adata.obs[\"HighMT\"] = (adata.obs.pct_counts_mt>15).astype(int)\n",
    "adata.obs[\"Malignant\"] = (adata.obs.cleaned_celltype.isin([\"Malignant\"])).astype(int)"
   ]
  },
  {
   "cell_type": "code",
   "execution_count": null,
   "id": "1c2fd1d5",
   "metadata": {},
   "outputs": [],
   "source": [
    "sc.pp.filter_genes(adata, min_cells=int(0.01*adata.shape[0]))"
   ]
  },
  {
   "cell_type": "markdown",
   "id": "3ec938da",
   "metadata": {},
   "source": [
    "# Normalize without the MT genes"
   ]
  },
  {
   "cell_type": "code",
   "execution_count": null,
   "id": "c2a09597",
   "metadata": {},
   "outputs": [],
   "source": [
    "adata.X = adata.layers[\"counts\"].copy()\n",
    "\n",
    "adata = adata[:,adata.var_names[~adata.var_names.str.startswith(\"MT-\")]].copy()"
   ]
  },
  {
   "cell_type": "markdown",
   "id": "3c2d0bf4",
   "metadata": {},
   "source": [
    "# Create metacells"
   ]
  },
  {
   "cell_type": "code",
   "execution_count": null,
   "id": "5be14648",
   "metadata": {
    "scrolled": true
   },
   "outputs": [],
   "source": [
    "metacells, adata = get_metacells(adata, celltype_col=\"cleaned_celltype\", sample_col=\"patient\")\n",
    "\n",
    "metacells.write(\"/add/path/here/metacell_data/UvealMelanoma_Durante_10X/metacells.h5ad\")\n",
    "\n",
    "adata.obs.to_csv(\"/add/path/here/metacell_data/UvealMelanoma_Durante_10X/adata_obs.csv\")"
   ]
  },
  {
   "cell_type": "markdown",
   "id": "2a454b0d",
   "metadata": {},
   "source": [
    "# Analyze metacells"
   ]
  },
  {
   "cell_type": "code",
   "execution_count": null,
   "id": "a99f860e",
   "metadata": {},
   "outputs": [],
   "source": [
    "metacells = sc.read_h5ad(\"/add/path/here/metacell_data/UvealMelanoma_Durante_10X/metacells.h5ad\")"
   ]
  },
  {
   "cell_type": "code",
   "execution_count": null,
   "id": "4c09c11e",
   "metadata": {},
   "outputs": [],
   "source": [
    "metacells.obs[\"HighMT\"] = (metacells.obs[\"HighMT_fraction_of_1\"]>0.3).astype(int)"
   ]
  },
  {
   "cell_type": "code",
   "execution_count": null,
   "id": "ebae5bd3",
   "metadata": {},
   "outputs": [],
   "source": [
    "metacells.X = metacells.layers[\"total_umis\"]\n",
    "\n",
    "sc.pp.normalize_total(metacells, target_sum=10000)\n",
    "sc.pp.log1p(metacells)"
   ]
  },
  {
   "cell_type": "code",
   "execution_count": null,
   "id": "5d0966a2",
   "metadata": {},
   "outputs": [],
   "source": [
    "egfr_df = pd.concat([metacells[:,metacells.var_names[metacells.var_names.str.startswith((\"ERB\",\"EGFR\"))]].to_df(),\n",
    "                     metacells.obs[[\"Malignant\",\"HighMT\"]]],axis=1)\n",
    "\n",
    "egfr_df.to_csv(\"/add/path/here/egfr_expression_metacells/UvealMelanoma.csv\")"
   ]
  },
  {
   "cell_type": "code",
   "execution_count": null,
   "id": "a5abf86d",
   "metadata": {},
   "outputs": [],
   "source": [
    "fig, ax = plt.subplots(1,4, figsize=(11,2))\n",
    "flatax = ax.flatten()\n",
    "\n",
    "sc.tl.score_genes(metacells, gene_list=metacells.var_names[metacells.var_names.str.startswith(\"CYP\")], \n",
    "                  score_name=\"CYP genes\")\n",
    "sc.tl.score_genes(metacells, gene_list=metacells.var_names[metacells.var_names.str.startswith((\"UGT\",\"B3GAT\"))], \n",
    "                  score_name=\"UGT genes\")\n",
    "sc.tl.score_genes(metacells, gene_list=metacells.var_names[metacells.var_names.str.startswith(\"GST\")], \n",
    "                  score_name=\"GST genes\")\n",
    "sc.tl.score_genes(metacells, gene_list=kegg['ABC transporters'], \n",
    "                  score_name=\"ABC transporters\")\n",
    "\n",
    "\n",
    "plot_boxplot(metacells, \"CYP genes\", name=\"CYP genes (phase I)\",ax=flatax[0])\n",
    "plot_boxplot(metacells, \"UGT genes\", name=\"UGT genes (phase II)\",ax=flatax[1])\n",
    "plot_boxplot(metacells, \"GST genes\", name=\"GST genes (phase II)\",ax=flatax[2])\n",
    "plot_boxplot(metacells, \"ABC transporters\", name=\"ABC transporters (phase III)\",ax=flatax[3])\n",
    "for i in range(len(flatax)):\n",
    "    pretty_ax(flatax[i])\n",
    "    \n",
    "fig.tight_layout()"
   ]
  },
  {
   "cell_type": "code",
   "execution_count": null,
   "id": "386538c5",
   "metadata": {},
   "outputs": [],
   "source": [
    "sc.tl.pca(metacells)\n",
    "sc.pp.neighbors(metacells)\n",
    "sc.tl.umap(metacells)"
   ]
  },
  {
   "cell_type": "code",
   "execution_count": null,
   "id": "2c42ce16",
   "metadata": {},
   "outputs": [],
   "source": [
    "sc.pl.umap(metacells, color=[\"HighMT\",\"Malignant\",\"cleaned_celltype\"])"
   ]
  },
  {
   "cell_type": "code",
   "execution_count": null,
   "id": "0cae9c52",
   "metadata": {},
   "outputs": [],
   "source": [
    "sc.tl.score_genes(metacells, gene_list=common_disso_genes, score_name=\"Dissociation stress\")"
   ]
  },
  {
   "cell_type": "code",
   "execution_count": null,
   "id": "cc662205",
   "metadata": {},
   "outputs": [],
   "source": [
    "stress_sigs = [\"O-Flanagan_dissociation_stress\",\"O-Flanagan_dissociation_red\",\n",
    "               \"Van-den-Brink_dissociation_stress\",\"Machado_dissociation_stress\"]\n",
    "sc.tl.score_genes(metacells, gene_list=list_core_genes, score_name=\"O-Flanagan_dissociation_stress\")\n",
    "sc.tl.score_genes(metacells, gene_list=red_core_genes, score_name=\"O-Flanagan_dissociation_red\")\n",
    "sc.tl.score_genes(metacells, gene_list=dissociation_genes, score_name=\"Van-den-Brink_dissociation_stress\")\n",
    "sc.tl.score_genes(metacells, gene_list=dissociation_genes_machado, score_name=\"Machado_dissociation_stress\")"
   ]
  },
  {
   "cell_type": "code",
   "execution_count": null,
   "id": "621a231a",
   "metadata": {},
   "outputs": [],
   "source": [
    "fig, ax = plt.subplots(1,4, figsize=(12,2))\n",
    "flatax = ax.flatten()\n",
    "for i,pathway in enumerate(stress_sigs):\n",
    "    plot_boxplot(metacells, pathway, ax=flatax[i], name=pathway)\n",
    "fig.tight_layout()"
   ]
  },
  {
   "cell_type": "code",
   "execution_count": null,
   "id": "8c792f66",
   "metadata": {},
   "outputs": [],
   "source": [
    "metacells.obs[\"Transcriptome variance\"] = metacells.to_df().var(axis=1)\n",
    "\n",
    "for sig in go_sigs:\n",
    "    sc.tl.score_genes(metacells, gene_list=go_sigs[sig], score_name=sig)\n",
    "\n",
    "fig, ax = plt.subplots(1,3, figsize=(9,2))\n",
    "flatax = ax.flatten()\n",
    "for i,sig in enumerate(go_sigs):\n",
    "    plot_boxplot(metacells, \n",
    "                 sig, name=sig.split(\" (GO\")[0], ax = flatax[i])\n",
    "plot_boxplot(metacells, \n",
    "                 \"Transcriptome variance\", name=\"Transcriptome variance\", ax = flatax[-1])\n",
    "fig.tight_layout()"
   ]
  },
  {
   "cell_type": "code",
   "execution_count": null,
   "id": "9899e71f",
   "metadata": {},
   "outputs": [],
   "source": [
    "sc.tl.score_genes(metacells, gene_list=mito_transfer, score_name=\"Mito transfer\")\n",
    "\n",
    "plot_boxplot(metacells, \n",
    "                 \"Mito transfer\", name=\"Mito transfer\")"
   ]
  },
  {
   "cell_type": "code",
   "execution_count": null,
   "id": "8f97f7ce",
   "metadata": {
    "scrolled": true
   },
   "outputs": [],
   "source": [
    "from scipy.stats import mannwhitneyu\n",
    "from tqdm.notebook import tqdm\n",
    "\n",
    "diffs = {}\n",
    "for name in tqdm(mitocarta_pathways.index):\n",
    "    sig_genes = mitocarta_pathways.loc[name].Genes.split(\", \")\n",
    "    if len(metacells.var_names.intersection(sig_genes))==0:\n",
    "        continue\n",
    "    sc.tl.score_genes(metacells, gene_list=sig_genes, score_name=\"MTCARTA_sig\")\n",
    "\n",
    "    malobs = metacells.obs[metacells.obs[\"Malignant\"]==1]\n",
    "    val1 = malobs[malobs.HighMT==0][\"MTCARTA_sig\"]\n",
    "    val2 = malobs[malobs.HighMT==1][\"MTCARTA_sig\"]\n",
    "    _, p = mannwhitneyu(val1.values,val2.values)\n",
    "    median_high = val2.median()\n",
    "    median_low = val1.median()\n",
    "    diffs[name] = [median_low,median_high,p]\n",
    "\n",
    "diffs = pd.DataFrame(diffs,index=[\"Median LowMT\",\"Median HighMT\",\"MWU p\"]).T.sort_values(\"MWU p\")\n",
    "\n",
    "diffs[\"Diff. median\"] = diffs[\"Median HighMT\"] - diffs[\"Median LowMT\"]\n",
    "\n",
    "diffs.sort_values(\"Diff. median\").to_csv(\"/add/path/here/metabolic_dysregulation/mitocarta_met_res/UvealMelanoma_Durante_10X.csv\")"
   ]
  },
  {
   "cell_type": "code",
   "execution_count": null,
   "id": "416974af",
   "metadata": {},
   "outputs": [],
   "source": [
    "metacells.obs[['cleaned_celltype', 'Malignant', 'HighMT',\n",
    "       'CYP genes', 'UGT genes', 'GST genes', 'ABC transporters',\n",
    "       'O-Flanagan_dissociation_stress', 'O-Flanagan_dissociation_red',\n",
    "       'Van-den-Brink_dissociation_stress', 'Machado_dissociation_stress',\n",
    "       'Dissociation stress', 'Mito transfer']].to_csv(\"/add/path/here/info-metacells/uvealmelanoma.csv\")"
   ]
  },
  {
   "cell_type": "markdown",
   "id": "1432e8a8-d9ab-43da-a6ac-f8ee9bb69675",
   "metadata": {},
   "source": [
    "# LUAD Bischoff 10X"
   ]
  },
  {
   "cell_type": "code",
   "execution_count": null,
   "id": "bc7c95a6-5fb4-4d5e-9e4f-a4a86412916f",
   "metadata": {},
   "outputs": [],
   "source": [
    "adata = sc.read_h5ad(\"/add/path/here/filtered_data/LUAD_Bischoff_10X/filtered_adata.h5ad\")\n",
    "\n",
    "all_samples = adata.obs[\"sample\"].unique()\n",
    "\n",
    "adata.obs[\"HighMT\"] = (adata.obs.pct_counts_mt>15).astype(int)\n",
    "adata.obs[\"Malignant\"] = (adata.obs.cleaned_celltype.isin([\"Malignant\"])).astype(int)"
   ]
  },
  {
   "cell_type": "code",
   "execution_count": null,
   "id": "7a6f3edc-f36c-4288-b724-42b645526834",
   "metadata": {},
   "outputs": [],
   "source": [
    "sc.pp.filter_genes(adata, min_cells=int(0.01*adata.shape[0]))"
   ]
  },
  {
   "cell_type": "markdown",
   "id": "4b5a5485-d480-4d16-b850-7adfd2ea9cd7",
   "metadata": {},
   "source": [
    "# Normalize without the MT genes"
   ]
  },
  {
   "cell_type": "code",
   "execution_count": null,
   "id": "feb56a1e-79f8-485e-b25e-9ac944083b94",
   "metadata": {},
   "outputs": [],
   "source": [
    "adata.X = adata.layers[\"counts\"].copy()\n",
    "\n",
    "adata = adata[:,adata.var_names[~adata.var_names.str.startswith(\"MT-\")]].copy()"
   ]
  },
  {
   "cell_type": "markdown",
   "id": "9b950f7a-ae7c-4995-9f13-041b6ac37aae",
   "metadata": {},
   "source": [
    "# Create metacells"
   ]
  },
  {
   "cell_type": "code",
   "execution_count": null,
   "id": "9e6ab6b6-ce27-41bc-af4d-387c21de9971",
   "metadata": {
    "scrolled": true
   },
   "outputs": [],
   "source": [
    "metacells, adata = get_metacells(adata, celltype_col=\"cleaned_celltype\", sample_col=\"sample\")\n",
    "\n",
    "metacells.write(\"/add/path/here/metacell_data/LUAD_Bischoff_10X/metacells.h5ad\")\n",
    "\n",
    "adata.obs.to_csv(\"/add/path/here/metacell_data/LUAD_Bischoff_10X/adata_obs.csv\")"
   ]
  },
  {
   "cell_type": "markdown",
   "id": "00ad0c22-3fe6-458d-8549-c752071e3e4c",
   "metadata": {},
   "source": [
    "# Analyze metacells"
   ]
  },
  {
   "cell_type": "code",
   "execution_count": null,
   "id": "30a233bf-7fb8-4dbd-beca-b300d7058eef",
   "metadata": {},
   "outputs": [],
   "source": [
    "metacells = sc.read_h5ad(\"/add/path/here/metacell_data/LUAD_Bischoff_10X/metacells.h5ad\")"
   ]
  },
  {
   "cell_type": "code",
   "execution_count": null,
   "id": "e178033e-2ef2-45a1-b89f-19c8d02750ef",
   "metadata": {},
   "outputs": [],
   "source": [
    "metacells.obs[\"HighMT\"] = (metacells.obs[\"HighMT_fraction_of_1\"]>0.3).astype(int)"
   ]
  },
  {
   "cell_type": "code",
   "execution_count": null,
   "id": "e8fbe71c-bd9c-4537-a904-d2e9547f3d8f",
   "metadata": {},
   "outputs": [],
   "source": [
    "metacells.X = metacells.layers[\"total_umis\"]\n",
    "\n",
    "sc.pp.normalize_total(metacells, target_sum=10000)\n",
    "sc.pp.log1p(metacells)"
   ]
  },
  {
   "cell_type": "code",
   "execution_count": null,
   "id": "a9c455e0-9341-4ac2-9b73-d4a7d9b804d8",
   "metadata": {},
   "outputs": [],
   "source": [
    "egfr_df = pd.concat([metacells[:,metacells.var_names[metacells.var_names.str.startswith((\"ERB\",\"EGFR\"))]].to_df(),\n",
    "                     metacells.obs[[\"Malignant\",\"HighMT\"]]],axis=1)\n",
    "\n",
    "egfr_df.to_csv(\"/add/path/here/egfr_expression_metacells/LUAD.csv\")"
   ]
  },
  {
   "cell_type": "code",
   "execution_count": null,
   "id": "909b5eb9-8f7e-446a-b244-f432c3b5c5a5",
   "metadata": {},
   "outputs": [],
   "source": [
    "fig, ax = plt.subplots(1,4, figsize=(11,2))\n",
    "flatax = ax.flatten()\n",
    "\n",
    "sc.tl.score_genes(metacells, gene_list=metacells.var_names[metacells.var_names.str.startswith(\"CYP\")], \n",
    "                  score_name=\"CYP genes\")\n",
    "sc.tl.score_genes(metacells, gene_list=metacells.var_names[metacells.var_names.str.startswith((\"UGT\",\"B3GAT\"))], \n",
    "                  score_name=\"UGT genes\")\n",
    "sc.tl.score_genes(metacells, gene_list=metacells.var_names[metacells.var_names.str.startswith(\"GST\")], \n",
    "                  score_name=\"GST genes\")\n",
    "sc.tl.score_genes(metacells, gene_list=kegg['ABC transporters'], \n",
    "                  score_name=\"ABC transporters\")\n",
    "\n",
    "\n",
    "plot_boxplot(metacells, \"CYP genes\", name=\"CYP genes (phase I)\",ax=flatax[0])\n",
    "plot_boxplot(metacells, \"UGT genes\", name=\"UGT genes (phase II)\",ax=flatax[1])\n",
    "plot_boxplot(metacells, \"GST genes\", name=\"GST genes (phase II)\",ax=flatax[2])\n",
    "plot_boxplot(metacells, \"ABC transporters\", name=\"ABC transporters (phase III)\",ax=flatax[3])\n",
    "for i in range(len(flatax)):\n",
    "    pretty_ax(flatax[i])\n",
    "    \n",
    "fig.tight_layout()"
   ]
  },
  {
   "cell_type": "code",
   "execution_count": null,
   "id": "dcc6cf79-e187-43f6-8d09-91f831dfef11",
   "metadata": {},
   "outputs": [],
   "source": [
    "sc.tl.pca(metacells)\n",
    "sc.pp.neighbors(metacells)\n",
    "sc.tl.umap(metacells)"
   ]
  },
  {
   "cell_type": "code",
   "execution_count": null,
   "id": "58df4d6e-350d-4270-9a14-a5b8b2bcf438",
   "metadata": {},
   "outputs": [],
   "source": [
    "sc.pl.umap(metacells, color=[\"HighMT\",\"Malignant\",\"cleaned_celltype\"])"
   ]
  },
  {
   "cell_type": "code",
   "execution_count": null,
   "id": "ff179712-7109-4384-9edd-739e707feb6e",
   "metadata": {},
   "outputs": [],
   "source": [
    "sc.tl.score_genes(metacells, gene_list=common_disso_genes, score_name=\"Dissociation stress\")"
   ]
  },
  {
   "cell_type": "code",
   "execution_count": null,
   "id": "740e4f34-d56d-495b-9f2a-ff495227f5b8",
   "metadata": {},
   "outputs": [],
   "source": [
    "stress_sigs = [\"O-Flanagan_dissociation_stress\",\"O-Flanagan_dissociation_red\",\n",
    "               \"Van-den-Brink_dissociation_stress\",\"Machado_dissociation_stress\"]\n",
    "sc.tl.score_genes(metacells, gene_list=list_core_genes, score_name=\"O-Flanagan_dissociation_stress\")\n",
    "sc.tl.score_genes(metacells, gene_list=red_core_genes, score_name=\"O-Flanagan_dissociation_red\")\n",
    "sc.tl.score_genes(metacells, gene_list=dissociation_genes, score_name=\"Van-den-Brink_dissociation_stress\")\n",
    "sc.tl.score_genes(metacells, gene_list=dissociation_genes_machado, score_name=\"Machado_dissociation_stress\")"
   ]
  },
  {
   "cell_type": "code",
   "execution_count": null,
   "id": "4db5484b-1ed1-48c8-af77-d396757e25d6",
   "metadata": {},
   "outputs": [],
   "source": [
    "fig, ax = plt.subplots(1,4, figsize=(12,2))\n",
    "flatax = ax.flatten()\n",
    "for i,pathway in enumerate(stress_sigs):\n",
    "    plot_boxplot(metacells, pathway, ax=flatax[i], name=pathway)\n",
    "fig.tight_layout()"
   ]
  },
  {
   "cell_type": "code",
   "execution_count": null,
   "id": "21e6cd46-e489-4a00-a6da-fafd4dce90aa",
   "metadata": {},
   "outputs": [],
   "source": [
    "metacells.obs[\"Transcriptome variance\"] = metacells.to_df().var(axis=1)\n",
    "\n",
    "for sig in go_sigs:\n",
    "    sc.tl.score_genes(metacells, gene_list=go_sigs[sig], score_name=sig)\n",
    "\n",
    "fig, ax = plt.subplots(1,3, figsize=(9,2))\n",
    "flatax = ax.flatten()\n",
    "for i,sig in enumerate(go_sigs):\n",
    "    plot_boxplot(metacells, \n",
    "                 sig, name=sig.split(\" (GO\")[0], ax = flatax[i])\n",
    "plot_boxplot(metacells, \n",
    "                 \"Transcriptome variance\", name=\"Transcriptome variance\", ax = flatax[-1])\n",
    "fig.tight_layout()"
   ]
  },
  {
   "cell_type": "code",
   "execution_count": null,
   "id": "c495e609-8a62-4bc6-892d-01f703acbac3",
   "metadata": {},
   "outputs": [],
   "source": [
    "sc.tl.score_genes(metacells, gene_list=mito_transfer, score_name=\"Mito transfer\")\n",
    "\n",
    "plot_boxplot(metacells, \n",
    "                 \"Mito transfer\", name=\"Mito transfer\")"
   ]
  },
  {
   "cell_type": "code",
   "execution_count": null,
   "id": "27bd769e-c4e2-4968-83bd-fe194beb5daa",
   "metadata": {
    "scrolled": true
   },
   "outputs": [],
   "source": [
    "from scipy.stats import mannwhitneyu\n",
    "from tqdm.notebook import tqdm\n",
    "\n",
    "diffs = {}\n",
    "for name in tqdm(mitocarta_pathways.index):\n",
    "    sig_genes = mitocarta_pathways.loc[name].Genes.split(\", \")\n",
    "    if len(metacells.var_names.intersection(sig_genes))==0:\n",
    "        continue\n",
    "    sc.tl.score_genes(metacells, gene_list=sig_genes, score_name=\"MTCARTA_sig\")\n",
    "\n",
    "    malobs = metacells.obs[metacells.obs[\"Malignant\"]==1]\n",
    "    val1 = malobs[malobs.HighMT==0][\"MTCARTA_sig\"]\n",
    "    val2 = malobs[malobs.HighMT==1][\"MTCARTA_sig\"]\n",
    "    _, p = mannwhitneyu(val1.values,val2.values)\n",
    "    median_high = val2.median()\n",
    "    median_low = val1.median()\n",
    "    diffs[name] = [median_low,median_high,p]\n",
    "\n",
    "diffs = pd.DataFrame(diffs,index=[\"Median LowMT\",\"Median HighMT\",\"MWU p\"]).T.sort_values(\"MWU p\")\n",
    "\n",
    "diffs[\"Diff. median\"] = diffs[\"Median HighMT\"] - diffs[\"Median LowMT\"]\n",
    "\n",
    "diffs.sort_values(\"Diff. median\").to_csv(\"/add/path/here/metabolic_dysregulation/mitocarta_met_res/LUAD_Bischoff_10X.csv\")"
   ]
  },
  {
   "cell_type": "code",
   "execution_count": null,
   "id": "873266b5-e4bf-49be-b8ac-bd3b2f123c58",
   "metadata": {},
   "outputs": [],
   "source": [
    "metacells.obs[['cleaned_celltype', 'Malignant', 'HighMT',\n",
    "       'CYP genes', 'UGT genes', 'GST genes', 'ABC transporters',\n",
    "       'O-Flanagan_dissociation_stress', 'O-Flanagan_dissociation_red',\n",
    "       'Van-den-Brink_dissociation_stress', 'Machado_dissociation_stress',\n",
    "       'Dissociation stress', 'Mito transfer']].to_csv(\"/add/path/here/info-metacells/luad.csv\")"
   ]
  }
 ],
 "metadata": {
  "kernelspec": {
   "display_name": "Python 3 (ipykernel)",
   "language": "python",
   "name": "python3"
  },
  "language_info": {
   "codemirror_mode": {
    "name": "ipython",
    "version": 3
   },
   "file_extension": ".py",
   "mimetype": "text/x-python",
   "name": "python",
   "nbconvert_exporter": "python",
   "pygments_lexer": "ipython3",
   "version": "3.10.0"
  }
 },
 "nbformat": 4,
 "nbformat_minor": 5
}
