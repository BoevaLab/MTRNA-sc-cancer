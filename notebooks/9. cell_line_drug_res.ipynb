{
 "cells": [
  {
   "cell_type": "code",
   "execution_count": null,
   "id": "702423f1",
   "metadata": {},
   "outputs": [],
   "source": [
    "import pandas as pd\n",
    "import numpy as np\n",
    "\n",
    "from sklearn.decomposition import PCA\n",
    "\n",
    "import seaborn as sns\n",
    "import matplotlib.pyplot as plt\n",
    "\n",
    "from tqdm.notebook import tqdm\n",
    "\n",
    "from scipy.stats import mannwhitneyu, pearsonr\n",
    "\n",
    "from statsmodels.stats.multitest import multipletests"
   ]
  },
  {
   "cell_type": "code",
   "execution_count": null,
   "id": "2eebeed9",
   "metadata": {},
   "outputs": [],
   "source": [
    "from statannotations.Annotator import Annotator"
   ]
  },
  {
   "cell_type": "code",
   "execution_count": null,
   "id": "4a0b3351",
   "metadata": {},
   "outputs": [],
   "source": [
    "def pretty_ax(ax):\n",
    "    ax.spines['right'].set_visible(False)\n",
    "    ax.spines['top'].set_visible(False)\n",
    "    ax.tick_params(\n",
    "        axis='both',  \n",
    "        which='both',      \n",
    "        bottom=True,     \n",
    "        top=False,\n",
    "        left=False,\n",
    "        labelbottom=True,\n",
    "        labelleft = True)\n",
    "    ax.spines[\"bottom\"].set_linewidth(1.5)\n",
    "    ax.spines[\"left\"].set_linewidth(1.5)"
   ]
  },
  {
   "cell_type": "code",
   "execution_count": null,
   "id": "600137d6",
   "metadata": {},
   "outputs": [],
   "source": [
    "# this is the list of genes from the ABC transporter family as given in the KEGG database\n",
    "kegg_ABC = ['ABCA2','ABCC4','ABCG8','ABCA3','ABCC5','ABCC2','ABCA1','ABCC3','ABCA6',\n",
    " 'ABCC8','ABCA7','ABCC9','ABCA4','ABCC6','ABCA5','TAP2','ABCA8','TAP1','ABCA9','ABCA10','ABCB10','ABCA12',\n",
    " 'ABCB11','ABCC10','ABCG1','ABCG4','ABCC1','ABCG5','ABCG2','CFTR','ABCB4','ABCB1','ABCD3','ABCD4',\n",
    " 'ABCB7','ABCB8','ABCB5','ABCB6','ABCB9','ABCA13','ABCC11','ABCC12','DEFB1','ABCD1','ABCD2']"
   ]
  },
  {
   "cell_type": "markdown",
   "id": "0533e043-5eb8-4149-b0b5-980c10e5d6fd",
   "metadata": {},
   "source": [
    "The data needs to be downloaded from here https://depmap.org/portal/data_page/?tab=allData before."
   ]
  },
  {
   "cell_type": "code",
   "execution_count": null,
   "id": "ae1f3cf5",
   "metadata": {},
   "outputs": [],
   "source": [
    "expected_counts = pd.read_csv(\"/add/path/here/OmicsExpressionGenesExpectedCountProfile.csv\",index_col=0)\n",
    "\n",
    "profile_mapping = pd.read_csv(\"/add/path/here/OmicsProfiles.csv\",index_col=0)\n",
    "\n",
    "expected_counts = expected_counts.rename(index=profile_mapping[\"ModelID\"])\n",
    "\n",
    "expected_counts.columns = expected_counts.columns.str.split(\" \").str[0]\n",
    "\n",
    "mt_counts = (expected_counts.loc[:,expected_counts.columns.str.startswith(\"MT-\")]).sum(axis=1)\n",
    "full_counts = expected_counts.sum(axis=1)\n",
    "pct_counts_mt = mt_counts/full_counts\n",
    "pct_counts_mt.name = \"pct_counts_mt\"\n",
    "\n",
    "pct_counts_mt = pct_counts_mt.loc[~pct_counts_mt.index.duplicated()]"
   ]
  },
  {
   "cell_type": "code",
   "execution_count": null,
   "id": "5a3be8c0",
   "metadata": {},
   "outputs": [],
   "source": [
    "rna = pd.read_csv(\"/add/path/here/internal-23q2_v98-omicsexpressionproteincodinggenestpmlogp1.csv\",index_col=0)\n",
    "\n",
    "info = pd.read_csv(\"/add/path/here/internal-23q2_v98-model.csv\",index_col=0)\n",
    "\n",
    "typ = info[\"OncotreePrimaryDisease\"]\n",
    "lowcounts = typ.value_counts()[(typ.value_counts()<5)].index\n",
    "mapping = {c: \"Other\" for c in lowcounts}\n",
    "typ = typ.replace(mapping)\n",
    "\n",
    "rna.columns = rna.columns.str.split(\" \").str[0]"
   ]
  },
  {
   "cell_type": "code",
   "execution_count": null,
   "id": "688e597b",
   "metadata": {},
   "outputs": [],
   "source": [
    "drug_response = pd.read_csv(\"/add/path/here/GDSC1_fitted_dose_response_27Oct23.csv\").set_index(\"SANGER_MODEL_ID\")"
   ]
  },
  {
   "cell_type": "code",
   "execution_count": null,
   "id": "0c6fa319",
   "metadata": {},
   "outputs": [],
   "source": [
    "mapping_ids = info[\"SangerModelID\"].reset_index().dropna().set_index(\"SangerModelID\").to_dict()[\"ModelID\"]"
   ]
  },
  {
   "cell_type": "code",
   "execution_count": null,
   "id": "2a5da031",
   "metadata": {},
   "outputs": [],
   "source": [
    "drug_response = drug_response.rename(index=mapping_ids)"
   ]
  },
  {
   "cell_type": "code",
   "execution_count": null,
   "id": "d0efc1e1",
   "metadata": {},
   "outputs": [],
   "source": [
    "drug_mapping = drug_response[[\"DRUG_ID\",\"DRUG_NAME\"]].groupby(\"DRUG_ID\").max().to_dict()[\"DRUG_NAME\"]"
   ]
  },
  {
   "cell_type": "code",
   "execution_count": null,
   "id": "caf2841d",
   "metadata": {},
   "outputs": [],
   "source": [
    "drug_response"
   ]
  },
  {
   "cell_type": "code",
   "execution_count": null,
   "id": "19003b7f",
   "metadata": {},
   "outputs": [],
   "source": [
    "ct_mapping = {\"Non-Small Cell Lung Cancer\": \"Thoracic\", \n",
    "              \"Non-Hodgkin Lymphoma\": \"Lymphoma\", \"Diffuse Glioma\": \"Brain\", \n",
    "              \"Melanoma\": \"Skin\", \n",
    "              \"Esophagogastric Adenocarcinoma\": \"GI\", \n",
    "              \"Colorectal Adenocarcinoma\": \"GI\", \n",
    "              \"Invasive Breast Carcinoma\": \"Reproductive\", \n",
    "              \"Pancreatic Adenocarcinoma\": \"GI\", \n",
    "              \"Head and Neck Squamous Cell Carcinoma\": \"Head&Neck\", \n",
    "              \"Ovarian Epithelial Tumor\": \"Reproductive\", \n",
    "              \"Lung Neuroendocrine Tumor\": \"Neuroendocrine\", \n",
    "              \"Acute Myeloid Leukemia\": \"Blood\", \n",
    "              \"Renal Cell Carcinoma\": \"Kidney\", \"Ewing Sarcoma\": \"Sarcoma\", \n",
    "             \"Neuroblastoma\": \"Neuroendocrine\", \"Intraductal Papillary Neoplasm of the Bile Duct\": \"GI\",\n",
    "             \"Pleural Mesothelioma\": \"Thoracic\", \"Endometrial Carcinoma\": \"Reproductive\", \n",
    "              \"Bladder Urothelial Carcinoma\": \"Urinary\", \n",
    "              \"B-Lymphoblastic Leukemia/Lymphoma\": \"Blood\", \n",
    "              \"Esophageal Squamous Cell Carcinoma\": \"GI\", \n",
    "              \"Embryonal Tumor\": \"Brain\", \"Hepatocellular Carcinoma\": \"GI\", \n",
    "              \"Rhabdomyosarcoma\": \"Sarcoma\", \"Osteosarcoma\": \"Sarcoma\", \n",
    "              \"T-Lymphoblastic Leukemia/Lymphoma\": \"Blood\", \n",
    "              \"Myeloproliferative Neoplasms\": \"Blood\", \n",
    "              \"Cervical Squamous Cell Carcinoma\": \"Reproductive\",\n",
    "              \"Anaplastic Thyroid Cancer\": \"Thyroid\", \"Liposarcoma\": \"Sarcoma\",\n",
    "              \"Ocular Melanoma\": \"Other\", \"Leiomyosarcoma\": \"Sarcoma\", \n",
    "              \"Prostate Adenocarcinoma\": \"Reproductive\", \n",
    "              \"Non-Seminomatous Germ Cell Tumor\": \"Other\", \n",
    "              \"Well-Differentiated Thyroid Cancer\": \"Thyroid\", \n",
    "              \"Hodgkin Lymphoma\": \"Lymphoma\", \"Nerve Sheath Tumor\": \"Other\", \n",
    "              \"Synovial Sarcoma\": \"Sarcoma\", \"Chondrosarcoma\": \"Sarcoma\", \n",
    "              \"Undifferentiated Pleomorphic Sarcoma/Malignant Fibrous Histiocytoma/High-Grade Spindle Cell Sarcoma\": \"Sarcoma\",\n",
    "             \"Intracholecystic Papillary Neoplasm\": \"GI\", \n",
    "              \"Cervical Adenocarcinoma\": \"Reproductive\", \n",
    "              \"Merkel Cell Carcinoma\": \"Skin\", \"Cutaneous Squamous Cell Carcinoma\": \"Skin\", \n",
    "              \"Breast Ductal Carcinoma In Situ\": \"Reproductive\", \"Rhabdoid Cancer\": \"Other\", }\n",
    "\n",
    "other = info[\"OncotreePrimaryDisease\"].value_counts()[(info[\"OncotreePrimaryDisease\"].value_counts()<5)].index\n",
    "for c in other:\n",
    "    ct_mapping[c] = \"Other\"\n",
    "\n",
    "highlevel_cancer = info[\"OncotreePrimaryDisease\"].replace(ct_mapping)"
   ]
  },
  {
   "cell_type": "code",
   "execution_count": null,
   "id": "f0596be2",
   "metadata": {},
   "outputs": [],
   "source": [
    "from typing import Tuple\n",
    "def get_drug_resp(drug_id: int, drug_response: pd.DataFrame, \n",
    "                  highlevel_cancer: pd.Series, pct_counts_mt: pd.Series) -> Tuple[pd.DataFrame,pd.DataFrame]:\n",
    "\n",
    "    drug_resp = drug_response[drug_response[\"DRUG_ID\"]==drug_id]\n",
    "\n",
    "    drug_resp = pd.concat([drug_resp,highlevel_cancer.loc[highlevel_cancer.index.intersection(drug_resp.index)],\n",
    "                                                             pct_counts_mt],axis=1).dropna()\n",
    "    \n",
    "    kept_ct = drug_resp[\"TCGA_DESC\"].value_counts()\n",
    "    kept_ct = kept_ct[kept_ct>=10].index    \n",
    "\n",
    "    rs, ps = {},{}\n",
    "    for ct in kept_ct:\n",
    "        df = drug_resp[drug_resp[\"TCGA_DESC\"]==ct]\n",
    "        r,p = pearsonr(df[\"LN_IC50\"],df[\"pct_counts_mt\"])\n",
    "        rs[ct] = [r]\n",
    "        ps[ct] = [p]\n",
    "    rs, ps = pd.DataFrame(rs,index=[drug_mapping[drug_id]]).T,pd.DataFrame(ps,index=[drug_mapping[drug_id]]).T\n",
    "    return rs, ps"
   ]
  },
  {
   "cell_type": "code",
   "execution_count": null,
   "id": "ff6fb31f",
   "metadata": {},
   "outputs": [],
   "source": [
    "descr_cid = drug_response[[\"TCGA_DESC\"]][~drug_response.index.duplicated()]\n",
    "descr_cid = pd.concat([descr_cid, pct_counts_mt],axis=1).dropna()\n",
    "vc = descr_cid[\"TCGA_DESC\"].value_counts()\n",
    "vc = vc[vc>15]\n",
    "descr_cid = descr_cid.loc[descr_cid[\"TCGA_DESC\"].isin(vc.index)]\n",
    "ct_order = descr_cid.groupby(\"TCGA_DESC\").median().sort_values(\"pct_counts_mt\")"
   ]
  },
  {
   "cell_type": "markdown",
   "id": "4f1e37ad-43f9-49ce-a46a-766da5e6e873",
   "metadata": {},
   "source": [
    "# General characteristics"
   ]
  },
  {
   "cell_type": "code",
   "execution_count": null,
   "id": "f248321a",
   "metadata": {},
   "outputs": [],
   "source": [
    "fig, ax = plt.subplots(1,1,figsize=(6,1.5))\n",
    "sns.boxplot(data=descr_cid, x=\"TCGA_DESC\", y=\"pct_counts_mt\", order=ct_order.index)\n",
    "pretty_ax(ax)\n",
    "ax.set_xticks(ax.get_xticks(), ax.get_xticklabels(), rotation=45, ha='right')\n",
    "fig.savefig(\"/add/path/here/figures/cell_line_pct_counts_mt.svg\", dpi=200, bbox_inches=\"tight\")"
   ]
  },
  {
   "cell_type": "code",
   "execution_count": null,
   "id": "a228be93",
   "metadata": {},
   "outputs": [],
   "source": [
    "descr_cid.groupby(\"TCGA_DESC\").median()"
   ]
  },
  {
   "cell_type": "markdown",
   "id": "fceb8bef-9827-4396-b477-d370832b961c",
   "metadata": {},
   "source": [
    "# Get correlations and comparison to random"
   ]
  },
  {
   "cell_type": "code",
   "execution_count": null,
   "id": "587ab056",
   "metadata": {},
   "outputs": [],
   "source": [
    "selected_ct = np.setdiff1d(ct_order[ct_order>0.051].dropna().index,[\"UNCLASSIFIED\"])"
   ]
  },
  {
   "cell_type": "code",
   "execution_count": null,
   "id": "5cc5ab64",
   "metadata": {},
   "outputs": [],
   "source": [
    "all_rs, all_ps = [],[]\n",
    "for drug_id in tqdm(drug_response.DRUG_ID.unique()):\n",
    "    rs, ps = get_drug_resp(drug_id, drug_response[drug_response[\"TCGA_DESC\"].isin(selected_ct)], \n",
    "                  highlevel_cancer, pct_counts_mt)\n",
    "    all_rs.append(rs)\n",
    "    all_ps.append(ps)"
   ]
  },
  {
   "cell_type": "code",
   "execution_count": null,
   "id": "9611a689",
   "metadata": {},
   "outputs": [],
   "source": [
    "all_rs = pd.concat(all_rs,axis=1)\n",
    "\n",
    "all_ps = pd.concat(all_ps,axis=1)\n",
    "\n",
    "all_rs = all_rs.groupby(by=all_rs.columns, axis=1).median()\n",
    "all_ps = all_ps.groupby(by=all_ps.columns, axis=1).median()\n",
    "\n",
    "drug_char = drug_response[[\"DRUG_NAME\",\"PUTATIVE_TARGET\",\"PATHWAY_NAME\"]].set_index(\"DRUG_NAME\")\n",
    "drug_char = drug_char[~drug_char.index.duplicated()]\n",
    "\n",
    "sel_drugs = all_rs.isna().sum()[all_rs.isna().sum()<6].index"
   ]
  },
  {
   "cell_type": "code",
   "execution_count": null,
   "id": "11c73ffc",
   "metadata": {},
   "outputs": [],
   "source": [
    "rng = np.random.default_rng(42)\n",
    "shuffled_pct = pd.Series(rng.choice(pct_counts_mt.values, size=pct_counts_mt.shape[0]),index=pct_counts_mt.index,)\n",
    "\n",
    "shuffled_pct.name = \"pct_counts_mt\""
   ]
  },
  {
   "cell_type": "code",
   "execution_count": null,
   "id": "75270b72",
   "metadata": {},
   "outputs": [],
   "source": [
    "shuffled_rs, shuffled_ps = [],[]\n",
    "for drug_id in tqdm(drug_response.DRUG_ID.unique()):\n",
    "    rs, ps = get_drug_resp(drug_id, drug_response[drug_response[\"TCGA_DESC\"].isin(selected_ct)], \n",
    "                  highlevel_cancer, shuffled_pct)\n",
    "    shuffled_rs.append(rs)\n",
    "    shuffled_ps.append(ps)"
   ]
  },
  {
   "cell_type": "code",
   "execution_count": null,
   "id": "409f2ea3",
   "metadata": {},
   "outputs": [],
   "source": [
    "shuffled_rs = pd.concat(shuffled_rs,axis=1)\n",
    "\n",
    "shuffled_ps = pd.concat(shuffled_ps,axis=1)\n",
    "\n",
    "shuffled_rs = shuffled_rs.groupby(by=shuffled_rs.columns, axis=1).median()\n",
    "shuffled_ps = shuffled_ps.groupby(by=shuffled_ps.columns, axis=1).median()\n",
    "\n",
    "drug_char = drug_response[[\"DRUG_NAME\",\"PUTATIVE_TARGET\",\"PATHWAY_NAME\"]].set_index(\"DRUG_NAME\")\n",
    "drug_char = drug_char[~drug_char.index.duplicated()]"
   ]
  },
  {
   "cell_type": "code",
   "execution_count": null,
   "id": "f3772710",
   "metadata": {},
   "outputs": [],
   "source": [
    "from scipy.stats import kstest\n",
    "\n",
    "fig, ax = plt.subplots(1,1, figsize=(2,1))\n",
    "sns.kdeplot(data=all_rs.loc[:,sel_drugs].median(axis=0), c=\"blue\", ax=ax)\n",
    "sns.kdeplot(data=shuffled_rs.loc[:,sel_drugs].median(axis=0), c=\"red\", ax=ax)\n",
    "pretty_ax(ax)\n",
    "_, p = kstest(all_rs.loc[:,sel_drugs].median(axis=0),shuffled_rs.loc[:,sel_drugs].median(axis=0))\n",
    "ax.text(0.15, 5, f\"p={p:.2e}\")"
   ]
  },
  {
   "cell_type": "code",
   "execution_count": null,
   "id": "4b1a875e-2087-4ffd-a013-300e22d060b3",
   "metadata": {},
   "outputs": [],
   "source": [
    "fig, ax = plt.subplots(1,1, figsize=(2,1))\n",
    "sns.kdeplot(data=all_rs.loc[:,sel_drugs].median(axis=0), c=\"blue\", ax=ax)\n",
    "sns.kdeplot(data=shuffled_rs.loc[:,sel_drugs].median(axis=0), c=\"red\", ax=ax)\n",
    "pretty_ax(ax)\n",
    "ax.set_xlim([0.25,0.4])\n",
    "ax.set_ylim([0,0.06])"
   ]
  },
  {
   "cell_type": "code",
   "execution_count": null,
   "id": "63b9701c-d85b-4de0-8e31-39224748976f",
   "metadata": {},
   "outputs": [],
   "source": [
    "fig, ax = plt.subplots(1,1, figsize=(2,1))\n",
    "sns.kdeplot(data=all_rs.loc[:,sel_drugs].median(axis=0), c=\"blue\", ax=ax)\n",
    "sns.kdeplot(data=shuffled_rs.loc[:,sel_drugs].median(axis=0), c=\"red\", ax=ax)\n",
    "pretty_ax(ax)\n",
    "ax.set_xlim([-0.35,-0.15])\n",
    "ax.set_ylim([0,0.06])"
   ]
  },
  {
   "cell_type": "code",
   "execution_count": null,
   "id": "877c5c80",
   "metadata": {},
   "outputs": [],
   "source": [
    "#sign_res = (all_ps<0.05).sum()[(all_ps<0.05).sum()>=4].index\n",
    "sign_res = all_rs.loc[:,sel_drugs].median(axis=0).sort_values(ascending=False).head(15).index\n",
    "\n",
    "annot_df = all_ps.loc[cancer_order,sign_res].fillna(1)\n",
    "\n",
    "annot_df = annot_df.applymap(lambda x: \"\" if x>0.1 else (\"*\" if 0.01<x<=0.1 else (\"**\" if 0.001<=x<0.01 else \"***\")))\n",
    "\n",
    "\n",
    "fig, ax = plt.subplots(1,1,figsize=(8,3))\n",
    "sns.heatmap(data=all_rs.loc[cancer_order,sign_res], annot=annot_df, fmt=\"\", cmap=\"vlag\", center=0, vmin=-0.6, vmax=0.6)\n",
    "fig.savefig(\"/add/path/here/figures/drug_resistance_most_resistant.svg\", \n",
    "            dpi=300, bbox_inches=\"tight\")"
   ]
  },
  {
   "cell_type": "code",
   "execution_count": null,
   "id": "41b18d18",
   "metadata": {},
   "outputs": [],
   "source": [
    "all_rs.to_csv(\"/add/path/here/drug_resistance/correlation.csv\")\n",
    "all_ps.to_csv(\"/add/path/here/drug_resistance/pvalues.csv\")"
   ]
  },
  {
   "cell_type": "code",
   "execution_count": null,
   "id": "7888bca0",
   "metadata": {},
   "outputs": [],
   "source": [
    "drug_char.loc[sign_res]"
   ]
  },
  {
   "cell_type": "code",
   "execution_count": null,
   "id": "09dc4ffc",
   "metadata": {},
   "outputs": [],
   "source": [
    "from scipy.stats import fisher_exact\n",
    "conting_res = pd.concat([drug_char.loc[sign_res].PATHWAY_NAME.value_counts(),drug_char.drop(sign_res).PATHWAY_NAME.value_counts()],axis=1).fillna(0)\n",
    "conting_res.columns = [\"SIGN\",\"NSIGN\"]\n",
    "\n",
    "for ptw in conting.index:\n",
    "    conting2 = pd.concat([conting_res.loc[ptw],conting_res.drop([ptw]).sum()],axis=1)\n",
    "    _, p = fisher_exact(conting2)\n",
    "    if p<0.1:\n",
    "        print(ptw, p)"
   ]
  },
  {
   "cell_type": "code",
   "execution_count": null,
   "id": "19d2d020",
   "metadata": {},
   "outputs": [],
   "source": [
    "sign_res = all_rs.loc[:,sel_drugs].median(axis=0).sort_values().head(15).index\n",
    "\n",
    "annot_df = all_ps.loc[cancer_order,sign_res].fillna(1)\n",
    "\n",
    "annot_df = annot_df.applymap(lambda x: \"\" if x>0.1 else (\"*\" if 0.01<x<=0.1 else (\"**\" if 0.001<=x<0.01 else \"***\")))\n",
    "\n",
    "\n",
    "fig, ax = plt.subplots(1,1,figsize=(8,3))\n",
    "sns.heatmap(data=all_rs.loc[cancer_order,sign_res], annot=annot_df, fmt=\"\", cmap=\"vlag\", center=0, vmin=-0.6, vmax=0.6)\n",
    "fig.savefig(\"/add/path/here/drug_resistance_most_sensitive.svg\", \n",
    "            dpi=300, bbox_inches=\"tight\")"
   ]
  },
  {
   "cell_type": "code",
   "execution_count": null,
   "id": "11bec9cf",
   "metadata": {},
   "outputs": [],
   "source": [
    "drug_char.loc[sign_res]"
   ]
  },
  {
   "cell_type": "code",
   "execution_count": null,
   "id": "87bae495",
   "metadata": {},
   "outputs": [],
   "source": [
    "from scipy.stats import fisher_exact\n",
    "conting_sens = pd.concat([drug_char.loc[sign_res].PATHWAY_NAME.value_counts(),drug_char.drop(sign_res).PATHWAY_NAME.value_counts()],axis=1).fillna(0)\n",
    "conting_sens.columns = [\"SIGN\",\"NSIGN\"]\n",
    "\n",
    "for ptw in conting.index:\n",
    "    conting2 = pd.concat([conting_sens.loc[ptw],conting_sens.drop([ptw]).sum()],axis=1)\n",
    "    _, p = fisher_exact(conting2)\n",
    "    if p<0.1:\n",
    "        print(ptw, p)"
   ]
  },
  {
   "cell_type": "code",
   "execution_count": null,
   "id": "26dd5ca2",
   "metadata": {},
   "outputs": [],
   "source": [
    "df1 = pd.concat([conting_res[\"SIGN\"]/conting_res[\"SIGN\"].sum(),pd.DataFrame([\"Most resistant drugs\"]*conting_res.shape[0],index=conting_res.index)],axis=1).reset_index()\n",
    "df1.columns = [\"Drug type\",\"% drugs\",\"Cat\"]\n",
    "df2 = pd.concat([conting_sens[\"SIGN\"]/conting_sens[\"SIGN\"].sum(),pd.DataFrame([\"Most sensitive drugs\"]*conting_sens.shape[0],index=conting_sens.index)],axis=1).reset_index()\n",
    "df2.columns = [\"Drug type\",\"% drugs\",\"Cat\"]\n",
    "df3 = pd.concat([conting_res[\"NSIGN\"]/conting_res[\"NSIGN\"].sum(),pd.DataFrame([\"All tested drugs\"]*conting_res.shape[0],index=conting_res.index)],axis=1).reset_index()\n",
    "df3.columns = [\"Drug type\",\"% drugs\",\"Cat\"]\n",
    "order = df3.sort_values(\"% drugs\", ascending=False)[\"Drug type\"]\n",
    "fig, ax = plt.subplots(1,1,figsize=(6,2))\n",
    "sns.barplot(data=pd.concat([df1,df2,df3]), y=\"% drugs\", x=\"Drug type\", \n",
    "            hue=\"Cat\", order=order, ax=ax, hue_order=[\"All tested drugs\",\n",
    "                                                      \"Most resistant drugs\",\n",
    "                                                      \"Most sensitive drugs\"])\n",
    "pretty_ax(ax)\n",
    "ax.set_xticks(ax.get_xticks(), ax.get_xticklabels(), rotation=45, ha='right')\n",
    "ax.set_xlabel(\"\")\n",
    "plt.legend(frameon=False, bbox_to_anchor=(1,1,0,0))\n",
    "fig.savefig(\"/add/path/here/drug_resistance_dist.svg\", \n",
    "            dpi=300, bbox_inches=\"tight\")"
   ]
  }
 ],
 "metadata": {
  "kernelspec": {
   "display_name": "Python 3 (ipykernel)",
   "language": "python",
   "name": "python3"
  },
  "language_info": {
   "codemirror_mode": {
    "name": "ipython",
    "version": 3
   },
   "file_extension": ".py",
   "mimetype": "text/x-python",
   "name": "python",
   "nbconvert_exporter": "python",
   "pygments_lexer": "ipython3",
   "version": "3.10.0"
  }
 },
 "nbformat": 4,
 "nbformat_minor": 5
}
